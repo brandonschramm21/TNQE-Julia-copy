{
 "cells": [
  {
   "cell_type": "code",
   "execution_count": 1,
   "id": "af900732-b047-4d93-9cba-2dbf0b670a55",
   "metadata": {},
   "outputs": [
    {
     "name": "stdout",
     "output_type": "stream",
     "text": [
      "[0.39433, 0.30742]\n",
      "[0.47319, 0.3689]\n",
      "[0.55206, 0.43039]\n",
      "[0.63092, 0.49187]\n",
      "[0.70979, 0.55335]\n",
      "[0.78865, 0.61484]\n",
      "[0.86752, 0.67632]\n",
      "[0.94639, 0.7378]\n",
      "[1.02525, 0.79929]\n",
      "[1.10412, 0.86077]\n",
      "[1.18298, 0.92225]\n",
      "[1.26185, 0.98374]\n",
      "[1.34071, 1.04522]\n",
      "[1.41958, 1.10671]\n",
      "[1.49844, 1.16819]\n",
      "[1.57731, 1.22967]\n",
      "[1.65617, 1.29116]\n",
      "[1.73504, 1.35264]\n",
      "[1.81391, 1.41412]\n",
      "[1.89277, 1.47561]\n",
      "[1.97164, 1.53709]\n",
      "[2.0505, 1.59857]\n",
      "[2.12937, 1.66006]\n",
      "[2.20823, 1.72154]\n",
      "[2.2871, 1.78303]\n",
      "[2.36596, 1.84451]\n"
     ]
    }
   ],
   "source": [
    "# Computing the hydrogen coordinates for the XYZ files:\n",
    "\n",
    "function coords(b)\n",
    "    \n",
    "    crds = [0.75545, 0.58895] * (b/0.957897)\n",
    "    \n",
    "    return crds\n",
    "    \n",
    "end\n",
    "\n",
    "function MakeXYZ(b)\n",
    "    \n",
    "    cds = coords(b)\n",
    "    \n",
    "    a = \"\"\"\n",
    "    3\n",
    "    \n",
    "    O 0.0 0.0 0.0\n",
    "    H 0.0 $(cds[1]) $(cds[2])\n",
    "    H 0.0 -$(cds[1]) $(cds[2])\n",
    "    \"\"\"\n",
    "    \n",
    "    fpath = \"../configs/xyz_files/h2o_stretch/$(b).xyz\"\n",
    "\n",
    "    write(fpath, a)\n",
    "    \n",
    "end\n",
    "\n",
    "b_lengths = [x/10 for x=5:30]\n",
    "\n",
    "for bl in b_lengths\n",
    "    println(round.(coords(bl), digits=5))\n",
    "    MakeXYZ(bl)\n",
    "end"
   ]
  },
  {
   "cell_type": "code",
   "execution_count": 2,
   "id": "b26b38b5-236e-41b7-afa0-fcfd2feb2b89",
   "metadata": {},
   "outputs": [
    {
     "name": "stdout",
     "output_type": "stream",
     "text": [
      "[0.5, 0.6, 0.7, 0.8, 0.9, 1.0, 1.1, 1.2, 1.3, 1.4, 1.5, 1.6, 1.7, 1.8, 1.9, 2.0, 2.1, 2.2, 2.3, 2.4, 2.5, 2.6, 2.7, 2.8, 2.9, 3.0]\n"
     ]
    }
   ],
   "source": [
    "println([x/10 for x=5:30])"
   ]
  },
  {
   "cell_type": "code",
   "execution_count": 4,
   "id": "b224137e-3d59-432a-999b-3709cc296c57",
   "metadata": {},
   "outputs": [
    {
     "name": "stdout",
     "output_type": "stream",
     "text": [
      "3.10.9\n"
     ]
    },
    {
     "name": "stderr",
     "output_type": "stream",
     "text": [
      "WARNING: using Plots.coords in module Main conflicts with an existing identifier.\n"
     ]
    }
   ],
   "source": [
    "# Import modules and subroutines:\n",
    "\n",
    "include(\"../subroutines/Subroutines.jl\");"
   ]
  },
  {
   "cell_type": "code",
   "execution_count": 5,
   "id": "38327350-231b-4907-9d76-9caef55dc147",
   "metadata": {},
   "outputs": [
    {
     "name": "stdout",
     "output_type": "stream",
     "text": [
      "True\n",
      "converged SCF energy = -44.4993470985559\n",
      "converged SCF energy = -73.1235301448776\n",
      "converged SCF energy = -73.1235301448809\n",
      "E(MP2) = -73.1344887007144  E_corr = -0.010958555833403\n",
      "True\n",
      "converged SCF energy = -74.1270501793993\n",
      "converged SCF energy = -74.1270501794026\n",
      "E(MP2) = -74.1418628375241  E_corr = -0.014812658121524\n",
      "True\n",
      "converged SCF energy = -74.6184435369227\n",
      "converged SCF energy = -74.6184435369272\n",
      "E(MP2) = -74.6376995855172  E_corr = -0.0192560485899215\n",
      "True\n",
      "converged SCF energy = -74.8501173817445\n",
      "converged SCF energy = -74.8501173817477\n",
      "E(MP2) = -74.8747017707599  E_corr = -0.0245843890122254\n",
      "True\n",
      "converged SCF energy = -74.9450656592014\n",
      "converged SCF energy = -74.9450656592017\n",
      "E(MP2) = -74.9761980869893  E_corr = -0.0311324277875907\n",
      "True\n",
      "converged SCF energy = -74.9648138640978\n",
      "converged SCF energy = -74.9648138640983\n",
      "E(MP2) = -75.0040343306794  E_corr = -0.039220466581111\n",
      "True\n",
      "converged SCF energy = -74.9420151614341\n",
      "converged SCF energy = -74.9420151614454\n",
      "E(MP2) = -74.99114332641  E_corr = -0.0491281649645914\n",
      "True\n",
      "converged SCF energy = -74.8954567068695\n",
      "converged SCF energy = -74.8954567068894\n",
      "E(MP2) = -74.9565356966749  E_corr = -0.0610789897854549\n",
      "True\n",
      "converged SCF energy = -74.8363775159936\n",
      "converged SCF energy = -74.8363775160289\n",
      "E(MP2) = -74.9116284095849  E_corr = -0.0752508935559861\n",
      "True\n",
      "converged SCF energy = -74.7714001946584\n",
      "converged SCF energy = -74.771400194686\n",
      "E(MP2) = -74.8632043523445  E_corr = -0.091804157658505\n",
      "True\n",
      "converged SCF energy = -74.7043727618719\n",
      "converged SCF energy = -74.7043727619587\n",
      "E(MP2) = -74.815274624593  E_corr = -0.110901862634342\n",
      "True\n",
      "converged SCF energy = -74.6376560806853\n",
      "converged SCF energy = -74.637656080838\n",
      "E(MP2) = -74.770362299755  E_corr = -0.132706218916974\n",
      "True\n",
      "converged SCF energy = -74.5728860914153\n",
      "converged SCF energy = -74.572886091673\n",
      "E(MP2) = -74.7302365884985  E_corr = -0.15735049682542\n",
      "True\n",
      "SCF not converged.\n",
      "SCF energy = -74.5112984075157\n",
      "converged SCF energy = -74.5112984088435\n",
      "E(MP2) = -74.6961812368041  E_corr = -0.184882827960575\n",
      "True\n",
      "SCF not converged.\n",
      "SCF energy = -74.453805975532\n",
      "converged SCF energy = -74.4538060549811\n",
      "E(MP2) = -74.6688048679017  E_corr = -0.21499881292055\n",
      "True\n",
      "SCF not converged.\n",
      "SCF energy = -74.4011053385199\n",
      "converged SCF energy = -74.4012358122241\n",
      "E(MP2) = -74.6319651407196  E_corr = -0.230729328495449\n",
      "True\n",
      "SCF not converged.\n",
      "SCF energy = -74.3576089291797\n",
      "converged SCF energy = -74.3593425987114\n",
      "E(MP2) = -74.5440719301099  E_corr = -0.184729331398527\n",
      "True\n",
      "SCF not converged.\n",
      "SCF energy = -74.3304021662112\n",
      "converged SCF energy = -74.3304106300763\n",
      "E(MP2) = -74.5277378115361  E_corr = -0.197327181459875\n",
      "True\n",
      "SCF not converged.\n",
      "SCF energy = -74.3106143804911\n",
      "converged SCF energy = -74.3106143857334\n",
      "E(MP2) = -74.5493638530528  E_corr = -0.238749467319378\n",
      "True\n",
      "converged SCF energy = -74.2968984060066\n",
      "converged SCF energy = -74.2968984061345\n",
      "E(MP2) = -74.5835321196301  E_corr = -0.286633713495645\n",
      "True\n",
      "converged SCF energy = -74.2871943258329\n",
      "converged SCF energy = -74.2871943259454\n",
      "E(MP2) = -74.6193447716082  E_corr = -0.332150445662707\n",
      "True\n",
      "converged SCF energy = -74.2801469148523\n",
      "converged SCF energy = -74.2801469149045\n",
      "E(MP2) = -74.6530068741885  E_corr = -0.372859959284009\n",
      "True\n",
      "converged SCF energy = -74.2748742749552\n",
      "converged SCF energy = -74.2748742750335\n",
      "E(MP2) = -74.6836823826976  E_corr = -0.408808107664093\n",
      "True\n",
      "converged SCF energy = -74.2708004134457\n",
      "converged SCF energy = -74.2708004134751\n",
      "E(MP2) = -74.7116100287812  E_corr = -0.440809615306077\n",
      "True\n",
      "converged SCF energy = -74.2675464296412\n",
      "converged SCF energy = -74.2675464296643\n",
      "E(MP2) = -74.7373343251534  E_corr = -0.46978789548913\n",
      "True\n",
      "converged SCF energy = -74.2648614101294\n",
      "converged SCF energy = -74.2648614104852\n",
      "E(MP2) = -74.7614154576059  E_corr = -0.496554047120726\n"
     ]
    }
   ],
   "source": [
    "# Generate some chemical data:\n",
    "\n",
    "py\"\"\"\n",
    "\n",
    "config = configparser.ConfigParser()\n",
    "config.read(wd+'/../configs/pyscf_configs/h2o_stretch_sto3g.ini')\n",
    "RunPySCF.RunPySCF(config, nosec=True)\n",
    "\n",
    "\"\"\""
   ]
  }
 ],
 "metadata": {
  "kernelspec": {
   "display_name": "Julia 1.11.3",
   "language": "julia",
   "name": "julia-1.11"
  },
  "language_info": {
   "file_extension": ".jl",
   "mimetype": "application/julia",
   "name": "julia",
   "version": "1.11.3"
  }
 },
 "nbformat": 4,
 "nbformat_minor": 5
}
