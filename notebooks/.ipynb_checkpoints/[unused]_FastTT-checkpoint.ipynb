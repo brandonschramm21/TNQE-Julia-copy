{
 "cells": [
  {
   "cell_type": "code",
   "execution_count": 1,
   "id": "36401255-5c61-4362-a83a-976af8aa4a39",
   "metadata": {},
   "outputs": [
    {
     "name": "stdout",
     "output_type": "stream",
     "text": [
      "3.10.9\n"
     ]
    }
   ],
   "source": [
    "import platform\n",
    "\n",
    "print(platform.python_version())"
   ]
  },
  {
   "cell_type": "code",
   "execution_count": 2,
   "id": "75728bfe-3023-4c33-a12c-4566793e4287",
   "metadata": {},
   "outputs": [
    {
     "name": "stdout",
     "output_type": "stream",
     "text": [
      "['__builtins__', '__cached__', '__doc__', '__file__', '__loader__', '__name__', '__package__', '__path__', '__spec__', 'fast_tt', 'pybff2tt', 'pysp2tt', 'pysptensor2tt', 'sptensor2tt']\n",
      "/home/oskar/anaconda3/envs/fasttt/lib/python3.10/site-packages/fast_tt/__init__.py\n"
     ]
    }
   ],
   "source": [
    "import xerus\n",
    "\n",
    "import fast_tt\n",
    "\n",
    "import numpy as np\n",
    "\n",
    "print(dir(fast_tt))\n",
    "\n",
    "print(fast_tt.__file__)"
   ]
  },
  {
   "cell_type": "code",
   "execution_count": 3,
   "id": "ffb647ad-6174-42c0-a817-22c8c5b04cc3",
   "metadata": {},
   "outputs": [],
   "source": [
    "import timeit as t\n",
    "import cProfile"
   ]
  },
  {
   "cell_type": "code",
   "execution_count": 3,
   "id": "7bf64ebd-aad1-4298-ba04-05db62a5f1e5",
   "metadata": {},
   "outputs": [
    {
     "data": {
      "text/plain": [
       "'/home/oskar/anaconda3/envs/fasttt/lib/python3.10/site-packages/xerus.so'"
      ]
     },
     "execution_count": 3,
     "metadata": {},
     "output_type": "execute_result"
    }
   ],
   "source": [
    "xerus.__file__"
   ]
  },
  {
   "cell_type": "code",
   "execution_count": 13,
   "id": "d445755f-4bd7-4ba1-96bd-ddbeb08f2fe2",
   "metadata": {},
   "outputs": [
    {
     "name": "stdout",
     "output_type": "stream",
     "text": [
      "[1. 1. 1. ... 1. 1. 1.]\n",
      "(16777216,)\n",
      "1 4096 4096 4096 4096 4096 1 \n",
      "87891431423\n",
      "87891221708\n",
      "91058760089\n",
      "77314864742\n",
      "73300706099\n",
      "73284976640\n",
      "5\n",
      "(16, 16, 1)\n"
     ]
    }
   ],
   "source": [
    "trial_input = np.eye(16384, dtype=float).reshape([16,16,16,16,16,16,16])\n",
    "\n",
    "reshape_dims = trial_input.shape\n",
    "\n",
    "totdim = 16384**2\n",
    "\n",
    "#reshape_dims = [totdim]\n",
    "\n",
    "trial_input = trial_input.reshape(totdim)\n",
    "\n",
    "nzi = np.nonzero(trial_input)[0]\n",
    "nzv = trial_input[trial_input != 0]\n",
    "\n",
    "print(nzv)\n",
    "\n",
    "print(trial_input.shape)\n",
    "\n",
    "output = fast_tt.pysp2tt(nzv, nzi, reshape_dims, -1, 2**12, 1.0e-12)\n",
    "\n",
    "#print(trial_input)\n",
    "print(output[5].shape)"
   ]
  },
  {
   "cell_type": "code",
   "execution_count": null,
   "id": "33d539a1-8cc7-44cd-900d-c99d66cc1294",
   "metadata": {},
   "outputs": [],
   "source": [
    "I_matrix = xerus.Tensor.identity([16384,16384])\n",
    "\n",
    "T = xerus.Tensor.from_ndarray([0.0,0.0])"
   ]
  },
  {
   "cell_type": "code",
   "execution_count": 41,
   "id": "3879c3d1-6742-434c-8af9-5e32d9dd9ebc",
   "metadata": {},
   "outputs": [],
   "source": [
    "def test_func(tens, fname):\n",
    "\n",
    "    xerus.save_to_file(tens, fname)\n",
    "\n",
    "    fast_tt.pysptensor2tt(fname, -1, 4, float(1.0e-8))\n",
    "    \n",
    "    I_fact = xerus.load_from_file(fname)\n",
    "    \n",
    "    return I_fact;\n",
    "    "
   ]
  },
  {
   "cell_type": "code",
   "execution_count": 42,
   "id": "b2982bf1-47f4-4832-8811-4f72c0a71883",
   "metadata": {},
   "outputs": [
    {
     "name": "stdout",
     "output_type": "stream",
     "text": [
      "         5 function calls in 0.365 seconds\n",
      "\n",
      "   Ordered by: standard name\n",
      "\n",
      "   ncalls  tottime  percall  cumtime  percall filename:lineno(function)\n",
      "        1    0.002    0.002    0.365    0.365 2356358650.py:1(test_func)\n",
      "        1    0.000    0.000    0.365    0.365 <string>:1(<module>)\n",
      "        1    0.000    0.000    0.365    0.365 {built-in method builtins.exec}\n",
      "        1    0.363    0.363    0.363    0.363 {built-in method fast_tt.fast_tt.pysptensor2tt}\n",
      "        1    0.000    0.000    0.000    0.000 {method 'disable' of '_lsprof.Profiler' objects}\n",
      "\n",
      "\n",
      "1 16384 16384 16384 16384 16384 16384 1 \n",
      "156255279\n",
      "1158710115\n",
      "274896814743\n",
      "1099530535371\n",
      "17264836863\n",
      "219168819\n",
      "156254208\n",
      "6\n"
     ]
    }
   ],
   "source": [
    "I_matrix = xerus.Tensor.identity([16384,16384])\n",
    "\n",
    "I_matrix.reinterpret_dimensions([16,16,16,16,16,16,16])\n",
    "\n",
    "fname = \"I_tensor.dat\"\n",
    "\n",
    "#I_fact = test_func(I_matrix, fname)\n",
    "\n",
    "cProfile.run('test_func(I_matrix, fname)')\n",
    "\n",
    "#print(I_fact.ranks())"
   ]
  },
  {
   "cell_type": "code",
   "execution_count": null,
   "id": "a55539b1-a38d-4398-bfe1-6a0a818312a2",
   "metadata": {},
   "outputs": [],
   "source": []
  }
 ],
 "metadata": {
  "kernelspec": {
   "display_name": "Python 3 (ipykernel)",
   "language": "python",
   "name": "python3"
  },
  "language_info": {
   "codemirror_mode": {
    "name": "ipython",
    "version": 3
   },
   "file_extension": ".py",
   "mimetype": "text/x-python",
   "name": "python",
   "nbconvert_exporter": "python",
   "pygments_lexer": "ipython3",
   "version": "3.10.9"
  }
 },
 "nbformat": 4,
 "nbformat_minor": 5
}
