{
 "cells": [
  {
   "cell_type": "code",
   "execution_count": 95,
   "id": "369c670f-da85-4ab6-b47b-d5d335baf5e1",
   "metadata": {},
   "outputs": [],
   "source": [
    "# Import modules and subroutines:\n",
    "\n",
    "include(\"../subroutines/Subroutines.jl\");"
   ]
  },
  {
   "cell_type": "code",
   "execution_count": 16,
   "id": "04abf298-8b49-47a6-b99e-09d50024198b",
   "metadata": {},
   "outputs": [
    {
     "name": "stdout",
     "output_type": "stream",
     "text": [
      "Molecule name: h2o\n",
      "Basis set: sto-3g\n",
      "Molecular geometry: O 0.0 0.0 0.0; H 1.0 0.0 0.0; H 0.0 1.0 0.0; \n",
      "RHF energy: -74.96117113786774\n",
      "FCI energy: -75.01927599660624\n"
     ]
    }
   ],
   "source": [
    "# Load the chemical data into julia as an array of chemical data structs:\n",
    "# (one struct obtained for each molecular geometry as set up in the config file)\n",
    "\n",
    "cdata_list = ReadIn(\"../datasets/pyscf_data/h2o_sto-3g_080222%000756.hdf5\");\n",
    "chemical_data = cdata_list[1]\n",
    "PrintChemData(chemical_data)"
   ]
  },
  {
   "cell_type": "code",
   "execution_count": 17,
   "id": "20169946-8c25-499a-a7cd-40e7f78f8d08",
   "metadata": {},
   "outputs": [
    {
     "name": "stdout",
     "output_type": "stream",
     "text": [
      "Generating states:\n",
      "Progress: [1/1] \n",
      "Done!\n",
      "DMRG energy: -75.01477900894697\n",
      "Expected particle number: 10\n",
      "Particle number: 10.000000000000005\n"
     ]
    }
   ],
   "source": [
    "# Run a DMRG calculation (i.e. a single-state subspace):\n",
    "\n",
    "dmrg1 = GenSubspace(chemical_data, 1, psi_maxdim=7, sweep_num=10, sweep_noise=(1e-6, 1e-7, 1e-8, 0.0));\n",
    "\n",
    "dmrg1.ord_list = [collect(1:dmrg1.chem_data.N_spt)]\n",
    "\n",
    "GenStates!(dmrg1, verbose=true);\n",
    "\n",
    "GenPermOps!(dmrg1)\n",
    "\n",
    "GenSubspaceMats!(dmrg1, verbose=true)\n",
    "\n",
    "println(\"DMRG energy: \", dmrg1.H_mat[1,1] + dmrg1.chem_data.e_nuc)\n",
    "\n",
    "dens = expect(dmrg1.psi_list[1],\"Ntot\")\n",
    "println(\"Expected particle number: \", dmrg1.chem_data.N_el)\n",
    "println(\"Particle number: \", sum(dens))"
   ]
  },
  {
   "cell_type": "code",
   "execution_count": 128,
   "id": "6f120694-2b1b-4ce1-9649-be7ffd7cd68b",
   "metadata": {},
   "outputs": [
    {
     "name": "stdout",
     "output_type": "stream",
     "text": [
      "189\n"
     ]
    }
   ],
   "source": [
    "bipartitions, entropies = ComputeBipartites(dmrg1, cuts=2000, ns=20)\n",
    "\n",
    "println(length(bipartitions))"
   ]
  },
  {
   "cell_type": "code",
   "execution_count": 129,
   "id": "e52dc856-4af7-4795-bdf6-66234352f337",
   "metadata": {},
   "outputs": [
    {
     "name": "stdout",
     "output_type": "stream",
     "text": [
      "1.000074121920692     \n",
      "[7, 3, 6, 4, 2, 5, 1]\n"
     ]
    }
   ],
   "source": [
    "dmrg2 = copy(dmrg1);\n",
    "\n",
    "dmrg2.ord_list = BipartiteAnnealing(\n",
    "    dmrg2.ord_list, \n",
    "    bipartitions, \n",
    "    entropies, \n",
    "    dmrg2.mparams.psi_maxdim,\n",
    "    maxiter=50000, \n",
    "    swap_mult=2.0, \n",
    "    alpha=0.1, \n",
    "    stun=true, \n",
    "    gamma=5.0, \n",
    "    zeta=0.01,\n",
    "    verbose=true\n",
    ");\n",
    "\n",
    "println(\"\\n$(dmrg2.ord_list[1])\")"
   ]
  },
  {
   "cell_type": "code",
   "execution_count": 130,
   "id": "037a2b17-e60d-4fec-ba7e-57a467173db1",
   "metadata": {},
   "outputs": [
    {
     "name": "stdout",
     "output_type": "stream",
     "text": [
      "Generating states:\n",
      "Progress: [1/1] \n",
      "Done!\n",
      "DMRG energy: -75.01887487827217\n",
      "Expected particle number: 10\n",
      "Particle number: 10.0\n"
     ]
    }
   ],
   "source": [
    "GenStates!(dmrg2, verbose=true);\n",
    "\n",
    "GenPermOps!(dmrg2)\n",
    "\n",
    "GenSubspaceMats!(dmrg2, verbose=true)\n",
    "\n",
    "println(\"DMRG energy: \", dmrg2.H_mat[1,1] + dmrg2.chem_data.e_nuc)\n",
    "\n",
    "dens = expect(dmrg2.psi_list[1],\"Ntot\")\n",
    "println(\"Expected particle number: \", dmrg2.chem_data.N_el)\n",
    "println(\"Particle number: \", sum(dens))"
   ]
  },
  {
   "cell_type": "raw",
   "id": "552608de-7c0a-4aeb-b9bc-c5dc8707cc0a",
   "metadata": {
    "jupyter": {
     "source_hidden": true
    },
    "tags": []
   },
   "source": [
    "tnqe1 = GenSubspace(chemical_data, 13, psi_maxdim=3, sweep_num=6, sweep_noise=(1e-3));\n",
    "\n",
    "tnqe1.ord_list = [randperm(tnqe1.chem_data.N_spt) for j=1:tnqe1.mparams.M]\n",
    "\n",
    "GenStates!(tnqe1, verbose=true);\n",
    "\n",
    "GenPermOps!(tnqe1, verbose=true)\n",
    "\n",
    "GenSubspaceMats!(tnqe1, verbose=true)\n",
    "\n",
    "SolveGenEig!(tnqe1, thresh=\"inversion\", verbose=true)"
   ]
  },
  {
   "cell_type": "raw",
   "id": "8fb9df65-4e83-466d-ba4b-a65d90b43ad8",
   "metadata": {
    "jupyter": {
     "source_hidden": true
    },
    "tags": []
   },
   "source": [
    "MultiGeomOptim!(\n",
    "    tnqe1, \n",
    "    sweeps=6, \n",
    "    maxiter=20000, \n",
    "    method=\"bboptim\",\n",
    "    delta=1e-4,\n",
    "    alpha=2e0,\n",
    "    stun=true,\n",
    "    gamma=1e8,\n",
    "    noise=[1e-5,1e-5,1e-5,1e-5,1e-6, 0.0],\n",
    "    verbose=true\n",
    ")\n",
    "\n",
    "GenSubspaceMats!(tnqe1, verbose=true)\n",
    "\n",
    "SolveGenEig!(tnqe1, thresh=\"inversion\", verbose=true)"
   ]
  },
  {
   "cell_type": "code",
   "execution_count": 215,
   "id": "19f65c02-a8d9-4eaf-b22d-d450e9103b7b",
   "metadata": {},
   "outputs": [
    {
     "name": "stdout",
     "output_type": "stream",
     "text": [
      "1/2083607941027591    \n",
      "0.5080614195777137    \r"
     ]
    }
   ],
   "source": [
    "tnqe2 = GenSubspace(chemical_data, 13, psi_maxdim=3, sweep_num=6, sweep_noise=(1e-6));\n",
    "\n",
    "tnqe2.ord_list = [randperm(tnqe2.chem_data.N_spt) for j=1:tnqe2.mparams.M]\n",
    "\n",
    "tnqe2.ord_list = BipartiteAnnealing(\n",
    "    tnqe2.ord_list, \n",
    "    bipartitions, \n",
    "    entropies, \n",
    "    tnqe2.mparams.psi_maxdim,\n",
    "    maxiter=4000, \n",
    "    swap_mult=1.0, \n",
    "    alpha=1e-6, \n",
    "    stun=true, \n",
    "    gamma=1e4, \n",
    "    zeta=0.015,\n",
    "    verbose=true\n",
    ");\n",
    "println(\"1/2\")\n",
    "tnqe2.ord_list = BipartiteAnnealing(\n",
    "    tnqe2.ord_list, \n",
    "    bipartitions, \n",
    "    entropies, \n",
    "    tnqe2.mparams.psi_maxdim,\n",
    "    maxiter=4000, \n",
    "    swap_mult=1.0, \n",
    "    alpha=5e-5, \n",
    "    stun=true, \n",
    "    gamma=5e3, \n",
    "    zeta=0.015,\n",
    "    verbose=true\n",
    ");"
   ]
  },
  {
   "cell_type": "code",
   "execution_count": 216,
   "id": "895b387f-9456-4b86-bc27-293768bbd80a",
   "metadata": {},
   "outputs": [
    {
     "name": "stdout",
     "output_type": "stream",
     "text": [
      "Generating permutation operators:\n",
      "Progress: [78/78] \n",
      "Done!\n",
      "\n"
     ]
    }
   ],
   "source": [
    "GenPermOps!(tnqe2, verbose=true)"
   ]
  },
  {
   "cell_type": "code",
   "execution_count": 217,
   "id": "70d45e5a-167b-48d7-ac7e-54b0e688bcb5",
   "metadata": {},
   "outputs": [
    {
     "name": "stdout",
     "output_type": "stream",
     "text": [
      "Generating states:\n",
      "Progress: [13/13] \n",
      "Done!\n",
      "Minimum eigenvalue: -83.84629911562337\n",
      "Condition number: 44280.4335816357\n",
      "FCI energy: -75.01927599660624\n",
      "Final energy estimate: -75.00527894661245\n",
      "Best single ref. estimate: -74.99915085084169\n",
      "Error: 0.013997049993790256\n",
      "BSRfE: 0.0201251457645526\n",
      "Improvement: 0.006128095770762343\n",
      "Percentage error reduction: 30.44994477285256\n",
      "Eigenvalue condition numbers: [0.0119, 0.012, 0.012, 0.0121, 0.0121, 0.0121, 0.0121, 0.0121, 0.0121, 0.0122, 0.0122, 0.0122, 0.0123]\n",
      "Percent correlation energy with single-geometry DMRG: 65.36409140047208\n",
      "Percent correlation energy with multi-geometry TNQE: 75.91070644060403\n"
     ]
    },
    {
     "data": {
      "image/svg+xml": [
       "<?xml version=\"1.0\" encoding=\"utf-8\"?>\n",
       "<svg xmlns=\"http://www.w3.org/2000/svg\" xmlns:xlink=\"http://www.w3.org/1999/xlink\" width=\"600\" height=\"400\" viewBox=\"0 0 2400 1600\">\n",
       "<defs>\n",
       "  <clipPath id=\"clip410\">\n",
       "    <rect x=\"0\" y=\"0\" width=\"2400\" height=\"1600\"/>\n",
       "  </clipPath>\n",
       "</defs>\n",
       "<path clip-path=\"url(#clip410)\" d=\"\n",
       "M0 1600 L2400 1600 L2400 0 L0 0  Z\n",
       "  \" fill=\"#ffffff\" fill-rule=\"evenodd\" fill-opacity=\"1\"/>\n",
       "<defs>\n",
       "  <clipPath id=\"clip411\">\n",
       "    <rect x=\"480\" y=\"0\" width=\"1681\" height=\"1600\"/>\n",
       "  </clipPath>\n",
       "</defs>\n",
       "<path clip-path=\"url(#clip410)\" d=\"\n",
       "M194.422 1486.45 L2352.76 1486.45 L2352.76 47.2441 L194.422 47.2441  Z\n",
       "  \" fill=\"#ffffff\" fill-rule=\"evenodd\" fill-opacity=\"1\"/>\n",
       "<defs>\n",
       "  <clipPath id=\"clip412\">\n",
       "    <rect x=\"194\" y=\"47\" width=\"2159\" height=\"1440\"/>\n",
       "  </clipPath>\n",
       "</defs>\n",
       "<polyline clip-path=\"url(#clip412)\" style=\"stroke:#000000; stroke-linecap:butt; stroke-linejoin:round; stroke-width:2; stroke-opacity:0.1; fill:none\" points=\"\n",
       "  510.028,1486.45 510.028,47.2441 \n",
       "  \"/>\n",
       "<polyline clip-path=\"url(#clip412)\" style=\"stroke:#000000; stroke-linecap:butt; stroke-linejoin:round; stroke-width:2; stroke-opacity:0.1; fill:none\" points=\"\n",
       "  934.228,1486.45 934.228,47.2441 \n",
       "  \"/>\n",
       "<polyline clip-path=\"url(#clip412)\" style=\"stroke:#000000; stroke-linecap:butt; stroke-linejoin:round; stroke-width:2; stroke-opacity:0.1; fill:none\" points=\"\n",
       "  1358.43,1486.45 1358.43,47.2441 \n",
       "  \"/>\n",
       "<polyline clip-path=\"url(#clip412)\" style=\"stroke:#000000; stroke-linecap:butt; stroke-linejoin:round; stroke-width:2; stroke-opacity:0.1; fill:none\" points=\"\n",
       "  1782.63,1486.45 1782.63,47.2441 \n",
       "  \"/>\n",
       "<polyline clip-path=\"url(#clip412)\" style=\"stroke:#000000; stroke-linecap:butt; stroke-linejoin:round; stroke-width:2; stroke-opacity:0.1; fill:none\" points=\"\n",
       "  2206.83,1486.45 2206.83,47.2441 \n",
       "  \"/>\n",
       "<polyline clip-path=\"url(#clip410)\" style=\"stroke:#000000; stroke-linecap:butt; stroke-linejoin:round; stroke-width:4; stroke-opacity:1; fill:none\" points=\"\n",
       "  194.422,1486.45 2352.76,1486.45 \n",
       "  \"/>\n",
       "<polyline clip-path=\"url(#clip410)\" style=\"stroke:#000000; stroke-linecap:butt; stroke-linejoin:round; stroke-width:4; stroke-opacity:1; fill:none\" points=\"\n",
       "  510.028,1486.45 510.028,1467.55 \n",
       "  \"/>\n",
       "<polyline clip-path=\"url(#clip410)\" style=\"stroke:#000000; stroke-linecap:butt; stroke-linejoin:round; stroke-width:4; stroke-opacity:1; fill:none\" points=\"\n",
       "  934.228,1486.45 934.228,1467.55 \n",
       "  \"/>\n",
       "<polyline clip-path=\"url(#clip410)\" style=\"stroke:#000000; stroke-linecap:butt; stroke-linejoin:round; stroke-width:4; stroke-opacity:1; fill:none\" points=\"\n",
       "  1358.43,1486.45 1358.43,1467.55 \n",
       "  \"/>\n",
       "<polyline clip-path=\"url(#clip410)\" style=\"stroke:#000000; stroke-linecap:butt; stroke-linejoin:round; stroke-width:4; stroke-opacity:1; fill:none\" points=\"\n",
       "  1782.63,1486.45 1782.63,1467.55 \n",
       "  \"/>\n",
       "<polyline clip-path=\"url(#clip410)\" style=\"stroke:#000000; stroke-linecap:butt; stroke-linejoin:round; stroke-width:4; stroke-opacity:1; fill:none\" points=\"\n",
       "  2206.83,1486.45 2206.83,1467.55 \n",
       "  \"/>\n",
       "<path clip-path=\"url(#clip410)\" d=\"M481.764 1544.91 L498.083 1544.91 L498.083 1548.85 L476.139 1548.85 L476.139 1544.91 Q478.801 1542.16 483.384 1537.53 Q487.991 1532.88 489.171 1531.53 Q491.417 1529.01 492.296 1527.27 Q493.199 1525.51 493.199 1523.82 Q493.199 1521.07 491.254 1519.33 Q489.333 1517.6 486.231 1517.6 Q484.032 1517.6 481.579 1518.36 Q479.148 1519.13 476.37 1520.68 L476.37 1515.95 Q479.194 1514.82 481.648 1514.24 Q484.102 1513.66 486.139 1513.66 Q491.509 1513.66 494.704 1516.35 Q497.898 1519.03 497.898 1523.52 Q497.898 1525.65 497.088 1527.57 Q496.301 1529.47 494.194 1532.07 Q493.616 1532.74 490.514 1535.95 Q487.412 1539.15 481.764 1544.91 Z\" fill=\"#000000\" fill-rule=\"evenodd\" fill-opacity=\"1\" /><path clip-path=\"url(#clip410)\" d=\"M507.898 1542.97 L512.782 1542.97 L512.782 1548.85 L507.898 1548.85 L507.898 1542.97 Z\" fill=\"#000000\" fill-rule=\"evenodd\" fill-opacity=\"1\" /><path clip-path=\"url(#clip410)\" d=\"M523.014 1514.29 L541.37 1514.29 L541.37 1518.22 L527.296 1518.22 L527.296 1526.7 Q528.314 1526.35 529.333 1526.19 Q530.351 1526 531.37 1526 Q537.157 1526 540.537 1529.17 Q543.916 1532.34 543.916 1537.76 Q543.916 1543.34 540.444 1546.44 Q536.972 1549.52 530.652 1549.52 Q528.476 1549.52 526.208 1549.15 Q523.963 1548.78 521.555 1548.04 L521.555 1543.34 Q523.639 1544.47 525.861 1545.03 Q528.083 1545.58 530.56 1545.58 Q534.564 1545.58 536.902 1543.48 Q539.24 1541.37 539.24 1537.76 Q539.24 1534.15 536.902 1532.04 Q534.564 1529.94 530.56 1529.94 Q528.685 1529.94 526.81 1530.35 Q524.958 1530.77 523.014 1531.65 L523.014 1514.29 Z\" fill=\"#000000\" fill-rule=\"evenodd\" fill-opacity=\"1\" /><path clip-path=\"url(#clip410)\" d=\"M901.393 1514.29 L919.749 1514.29 L919.749 1518.22 L905.675 1518.22 L905.675 1526.7 Q906.694 1526.35 907.712 1526.19 Q908.731 1526 909.749 1526 Q915.536 1526 918.916 1529.17 Q922.296 1532.34 922.296 1537.76 Q922.296 1543.34 918.823 1546.44 Q915.351 1549.52 909.032 1549.52 Q906.856 1549.52 904.587 1549.15 Q902.342 1548.78 899.935 1548.04 L899.935 1543.34 Q902.018 1544.47 904.24 1545.03 Q906.462 1545.58 908.939 1545.58 Q912.944 1545.58 915.282 1543.48 Q917.62 1541.37 917.62 1537.76 Q917.62 1534.15 915.282 1532.04 Q912.944 1529.94 908.939 1529.94 Q907.064 1529.94 905.189 1530.35 Q903.337 1530.77 901.393 1531.65 L901.393 1514.29 Z\" fill=\"#000000\" fill-rule=\"evenodd\" fill-opacity=\"1\" /><path clip-path=\"url(#clip410)\" d=\"M931.508 1542.97 L936.393 1542.97 L936.393 1548.85 L931.508 1548.85 L931.508 1542.97 Z\" fill=\"#000000\" fill-rule=\"evenodd\" fill-opacity=\"1\" /><path clip-path=\"url(#clip410)\" d=\"M956.578 1517.37 Q952.967 1517.37 951.138 1520.93 Q949.332 1524.47 949.332 1531.6 Q949.332 1538.71 951.138 1542.27 Q952.967 1545.82 956.578 1545.82 Q960.212 1545.82 962.018 1542.27 Q963.846 1538.71 963.846 1531.6 Q963.846 1524.47 962.018 1520.93 Q960.212 1517.37 956.578 1517.37 M956.578 1513.66 Q962.388 1513.66 965.443 1518.27 Q968.522 1522.85 968.522 1531.6 Q968.522 1540.33 965.443 1544.94 Q962.388 1549.52 956.578 1549.52 Q950.768 1549.52 947.689 1544.94 Q944.633 1540.33 944.633 1531.6 Q944.633 1522.85 947.689 1518.27 Q950.768 1513.66 956.578 1513.66 Z\" fill=\"#000000\" fill-rule=\"evenodd\" fill-opacity=\"1\" /><path clip-path=\"url(#clip410)\" d=\"M1324.75 1514.29 L1346.97 1514.29 L1346.97 1516.28 L1334.42 1548.85 L1329.54 1548.85 L1341.35 1518.22 L1324.75 1518.22 L1324.75 1514.29 Z\" fill=\"#000000\" fill-rule=\"evenodd\" fill-opacity=\"1\" /><path clip-path=\"url(#clip410)\" d=\"M1356.09 1542.97 L1360.98 1542.97 L1360.98 1548.85 L1356.09 1548.85 L1356.09 1542.97 Z\" fill=\"#000000\" fill-rule=\"evenodd\" fill-opacity=\"1\" /><path clip-path=\"url(#clip410)\" d=\"M1371.21 1514.29 L1389.56 1514.29 L1389.56 1518.22 L1375.49 1518.22 L1375.49 1526.7 Q1376.51 1526.35 1377.53 1526.19 Q1378.54 1526 1379.56 1526 Q1385.35 1526 1388.73 1529.17 Q1392.11 1532.34 1392.11 1537.76 Q1392.11 1543.34 1388.64 1546.44 Q1385.17 1549.52 1378.85 1549.52 Q1376.67 1549.52 1374.4 1549.15 Q1372.16 1548.78 1369.75 1548.04 L1369.75 1543.34 Q1371.83 1544.47 1374.05 1545.03 Q1376.28 1545.58 1378.75 1545.58 Q1382.76 1545.58 1385.1 1543.48 Q1387.43 1541.37 1387.43 1537.76 Q1387.43 1534.15 1385.1 1532.04 Q1382.76 1529.94 1378.75 1529.94 Q1376.88 1529.94 1375 1530.35 Q1373.15 1530.77 1371.21 1531.65 L1371.21 1514.29 Z\" fill=\"#000000\" fill-rule=\"evenodd\" fill-opacity=\"1\" /><path clip-path=\"url(#clip410)\" d=\"M1734.7 1544.91 L1742.34 1544.91 L1742.34 1518.55 L1734.03 1520.21 L1734.03 1515.95 L1742.29 1514.29 L1746.97 1514.29 L1746.97 1544.91 L1754.61 1544.91 L1754.61 1548.85 L1734.7 1548.85 L1734.7 1544.91 Z\" fill=\"#000000\" fill-rule=\"evenodd\" fill-opacity=\"1\" /><path clip-path=\"url(#clip410)\" d=\"M1774.05 1517.37 Q1770.44 1517.37 1768.61 1520.93 Q1766.81 1524.47 1766.81 1531.6 Q1766.81 1538.71 1768.61 1542.27 Q1770.44 1545.82 1774.05 1545.82 Q1777.69 1545.82 1779.49 1542.27 Q1781.32 1538.71 1781.32 1531.6 Q1781.32 1524.47 1779.49 1520.93 Q1777.69 1517.37 1774.05 1517.37 M1774.05 1513.66 Q1779.86 1513.66 1782.92 1518.27 Q1786 1522.85 1786 1531.6 Q1786 1540.33 1782.92 1544.94 Q1779.86 1549.52 1774.05 1549.52 Q1768.24 1549.52 1765.16 1544.94 Q1762.11 1540.33 1762.11 1531.6 Q1762.11 1522.85 1765.16 1518.27 Q1768.24 1513.66 1774.05 1513.66 Z\" fill=\"#000000\" fill-rule=\"evenodd\" fill-opacity=\"1\" /><path clip-path=\"url(#clip410)\" d=\"M1794.22 1542.97 L1799.1 1542.97 L1799.1 1548.85 L1794.22 1548.85 L1794.22 1542.97 Z\" fill=\"#000000\" fill-rule=\"evenodd\" fill-opacity=\"1\" /><path clip-path=\"url(#clip410)\" d=\"M1819.28 1517.37 Q1815.67 1517.37 1813.85 1520.93 Q1812.04 1524.47 1812.04 1531.6 Q1812.04 1538.71 1813.85 1542.27 Q1815.67 1545.82 1819.28 1545.82 Q1822.92 1545.82 1824.72 1542.27 Q1826.55 1538.71 1826.55 1531.6 Q1826.55 1524.47 1824.72 1520.93 Q1822.92 1517.37 1819.28 1517.37 M1819.28 1513.66 Q1825.1 1513.66 1828.15 1518.27 Q1831.23 1522.85 1831.23 1531.6 Q1831.23 1540.33 1828.15 1544.94 Q1825.1 1549.52 1819.28 1549.52 Q1813.47 1549.52 1810.4 1544.94 Q1807.34 1540.33 1807.34 1531.6 Q1807.34 1522.85 1810.4 1518.27 Q1813.47 1513.66 1819.28 1513.66 Z\" fill=\"#000000\" fill-rule=\"evenodd\" fill-opacity=\"1\" /><path clip-path=\"url(#clip410)\" d=\"M2159.4 1544.91 L2167.04 1544.91 L2167.04 1518.55 L2158.73 1520.21 L2158.73 1515.95 L2166.99 1514.29 L2171.67 1514.29 L2171.67 1544.91 L2179.31 1544.91 L2179.31 1548.85 L2159.4 1548.85 L2159.4 1544.91 Z\" fill=\"#000000\" fill-rule=\"evenodd\" fill-opacity=\"1\" /><path clip-path=\"url(#clip410)\" d=\"M2192.78 1544.91 L2209.1 1544.91 L2209.1 1548.85 L2187.16 1548.85 L2187.16 1544.91 Q2189.82 1542.16 2194.4 1537.53 Q2199.01 1532.88 2200.19 1531.53 Q2202.43 1529.01 2203.31 1527.27 Q2204.22 1525.51 2204.22 1523.82 Q2204.22 1521.07 2202.27 1519.33 Q2200.35 1517.6 2197.25 1517.6 Q2195.05 1517.6 2192.59 1518.36 Q2190.16 1519.13 2187.39 1520.68 L2187.39 1515.95 Q2190.21 1514.82 2192.66 1514.24 Q2195.12 1513.66 2197.15 1513.66 Q2202.53 1513.66 2205.72 1516.35 Q2208.91 1519.03 2208.91 1523.52 Q2208.91 1525.65 2208.1 1527.57 Q2207.32 1529.47 2205.21 1532.07 Q2204.63 1532.74 2201.53 1535.95 Q2198.43 1539.15 2192.78 1544.91 Z\" fill=\"#000000\" fill-rule=\"evenodd\" fill-opacity=\"1\" /><path clip-path=\"url(#clip410)\" d=\"M2218.91 1542.97 L2223.8 1542.97 L2223.8 1548.85 L2218.91 1548.85 L2218.91 1542.97 Z\" fill=\"#000000\" fill-rule=\"evenodd\" fill-opacity=\"1\" /><path clip-path=\"url(#clip410)\" d=\"M2234.03 1514.29 L2252.39 1514.29 L2252.39 1518.22 L2238.31 1518.22 L2238.31 1526.7 Q2239.33 1526.35 2240.35 1526.19 Q2241.37 1526 2242.39 1526 Q2248.17 1526 2251.55 1529.17 Q2254.93 1532.34 2254.93 1537.76 Q2254.93 1543.34 2251.46 1546.44 Q2247.99 1549.52 2241.67 1549.52 Q2239.49 1549.52 2237.22 1549.15 Q2234.98 1548.78 2232.57 1548.04 L2232.57 1543.34 Q2234.65 1544.47 2236.88 1545.03 Q2239.1 1545.58 2241.58 1545.58 Q2245.58 1545.58 2247.92 1543.48 Q2250.26 1541.37 2250.26 1537.76 Q2250.26 1534.15 2247.92 1532.04 Q2245.58 1529.94 2241.58 1529.94 Q2239.7 1529.94 2237.83 1530.35 Q2235.97 1530.77 2234.03 1531.65 L2234.03 1514.29 Z\" fill=\"#000000\" fill-rule=\"evenodd\" fill-opacity=\"1\" /><polyline clip-path=\"url(#clip412)\" style=\"stroke:#000000; stroke-linecap:butt; stroke-linejoin:round; stroke-width:2; stroke-opacity:0.1; fill:none\" points=\"\n",
       "  194.422,1352.27 2352.76,1352.27 \n",
       "  \"/>\n",
       "<polyline clip-path=\"url(#clip412)\" style=\"stroke:#000000; stroke-linecap:butt; stroke-linejoin:round; stroke-width:2; stroke-opacity:0.1; fill:none\" points=\"\n",
       "  194.422,1078.17 2352.76,1078.17 \n",
       "  \"/>\n",
       "<polyline clip-path=\"url(#clip412)\" style=\"stroke:#000000; stroke-linecap:butt; stroke-linejoin:round; stroke-width:2; stroke-opacity:0.1; fill:none\" points=\"\n",
       "  194.422,804.066 2352.76,804.066 \n",
       "  \"/>\n",
       "<polyline clip-path=\"url(#clip412)\" style=\"stroke:#000000; stroke-linecap:butt; stroke-linejoin:round; stroke-width:2; stroke-opacity:0.1; fill:none\" points=\"\n",
       "  194.422,529.963 2352.76,529.963 \n",
       "  \"/>\n",
       "<polyline clip-path=\"url(#clip412)\" style=\"stroke:#000000; stroke-linecap:butt; stroke-linejoin:round; stroke-width:2; stroke-opacity:0.1; fill:none\" points=\"\n",
       "  194.422,255.861 2352.76,255.861 \n",
       "  \"/>\n",
       "<polyline clip-path=\"url(#clip410)\" style=\"stroke:#000000; stroke-linecap:butt; stroke-linejoin:round; stroke-width:4; stroke-opacity:1; fill:none\" points=\"\n",
       "  194.422,1486.45 194.422,47.2441 \n",
       "  \"/>\n",
       "<polyline clip-path=\"url(#clip410)\" style=\"stroke:#000000; stroke-linecap:butt; stroke-linejoin:round; stroke-width:4; stroke-opacity:1; fill:none\" points=\"\n",
       "  194.422,1352.27 213.32,1352.27 \n",
       "  \"/>\n",
       "<polyline clip-path=\"url(#clip410)\" style=\"stroke:#000000; stroke-linecap:butt; stroke-linejoin:round; stroke-width:4; stroke-opacity:1; fill:none\" points=\"\n",
       "  194.422,1078.17 213.32,1078.17 \n",
       "  \"/>\n",
       "<polyline clip-path=\"url(#clip410)\" style=\"stroke:#000000; stroke-linecap:butt; stroke-linejoin:round; stroke-width:4; stroke-opacity:1; fill:none\" points=\"\n",
       "  194.422,804.066 213.32,804.066 \n",
       "  \"/>\n",
       "<polyline clip-path=\"url(#clip410)\" style=\"stroke:#000000; stroke-linecap:butt; stroke-linejoin:round; stroke-width:4; stroke-opacity:1; fill:none\" points=\"\n",
       "  194.422,529.963 213.32,529.963 \n",
       "  \"/>\n",
       "<polyline clip-path=\"url(#clip410)\" style=\"stroke:#000000; stroke-linecap:butt; stroke-linejoin:round; stroke-width:4; stroke-opacity:1; fill:none\" points=\"\n",
       "  194.422,255.861 213.32,255.861 \n",
       "  \"/>\n",
       "<path clip-path=\"url(#clip410)\" d=\"M50.9921 1352.72 L80.6679 1352.72 L80.6679 1356.66 L50.9921 1356.66 L50.9921 1352.72 Z\" fill=\"#000000\" fill-rule=\"evenodd\" fill-opacity=\"1\" /><path clip-path=\"url(#clip410)\" d=\"M100.76 1338.07 Q97.1493 1338.07 95.3206 1341.63 Q93.515 1345.18 93.515 1352.31 Q93.515 1359.41 95.3206 1362.98 Q97.1493 1366.52 100.76 1366.52 Q104.395 1366.52 106.2 1362.98 Q108.029 1359.41 108.029 1352.31 Q108.029 1345.18 106.2 1341.63 Q104.395 1338.07 100.76 1338.07 M100.76 1334.37 Q106.571 1334.37 109.626 1338.97 Q112.705 1343.56 112.705 1352.31 Q112.705 1361.03 109.626 1365.64 Q106.571 1370.22 100.76 1370.22 Q94.9502 1370.22 91.8715 1365.64 Q88.816 1361.03 88.816 1352.31 Q88.816 1343.56 91.8715 1338.97 Q94.9502 1334.37 100.76 1334.37 Z\" fill=\"#000000\" fill-rule=\"evenodd\" fill-opacity=\"1\" /><path clip-path=\"url(#clip410)\" d=\"M120.922 1363.67 L125.807 1363.67 L125.807 1369.55 L120.922 1369.55 L120.922 1363.67 Z\" fill=\"#000000\" fill-rule=\"evenodd\" fill-opacity=\"1\" /><path clip-path=\"url(#clip410)\" d=\"M148.839 1339.06 L137.033 1357.51 L148.839 1357.51 L148.839 1339.06 M147.612 1334.99 L153.492 1334.99 L153.492 1357.51 L158.422 1357.51 L158.422 1361.4 L153.492 1361.4 L153.492 1369.55 L148.839 1369.55 L148.839 1361.4 L133.237 1361.4 L133.237 1356.89 L147.612 1334.99 Z\" fill=\"#000000\" fill-rule=\"evenodd\" fill-opacity=\"1\" /><path clip-path=\"url(#clip410)\" d=\"M53.0754 1078.62 L82.7512 1078.62 L82.7512 1082.55 L53.0754 1082.55 L53.0754 1078.62 Z\" fill=\"#000000\" fill-rule=\"evenodd\" fill-opacity=\"1\" /><path clip-path=\"url(#clip410)\" d=\"M102.844 1063.97 Q99.2326 1063.97 97.4039 1067.53 Q95.5984 1071.07 95.5984 1078.2 Q95.5984 1085.31 97.4039 1088.87 Q99.2326 1092.42 102.844 1092.42 Q106.478 1092.42 108.283 1088.87 Q110.112 1085.31 110.112 1078.2 Q110.112 1071.07 108.283 1067.53 Q106.478 1063.97 102.844 1063.97 M102.844 1060.26 Q108.654 1060.26 111.709 1064.87 Q114.788 1069.45 114.788 1078.2 Q114.788 1086.93 111.709 1091.54 Q108.654 1096.12 102.844 1096.12 Q97.0335 1096.12 93.9549 1091.54 Q90.8993 1086.93 90.8993 1078.2 Q90.8993 1069.45 93.9549 1064.87 Q97.0335 1060.26 102.844 1060.26 Z\" fill=\"#000000\" fill-rule=\"evenodd\" fill-opacity=\"1\" /><path clip-path=\"url(#clip410)\" d=\"M123.006 1089.57 L127.89 1089.57 L127.89 1095.45 L123.006 1095.45 L123.006 1089.57 Z\" fill=\"#000000\" fill-rule=\"evenodd\" fill-opacity=\"1\" /><path clip-path=\"url(#clip410)\" d=\"M142.103 1091.51 L158.422 1091.51 L158.422 1095.45 L136.478 1095.45 L136.478 1091.51 Q139.14 1088.76 143.723 1084.13 Q148.33 1079.48 149.51 1078.13 Q151.755 1075.61 152.635 1073.87 Q153.538 1072.12 153.538 1070.43 Q153.538 1067.67 151.593 1065.93 Q149.672 1064.2 146.57 1064.2 Q144.371 1064.2 141.918 1064.96 Q139.487 1065.73 136.709 1067.28 L136.709 1062.55 Q139.533 1061.42 141.987 1060.84 Q144.441 1060.26 146.478 1060.26 Q151.848 1060.26 155.042 1062.95 Q158.237 1065.63 158.237 1070.12 Q158.237 1072.25 157.427 1074.18 Q156.64 1076.07 154.533 1078.67 Q153.955 1079.34 150.853 1082.55 Q147.751 1085.75 142.103 1091.51 Z\" fill=\"#000000\" fill-rule=\"evenodd\" fill-opacity=\"1\" /><path clip-path=\"url(#clip410)\" d=\"M101.246 789.865 Q97.6354 789.865 95.8067 793.429 Q94.0012 796.971 94.0012 804.101 Q94.0012 811.207 95.8067 814.772 Q97.6354 818.314 101.246 818.314 Q104.881 818.314 106.686 814.772 Q108.515 811.207 108.515 804.101 Q108.515 796.971 106.686 793.429 Q104.881 789.865 101.246 789.865 M101.246 786.161 Q107.057 786.161 110.112 790.767 Q113.191 795.351 113.191 804.101 Q113.191 812.827 110.112 817.434 Q107.057 822.017 101.246 822.017 Q95.4363 822.017 92.3576 817.434 Q89.3021 812.827 89.3021 804.101 Q89.3021 795.351 92.3576 790.767 Q95.4363 786.161 101.246 786.161 Z\" fill=\"#000000\" fill-rule=\"evenodd\" fill-opacity=\"1\" /><path clip-path=\"url(#clip410)\" d=\"M121.408 815.466 L126.293 815.466 L126.293 821.346 L121.408 821.346 L121.408 815.466 Z\" fill=\"#000000\" fill-rule=\"evenodd\" fill-opacity=\"1\" /><path clip-path=\"url(#clip410)\" d=\"M146.478 789.865 Q142.867 789.865 141.038 793.429 Q139.232 796.971 139.232 804.101 Q139.232 811.207 141.038 814.772 Q142.867 818.314 146.478 818.314 Q150.112 818.314 151.918 814.772 Q153.746 811.207 153.746 804.101 Q153.746 796.971 151.918 793.429 Q150.112 789.865 146.478 789.865 M146.478 786.161 Q152.288 786.161 155.343 790.767 Q158.422 795.351 158.422 804.101 Q158.422 812.827 155.343 817.434 Q152.288 822.017 146.478 822.017 Q140.668 822.017 137.589 817.434 Q134.533 812.827 134.533 804.101 Q134.533 795.351 137.589 790.767 Q140.668 786.161 146.478 786.161 Z\" fill=\"#000000\" fill-rule=\"evenodd\" fill-opacity=\"1\" /><path clip-path=\"url(#clip410)\" d=\"M102.844 515.762 Q99.2326 515.762 97.4039 519.327 Q95.5984 522.869 95.5984 529.998 Q95.5984 537.105 97.4039 540.669 Q99.2326 544.211 102.844 544.211 Q106.478 544.211 108.283 540.669 Q110.112 537.105 110.112 529.998 Q110.112 522.869 108.283 519.327 Q106.478 515.762 102.844 515.762 M102.844 512.058 Q108.654 512.058 111.709 516.665 Q114.788 521.248 114.788 529.998 Q114.788 538.725 111.709 543.331 Q108.654 547.915 102.844 547.915 Q97.0335 547.915 93.9549 543.331 Q90.8993 538.725 90.8993 529.998 Q90.8993 521.248 93.9549 516.665 Q97.0335 512.058 102.844 512.058 Z\" fill=\"#000000\" fill-rule=\"evenodd\" fill-opacity=\"1\" /><path clip-path=\"url(#clip410)\" d=\"M123.006 541.364 L127.89 541.364 L127.89 547.243 L123.006 547.243 L123.006 541.364 Z\" fill=\"#000000\" fill-rule=\"evenodd\" fill-opacity=\"1\" /><path clip-path=\"url(#clip410)\" d=\"M142.103 543.308 L158.422 543.308 L158.422 547.243 L136.478 547.243 L136.478 543.308 Q139.14 540.554 143.723 535.924 Q148.33 531.271 149.51 529.929 Q151.755 527.406 152.635 525.669 Q153.538 523.91 153.538 522.22 Q153.538 519.466 151.593 517.73 Q149.672 515.994 146.57 515.994 Q144.371 515.994 141.918 516.758 Q139.487 517.521 136.709 519.072 L136.709 514.35 Q139.533 513.216 141.987 512.637 Q144.441 512.058 146.478 512.058 Q151.848 512.058 155.042 514.744 Q158.237 517.429 158.237 521.92 Q158.237 524.049 157.427 525.97 Q156.64 527.869 154.533 530.461 Q153.955 531.132 150.853 534.35 Q147.751 537.544 142.103 543.308 Z\" fill=\"#000000\" fill-rule=\"evenodd\" fill-opacity=\"1\" /><path clip-path=\"url(#clip410)\" d=\"M100.76 241.66 Q97.1493 241.66 95.3206 245.224 Q93.515 248.766 93.515 255.896 Q93.515 263.002 95.3206 266.567 Q97.1493 270.109 100.76 270.109 Q104.395 270.109 106.2 266.567 Q108.029 263.002 108.029 255.896 Q108.029 248.766 106.2 245.224 Q104.395 241.66 100.76 241.66 M100.76 237.956 Q106.571 237.956 109.626 242.562 Q112.705 247.146 112.705 255.896 Q112.705 264.623 109.626 269.229 Q106.571 273.812 100.76 273.812 Q94.9502 273.812 91.8715 269.229 Q88.816 264.623 88.816 255.896 Q88.816 247.146 91.8715 242.562 Q94.9502 237.956 100.76 237.956 Z\" fill=\"#000000\" fill-rule=\"evenodd\" fill-opacity=\"1\" /><path clip-path=\"url(#clip410)\" d=\"M120.922 267.261 L125.807 267.261 L125.807 273.141 L120.922 273.141 L120.922 267.261 Z\" fill=\"#000000\" fill-rule=\"evenodd\" fill-opacity=\"1\" /><path clip-path=\"url(#clip410)\" d=\"M148.839 242.655 L137.033 261.104 L148.839 261.104 L148.839 242.655 M147.612 238.581 L153.492 238.581 L153.492 261.104 L158.422 261.104 L158.422 264.993 L153.492 264.993 L153.492 273.141 L148.839 273.141 L148.839 264.993 L133.237 264.993 L133.237 260.479 L147.612 238.581 Z\" fill=\"#000000\" fill-rule=\"evenodd\" fill-opacity=\"1\" /><circle clip-path=\"url(#clip412)\" cx=\"255.507\" cy=\"804.066\" r=\"14.4\" fill=\"#009af9\" fill-rule=\"evenodd\" fill-opacity=\"1\" stroke=\"#000000\" stroke-opacity=\"1\" stroke-width=\"3.2\"/>\n",
       "<circle clip-path=\"url(#clip412)\" cx=\"425.187\" cy=\"900.939\" r=\"14.4\" fill=\"#009af9\" fill-rule=\"evenodd\" fill-opacity=\"1\" stroke=\"#000000\" stroke-opacity=\"1\" stroke-width=\"3.2\"/>\n",
       "<circle clip-path=\"url(#clip412)\" cx=\"594.868\" cy=\"1445.72\" r=\"14.4\" fill=\"#009af9\" fill-rule=\"evenodd\" fill-opacity=\"1\" stroke=\"#000000\" stroke-opacity=\"1\" stroke-width=\"3.2\"/>\n",
       "<circle clip-path=\"url(#clip412)\" cx=\"764.548\" cy=\"332.648\" r=\"14.4\" fill=\"#009af9\" fill-rule=\"evenodd\" fill-opacity=\"1\" stroke=\"#000000\" stroke-opacity=\"1\" stroke-width=\"3.2\"/>\n",
       "<circle clip-path=\"url(#clip412)\" cx=\"934.228\" cy=\"200.407\" r=\"14.4\" fill=\"#009af9\" fill-rule=\"evenodd\" fill-opacity=\"1\" stroke=\"#000000\" stroke-opacity=\"1\" stroke-width=\"3.2\"/>\n",
       "<circle clip-path=\"url(#clip412)\" cx=\"1103.91\" cy=\"937.714\" r=\"14.4\" fill=\"#009af9\" fill-rule=\"evenodd\" fill-opacity=\"1\" stroke=\"#000000\" stroke-opacity=\"1\" stroke-width=\"3.2\"/>\n",
       "<circle clip-path=\"url(#clip412)\" cx=\"1273.59\" cy=\"541.925\" r=\"14.4\" fill=\"#009af9\" fill-rule=\"evenodd\" fill-opacity=\"1\" stroke=\"#000000\" stroke-opacity=\"1\" stroke-width=\"3.2\"/>\n",
       "<circle clip-path=\"url(#clip412)\" cx=\"1443.27\" cy=\"87.9763\" r=\"14.4\" fill=\"#009af9\" fill-rule=\"evenodd\" fill-opacity=\"1\" stroke=\"#000000\" stroke-opacity=\"1\" stroke-width=\"3.2\"/>\n",
       "<circle clip-path=\"url(#clip412)\" cx=\"1612.95\" cy=\"804.078\" r=\"14.4\" fill=\"#009af9\" fill-rule=\"evenodd\" fill-opacity=\"1\" stroke=\"#000000\" stroke-opacity=\"1\" stroke-width=\"3.2\"/>\n",
       "<circle clip-path=\"url(#clip412)\" cx=\"1782.63\" cy=\"399.934\" r=\"14.4\" fill=\"#009af9\" fill-rule=\"evenodd\" fill-opacity=\"1\" stroke=\"#000000\" stroke-opacity=\"1\" stroke-width=\"3.2\"/>\n",
       "<circle clip-path=\"url(#clip412)\" cx=\"1952.31\" cy=\"804.066\" r=\"14.4\" fill=\"#009af9\" fill-rule=\"evenodd\" fill-opacity=\"1\" stroke=\"#000000\" stroke-opacity=\"1\" stroke-width=\"3.2\"/>\n",
       "<circle clip-path=\"url(#clip412)\" cx=\"2121.99\" cy=\"1132.51\" r=\"14.4\" fill=\"#009af9\" fill-rule=\"evenodd\" fill-opacity=\"1\" stroke=\"#000000\" stroke-opacity=\"1\" stroke-width=\"3.2\"/>\n",
       "<circle clip-path=\"url(#clip412)\" cx=\"2291.67\" cy=\"804.057\" r=\"14.4\" fill=\"#009af9\" fill-rule=\"evenodd\" fill-opacity=\"1\" stroke=\"#000000\" stroke-opacity=\"1\" stroke-width=\"3.2\"/>\n",
       "<polyline clip-path=\"url(#clip412)\" style=\"stroke:#e26f46; stroke-linecap:butt; stroke-linejoin:round; stroke-width:8; stroke-opacity:1; fill:none\" points=\"\n",
       "  -1963.91,804.066 4511.09,804.066 \n",
       "  \"/>\n",
       "<path clip-path=\"url(#clip410)\" d=\"\n",
       "M1988.57 250.738 L2280.81 250.738 L2280.81 95.2176 L1988.57 95.2176  Z\n",
       "  \" fill=\"#ffffff\" fill-rule=\"evenodd\" fill-opacity=\"1\"/>\n",
       "<polyline clip-path=\"url(#clip410)\" style=\"stroke:#000000; stroke-linecap:butt; stroke-linejoin:round; stroke-width:4; stroke-opacity:1; fill:none\" points=\"\n",
       "  1988.57,250.738 2280.81,250.738 2280.81,95.2176 1988.57,95.2176 1988.57,250.738 \n",
       "  \"/>\n",
       "<circle clip-path=\"url(#clip410)\" cx=\"2084.49\" cy=\"147.058\" r=\"23.04\" fill=\"#009af9\" fill-rule=\"evenodd\" fill-opacity=\"1\" stroke=\"#000000\" stroke-opacity=\"1\" stroke-width=\"5.12\"/>\n",
       "<path clip-path=\"url(#clip410)\" d=\"M2194.26 166.745 Q2192.46 171.375 2190.74 172.787 Q2189.03 174.199 2186.16 174.199 L2182.76 174.199 L2182.76 170.634 L2185.26 170.634 Q2187.02 170.634 2187.99 169.8 Q2188.96 168.967 2190.14 165.865 L2190.9 163.921 L2180.42 138.412 L2184.93 138.412 L2193.03 158.689 L2201.14 138.412 L2205.65 138.412 L2194.26 166.745 Z\" fill=\"#000000\" fill-rule=\"evenodd\" fill-opacity=\"1\" /><path clip-path=\"url(#clip410)\" d=\"M2212.94 160.402 L2220.58 160.402 L2220.58 134.037 L2212.27 135.703 L2212.27 131.444 L2220.53 129.778 L2225.21 129.778 L2225.21 160.402 L2232.85 160.402 L2232.85 164.338 L2212.94 164.338 L2212.94 160.402 Z\" fill=\"#000000\" fill-rule=\"evenodd\" fill-opacity=\"1\" /><polyline clip-path=\"url(#clip410)\" style=\"stroke:#e26f46; stroke-linecap:butt; stroke-linejoin:round; stroke-width:4; stroke-opacity:1; fill:none\" points=\"\n",
       "  2012.55,198.898 2156.44,198.898 \n",
       "  \"/>\n",
       "<path clip-path=\"url(#clip410)\" d=\"M2194.26 218.585 Q2192.46 223.215 2190.74 224.627 Q2189.03 226.039 2186.16 226.039 L2182.76 226.039 L2182.76 222.474 L2185.26 222.474 Q2187.02 222.474 2187.99 221.64 Q2188.96 220.807 2190.14 217.705 L2190.9 215.761 L2180.42 190.252 L2184.93 190.252 L2193.03 210.529 L2201.14 190.252 L2205.65 190.252 L2194.26 218.585 Z\" fill=\"#000000\" fill-rule=\"evenodd\" fill-opacity=\"1\" /><path clip-path=\"url(#clip410)\" d=\"M2216.16 212.242 L2232.48 212.242 L2232.48 216.178 L2210.53 216.178 L2210.53 212.242 Q2213.2 209.488 2217.78 204.858 Q2222.39 200.205 2223.57 198.863 Q2225.81 196.34 2226.69 194.604 Q2227.59 192.844 2227.59 191.155 Q2227.59 188.4 2225.65 186.664 Q2223.73 184.928 2220.63 184.928 Q2218.43 184.928 2215.97 185.692 Q2213.54 186.455 2210.77 188.006 L2210.77 183.284 Q2213.59 182.15 2216.04 181.571 Q2218.5 180.993 2220.53 180.993 Q2225.9 180.993 2229.1 183.678 Q2232.29 186.363 2232.29 190.854 Q2232.29 192.983 2231.48 194.905 Q2230.7 196.803 2228.59 199.395 Q2228.01 200.067 2224.91 203.284 Q2221.81 206.479 2216.16 212.242 Z\" fill=\"#000000\" fill-rule=\"evenodd\" fill-opacity=\"1\" /></svg>\n"
      ]
     },
     "execution_count": 217,
     "metadata": {},
     "output_type": "execute_result"
    }
   ],
   "source": [
    "GenStates!(tnqe2, verbose=true);\n",
    "\n",
    "GenSubspaceMats!(tnqe2, verbose=true)\n",
    "\n",
    "SolveGenEig!(tnqe2, thresh=\"inversion\", verbose=true)"
   ]
  },
  {
   "cell_type": "code",
   "execution_count": 219,
   "id": "e67e486b-df21-4812-8f5c-5a47f26529a3",
   "metadata": {},
   "outputs": [
    {
     "name": "stdout",
     "output_type": "stream",
     "text": [
      "Minimum eigenvalue: -83.86001676887713.86001676887717; kappa = 194.8477192520071              \n",
      "Condition number: 194.84771925200815\n",
      "FCI energy: -75.01927599660624\n",
      "Final energy estimate: -75.01899659986618\n",
      "Best single ref. estimate: -74.96882076314786\n",
      "Error: 0.0002793967400549491\n",
      "BSRfE: 0.05045523345837921\n",
      "Improvement: 0.05017583671832426\n",
      "Percentage error reduction: 99.44624824640754\n",
      "Eigenvalue condition numbers: [0.0119, 0.012, 0.0121, 0.0121, 0.0121, 0.0121, 0.0122, 0.0122, 0.0122, 0.0122, 0.0122, 0.0124, 0.0161]\n",
      "Percent correlation energy with single-geometry DMRG: 13.165207602603662\n",
      "Percent correlation energy with multi-geometry TNQE: 99.51915081437105\n"
     ]
    },
    {
     "data": {
      "image/svg+xml": [
       "<?xml version=\"1.0\" encoding=\"utf-8\"?>\n",
       "<svg xmlns=\"http://www.w3.org/2000/svg\" xmlns:xlink=\"http://www.w3.org/1999/xlink\" width=\"600\" height=\"400\" viewBox=\"0 0 2400 1600\">\n",
       "<defs>\n",
       "  <clipPath id=\"clip450\">\n",
       "    <rect x=\"0\" y=\"0\" width=\"2400\" height=\"1600\"/>\n",
       "  </clipPath>\n",
       "</defs>\n",
       "<path clip-path=\"url(#clip450)\" d=\"\n",
       "M0 1600 L2400 1600 L2400 0 L0 0  Z\n",
       "  \" fill=\"#ffffff\" fill-rule=\"evenodd\" fill-opacity=\"1\"/>\n",
       "<defs>\n",
       "  <clipPath id=\"clip451\">\n",
       "    <rect x=\"480\" y=\"0\" width=\"1681\" height=\"1600\"/>\n",
       "  </clipPath>\n",
       "</defs>\n",
       "<path clip-path=\"url(#clip450)\" d=\"\n",
       "M224.098 1486.45 L2352.76 1486.45 L2352.76 47.2441 L224.098 47.2441  Z\n",
       "  \" fill=\"#ffffff\" fill-rule=\"evenodd\" fill-opacity=\"1\"/>\n",
       "<defs>\n",
       "  <clipPath id=\"clip452\">\n",
       "    <rect x=\"224\" y=\"47\" width=\"2130\" height=\"1440\"/>\n",
       "  </clipPath>\n",
       "</defs>\n",
       "<polyline clip-path=\"url(#clip452)\" style=\"stroke:#000000; stroke-linecap:butt; stroke-linejoin:round; stroke-width:2; stroke-opacity:0.1; fill:none\" points=\"\n",
       "  535.364,1486.45 535.364,47.2441 \n",
       "  \"/>\n",
       "<polyline clip-path=\"url(#clip452)\" style=\"stroke:#000000; stroke-linecap:butt; stroke-linejoin:round; stroke-width:2; stroke-opacity:0.1; fill:none\" points=\"\n",
       "  953.732,1486.45 953.732,47.2441 \n",
       "  \"/>\n",
       "<polyline clip-path=\"url(#clip452)\" style=\"stroke:#000000; stroke-linecap:butt; stroke-linejoin:round; stroke-width:2; stroke-opacity:0.1; fill:none\" points=\"\n",
       "  1372.1,1486.45 1372.1,47.2441 \n",
       "  \"/>\n",
       "<polyline clip-path=\"url(#clip452)\" style=\"stroke:#000000; stroke-linecap:butt; stroke-linejoin:round; stroke-width:2; stroke-opacity:0.1; fill:none\" points=\"\n",
       "  1790.47,1486.45 1790.47,47.2441 \n",
       "  \"/>\n",
       "<polyline clip-path=\"url(#clip452)\" style=\"stroke:#000000; stroke-linecap:butt; stroke-linejoin:round; stroke-width:2; stroke-opacity:0.1; fill:none\" points=\"\n",
       "  2208.84,1486.45 2208.84,47.2441 \n",
       "  \"/>\n",
       "<polyline clip-path=\"url(#clip450)\" style=\"stroke:#000000; stroke-linecap:butt; stroke-linejoin:round; stroke-width:4; stroke-opacity:1; fill:none\" points=\"\n",
       "  224.098,1486.45 2352.76,1486.45 \n",
       "  \"/>\n",
       "<polyline clip-path=\"url(#clip450)\" style=\"stroke:#000000; stroke-linecap:butt; stroke-linejoin:round; stroke-width:4; stroke-opacity:1; fill:none\" points=\"\n",
       "  535.364,1486.45 535.364,1467.55 \n",
       "  \"/>\n",
       "<polyline clip-path=\"url(#clip450)\" style=\"stroke:#000000; stroke-linecap:butt; stroke-linejoin:round; stroke-width:4; stroke-opacity:1; fill:none\" points=\"\n",
       "  953.732,1486.45 953.732,1467.55 \n",
       "  \"/>\n",
       "<polyline clip-path=\"url(#clip450)\" style=\"stroke:#000000; stroke-linecap:butt; stroke-linejoin:round; stroke-width:4; stroke-opacity:1; fill:none\" points=\"\n",
       "  1372.1,1486.45 1372.1,1467.55 \n",
       "  \"/>\n",
       "<polyline clip-path=\"url(#clip450)\" style=\"stroke:#000000; stroke-linecap:butt; stroke-linejoin:round; stroke-width:4; stroke-opacity:1; fill:none\" points=\"\n",
       "  1790.47,1486.45 1790.47,1467.55 \n",
       "  \"/>\n",
       "<polyline clip-path=\"url(#clip450)\" style=\"stroke:#000000; stroke-linecap:butt; stroke-linejoin:round; stroke-width:4; stroke-opacity:1; fill:none\" points=\"\n",
       "  2208.84,1486.45 2208.84,1467.55 \n",
       "  \"/>\n",
       "<path clip-path=\"url(#clip450)\" d=\"M507.1 1544.91 L523.42 1544.91 L523.42 1548.85 L501.475 1548.85 L501.475 1544.91 Q504.137 1542.16 508.721 1537.53 Q513.327 1532.88 514.508 1531.53 Q516.753 1529.01 517.633 1527.27 Q518.535 1525.51 518.535 1523.82 Q518.535 1521.07 516.591 1519.33 Q514.67 1517.6 511.568 1517.6 Q509.369 1517.6 506.915 1518.36 Q504.484 1519.13 501.707 1520.68 L501.707 1515.95 Q504.531 1514.82 506.984 1514.24 Q509.438 1513.66 511.475 1513.66 Q516.845 1513.66 520.04 1516.35 Q523.234 1519.03 523.234 1523.52 Q523.234 1525.65 522.424 1527.57 Q521.637 1529.47 519.531 1532.07 Q518.952 1532.74 515.85 1535.95 Q512.748 1539.15 507.1 1544.91 Z\" fill=\"#000000\" fill-rule=\"evenodd\" fill-opacity=\"1\" /><path clip-path=\"url(#clip450)\" d=\"M533.234 1542.97 L538.119 1542.97 L538.119 1548.85 L533.234 1548.85 L533.234 1542.97 Z\" fill=\"#000000\" fill-rule=\"evenodd\" fill-opacity=\"1\" /><path clip-path=\"url(#clip450)\" d=\"M548.35 1514.29 L566.706 1514.29 L566.706 1518.22 L552.632 1518.22 L552.632 1526.7 Q553.651 1526.35 554.669 1526.19 Q555.688 1526 556.706 1526 Q562.493 1526 565.873 1529.17 Q569.253 1532.34 569.253 1537.76 Q569.253 1543.34 565.78 1546.44 Q562.308 1549.52 555.989 1549.52 Q553.813 1549.52 551.544 1549.15 Q549.299 1548.78 546.892 1548.04 L546.892 1543.34 Q548.975 1544.47 551.197 1545.03 Q553.419 1545.58 555.896 1545.58 Q559.901 1545.58 562.239 1543.48 Q564.577 1541.37 564.577 1537.76 Q564.577 1534.15 562.239 1532.04 Q559.901 1529.94 555.896 1529.94 Q554.021 1529.94 552.146 1530.35 Q550.294 1530.77 548.35 1531.65 L548.35 1514.29 Z\" fill=\"#000000\" fill-rule=\"evenodd\" fill-opacity=\"1\" /><path clip-path=\"url(#clip450)\" d=\"M920.897 1514.29 L939.253 1514.29 L939.253 1518.22 L925.179 1518.22 L925.179 1526.7 Q926.198 1526.35 927.216 1526.19 Q928.235 1526 929.253 1526 Q935.04 1526 938.42 1529.17 Q941.799 1532.34 941.799 1537.76 Q941.799 1543.34 938.327 1546.44 Q934.855 1549.52 928.536 1549.52 Q926.36 1549.52 924.091 1549.15 Q921.846 1548.78 919.438 1548.04 L919.438 1543.34 Q921.522 1544.47 923.744 1545.03 Q925.966 1545.58 928.443 1545.58 Q932.448 1545.58 934.786 1543.48 Q937.124 1541.37 937.124 1537.76 Q937.124 1534.15 934.786 1532.04 Q932.448 1529.94 928.443 1529.94 Q926.568 1529.94 924.693 1530.35 Q922.841 1530.77 920.897 1531.65 L920.897 1514.29 Z\" fill=\"#000000\" fill-rule=\"evenodd\" fill-opacity=\"1\" /><path clip-path=\"url(#clip450)\" d=\"M951.012 1542.97 L955.897 1542.97 L955.897 1548.85 L951.012 1548.85 L951.012 1542.97 Z\" fill=\"#000000\" fill-rule=\"evenodd\" fill-opacity=\"1\" /><path clip-path=\"url(#clip450)\" d=\"M976.082 1517.37 Q972.471 1517.37 970.642 1520.93 Q968.836 1524.47 968.836 1531.6 Q968.836 1538.71 970.642 1542.27 Q972.471 1545.82 976.082 1545.82 Q979.716 1545.82 981.521 1542.27 Q983.35 1538.71 983.35 1531.6 Q983.35 1524.47 981.521 1520.93 Q979.716 1517.37 976.082 1517.37 M976.082 1513.66 Q981.892 1513.66 984.947 1518.27 Q988.026 1522.85 988.026 1531.6 Q988.026 1540.33 984.947 1544.94 Q981.892 1549.52 976.082 1549.52 Q970.271 1549.52 967.193 1544.94 Q964.137 1540.33 964.137 1531.6 Q964.137 1522.85 967.193 1518.27 Q970.271 1513.66 976.082 1513.66 Z\" fill=\"#000000\" fill-rule=\"evenodd\" fill-opacity=\"1\" /><path clip-path=\"url(#clip450)\" d=\"M1338.42 1514.29 L1360.64 1514.29 L1360.64 1516.28 L1348.1 1548.85 L1343.21 1548.85 L1355.02 1518.22 L1338.42 1518.22 L1338.42 1514.29 Z\" fill=\"#000000\" fill-rule=\"evenodd\" fill-opacity=\"1\" /><path clip-path=\"url(#clip450)\" d=\"M1369.76 1542.97 L1374.65 1542.97 L1374.65 1548.85 L1369.76 1548.85 L1369.76 1542.97 Z\" fill=\"#000000\" fill-rule=\"evenodd\" fill-opacity=\"1\" /><path clip-path=\"url(#clip450)\" d=\"M1384.88 1514.29 L1403.23 1514.29 L1403.23 1518.22 L1389.16 1518.22 L1389.16 1526.7 Q1390.18 1526.35 1391.2 1526.19 Q1392.22 1526 1393.23 1526 Q1399.02 1526 1402.4 1529.17 Q1405.78 1532.34 1405.78 1537.76 Q1405.78 1543.34 1402.31 1546.44 Q1398.84 1549.52 1392.52 1549.52 Q1390.34 1549.52 1388.07 1549.15 Q1385.83 1548.78 1383.42 1548.04 L1383.42 1543.34 Q1385.5 1544.47 1387.73 1545.03 Q1389.95 1545.58 1392.42 1545.58 Q1396.43 1545.58 1398.77 1543.48 Q1401.11 1541.37 1401.11 1537.76 Q1401.11 1534.15 1398.77 1532.04 Q1396.43 1529.94 1392.42 1529.94 Q1390.55 1529.94 1388.67 1530.35 Q1386.82 1530.77 1384.88 1531.65 L1384.88 1514.29 Z\" fill=\"#000000\" fill-rule=\"evenodd\" fill-opacity=\"1\" /><path clip-path=\"url(#clip450)\" d=\"M1742.54 1544.91 L1750.18 1544.91 L1750.18 1518.55 L1741.87 1520.21 L1741.87 1515.95 L1750.13 1514.29 L1754.81 1514.29 L1754.81 1544.91 L1762.45 1544.91 L1762.45 1548.85 L1742.54 1548.85 L1742.54 1544.91 Z\" fill=\"#000000\" fill-rule=\"evenodd\" fill-opacity=\"1\" /><path clip-path=\"url(#clip450)\" d=\"M1781.89 1517.37 Q1778.28 1517.37 1776.45 1520.93 Q1774.65 1524.47 1774.65 1531.6 Q1774.65 1538.71 1776.45 1542.27 Q1778.28 1545.82 1781.89 1545.82 Q1785.53 1545.82 1787.33 1542.27 Q1789.16 1538.71 1789.16 1531.6 Q1789.16 1524.47 1787.33 1520.93 Q1785.53 1517.37 1781.89 1517.37 M1781.89 1513.66 Q1787.7 1513.66 1790.76 1518.27 Q1793.84 1522.85 1793.84 1531.6 Q1793.84 1540.33 1790.76 1544.94 Q1787.7 1549.52 1781.89 1549.52 Q1776.08 1549.52 1773 1544.94 Q1769.95 1540.33 1769.95 1531.6 Q1769.95 1522.85 1773 1518.27 Q1776.08 1513.66 1781.89 1513.66 Z\" fill=\"#000000\" fill-rule=\"evenodd\" fill-opacity=\"1\" /><path clip-path=\"url(#clip450)\" d=\"M1802.05 1542.97 L1806.94 1542.97 L1806.94 1548.85 L1802.05 1548.85 L1802.05 1542.97 Z\" fill=\"#000000\" fill-rule=\"evenodd\" fill-opacity=\"1\" /><path clip-path=\"url(#clip450)\" d=\"M1827.12 1517.37 Q1823.51 1517.37 1821.68 1520.93 Q1819.88 1524.47 1819.88 1531.6 Q1819.88 1538.71 1821.68 1542.27 Q1823.51 1545.82 1827.12 1545.82 Q1830.76 1545.82 1832.56 1542.27 Q1834.39 1538.71 1834.39 1531.6 Q1834.39 1524.47 1832.56 1520.93 Q1830.76 1517.37 1827.12 1517.37 M1827.12 1513.66 Q1832.93 1513.66 1835.99 1518.27 Q1839.07 1522.85 1839.07 1531.6 Q1839.07 1540.33 1835.99 1544.94 Q1832.93 1549.52 1827.12 1549.52 Q1821.31 1549.52 1818.23 1544.94 Q1815.18 1540.33 1815.18 1531.6 Q1815.18 1522.85 1818.23 1518.27 Q1821.31 1513.66 1827.12 1513.66 Z\" fill=\"#000000\" fill-rule=\"evenodd\" fill-opacity=\"1\" /><path clip-path=\"url(#clip450)\" d=\"M2161.41 1544.91 L2169.05 1544.91 L2169.05 1518.55 L2160.74 1520.21 L2160.74 1515.95 L2169 1514.29 L2173.68 1514.29 L2173.68 1544.91 L2181.31 1544.91 L2181.31 1548.85 L2161.41 1548.85 L2161.41 1544.91 Z\" fill=\"#000000\" fill-rule=\"evenodd\" fill-opacity=\"1\" /><path clip-path=\"url(#clip450)\" d=\"M2194.79 1544.91 L2211.11 1544.91 L2211.11 1548.85 L2189.16 1548.85 L2189.16 1544.91 Q2191.82 1542.16 2196.41 1537.53 Q2201.01 1532.88 2202.19 1531.53 Q2204.44 1529.01 2205.32 1527.27 Q2206.22 1525.51 2206.22 1523.82 Q2206.22 1521.07 2204.28 1519.33 Q2202.36 1517.6 2199.25 1517.6 Q2197.05 1517.6 2194.6 1518.36 Q2192.17 1519.13 2189.39 1520.68 L2189.39 1515.95 Q2192.22 1514.82 2194.67 1514.24 Q2197.12 1513.66 2199.16 1513.66 Q2204.53 1513.66 2207.73 1516.35 Q2210.92 1519.03 2210.92 1523.52 Q2210.92 1525.65 2210.11 1527.57 Q2209.32 1529.47 2207.22 1532.07 Q2206.64 1532.74 2203.54 1535.95 Q2200.43 1539.15 2194.79 1544.91 Z\" fill=\"#000000\" fill-rule=\"evenodd\" fill-opacity=\"1\" /><path clip-path=\"url(#clip450)\" d=\"M2220.92 1542.97 L2225.8 1542.97 L2225.8 1548.85 L2220.92 1548.85 L2220.92 1542.97 Z\" fill=\"#000000\" fill-rule=\"evenodd\" fill-opacity=\"1\" /><path clip-path=\"url(#clip450)\" d=\"M2236.04 1514.29 L2254.39 1514.29 L2254.39 1518.22 L2240.32 1518.22 L2240.32 1526.7 Q2241.34 1526.35 2242.36 1526.19 Q2243.37 1526 2244.39 1526 Q2250.18 1526 2253.56 1529.17 Q2256.94 1532.34 2256.94 1537.76 Q2256.94 1543.34 2253.47 1546.44 Q2249.99 1549.52 2243.67 1549.52 Q2241.5 1549.52 2239.23 1549.15 Q2236.99 1548.78 2234.58 1548.04 L2234.58 1543.34 Q2236.66 1544.47 2238.88 1545.03 Q2241.11 1545.58 2243.58 1545.58 Q2247.59 1545.58 2249.92 1543.48 Q2252.26 1541.37 2252.26 1537.76 Q2252.26 1534.15 2249.92 1532.04 Q2247.59 1529.94 2243.58 1529.94 Q2241.71 1529.94 2239.83 1530.35 Q2237.98 1530.77 2236.04 1531.65 L2236.04 1514.29 Z\" fill=\"#000000\" fill-rule=\"evenodd\" fill-opacity=\"1\" /><polyline clip-path=\"url(#clip452)\" style=\"stroke:#000000; stroke-linecap:butt; stroke-linejoin:round; stroke-width:2; stroke-opacity:0.1; fill:none\" points=\"\n",
       "  224.098,1299.07 2352.76,1299.07 \n",
       "  \"/>\n",
       "<polyline clip-path=\"url(#clip452)\" style=\"stroke:#000000; stroke-linecap:butt; stroke-linejoin:round; stroke-width:2; stroke-opacity:0.1; fill:none\" points=\"\n",
       "  224.098,992.895 2352.76,992.895 \n",
       "  \"/>\n",
       "<polyline clip-path=\"url(#clip452)\" style=\"stroke:#000000; stroke-linecap:butt; stroke-linejoin:round; stroke-width:2; stroke-opacity:0.1; fill:none\" points=\"\n",
       "  224.098,686.718 2352.76,686.718 \n",
       "  \"/>\n",
       "<polyline clip-path=\"url(#clip452)\" style=\"stroke:#000000; stroke-linecap:butt; stroke-linejoin:round; stroke-width:2; stroke-opacity:0.1; fill:none\" points=\"\n",
       "  224.098,380.54 2352.76,380.54 \n",
       "  \"/>\n",
       "<polyline clip-path=\"url(#clip452)\" style=\"stroke:#000000; stroke-linecap:butt; stroke-linejoin:round; stroke-width:2; stroke-opacity:0.1; fill:none\" points=\"\n",
       "  224.098,74.3623 2352.76,74.3623 \n",
       "  \"/>\n",
       "<polyline clip-path=\"url(#clip450)\" style=\"stroke:#000000; stroke-linecap:butt; stroke-linejoin:round; stroke-width:4; stroke-opacity:1; fill:none\" points=\"\n",
       "  224.098,1486.45 224.098,47.2441 \n",
       "  \"/>\n",
       "<polyline clip-path=\"url(#clip450)\" style=\"stroke:#000000; stroke-linecap:butt; stroke-linejoin:round; stroke-width:4; stroke-opacity:1; fill:none\" points=\"\n",
       "  224.098,1299.07 242.996,1299.07 \n",
       "  \"/>\n",
       "<polyline clip-path=\"url(#clip450)\" style=\"stroke:#000000; stroke-linecap:butt; stroke-linejoin:round; stroke-width:4; stroke-opacity:1; fill:none\" points=\"\n",
       "  224.098,992.895 242.996,992.895 \n",
       "  \"/>\n",
       "<polyline clip-path=\"url(#clip450)\" style=\"stroke:#000000; stroke-linecap:butt; stroke-linejoin:round; stroke-width:4; stroke-opacity:1; fill:none\" points=\"\n",
       "  224.098,686.718 242.996,686.718 \n",
       "  \"/>\n",
       "<polyline clip-path=\"url(#clip450)\" style=\"stroke:#000000; stroke-linecap:butt; stroke-linejoin:round; stroke-width:4; stroke-opacity:1; fill:none\" points=\"\n",
       "  224.098,380.54 242.996,380.54 \n",
       "  \"/>\n",
       "<polyline clip-path=\"url(#clip450)\" style=\"stroke:#000000; stroke-linecap:butt; stroke-linejoin:round; stroke-width:4; stroke-opacity:1; fill:none\" points=\"\n",
       "  224.098,74.3623 242.996,74.3623 \n",
       "  \"/>\n",
       "<path clip-path=\"url(#clip450)\" d=\"M51.9875 1299.52 L81.6633 1299.52 L81.6633 1303.46 L51.9875 1303.46 L51.9875 1299.52 Z\" fill=\"#000000\" fill-rule=\"evenodd\" fill-opacity=\"1\" /><path clip-path=\"url(#clip450)\" d=\"M101.756 1284.87 Q98.1447 1284.87 96.316 1288.44 Q94.5104 1291.98 94.5104 1299.11 Q94.5104 1306.21 96.316 1309.78 Q98.1447 1313.32 101.756 1313.32 Q105.39 1313.32 107.196 1309.78 Q109.024 1306.21 109.024 1299.11 Q109.024 1291.98 107.196 1288.44 Q105.39 1284.87 101.756 1284.87 M101.756 1281.17 Q107.566 1281.17 110.621 1285.77 Q113.7 1290.36 113.7 1299.11 Q113.7 1307.83 110.621 1312.44 Q107.566 1317.02 101.756 1317.02 Q95.9456 1317.02 92.8669 1312.44 Q89.8114 1307.83 89.8114 1299.11 Q89.8114 1290.36 92.8669 1285.77 Q95.9456 1281.17 101.756 1281.17 Z\" fill=\"#000000\" fill-rule=\"evenodd\" fill-opacity=\"1\" /><path clip-path=\"url(#clip450)\" d=\"M121.918 1310.47 L126.802 1310.47 L126.802 1316.35 L121.918 1316.35 L121.918 1310.47 Z\" fill=\"#000000\" fill-rule=\"evenodd\" fill-opacity=\"1\" /><path clip-path=\"url(#clip450)\" d=\"M135.806 1281.79 L158.029 1281.79 L158.029 1283.78 L145.482 1316.35 L140.598 1316.35 L152.404 1285.73 L135.806 1285.73 L135.806 1281.79 Z\" fill=\"#000000\" fill-rule=\"evenodd\" fill-opacity=\"1\" /><path clip-path=\"url(#clip450)\" d=\"M167.195 1281.79 L185.552 1281.79 L185.552 1285.73 L171.478 1285.73 L171.478 1294.2 Q172.496 1293.85 173.515 1293.69 Q174.533 1293.51 175.552 1293.51 Q181.339 1293.51 184.718 1296.68 Q188.098 1299.85 188.098 1305.26 Q188.098 1310.84 184.626 1313.95 Q181.153 1317.02 174.834 1317.02 Q172.658 1317.02 170.39 1316.65 Q168.144 1316.28 165.737 1315.54 L165.737 1310.84 Q167.82 1311.98 170.042 1312.53 Q172.265 1313.09 174.741 1313.09 Q178.746 1313.09 181.084 1310.98 Q183.422 1308.88 183.422 1305.26 Q183.422 1301.65 181.084 1299.55 Q178.746 1297.44 174.741 1297.44 Q172.866 1297.44 170.991 1297.86 Q169.14 1298.27 167.195 1299.15 L167.195 1281.79 Z\" fill=\"#000000\" fill-rule=\"evenodd\" fill-opacity=\"1\" /><path clip-path=\"url(#clip450)\" d=\"M50.9921 993.347 L80.6679 993.347 L80.6679 997.282 L50.9921 997.282 L50.9921 993.347 Z\" fill=\"#000000\" fill-rule=\"evenodd\" fill-opacity=\"1\" /><path clip-path=\"url(#clip450)\" d=\"M100.76 978.694 Q97.1493 978.694 95.3206 982.259 Q93.515 985.8 93.515 992.93 Q93.515 1000.04 95.3206 1003.6 Q97.1493 1007.14 100.76 1007.14 Q104.395 1007.14 106.2 1003.6 Q108.029 1000.04 108.029 992.93 Q108.029 985.8 106.2 982.259 Q104.395 978.694 100.76 978.694 M100.76 974.99 Q106.571 974.99 109.626 979.597 Q112.705 984.18 112.705 992.93 Q112.705 1001.66 109.626 1006.26 Q106.571 1010.85 100.76 1010.85 Q94.9502 1010.85 91.8715 1006.26 Q88.816 1001.66 88.816 992.93 Q88.816 984.18 91.8715 979.597 Q94.9502 974.99 100.76 974.99 Z\" fill=\"#000000\" fill-rule=\"evenodd\" fill-opacity=\"1\" /><path clip-path=\"url(#clip450)\" d=\"M120.922 1004.3 L125.807 1004.3 L125.807 1010.18 L120.922 1010.18 L120.922 1004.3 Z\" fill=\"#000000\" fill-rule=\"evenodd\" fill-opacity=\"1\" /><path clip-path=\"url(#clip450)\" d=\"M136.038 975.615 L154.394 975.615 L154.394 979.55 L140.32 979.55 L140.32 988.023 Q141.339 987.675 142.357 987.513 Q143.376 987.328 144.394 987.328 Q150.181 987.328 153.561 990.499 Q156.941 993.671 156.941 999.087 Q156.941 1004.67 153.468 1007.77 Q149.996 1010.85 143.677 1010.85 Q141.501 1010.85 139.232 1010.48 Q136.987 1010.11 134.58 1009.37 L134.58 1004.67 Q136.663 1005.8 138.885 1006.36 Q141.107 1006.91 143.584 1006.91 Q147.589 1006.91 149.927 1004.8 Q152.265 1002.7 152.265 999.087 Q152.265 995.476 149.927 993.37 Q147.589 991.263 143.584 991.263 Q141.709 991.263 139.834 991.68 Q137.982 992.097 136.038 992.976 L136.038 975.615 Z\" fill=\"#000000\" fill-rule=\"evenodd\" fill-opacity=\"1\" /><path clip-path=\"url(#clip450)\" d=\"M176.153 978.694 Q172.542 978.694 170.714 982.259 Q168.908 985.8 168.908 992.93 Q168.908 1000.04 170.714 1003.6 Q172.542 1007.14 176.153 1007.14 Q179.788 1007.14 181.593 1003.6 Q183.422 1000.04 183.422 992.93 Q183.422 985.8 181.593 982.259 Q179.788 978.694 176.153 978.694 M176.153 974.99 Q181.964 974.99 185.019 979.597 Q188.098 984.18 188.098 992.93 Q188.098 1001.66 185.019 1006.26 Q181.964 1010.85 176.153 1010.85 Q170.343 1010.85 167.265 1006.26 Q164.209 1001.66 164.209 992.93 Q164.209 984.18 167.265 979.597 Q170.343 974.99 176.153 974.99 Z\" fill=\"#000000\" fill-rule=\"evenodd\" fill-opacity=\"1\" /><path clip-path=\"url(#clip450)\" d=\"M51.9875 687.169 L81.6633 687.169 L81.6633 691.104 L51.9875 691.104 L51.9875 687.169 Z\" fill=\"#000000\" fill-rule=\"evenodd\" fill-opacity=\"1\" /><path clip-path=\"url(#clip450)\" d=\"M101.756 672.516 Q98.1447 672.516 96.316 676.081 Q94.5104 679.623 94.5104 686.752 Q94.5104 693.859 96.316 697.424 Q98.1447 700.965 101.756 700.965 Q105.39 700.965 107.196 697.424 Q109.024 693.859 109.024 686.752 Q109.024 679.623 107.196 676.081 Q105.39 672.516 101.756 672.516 M101.756 668.813 Q107.566 668.813 110.621 673.419 Q113.7 678.002 113.7 686.752 Q113.7 695.479 110.621 700.086 Q107.566 704.669 101.756 704.669 Q95.9456 704.669 92.8669 700.086 Q89.8114 695.479 89.8114 686.752 Q89.8114 678.002 92.8669 673.419 Q95.9456 668.813 101.756 668.813 Z\" fill=\"#000000\" fill-rule=\"evenodd\" fill-opacity=\"1\" /><path clip-path=\"url(#clip450)\" d=\"M121.918 698.118 L126.802 698.118 L126.802 703.998 L121.918 703.998 L121.918 698.118 Z\" fill=\"#000000\" fill-rule=\"evenodd\" fill-opacity=\"1\" /><path clip-path=\"url(#clip450)\" d=\"M141.015 700.062 L157.334 700.062 L157.334 703.998 L135.39 703.998 L135.39 700.062 Q138.052 697.308 142.635 692.678 Q147.242 688.025 148.422 686.683 Q150.668 684.16 151.547 682.424 Q152.45 680.664 152.45 678.975 Q152.45 676.22 150.505 674.484 Q148.584 672.748 145.482 672.748 Q143.283 672.748 140.83 673.512 Q138.399 674.276 135.621 675.826 L135.621 671.104 Q138.445 669.97 140.899 669.391 Q143.353 668.813 145.39 668.813 Q150.76 668.813 153.955 671.498 Q157.149 674.183 157.149 678.674 Q157.149 680.803 156.339 682.725 Q155.552 684.623 153.445 687.215 Q152.867 687.887 149.765 691.104 Q146.663 694.299 141.015 700.062 Z\" fill=\"#000000\" fill-rule=\"evenodd\" fill-opacity=\"1\" /><path clip-path=\"url(#clip450)\" d=\"M167.195 669.438 L185.552 669.438 L185.552 673.373 L171.478 673.373 L171.478 681.845 Q172.496 681.498 173.515 681.336 Q174.533 681.15 175.552 681.15 Q181.339 681.15 184.718 684.322 Q188.098 687.493 188.098 692.91 Q188.098 698.488 184.626 701.59 Q181.153 704.669 174.834 704.669 Q172.658 704.669 170.39 704.298 Q168.144 703.928 165.737 703.187 L165.737 698.488 Q167.82 699.623 170.042 700.178 Q172.265 700.734 174.741 700.734 Q178.746 700.734 181.084 698.627 Q183.422 696.521 183.422 692.91 Q183.422 689.299 181.084 687.192 Q178.746 685.086 174.741 685.086 Q172.866 685.086 170.991 685.502 Q169.14 685.919 167.195 686.799 L167.195 669.438 Z\" fill=\"#000000\" fill-rule=\"evenodd\" fill-opacity=\"1\" /><path clip-path=\"url(#clip450)\" d=\"M100.76 366.339 Q97.1493 366.339 95.3206 369.903 Q93.515 373.445 93.515 380.575 Q93.515 387.681 95.3206 391.246 Q97.1493 394.788 100.76 394.788 Q104.395 394.788 106.2 391.246 Q108.029 387.681 108.029 380.575 Q108.029 373.445 106.2 369.903 Q104.395 366.339 100.76 366.339 M100.76 362.635 Q106.571 362.635 109.626 367.241 Q112.705 371.825 112.705 380.575 Q112.705 389.301 109.626 393.908 Q106.571 398.491 100.76 398.491 Q94.9502 398.491 91.8715 393.908 Q88.816 389.301 88.816 380.575 Q88.816 371.825 91.8715 367.241 Q94.9502 362.635 100.76 362.635 Z\" fill=\"#000000\" fill-rule=\"evenodd\" fill-opacity=\"1\" /><path clip-path=\"url(#clip450)\" d=\"M120.922 391.94 L125.807 391.94 L125.807 397.82 L120.922 397.82 L120.922 391.94 Z\" fill=\"#000000\" fill-rule=\"evenodd\" fill-opacity=\"1\" /><path clip-path=\"url(#clip450)\" d=\"M145.992 366.339 Q142.381 366.339 140.552 369.903 Q138.746 373.445 138.746 380.575 Q138.746 387.681 140.552 391.246 Q142.381 394.788 145.992 394.788 Q149.626 394.788 151.431 391.246 Q153.26 387.681 153.26 380.575 Q153.26 373.445 151.431 369.903 Q149.626 366.339 145.992 366.339 M145.992 362.635 Q151.802 362.635 154.857 367.241 Q157.936 371.825 157.936 380.575 Q157.936 389.301 154.857 393.908 Q151.802 398.491 145.992 398.491 Q140.181 398.491 137.103 393.908 Q134.047 389.301 134.047 380.575 Q134.047 371.825 137.103 367.241 Q140.181 362.635 145.992 362.635 Z\" fill=\"#000000\" fill-rule=\"evenodd\" fill-opacity=\"1\" /><path clip-path=\"url(#clip450)\" d=\"M176.153 366.339 Q172.542 366.339 170.714 369.903 Q168.908 373.445 168.908 380.575 Q168.908 387.681 170.714 391.246 Q172.542 394.788 176.153 394.788 Q179.788 394.788 181.593 391.246 Q183.422 387.681 183.422 380.575 Q183.422 373.445 181.593 369.903 Q179.788 366.339 176.153 366.339 M176.153 362.635 Q181.964 362.635 185.019 367.241 Q188.098 371.825 188.098 380.575 Q188.098 389.301 185.019 393.908 Q181.964 398.491 176.153 398.491 Q170.343 398.491 167.265 393.908 Q164.209 389.301 164.209 380.575 Q164.209 371.825 167.265 367.241 Q170.343 362.635 176.153 362.635 Z\" fill=\"#000000\" fill-rule=\"evenodd\" fill-opacity=\"1\" /><path clip-path=\"url(#clip450)\" d=\"M101.756 60.161 Q98.1447 60.161 96.316 63.7258 Q94.5104 67.2674 94.5104 74.397 Q94.5104 81.5034 96.316 85.0682 Q98.1447 88.6099 101.756 88.6099 Q105.39 88.6099 107.196 85.0682 Q109.024 81.5034 109.024 74.397 Q109.024 67.2674 107.196 63.7258 Q105.39 60.161 101.756 60.161 M101.756 56.4573 Q107.566 56.4573 110.621 61.0637 Q113.7 65.6471 113.7 74.397 Q113.7 83.1238 110.621 87.7303 Q107.566 92.3136 101.756 92.3136 Q95.9456 92.3136 92.8669 87.7303 Q89.8114 83.1238 89.8114 74.397 Q89.8114 65.6471 92.8669 61.0637 Q95.9456 56.4573 101.756 56.4573 Z\" fill=\"#000000\" fill-rule=\"evenodd\" fill-opacity=\"1\" /><path clip-path=\"url(#clip450)\" d=\"M121.918 85.7627 L126.802 85.7627 L126.802 91.6423 L121.918 91.6423 L121.918 85.7627 Z\" fill=\"#000000\" fill-rule=\"evenodd\" fill-opacity=\"1\" /><path clip-path=\"url(#clip450)\" d=\"M141.015 87.7071 L157.334 87.7071 L157.334 91.6423 L135.39 91.6423 L135.39 87.7071 Q138.052 84.9525 142.635 80.3229 Q147.242 75.6701 148.422 74.3276 Q150.668 71.8044 151.547 70.0683 Q152.45 68.3091 152.45 66.6193 Q152.45 63.8647 150.505 62.1286 Q148.584 60.3925 145.482 60.3925 Q143.283 60.3925 140.83 61.1563 Q138.399 61.9202 135.621 63.4711 L135.621 58.7489 Q138.445 57.6147 140.899 57.036 Q143.353 56.4573 145.39 56.4573 Q150.76 56.4573 153.955 59.1425 Q157.149 61.8276 157.149 66.3183 Q157.149 68.448 156.339 70.3692 Q155.552 72.2674 153.445 74.86 Q152.867 75.5313 149.765 78.7488 Q146.663 81.9433 141.015 87.7071 Z\" fill=\"#000000\" fill-rule=\"evenodd\" fill-opacity=\"1\" /><path clip-path=\"url(#clip450)\" d=\"M167.195 57.0823 L185.552 57.0823 L185.552 61.0174 L171.478 61.0174 L171.478 69.4896 Q172.496 69.1424 173.515 68.9804 Q174.533 68.7952 175.552 68.7952 Q181.339 68.7952 184.718 71.9665 Q188.098 75.1377 188.098 80.5544 Q188.098 86.1331 184.626 89.2349 Q181.153 92.3136 174.834 92.3136 Q172.658 92.3136 170.39 91.9432 Q168.144 91.5728 165.737 90.8321 L165.737 86.1331 Q167.82 87.2673 170.042 87.8229 Q172.265 88.3784 174.741 88.3784 Q178.746 88.3784 181.084 86.2719 Q183.422 84.1655 183.422 80.5544 Q183.422 76.9433 181.084 74.8368 Q178.746 72.7303 174.741 72.7303 Q172.866 72.7303 170.991 73.147 Q169.14 73.5637 167.195 74.4433 L167.195 57.0823 Z\" fill=\"#000000\" fill-rule=\"evenodd\" fill-opacity=\"1\" /><circle clip-path=\"url(#clip452)\" cx=\"284.343\" cy=\"380.671\" r=\"14.4\" fill=\"#009af9\" fill-rule=\"evenodd\" fill-opacity=\"1\" stroke=\"#000000\" stroke-opacity=\"1\" stroke-width=\"3.2\"/>\n",
       "<circle clip-path=\"url(#clip452)\" cx=\"451.69\" cy=\"1445.72\" r=\"14.4\" fill=\"#009af9\" fill-rule=\"evenodd\" fill-opacity=\"1\" stroke=\"#000000\" stroke-opacity=\"1\" stroke-width=\"3.2\"/>\n",
       "<circle clip-path=\"url(#clip452)\" cx=\"619.038\" cy=\"402.287\" r=\"14.4\" fill=\"#009af9\" fill-rule=\"evenodd\" fill-opacity=\"1\" stroke=\"#000000\" stroke-opacity=\"1\" stroke-width=\"3.2\"/>\n",
       "<circle clip-path=\"url(#clip452)\" cx=\"786.385\" cy=\"227.601\" r=\"14.4\" fill=\"#009af9\" fill-rule=\"evenodd\" fill-opacity=\"1\" stroke=\"#000000\" stroke-opacity=\"1\" stroke-width=\"3.2\"/>\n",
       "<circle clip-path=\"url(#clip452)\" cx=\"953.732\" cy=\"811.268\" r=\"14.4\" fill=\"#009af9\" fill-rule=\"evenodd\" fill-opacity=\"1\" stroke=\"#000000\" stroke-opacity=\"1\" stroke-width=\"3.2\"/>\n",
       "<circle clip-path=\"url(#clip452)\" cx=\"1121.08\" cy=\"87.9763\" r=\"14.4\" fill=\"#009af9\" fill-rule=\"evenodd\" fill-opacity=\"1\" stroke=\"#000000\" stroke-opacity=\"1\" stroke-width=\"3.2\"/>\n",
       "<circle clip-path=\"url(#clip452)\" cx=\"1288.43\" cy=\"360.076\" r=\"14.4\" fill=\"#009af9\" fill-rule=\"evenodd\" fill-opacity=\"1\" stroke=\"#000000\" stroke-opacity=\"1\" stroke-width=\"3.2\"/>\n",
       "<circle clip-path=\"url(#clip452)\" cx=\"1455.77\" cy=\"327.539\" r=\"14.4\" fill=\"#009af9\" fill-rule=\"evenodd\" fill-opacity=\"1\" stroke=\"#000000\" stroke-opacity=\"1\" stroke-width=\"3.2\"/>\n",
       "<circle clip-path=\"url(#clip452)\" cx=\"1623.12\" cy=\"429.301\" r=\"14.4\" fill=\"#009af9\" fill-rule=\"evenodd\" fill-opacity=\"1\" stroke=\"#000000\" stroke-opacity=\"1\" stroke-width=\"3.2\"/>\n",
       "<circle clip-path=\"url(#clip452)\" cx=\"1790.47\" cy=\"514.445\" r=\"14.4\" fill=\"#009af9\" fill-rule=\"evenodd\" fill-opacity=\"1\" stroke=\"#000000\" stroke-opacity=\"1\" stroke-width=\"3.2\"/>\n",
       "<circle clip-path=\"url(#clip452)\" cx=\"1957.82\" cy=\"380.548\" r=\"14.4\" fill=\"#009af9\" fill-rule=\"evenodd\" fill-opacity=\"1\" stroke=\"#000000\" stroke-opacity=\"1\" stroke-width=\"3.2\"/>\n",
       "<circle clip-path=\"url(#clip452)\" cx=\"2125.16\" cy=\"596.867\" r=\"14.4\" fill=\"#009af9\" fill-rule=\"evenodd\" fill-opacity=\"1\" stroke=\"#000000\" stroke-opacity=\"1\" stroke-width=\"3.2\"/>\n",
       "<circle clip-path=\"url(#clip452)\" cx=\"2292.51\" cy=\"380.54\" r=\"14.4\" fill=\"#009af9\" fill-rule=\"evenodd\" fill-opacity=\"1\" stroke=\"#000000\" stroke-opacity=\"1\" stroke-width=\"3.2\"/>\n",
       "<polyline clip-path=\"url(#clip452)\" style=\"stroke:#e26f46; stroke-linecap:butt; stroke-linejoin:round; stroke-width:8; stroke-opacity:1; fill:none\" points=\"\n",
       "  -1904.56,380.54 4481.41,380.54 \n",
       "  \"/>\n",
       "<path clip-path=\"url(#clip450)\" d=\"\n",
       "M1992.85 250.738 L2281.8 250.738 L2281.8 95.2176 L1992.85 95.2176  Z\n",
       "  \" fill=\"#ffffff\" fill-rule=\"evenodd\" fill-opacity=\"1\"/>\n",
       "<polyline clip-path=\"url(#clip450)\" style=\"stroke:#000000; stroke-linecap:butt; stroke-linejoin:round; stroke-width:4; stroke-opacity:1; fill:none\" points=\"\n",
       "  1992.85,250.738 2281.8,250.738 2281.8,95.2176 1992.85,95.2176 1992.85,250.738 \n",
       "  \"/>\n",
       "<circle clip-path=\"url(#clip450)\" cx=\"2087.46\" cy=\"147.058\" r=\"23.04\" fill=\"#009af9\" fill-rule=\"evenodd\" fill-opacity=\"1\" stroke=\"#000000\" stroke-opacity=\"1\" stroke-width=\"5.12\"/>\n",
       "<path clip-path=\"url(#clip450)\" d=\"M2195.91 166.745 Q2194.1 171.375 2192.39 172.787 Q2190.68 174.199 2187.81 174.199 L2184.4 174.199 L2184.4 170.634 L2186.9 170.634 Q2188.66 170.634 2189.64 169.8 Q2190.61 168.967 2191.79 165.865 L2192.55 163.921 L2182.07 138.412 L2186.58 138.412 L2194.68 158.689 L2202.78 138.412 L2207.3 138.412 L2195.91 166.745 Z\" fill=\"#000000\" fill-rule=\"evenodd\" fill-opacity=\"1\" /><path clip-path=\"url(#clip450)\" d=\"M2214.59 160.402 L2222.23 160.402 L2222.23 134.037 L2213.92 135.703 L2213.92 131.444 L2222.18 129.778 L2226.86 129.778 L2226.86 160.402 L2234.5 160.402 L2234.5 164.338 L2214.59 164.338 L2214.59 160.402 Z\" fill=\"#000000\" fill-rule=\"evenodd\" fill-opacity=\"1\" /><polyline clip-path=\"url(#clip450)\" style=\"stroke:#e26f46; stroke-linecap:butt; stroke-linejoin:round; stroke-width:4; stroke-opacity:1; fill:none\" points=\"\n",
       "  2016.5,198.898 2158.42,198.898 \n",
       "  \"/>\n",
       "<path clip-path=\"url(#clip450)\" d=\"M2195.91 218.585 Q2194.1 223.215 2192.39 224.627 Q2190.68 226.039 2187.81 226.039 L2184.4 226.039 L2184.4 222.474 L2186.9 222.474 Q2188.66 222.474 2189.64 221.64 Q2190.61 220.807 2191.79 217.705 L2192.55 215.761 L2182.07 190.252 L2186.58 190.252 L2194.68 210.529 L2202.78 190.252 L2207.3 190.252 L2195.91 218.585 Z\" fill=\"#000000\" fill-rule=\"evenodd\" fill-opacity=\"1\" /><path clip-path=\"url(#clip450)\" d=\"M2217.81 212.242 L2234.13 212.242 L2234.13 216.178 L2212.18 216.178 L2212.18 212.242 Q2214.84 209.488 2219.43 204.858 Q2224.03 200.205 2225.21 198.863 Q2227.46 196.34 2228.34 194.604 Q2229.24 192.844 2229.24 191.155 Q2229.24 188.4 2227.3 186.664 Q2225.38 184.928 2222.27 184.928 Q2220.08 184.928 2217.62 185.692 Q2215.19 186.455 2212.41 188.006 L2212.41 183.284 Q2215.24 182.15 2217.69 181.571 Q2220.15 180.993 2222.18 180.993 Q2227.55 180.993 2230.75 183.678 Q2233.94 186.363 2233.94 190.854 Q2233.94 192.983 2233.13 194.905 Q2232.34 196.803 2230.24 199.395 Q2229.66 200.067 2226.56 203.284 Q2223.46 206.479 2217.81 212.242 Z\" fill=\"#000000\" fill-rule=\"evenodd\" fill-opacity=\"1\" /></svg>\n"
      ]
     },
     "execution_count": 219,
     "metadata": {},
     "output_type": "execute_result"
    }
   ],
   "source": [
    "tnqe3 = copy(tnqe2)\n",
    "\n",
    "MultiGeomOptim!(\n",
    "    tnqe3, \n",
    "    sweeps=6, \n",
    "    maxiter=20000, \n",
    "    method=\"bboptim\",\n",
    "    delta=1e-4,\n",
    "    alpha=2e0,\n",
    "    stun=true,\n",
    "    gamma=1e8,\n",
    "    noise=[1e-3,1e-4,1e-5,1e-6,1e-7, 0.0],\n",
    "    verbose=true\n",
    ")\n",
    "\n",
    "GenSubspaceMats!(tnqe3, verbose=true)\n",
    "\n",
    "SolveGenEig!(tnqe3, thresh=\"inversion\", verbose=true)"
   ]
  },
  {
   "cell_type": "code",
   "execution_count": null,
   "id": "4ba179c4-5f26-40d3-8789-c95ab327ccc4",
   "metadata": {},
   "outputs": [],
   "source": []
  }
 ],
 "metadata": {
  "kernelspec": {
   "display_name": "Julia 1.7.3",
   "language": "julia",
   "name": "julia-1.7"
  },
  "language_info": {
   "file_extension": ".jl",
   "mimetype": "application/julia",
   "name": "julia",
   "version": "1.7.3"
  }
 },
 "nbformat": 4,
 "nbformat_minor": 5
}
