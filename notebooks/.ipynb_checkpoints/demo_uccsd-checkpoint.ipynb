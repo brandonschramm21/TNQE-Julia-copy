{
 "cells": [
  {
   "cell_type": "code",
   "execution_count": 7,
   "id": "becffbe1-8e88-4fab-90e7-1ad84c823921",
   "metadata": {},
   "outputs": [
    {
     "name": "stdout",
     "output_type": "stream",
     "text": [
      "Radius = 1.2 Angstrom\n",
      "Molecule name: h6\n",
      "Basis set: sto3g\n",
      "Molecular geometry: ../configs/xyz_files/h6_octahedron/1.2.xyz\n",
      "RHF energy: -2.4528594210037307\n",
      "FCI energy: -2.7984095588136295\n",
      "3.10.9\n"
     ]
    }
   ],
   "source": [
    "# Import modules and subroutines:\n",
    "include(\"../subroutines/Subroutines.jl\");\n",
    "include(\"../subroutines/UCCSD.jl\")\n",
    "\n",
    "using ConfParser\n",
    "# Load the chemical data into julia as an array of chemical data structs:\n",
    "# (one struct obtained for each molecular geometry as set up in the config file)\n",
    "\n",
    "md_fname = \"h6_sto3g_031324%1756.hdf5\"\n",
    "#md_fname = \"h6_sto3g_031624%1042.hdf5\"\n",
    "\n",
    "chemical_data_list = ReadIn(\"../datasets/pyscf_data/\"*md_fname)\n",
    "\n",
    "conf = ConfParse(\"../configs/pyscf_configs/h6_octahedron_sto3g.ini\")\n",
    "#conf = ConfParse(\"../configs/pyscf_configs/h6_octahedron_sto3g_1p8a_perturbed.ini\")\n",
    "parse_conf!(conf)\n",
    "bond_lengths = parse.(Float64, retrieve(conf, \"GEOMETRIES\", \"xyz_files\"));\n",
    "\n",
    "# Choose a bond length:\n",
    "n_x = 15\n",
    "println(\"Radius = $(bond_lengths[n_x]) Angstrom\")\n",
    "chemical_data = chemical_data_list[n_x]\n",
    "PrintChemData(chemical_data)\n",
    "\n",
    "#using Profile\n",
    "#using ProfileVega\n",
    "\n",
    "#Profile.clear()"
   ]
  },
  {
   "cell_type": "code",
   "execution_count": 6,
   "id": "6d795f8a-766c-4cfd-95aa-f940848e72db",
   "metadata": {},
   "outputs": [
    {
     "data": {
      "text/plain": [
       "45"
      ]
     },
     "execution_count": 6,
     "metadata": {},
     "output_type": "execute_result"
    }
   ],
   "source": [
    "length(MP2Amps(chemical_data)[1]) + 3^2"
   ]
  },
  {
   "cell_type": "code",
   "execution_count": 25,
   "id": "65a47fc6-fbd4-4e8e-9c96-67c530a103a0",
   "metadata": {},
   "outputs": [
    {
     "data": {
      "text/plain": [
       "'o': ASCII/Unicode U+006F (category Ll: Letter, lowercase)"
      ]
     },
     "execution_count": 25,
     "metadata": {},
     "output_type": "execute_result"
    }
   ],
   "source": [
    "# Optimize the uCCSD energy:\n",
    "e_opt, x_opt = uCCSDMinimize(chemical_data, maxiter = 50, eps_init=0.1, eps=1e-4)"
   ]
  },
  {
   "cell_type": "code",
   "execution_count": null,
   "id": "b71ef72a-f223-44e6-83cf-3642bcd39295",
   "metadata": {},
   "outputs": [],
   "source": []
  }
 ],
 "metadata": {
  "kernelspec": {
   "display_name": "Julia 1.7.3",
   "language": "julia",
   "name": "julia-1.7"
  },
  "language_info": {
   "file_extension": ".jl",
   "mimetype": "application/julia",
   "name": "julia",
   "version": "1.7.3"
  }
 },
 "nbformat": 4,
 "nbformat_minor": 5
}
