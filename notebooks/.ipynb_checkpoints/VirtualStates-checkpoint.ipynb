{
 "cells": [
  {
   "cell_type": "code",
   "execution_count": 1,
   "id": "322b413e-85f5-4196-95a0-82576c32601f",
   "metadata": {},
   "outputs": [],
   "source": [
    "# Import modules and subroutines:\n",
    "\n",
    "include(\"../subroutines/Subroutines.jl\");"
   ]
  },
  {
   "cell_type": "code",
   "execution_count": 2,
   "id": "53398bf0-3e56-4f45-b189-b96f9ec964da",
   "metadata": {},
   "outputs": [
    {
     "name": "stdout",
     "output_type": "stream",
     "text": [
      "Molecule name: h2o\n",
      "Basis set: sto-3g\n",
      "Molecular geometry: O 0.0 0.0 0.0; H 1.0 0.0 0.0; H 0.0 1.0 0.0; \n",
      "RHF energy: -74.96117113786774\n",
      "FCI energy: -75.01927599660624\n"
     ]
    }
   ],
   "source": [
    "# Load the chemical data into julia as an array of chemical data structs:\n",
    "# (one struct obtained for each molecular geometry as set up in the config file)\n",
    "\n",
    "cdata_list = ReadIn(\"../datasets/pyscf_data/h2o_sto-3g_080222%000756.hdf5\");\n",
    "chemical_data = cdata_list[1]\n",
    "PrintChemData(chemical_data)"
   ]
  },
  {
   "cell_type": "code",
   "execution_count": 30,
   "id": "1e73f202-fb50-4e3a-8fff-c16673073f5c",
   "metadata": {},
   "outputs": [
    {
     "name": "stdout",
     "output_type": "stream",
     "text": [
      "Generating states:\n",
      "Progress: [40/40] \n",
      "Done!\n",
      "computing matrix elements:\n",
      "Progress: [820/820] \n",
      "Done!\n"
     ]
    },
    {
     "data": {
      "text/plain": [
       "40×40 Matrix{Float64}:\n",
       "  1.0     0.0     0.0     0.0     0.001  …   0.0     0.003  -0.0    -0.0\n",
       "  0.0     1.0    -0.0    -0.0     0.0        0.04    0.0    -0.005   0.0\n",
       "  0.0    -0.0     1.0     0.0     0.0       -0.13    0.0     0.007  -0.0\n",
       "  0.0    -0.0     0.0     1.0     0.014     -0.0     0.026  -0.0     0.057\n",
       "  0.001   0.0     0.0     0.014   1.0       -0.0     0.003   0.0     0.021\n",
       "  0.001   0.0    -0.0     0.001  -0.0    …  -0.0    -0.022  -0.0    -0.022\n",
       "  0.0     0.0     0.001  -0.0     0.0        0.01    0.0     0.071   0.0\n",
       " -0.0     0.0    -0.0    -0.003   0.005     -0.0     0.002   0.0     0.001\n",
       " -0.003   0.0     0.0     0.0     0.008     -0.0     0.01    0.0     0.03\n",
       "  0.0    -0.001  -0.0    -0.0    -0.0       -0.002   0.0     0.009  -0.0\n",
       " -0.003   0.0    -0.0     0.009   0.022  …   0.0    -0.015  -0.0     0.025\n",
       "  0.0     0.025  -0.016  -0.0     0.0        0.021   0.0     0.044  -0.0\n",
       "  0.0     0.0     0.0     0.0    -0.0        0.0    -0.002  -0.0     0.012\n",
       "  ⋮                                      ⋱                          \n",
       "  0.0    -0.021   0.065  -0.0     0.0        0.027   0.0     0.036   0.0\n",
       "  0.0     0.0     0.0    -0.001   0.0       -0.0     0.001   0.0    -0.031\n",
       " -0.002   0.0     0.0     0.015   0.025  …   0.0    -0.017  -0.0     0.059\n",
       " -0.0    -0.001  -0.001   0.0     0.0        0.012  -0.0    -0.001   0.0\n",
       " -0.0     0.0     0.0    -0.001  -0.004     -0.0    -0.006  -0.0    -0.0\n",
       " -0.0    -0.0     0.0     0.007  -0.003     -0.0     0.009   0.0     0.018\n",
       "  0.004  -0.0    -0.0     0.031  -0.014      0.0    -0.011  -0.0     0.024\n",
       " -0.003   0.0     0.0    -0.001   0.009  …  -0.0    -0.0    -0.0     0.011\n",
       "  0.0     0.04   -0.13   -0.0    -0.0        1.0    -0.0     0.017   0.0\n",
       "  0.003   0.0     0.0     0.026   0.003     -0.0     1.0     0.0     0.008\n",
       " -0.0    -0.005   0.007  -0.0     0.0        0.017   0.0     1.0    -0.0\n",
       " -0.0     0.0    -0.0     0.057   0.021      0.0     0.008  -0.0     1.0"
      ]
     },
     "metadata": {},
     "output_type": "display_data"
    },
    {
     "data": {
      "text/plain": [
       "40×40 Matrix{Float64}:\n",
       "  1.0     0.0    -0.0     0.0    -0.001  …  -0.0    -0.003   0.0     0.0\n",
       "  0.0     1.005  -0.006  -0.0     0.0       -0.045  -0.0     0.006   0.0\n",
       " -0.0    -0.006   1.024  -0.0    -0.0        0.134   0.0    -0.007  -0.0\n",
       "  0.0    -0.0    -0.0     1.006  -0.014      0.0    -0.027   0.0    -0.054\n",
       " -0.001   0.0    -0.0    -0.014   1.004      0.0    -0.003   0.0    -0.019\n",
       " -0.001   0.0    -0.0    -0.002  -0.001  …  -0.0     0.022  -0.0     0.024\n",
       "  0.0    -0.0    -0.001   0.0    -0.0       -0.009  -0.0    -0.071   0.0\n",
       " -0.0    -0.0     0.0     0.002  -0.003      0.0    -0.002  -0.0    -0.004\n",
       "  0.003  -0.0     0.0     0.0    -0.007      0.0    -0.01   -0.0    -0.03\n",
       "  0.0     0.001   0.001   0.0     0.0        0.002  -0.0    -0.01    0.0\n",
       "  0.003   0.0    -0.0    -0.006  -0.022  …  -0.0     0.016   0.0    -0.024\n",
       " -0.0    -0.025   0.014   0.0    -0.0       -0.017   0.0    -0.043  -0.0\n",
       " -0.0     0.0    -0.0     0.0     0.0       -0.0     0.002   0.0    -0.012\n",
       "  ⋮                                      ⋱                          \n",
       "  0.0     0.023  -0.069   0.0    -0.0       -0.035  -0.0    -0.035   0.0\n",
       "  0.0     0.0    -0.0     0.001  -0.001     -0.0    -0.002  -0.0     0.032\n",
       "  0.002  -0.0     0.0    -0.014  -0.023  …   0.0     0.018   0.0    -0.06\n",
       " -0.0     0.001  -0.0     0.0    -0.0       -0.011   0.0    -0.0    -0.0\n",
       "  0.0    -0.0     0.0     0.0     0.004      0.0     0.006   0.0    -0.0\n",
       "  0.001  -0.0     0.0    -0.006   0.003      0.0    -0.009  -0.0    -0.018\n",
       " -0.004  -0.0     0.0    -0.031   0.016      0.0     0.012   0.0    -0.025\n",
       "  0.003  -0.0     0.0     0.002  -0.01   …   0.0     0.0     0.0    -0.011\n",
       " -0.0    -0.045   0.134   0.0     0.0        1.029   0.0    -0.014  -0.0\n",
       " -0.003  -0.0     0.0    -0.027  -0.003      0.0     1.003  -0.0    -0.007\n",
       "  0.0     0.006  -0.007   0.0     0.0       -0.014  -0.0     1.011  -0.0\n",
       "  0.0     0.0    -0.0    -0.054  -0.019     -0.0    -0.007  -0.0     1.015"
      ]
     },
     "metadata": {},
     "output_type": "display_data"
    }
   ],
   "source": [
    "subspace1 = GenSubspace(chemical_data, 40, psi_maxdim=3, sweep_num=10, sweep_noise=(1e-6,1e-8,0.0), thresh=\"inversion\");\n",
    "\n",
    "subspace1.ord_list = [collect(1:subspace1.chem_data.N_spt) for i=1:subspace1.mparams.M]\n",
    "\n",
    "GenStates!(subspace1, ovlp_opt=true, weight=10.0, verbose=true)\n",
    "\n",
    "GenSubspaceMats!(subspace1, verbose=true)\n",
    "\n",
    "display(round.(subspace1.S_mat,digits=3))\n",
    "\n",
    "display(round.(inv(subspace1.S_mat),digits=3))"
   ]
  },
  {
   "cell_type": "code",
   "execution_count": 73,
   "id": "35df1a67-1f76-40a8-9a08-0520efc5009a",
   "metadata": {},
   "outputs": [
    {
     "name": "stdout",
     "output_type": "stream",
     "text": [
      "[1, 7, 4, 6, 2, 3, 5]\n",
      "Generating states:\n",
      "Progress: [1/1] \n",
      "Done!\n"
     ]
    }
   ],
   "source": [
    "subspace2 = GenSubspace(chemical_data, 1, psi_maxdim=3, sweep_num=4, sweep_noise=(1e1), thresh=\"inversion\", sites=subspace1.sites);\n",
    "\n",
    "subspace2.ord_list = [randperm(subspace2.chem_data.N_spt)]\n",
    "\n",
    "println(subspace2.ord_list[1])\n",
    "\n",
    "GenStates!(subspace2, verbose=true);"
   ]
  },
  {
   "cell_type": "code",
   "execution_count": 74,
   "id": "6ec128dd-73e6-4af3-92a1-d117055c09a9",
   "metadata": {},
   "outputs": [
    {
     "name": "stdout",
     "output_type": "stream",
     "text": [
      "0.9878954600446405\n"
     ]
    }
   ],
   "source": [
    "ovlps=[]\n",
    "\n",
    "for j=1:subspace1.mparams.M\n",
    "    \n",
    "    perm_psi_j = Permute(\n",
    "        subspace1.psi_list[j],\n",
    "        subspace1.sites, \n",
    "        subspace1.ord_list[j], \n",
    "        subspace2.ord_list[1], \n",
    "        tol=1e-10, \n",
    "        maxdim=1000, \n",
    "        spinpair=false, \n",
    "        locdim=4\n",
    "    )\n",
    "    \n",
    "    #println(\"$(j)/$(subspace1.mparams.M)\")\n",
    "    \n",
    "    push!(ovlps, inner(perm_psi_j, subspace2.psi_list[1]))\n",
    "end\n",
    "\n",
    "S_inv = inv(subspace1.S_mat)\n",
    "\n",
    "total = 0.0\n",
    "\n",
    "for g1=1:subspace1.mparams.M, g2=1:subspace1.mparams.M\n",
    "    \n",
    "    total += ovlps[g1]*ovlps[g2]*S_inv[g1,g2]\n",
    "    \n",
    "end\n",
    "\n",
    "println(total)\n"
   ]
  },
  {
   "cell_type": "code",
   "execution_count": null,
   "id": "0fc208c9-e0c5-4f81-a740-15810978aa95",
   "metadata": {},
   "outputs": [],
   "source": []
  }
 ],
 "metadata": {
  "kernelspec": {
   "display_name": "Julia 1.7.3",
   "language": "julia",
   "name": "julia-1.7"
  },
  "language_info": {
   "file_extension": ".jl",
   "mimetype": "application/julia",
   "name": "julia",
   "version": "1.7.3"
  }
 },
 "nbformat": 4,
 "nbformat_minor": 5
}
