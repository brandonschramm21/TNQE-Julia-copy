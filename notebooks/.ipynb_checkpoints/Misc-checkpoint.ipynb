{
 "cells": [
  {
   "cell_type": "code",
   "execution_count": 1,
   "id": "572a756c-eb97-43f8-8a73-33378434a83e",
   "metadata": {},
   "outputs": [
    {
     "name": "stdout",
     "output_type": "stream",
     "text": [
      "3.10.9\n"
     ]
    }
   ],
   "source": [
    "# Import Subroutines:\n",
    "\n",
    "include(\"../subroutines/Subroutines.jl\");"
   ]
  },
  {
   "cell_type": "raw",
   "id": "577a3424-79f4-4024-8bcf-ccf4eb080f8f",
   "metadata": {
    "jupyter": {
     "source_hidden": true
    },
    "tags": []
   },
   "source": [
    "vec_list = [normalize!(randn(6)) for j=1:4]\n"
   ]
  },
  {
   "cell_type": "raw",
   "id": "6a501840-159d-48f9-9cba-cd1b19b6257e",
   "metadata": {
    "jupyter": {
     "source_hidden": true
    },
    "tags": []
   },
   "source": [
    "\n",
    "mat = ones((4,4))-Matrix(I,(4,4))"
   ]
  },
  {
   "cell_type": "raw",
   "id": "3739d9f9-c0aa-4876-9a89-5c973c326b4f",
   "metadata": {
    "jupyter": {
     "source_hidden": true
    },
    "tags": []
   },
   "source": [
    "println(cond(mat))"
   ]
  },
  {
   "cell_type": "raw",
   "id": "5f740540-0061-47b1-a4e7-7eea64aef023",
   "metadata": {
    "jupyter": {
     "source_hidden": true
    },
    "tags": []
   },
   "source": [
    "for m=2:20\n",
    "\n",
    "    mat = -ones((m,m))+Matrix(I,(m,m))\n",
    "    \n",
    "    #println(cond(mat))\n",
    "    \n",
    "    F = eigen(mat)\n",
    "    \n",
    "    display(F.values)\n",
    "    \n",
    "    display(F.vectors)\n",
    "end"
   ]
  },
  {
   "cell_type": "raw",
   "id": "8c8ec253-8891-499e-ba75-97a3cd808b0a",
   "metadata": {
    "tags": []
   },
   "source": [
    "using LinearAlgebra\n",
    "\n",
    "using SparseArrays\n",
    "\n",
    "I_4 =  sparse(Matrix(1.0I, 4, 4))\n",
    "\n",
    "I_2 = sparse(Matrix(1.0I, 2, 2))\n",
    "\n",
    "FSWAP_4 = sparse([\n",
    "        1 0 0 0;\n",
    "        0 0 1 0;\n",
    "        0 1 0 0;\n",
    "        0 0 0 -1\n",
    "        ])\n",
    "\n",
    "FSWAP_16 = kron(I_2,kron(FSWAP_4,I_2))*kron(FSWAP_4,FSWAP_4)*kron(I_2,kron(FSWAP_4,I_2))\n",
    "\n",
    "display(findnz(FSWAP_16))\n",
    "\n",
    "display(FSWAP_16)\n",
    "\n",
    "perm_vec = [1,3,2,4]\n",
    "\n",
    "dense_FSWAP = reshape(permutedims(reshape(Matrix(FSWAP_16), (4,4,4,4)), (1,3,2,4)), (16,16))\n",
    "\n",
    "\n",
    "F = svd(dense_FSWAP)\n",
    "\n",
    "display(F.S)\n",
    "display(F.V)\n",
    "\n",
    "\"\"\"\n",
    "display(FSWAP_16)\n",
    "\n",
    "display(findnz(FSWAP_16))\n",
    "\n",
    "N = 7\n",
    "\n",
    "init_tensor = I_4\n",
    "\n",
    "for p=1:N-1\n",
    "    init_tensor = kron(init_tensor, I_4)\n",
    "end\n",
    "\n",
    "display(init_tensor)\n",
    "\n",
    "dim_vec = Tuple([4 for p=1:(2*N)])\n",
    "\n",
    "dim_vec2 = Tuple([16 for p=1:N])\n",
    "\n",
    "p1 = collect(1:N)\n",
    "p2 = collect(N+1:2*N)\n",
    "\n",
    "perm_vec = [p1 p2]'[:]\n",
    "\n",
    "dense_tensor = reshape(Matrix(init_tensor), dim_vec);\n",
    "\n",
    "dense_tensor = permutedims(dense_tensor, Tuple(perm_vec));\n",
    "\n",
    "dense_tensor = reshape(dense_tensor, dim_vec2);\n",
    "\"\"\"\n"
   ]
  },
  {
   "cell_type": "raw",
   "id": "4895757f-45a6-4334-90fc-fa5fa0d58af0",
   "metadata": {
    "jupyter": {
     "source_hidden": true
    },
    "tags": []
   },
   "source": [
    "output = FastTT.FastTT(dense_tensor, N-1, 2^16, 1.0e-8);\n",
    "\n",
    "for p=1:N\n",
    "    display(size(output[p]))\n",
    "end"
   ]
  },
  {
   "cell_type": "raw",
   "id": "1eab1667-3c94-417d-b392-35dec820d228",
   "metadata": {},
   "source": [
    "N = 6\n",
    "\n",
    "ord1 = randperm(N)\n",
    "\n",
    "ord2 = randperm(N)\n",
    "\n",
    "sites = siteinds(\"Electron\", N, conserve_qns=true)\n",
    "\n",
    "mpo = FastPMPO(N, ord1, ord2, [false, false], sites, tol=1.0e-12);\n",
    "\n",
    "display(linkdims(mpo));"
   ]
  },
  {
   "cell_type": "raw",
   "id": "b5c8cf30-c936-4bcf-9515-186474287362",
   "metadata": {},
   "source": [
    "display(mpo[1].tensor)"
   ]
  },
  {
   "cell_type": "raw",
   "id": "c67add5b-43b8-456c-b73c-54b7d2f51fee",
   "metadata": {},
   "source": [
    "mps = randomMPS(sites, linkdims=16)\n",
    "\n",
    "display(inner(mpo, mps, mpo, mps))"
   ]
  },
  {
   "cell_type": "raw",
   "id": "fe1e916a-e4a1-48b6-a125-5dd7a1015e81",
   "metadata": {
    "jupyter": {
     "source_hidden": true
    },
    "tags": []
   },
   "source": [
    "using Profile\n",
    "using ProfileVega\n",
    "Profile.clear()\n",
    "\n",
    "output = FastTT.BubbleSort2TT(N, swap_inds, [false,false], N-1, 2^16, 1.0e-8)\n",
    "\n",
    "for p=1:N\n",
    "    display(size(output[p]))\n",
    "end\n",
    "\n",
    "#ProfileVega.view()"
   ]
  },
  {
   "cell_type": "raw",
   "id": "0efcc896-ecf0-48f5-a9f1-84b2e6ef12ff",
   "metadata": {
    "jupyter": {
     "source_hidden": true
    },
    "tags": []
   },
   "source": [
    "mpo_vec = []\n",
    "\n",
    "for p=1:N\n",
    "    dtup = size(output[p])\n",
    "    \n",
    "    # Drop numerical zeros:\n",
    "    array_p = output[p]\n",
    "    array_p[abs.(array_p) .< 1e-12] .= 0.0\n",
    "    \n",
    "    if p==1\n",
    "        array_p = reshape(array_p, (dtup[1], 4, 4, dtup[3]))\n",
    "    elseif p==N\n",
    "        array_p = reshape(array_p, (dtup[1], 4, 4, dtup[3]))\n",
    "    else\n",
    "        array_p = reshape(array_p, (dtup[1], 4, 4, dtup[3]))\n",
    "    end\n",
    "    \n",
    "    push!(mpo_vec, array_p)\n",
    "    \n",
    "end\n",
    "\n",
    "#display(output2[abs.(output2).>1.0e-8])"
   ]
  },
  {
   "cell_type": "raw",
   "id": "ec9d1e99-7afe-4e53-b73e-17aaa8178296",
   "metadata": {
    "jupyter": {
     "source_hidden": true
    },
    "tags": []
   },
   "source": [
    "using ITensors\n",
    "using Profile\n",
    "using ProfileVega\n",
    "Profile.clear()\n",
    "\n",
    "sites = siteinds(4,N, sitetype=\"Electron\")\n",
    "\n",
    "mpo_sites = [[sites[p], sites[p]'] for p=1:N]\n",
    "\n",
    "dense_itensor = ITensor(dense_tensor, mpo_sites, tol=1e-8)\n",
    "\n",
    "#ProfileVega.view()"
   ]
  },
  {
   "cell_type": "raw",
   "id": "f01dd1ee-acd6-4330-8305-bc95f62c515d",
   "metadata": {
    "jupyter": {
     "source_hidden": true
    },
    "tags": []
   },
   "source": [
    "mpo = MPO(dense_tensor, mpo_sites, cutoff=1e-12, alg=\"qr_iteration\")\n",
    "\n",
    "display(mpo)"
   ]
  },
  {
   "cell_type": "raw",
   "id": "86401d11-f851-4660-a70a-0d9d1d0fecde",
   "metadata": {
    "jupyter": {
     "source_hidden": true
    },
    "tags": []
   },
   "source": [
    "FastTT.testfunc()\n",
    "\n"
   ]
  },
  {
   "cell_type": "raw",
   "id": "3e99ad6c-48a5-4aae-8eff-2e3ca56705b1",
   "metadata": {
    "jupyter": {
     "source_hidden": true
    },
    "tags": []
   },
   "source": [
    "#pyimport(\"sys\").\"stdout\" = PyTextIO(stdout)\n",
    "#pyimport(\"sys\").\"stderr\" = PyTextIO(stderr)\n",
    "\n",
    "using NumPyArrays\n",
    "\n",
    "# Get the tensor-train decomposed tensor list:\n",
    "tensor_list = FastTT.FastTT(dense_tensor)\n",
    "\n",
    "jl_tensor_list = [tensor_list[p] for p=1:end]\n",
    "\n",
    "# Construct an ITensor MPO:"
   ]
  },
  {
   "cell_type": "raw",
   "id": "9ca5c833-1d00-4d64-9414-0f9563bbcc49",
   "metadata": {},
   "source": [
    "display(linkdims(mpo))"
   ]
  },
  {
   "cell_type": "code",
   "execution_count": 6,
   "id": "05212d15-3f08-47bf-b5ed-8145ce7c36fb",
   "metadata": {},
   "outputs": [
    {
     "data": {
      "text/plain": [
       "PSWAP! (generic function with 1 method)"
      ]
     },
     "execution_count": 6,
     "metadata": {},
     "output_type": "execute_result"
    }
   ],
   "source": [
    "using LinearAlgebra\n",
    "\n",
    "using SparseArrays\n",
    "\n",
    "I_4 =  sparse(Matrix(1.0I, 4, 4))\n",
    "\n",
    "I_2 = sparse(Matrix(1.0I, 2, 2))\n",
    "\n",
    "FSWAP_4 = sparse([\n",
    "        1 0 0 0;\n",
    "        0 0 1 0;\n",
    "        0 1 0 0;\n",
    "        0 0 0 -1\n",
    "        ])\n",
    "\n",
    "FSWAP_16 = kron(I_2,kron(FSWAP_4,I_2))*kron(FSWAP_4,FSWAP_4)*kron(I_2,kron(FSWAP_4,I_2))\n",
    "\n",
    "dense_FSWAP = reshape(permutedims(reshape(Matrix(FSWAP_16), (4,4,4,4)), (1,3,2,4)), (16,16))\n",
    "\n",
    "F = svd(dense_FSWAP)\n",
    "\n",
    "lU = reshape(F.U, 4,4,16)\n",
    "rV = reshape(F.V, 16,4,4)\n",
    "\n",
    "qnvec = [\n",
    "    QN((\"Nf\",0,-1),(\"Sz\",0)) => 1,\n",
    "    QN((\"Nf\",1,-1),(\"Sz\",1)) => 1,\n",
    "    QN((\"Nf\",1,-1),(\"Sz\",-1)) => 1,\n",
    "    QN((\"Nf\",2,-1),(\"Sz\",0)) => 1,\n",
    "    #---------------------------#\n",
    "    QN((\"Nf\",-1,-1),(\"Sz\",-1)) => 1,\n",
    "    QN((\"Nf\",0,-1),(\"Sz\",0)) => 1,\n",
    "    QN((\"Nf\",0,-1),(\"Sz\",-2)) => 1,\n",
    "    QN((\"Nf\",1,-1),(\"Sz\",-1)) => 1,\n",
    "    #---------------------------#\n",
    "    QN((\"Nf\",-1,-1),(\"Sz\",1)) => 1,\n",
    "    QN((\"Nf\",0,-1),(\"Sz\",2)) => 1,\n",
    "    QN((\"Nf\",0,-1),(\"Sz\",0)) => 1,\n",
    "    QN((\"Nf\",1,-1),(\"Sz\",1)) => 1,\n",
    "    #---------------------------#\n",
    "    QN((\"Nf\",-2,-1),(\"Sz\",0)) => 1,\n",
    "    QN((\"Nf\",-1,-1),(\"Sz\",1)) => 1,\n",
    "    QN((\"Nf\",-1,-1),(\"Sz\",-1)) => 1,\n",
    "    QN((\"Nf\",0,-1),(\"Sz\",0)) => 1\n",
    "]\n",
    "\n",
    "function PSWAP!(mpo, p)\n",
    "    \n",
    "    psite = [siteinds(mpo, plev=0)[p][1], siteinds(mpo, plev=0)[p+1][1]]\n",
    "    \n",
    "    plink = commoninds(mpo[p], mpo[p+1])\n",
    "    \n",
    "    nlink = Index(qnvec, tags=\"nlink\")\n",
    "    \n",
    "    combo = combiner(plink, nlink, tags=\"link,l=$(p)\")\n",
    "    \n",
    "    lswap = ITensor(lU, dag(setprime(psite[1],2)), setprime(psite[1],1), nlink)\n",
    "    \n",
    "    rswap = ITensor(rV, dag(nlink), dag(setprime(psite[2],2)), setprime(psite[2],1))\n",
    "    \n",
    "    mpo[p] = mpo[p] * lswap * combo\n",
    "    \n",
    "    mpo[p+1] = mpo[p+1] * rswap * dag(combo)\n",
    "    \n",
    "    setprime!(mpo[p], 1, plev=2)\n",
    "    setprime!(mpo[p+1], 1, plev=2)\n",
    "    \n",
    "    #if maxlinkdim(mpo) > 1024\n",
    "    truncate!(mpo, tol=1.0e-12)\n",
    "    #end\n",
    "    \n",
    "end"
   ]
  },
  {
   "cell_type": "code",
   "execution_count": 26,
   "id": "cacacca5-52ff-4edd-be24-27503a53d199",
   "metadata": {},
   "outputs": [
    {
     "name": "stdout",
     "output_type": "stream",
     "text": [
      "1:  16\n",
      "2:  256\n",
      "3:  4096\n",
      "4:  256\n",
      "5:  256\n",
      "6:  256\n",
      "7:  256\n",
      "8:  256\n",
      "9:  256\n",
      "10:  256\n",
      "11:  256\n",
      "12:  256\n",
      "13:  256\n",
      "14:  16\n",
      "15:  4096\n"
     ]
    }
   ],
   "source": [
    "N = 7\n",
    "\n",
    "sites = siteinds(\"Electron\", N, conserve_qns=true)\n",
    "\n",
    "for pm=1:15\n",
    "    \n",
    "    ord1 = randperm(N)\n",
    "    ord2 = randperm(N)\n",
    "    ord3 = reverse(ord2)\n",
    "\n",
    "    swap_inds1 = BubbleSort(ord1, ord2)\n",
    "    swap_inds2 = BubbleSort(ord1, ord3)\n",
    "    \n",
    "    swap_inds = swap_inds1\n",
    "    \n",
    "    if length(swap_inds1) > length(swap_inds2)\n",
    "        swap_inds = swap_inds2\n",
    "    end\n",
    "\n",
    "    pmpo = MPO(sites, \"I\")\n",
    "\n",
    "    for p in swap_inds\n",
    "        PSWAP!(pmpo, p)\n",
    "    end\n",
    "\n",
    "    println(\"$(pm):  $(maxlinkdim(pmpo))\")#  $(maxlinkdim(pmpo2))\")\n",
    "end\n"
   ]
  },
  {
   "cell_type": "code",
   "execution_count": 69,
   "id": "2ca3ace0-bb3c-4c7f-8389-32d9e2d1470a",
   "metadata": {},
   "outputs": [
    {
     "data": {
      "text/plain": [
       "6-element Vector{Index{Vector{Pair{QN, Int64}}}}:\n",
       " (dim=4|id=199|\"Electron,Site,n=1\") <Out>\n",
       " 1: QN((\"Nf\",0,-1),(\"Sz\",0)) => 1\n",
       " 2: QN((\"Nf\",1,-1),(\"Sz\",1)) => 1\n",
       " 3: QN((\"Nf\",1,-1),(\"Sz\",-1)) => 1\n",
       " 4: QN((\"Nf\",2,-1),(\"Sz\",0)) => 1\n",
       " (dim=4|id=580|\"Electron,Site,n=2\") <Out>\n",
       " 1: QN((\"Nf\",0,-1),(\"Sz\",0)) => 1\n",
       " 2: QN((\"Nf\",1,-1),(\"Sz\",1)) => 1\n",
       " 3: QN((\"Nf\",1,-1),(\"Sz\",-1)) => 1\n",
       " 4: QN((\"Nf\",2,-1),(\"Sz\",0)) => 1\n",
       " (dim=4|id=704|\"Electron,Site,n=3\") <Out>\n",
       " 1: QN((\"Nf\",0,-1),(\"Sz\",0)) => 1\n",
       " 2: QN((\"Nf\",1,-1),(\"Sz\",1)) => 1\n",
       " 3: QN((\"Nf\",1,-1),(\"Sz\",-1)) => 1\n",
       " 4: QN((\"Nf\",2,-1),(\"Sz\",0)) => 1\n",
       " (dim=4|id=221|\"Electron,Site,n=4\") <Out>\n",
       " 1: QN((\"Nf\",0,-1),(\"Sz\",0)) => 1\n",
       " 2: QN((\"Nf\",1,-1),(\"Sz\",1)) => 1\n",
       " 3: QN((\"Nf\",1,-1),(\"Sz\",-1)) => 1\n",
       " 4: QN((\"Nf\",2,-1),(\"Sz\",0)) => 1\n",
       " (dim=4|id=657|\"Electron,Site,n=5\") <Out>\n",
       " 1: QN((\"Nf\",0,-1),(\"Sz\",0)) => 1\n",
       " 2: QN((\"Nf\",1,-1),(\"Sz\",1)) => 1\n",
       " 3: QN((\"Nf\",1,-1),(\"Sz\",-1)) => 1\n",
       " 4: QN((\"Nf\",2,-1),(\"Sz\",0)) => 1\n",
       " (dim=4|id=940|\"Electron,Site,n=6\") <Out>\n",
       " 1: QN((\"Nf\",0,-1),(\"Sz\",0)) => 1\n",
       " 2: QN((\"Nf\",1,-1),(\"Sz\",1)) => 1\n",
       " 3: QN((\"Nf\",1,-1),(\"Sz\",-1)) => 1\n",
       " 4: QN((\"Nf\",2,-1),(\"Sz\",0)) => 1"
      ]
     },
     "metadata": {},
     "output_type": "display_data"
    },
    {
     "data": {
      "text/plain": [
       "0.999999999999998"
      ]
     },
     "metadata": {},
     "output_type": "display_data"
    }
   ],
   "source": [
    "N_el = N\n",
    "\n",
    "hf_occ = [FillHF(i, N_el) for i=1:N]\n",
    "\n",
    "display(sites)\n",
    "\n",
    "mps = randomMPS(sites, hf_occ, linkdims=1)\n",
    "\n",
    "display(inner(pmpo, mps, pmpo, mps))"
   ]
  },
  {
   "cell_type": "code",
   "execution_count": 3,
   "id": "10b0ec70-ca4e-4619-884b-78a9de3d8f25",
   "metadata": {},
   "outputs": [
    {
     "data": {
      "text/plain": [
       "Dim 1: (dim=12|id=438) <In>\n",
       " 1: QN((\"Nf\",0,-1),(\"Sz\",0)) => 2\n",
       " 2: QN((\"Nf\",1,-1),(\"Sz\",1)) => 4\n",
       " 3: QN((\"Nf\",1,-1),(\"Sz\",-1)) => 4\n",
       " 4: QN((\"Nf\",2,-1),(\"Sz\",0)) => 2\n",
       "Dim 2: (dim=12|id=438) <Out>\n",
       " 1: QN((\"Nf\",0,-1),(\"Sz\",0)) => 2\n",
       " 2: QN((\"Nf\",1,-1),(\"Sz\",1)) => 4\n",
       " 3: QN((\"Nf\",1,-1),(\"Sz\",-1)) => 4\n",
       " 4: QN((\"Nf\",2,-1),(\"Sz\",0)) => 2\n",
       "NDTensors.BlockSparse{Float64, Vector{Float64}, 2}\n",
       " 12×12\n",
       "Block(1, 1)\n",
       " [1:2, 1:2]\n",
       "  0.3363038178004278  -0.03878759272206834\n",
       " -0.6703485093094975   1.3199793382695932\n",
       "\n",
       "Block(2, 2)\n",
       " [3:6, 3:6]\n",
       " -1.131507100452352   -0.03498938174720391  …  -1.5316777962040173\n",
       " -0.8213696802453272  -0.3164558512679578      -0.7009955052683198\n",
       " -2.1215415361732157  -0.0825689447510688       1.3575539042174383\n",
       "  0.5303446670723669  -0.426657016300825        0.7956619436602945\n",
       "\n",
       "Block(3, 3)\n",
       " [7:10, 7:10]\n",
       " -1.758873615055608   -1.1775003020580177  …   0.1784113038889417\n",
       " -0.6666408638151562  -1.4502196699460352     -0.3233555991573204\n",
       " -1.0226551370938994  -1.0436978975587716     -0.08194555129322331\n",
       "  1.4461837684122567  -0.4130273007877321     -2.309140786581258\n",
       "\n",
       "Block(4, 4)\n",
       " [11:12, 11:12]\n",
       " -0.07641569486069105   0.4602918640658981\n",
       "  1.0452705231728197   -0.4265187478984438"
      ]
     },
     "metadata": {},
     "output_type": "display_data"
    }
   ],
   "source": [
    "using ITensors\n",
    "\n",
    "qnvec = [QN((\"Nf\",0,-1),(\"Sz\",0)) => 2,\n",
    "    QN((\"Nf\",1,-1),(\"Sz\",1)) => 4,\n",
    "    QN((\"Nf\",1,-1),(\"Sz\",-1)) => 4,\n",
    "    QN((\"Nf\",2,-1),(\"Sz\",0)) => 2]\n",
    "\n",
    "ind = Index(qnvec)\n",
    "\n",
    "T = randomITensor(dag(ind), ind)\n",
    "\n",
    "display(T.tensor)\n",
    "\n",
    "Q, R = qr(T,(dag(ind),ind))"
   ]
  },
  {
   "cell_type": "markdown",
   "id": "af9500df-9816-4a20-a651-0781f7a0f777",
   "metadata": {},
   "source": [
    "# "
   ]
  }
 ],
 "metadata": {
  "kernelspec": {
   "display_name": "Julia 1.7.3",
   "language": "julia",
   "name": "julia-1.7"
  },
  "language_info": {
   "file_extension": ".jl",
   "mimetype": "application/julia",
   "name": "julia",
   "version": "1.7.3"
  }
 },
 "nbformat": 4,
 "nbformat_minor": 5
}
