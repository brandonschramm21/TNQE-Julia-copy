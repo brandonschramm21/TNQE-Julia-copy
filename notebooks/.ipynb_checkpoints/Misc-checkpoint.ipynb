{
 "cells": [
  {
   "cell_type": "code",
   "execution_count": 1,
   "id": "572a756c-eb97-43f8-8a73-33378434a83e",
   "metadata": {},
   "outputs": [
    {
     "name": "stdout",
     "output_type": "stream",
     "text": [
      "3.10.9\n"
     ]
    }
   ],
   "source": [
    "# Import Subroutines:\n",
    "\n",
    "include(\"../subroutines/Subroutines.jl\");"
   ]
  },
  {
   "cell_type": "code",
   "execution_count": 10,
   "id": "bf6f3445-13ba-44a0-9140-76fe685a7e43",
   "metadata": {},
   "outputs": [
    {
     "name": "stdout",
     "output_type": "stream",
     "text": [
      "Molecule name: h6_1.25A\n",
      "Basis set: sto-3g\n",
      "Molecular geometry: ../configs/xyz_files/h6_octahedron/1.25.xyz\n",
      "RHF energy: -2.4237741486662063\n",
      "FCI energy: -2.7999018858828384\n"
     ]
    }
   ],
   "source": [
    "# Load the chemical data into julia as an array of chemical data structs:\n",
    "# (one struct obtained for each molecular geometry as set up in the config file)\n",
    "\n",
    "cdata_list = ReadIn(\"../datasets/pyscf_data/h6_1.25A_sto-3g_052323%1850.hdf5\");\n",
    "chemical_data = cdata_list[1]\n",
    "PrintChemData(chemical_data)"
   ]
  },
  {
   "cell_type": "code",
   "execution_count": null,
   "id": "831cf7dc-16b7-4547-96db-7f9ad32ee645",
   "metadata": {},
   "outputs": [],
   "source": [
    "dmrg0 = GenSubspace(chemical_data, 1, psi_maxdim=8, thresh=\"projection\", eps=1e-12, sweep_num=4, sweep_noise=(1e-2));\n",
    "\n",
    "tnqe0.ord_list = [randperm(chemical_data.N_spt)]\n",
    "\n",
    "GenHams!(tnqe0)\n",
    "GenStates!(tnqe0, randomize=true)#, ovlp_opt=false, verbose=true)#, ovlp_opt=true, weight=1.0, verbose=true)\n",
    "#nomps0.psi_list[end] = dmrg(nomps0.ham_list[end], nomps0.psi_list[end], nomps0.dflt_sweeps)[2]\n",
    "#nomps0.psi_list = reverse(nomps0.psi_list)\n",
    "GenPermOps!(tnqe0)\n",
    "GenSubspaceMats!(tnqe0)\n",
    "SolveGenEig!(tnqe0, verbose=true)"
   ]
  },
  {
   "cell_type": "code",
   "execution_count": 2,
   "id": "f3e854ee-a552-4115-b1fc-63c46e506a7c",
   "metadata": {},
   "outputs": [
    {
     "data": {
      "text/plain": [
       "ITensor ord=3 (dim=4|id=678) (dim=4|id=264) (dim=4|id=856)\n",
       "NDTensors.Dense{Float64, Vector{Float64}}"
      ]
     },
     "execution_count": 2,
     "metadata": {},
     "output_type": "execute_result"
    }
   ],
   "source": [
    "i,j,k = Index(4), Index(4), Index(4)\n",
    "\n",
    "T = randomITensor(i,j,k)"
   ]
  },
  {
   "cell_type": "code",
   "execution_count": 3,
   "id": "1128ebaa-d1c0-4df6-88d4-5f55fd0ee07f",
   "metadata": {},
   "outputs": [
    {
     "data": {
      "text/plain": [
       "64-element Vector{Any}:\n",
       " ITensor ord=3\n",
       "Dim 1: (dim=4|id=678)\n",
       "Dim 2: (dim=4|id=264)\n",
       "Dim 3: (dim=4|id=856)\n",
       "NDTensors.Dense{Float64, Vector{Float64}}\n",
       " 4×4×4\n",
       "[:, :, 1] =\n",
       " 1.0  0.0  0.0  0.0\n",
       " 0.0  0.0  0.0  0.0\n",
       " 0.0  0.0  0.0  0.0\n",
       " 0.0  0.0  0.0  0.0\n",
       "\n",
       "[:, :, 2] =\n",
       " 0.0  0.0  0.0  0.0\n",
       " 0.0  0.0  0.0  0.0\n",
       " 0.0  0.0  0.0  0.0\n",
       " 0.0  0.0  0.0  0.0\n",
       "\n",
       "[:, :, 3] =\n",
       " 0.0  0.0  0.0  0.0\n",
       " 0.0  0.0  0.0  0.0\n",
       " 0.0  0.0  0.0  0.0\n",
       " 0.0  0.0  0.0  0.0\n",
       "\n",
       "[:, :, 4] =\n",
       " 0.0  0.0  0.0  0.0\n",
       " 0.0  0.0  0.0  0.0\n",
       " 0.0  0.0  0.0  0.0\n",
       " 0.0  0.0  0.0  0.0\n",
       " ITensor ord=3\n",
       "Dim 1: (dim=4|id=678)\n",
       "Dim 2: (dim=4|id=264)\n",
       "Dim 3: (dim=4|id=856)\n",
       "NDTensors.Dense{Float64, Vector{Float64}}\n",
       " 4×4×4\n",
       "[:, :, 1] =\n",
       " 0.0  0.0  0.0  0.0\n",
       " 1.0  0.0  0.0  0.0\n",
       " 0.0  0.0  0.0  0.0\n",
       " 0.0  0.0  0.0  0.0\n",
       "\n",
       "[:, :, 2] =\n",
       " 0.0  0.0  0.0  0.0\n",
       " 0.0  0.0  0.0  0.0\n",
       " 0.0  0.0  0.0  0.0\n",
       " 0.0  0.0  0.0  0.0\n",
       "\n",
       "[:, :, 3] =\n",
       " 0.0  0.0  0.0  0.0\n",
       " 0.0  0.0  0.0  0.0\n",
       " 0.0  0.0  0.0  0.0\n",
       " 0.0  0.0  0.0  0.0\n",
       "\n",
       "[:, :, 4] =\n",
       " 0.0  0.0  0.0  0.0\n",
       " 0.0  0.0  0.0  0.0\n",
       " 0.0  0.0  0.0  0.0\n",
       " 0.0  0.0  0.0  0.0\n",
       " ITensor ord=3\n",
       "Dim 1: (dim=4|id=678)\n",
       "Dim 2: (dim=4|id=264)\n",
       "Dim 3: (dim=4|id=856)\n",
       "NDTensors.Dense{Float64, Vector{Float64}}\n",
       " 4×4×4\n",
       "[:, :, 1] =\n",
       " 0.0  0.0  0.0  0.0\n",
       " 0.0  0.0  0.0  0.0\n",
       " 1.0  0.0  0.0  0.0\n",
       " 0.0  0.0  0.0  0.0\n",
       "\n",
       "[:, :, 2] =\n",
       " 0.0  0.0  0.0  0.0\n",
       " 0.0  0.0  0.0  0.0\n",
       " 0.0  0.0  0.0  0.0\n",
       " 0.0  0.0  0.0  0.0\n",
       "\n",
       "[:, :, 3] =\n",
       " 0.0  0.0  0.0  0.0\n",
       " 0.0  0.0  0.0  0.0\n",
       " 0.0  0.0  0.0  0.0\n",
       " 0.0  0.0  0.0  0.0\n",
       "\n",
       "[:, :, 4] =\n",
       " 0.0  0.0  0.0  0.0\n",
       " 0.0  0.0  0.0  0.0\n",
       " 0.0  0.0  0.0  0.0\n",
       " 0.0  0.0  0.0  0.0\n",
       " ITensor ord=3\n",
       "Dim 1: (dim=4|id=678)\n",
       "Dim 2: (dim=4|id=264)\n",
       "Dim 3: (dim=4|id=856)\n",
       "NDTensors.Dense{Float64, Vector{Float64}}\n",
       " 4×4×4\n",
       "[:, :, 1] =\n",
       " 0.0  0.0  0.0  0.0\n",
       " 0.0  0.0  0.0  0.0\n",
       " 0.0  0.0  0.0  0.0\n",
       " 1.0  0.0  0.0  0.0\n",
       "\n",
       "[:, :, 2] =\n",
       " 0.0  0.0  0.0  0.0\n",
       " 0.0  0.0  0.0  0.0\n",
       " 0.0  0.0  0.0  0.0\n",
       " 0.0  0.0  0.0  0.0\n",
       "\n",
       "[:, :, 3] =\n",
       " 0.0  0.0  0.0  0.0\n",
       " 0.0  0.0  0.0  0.0\n",
       " 0.0  0.0  0.0  0.0\n",
       " 0.0  0.0  0.0  0.0\n",
       "\n",
       "[:, :, 4] =\n",
       " 0.0  0.0  0.0  0.0\n",
       " 0.0  0.0  0.0  0.0\n",
       " 0.0  0.0  0.0  0.0\n",
       " 0.0  0.0  0.0  0.0\n",
       " ITensor ord=3\n",
       "Dim 1: (dim=4|id=678)\n",
       "Dim 2: (dim=4|id=264)\n",
       "Dim 3: (dim=4|id=856)\n",
       "NDTensors.Dense{Float64, Vector{Float64}}\n",
       " 4×4×4\n",
       "[:, :, 1] =\n",
       " 0.0  1.0  0.0  0.0\n",
       " 0.0  0.0  0.0  0.0\n",
       " 0.0  0.0  0.0  0.0\n",
       " 0.0  0.0  0.0  0.0\n",
       "\n",
       "[:, :, 2] =\n",
       " 0.0  0.0  0.0  0.0\n",
       " 0.0  0.0  0.0  0.0\n",
       " 0.0  0.0  0.0  0.0\n",
       " 0.0  0.0  0.0  0.0\n",
       "\n",
       "[:, :, 3] =\n",
       " 0.0  0.0  0.0  0.0\n",
       " 0.0  0.0  0.0  0.0\n",
       " 0.0  0.0  0.0  0.0\n",
       " 0.0  0.0  0.0  0.0\n",
       "\n",
       "[:, :, 4] =\n",
       " 0.0  0.0  0.0  0.0\n",
       " 0.0  0.0  0.0  0.0\n",
       " 0.0  0.0  0.0  0.0\n",
       " 0.0  0.0  0.0  0.0\n",
       " ITensor ord=3\n",
       "Dim 1: (dim=4|id=678)\n",
       "Dim 2: (dim=4|id=264)\n",
       "Dim 3: (dim=4|id=856)\n",
       "NDTensors.Dense{Float64, Vector{Float64}}\n",
       " 4×4×4\n",
       "[:, :, 1] =\n",
       " 0.0  0.0  0.0  0.0\n",
       " 0.0  1.0  0.0  0.0\n",
       " 0.0  0.0  0.0  0.0\n",
       " 0.0  0.0  0.0  0.0\n",
       "\n",
       "[:, :, 2] =\n",
       " 0.0  0.0  0.0  0.0\n",
       " 0.0  0.0  0.0  0.0\n",
       " 0.0  0.0  0.0  0.0\n",
       " 0.0  0.0  0.0  0.0\n",
       "\n",
       "[:, :, 3] =\n",
       " 0.0  0.0  0.0  0.0\n",
       " 0.0  0.0  0.0  0.0\n",
       " 0.0  0.0  0.0  0.0\n",
       " 0.0  0.0  0.0  0.0\n",
       "\n",
       "[:, :, 4] =\n",
       " 0.0  0.0  0.0  0.0\n",
       " 0.0  0.0  0.0  0.0\n",
       " 0.0  0.0  0.0  0.0\n",
       " 0.0  0.0  0.0  0.0\n",
       " ITensor ord=3\n",
       "Dim 1: (dim=4|id=678)\n",
       "Dim 2: (dim=4|id=264)\n",
       "Dim 3: (dim=4|id=856)\n",
       "NDTensors.Dense{Float64, Vector{Float64}}\n",
       " 4×4×4\n",
       "[:, :, 1] =\n",
       " 0.0  0.0  0.0  0.0\n",
       " 0.0  0.0  0.0  0.0\n",
       " 0.0  1.0  0.0  0.0\n",
       " 0.0  0.0  0.0  0.0\n",
       "\n",
       "[:, :, 2] =\n",
       " 0.0  0.0  0.0  0.0\n",
       " 0.0  0.0  0.0  0.0\n",
       " 0.0  0.0  0.0  0.0\n",
       " 0.0  0.0  0.0  0.0\n",
       "\n",
       "[:, :, 3] =\n",
       " 0.0  0.0  0.0  0.0\n",
       " 0.0  0.0  0.0  0.0\n",
       " 0.0  0.0  0.0  0.0\n",
       " 0.0  0.0  0.0  0.0\n",
       "\n",
       "[:, :, 4] =\n",
       " 0.0  0.0  0.0  0.0\n",
       " 0.0  0.0  0.0  0.0\n",
       " 0.0  0.0  0.0  0.0\n",
       " 0.0  0.0  0.0  0.0\n",
       " ITensor ord=3\n",
       "Dim 1: (dim=4|id=678)\n",
       "Dim 2: (dim=4|id=264)\n",
       "Dim 3: (dim=4|id=856)\n",
       "NDTensors.Dense{Float64, Vector{Float64}}\n",
       " 4×4×4\n",
       "[:, :, 1] =\n",
       " 0.0  0.0  0.0  0.0\n",
       " 0.0  0.0  0.0  0.0\n",
       " 0.0  0.0  0.0  0.0\n",
       " 0.0  1.0  0.0  0.0\n",
       "\n",
       "[:, :, 2] =\n",
       " 0.0  0.0  0.0  0.0\n",
       " 0.0  0.0  0.0  0.0\n",
       " 0.0  0.0  0.0  0.0\n",
       " 0.0  0.0  0.0  0.0\n",
       "\n",
       "[:, :, 3] =\n",
       " 0.0  0.0  0.0  0.0\n",
       " 0.0  0.0  0.0  0.0\n",
       " 0.0  0.0  0.0  0.0\n",
       " 0.0  0.0  0.0  0.0\n",
       "\n",
       "[:, :, 4] =\n",
       " 0.0  0.0  0.0  0.0\n",
       " 0.0  0.0  0.0  0.0\n",
       " 0.0  0.0  0.0  0.0\n",
       " 0.0  0.0  0.0  0.0\n",
       " ITensor ord=3\n",
       "Dim 1: (dim=4|id=678)\n",
       "Dim 2: (dim=4|id=264)\n",
       "Dim 3: (dim=4|id=856)\n",
       "NDTensors.Dense{Float64, Vector{Float64}}\n",
       " 4×4×4\n",
       "[:, :, 1] =\n",
       " 0.0  0.0  1.0  0.0\n",
       " 0.0  0.0  0.0  0.0\n",
       " 0.0  0.0  0.0  0.0\n",
       " 0.0  0.0  0.0  0.0\n",
       "\n",
       "[:, :, 2] =\n",
       " 0.0  0.0  0.0  0.0\n",
       " 0.0  0.0  0.0  0.0\n",
       " 0.0  0.0  0.0  0.0\n",
       " 0.0  0.0  0.0  0.0\n",
       "\n",
       "[:, :, 3] =\n",
       " 0.0  0.0  0.0  0.0\n",
       " 0.0  0.0  0.0  0.0\n",
       " 0.0  0.0  0.0  0.0\n",
       " 0.0  0.0  0.0  0.0\n",
       "\n",
       "[:, :, 4] =\n",
       " 0.0  0.0  0.0  0.0\n",
       " 0.0  0.0  0.0  0.0\n",
       " 0.0  0.0  0.0  0.0\n",
       " 0.0  0.0  0.0  0.0\n",
       " ITensor ord=3\n",
       "Dim 1: (dim=4|id=678)\n",
       "Dim 2: (dim=4|id=264)\n",
       "Dim 3: (dim=4|id=856)\n",
       "NDTensors.Dense{Float64, Vector{Float64}}\n",
       " 4×4×4\n",
       "[:, :, 1] =\n",
       " 0.0  0.0  0.0  0.0\n",
       " 0.0  0.0  1.0  0.0\n",
       " 0.0  0.0  0.0  0.0\n",
       " 0.0  0.0  0.0  0.0\n",
       "\n",
       "[:, :, 2] =\n",
       " 0.0  0.0  0.0  0.0\n",
       " 0.0  0.0  0.0  0.0\n",
       " 0.0  0.0  0.0  0.0\n",
       " 0.0  0.0  0.0  0.0\n",
       "\n",
       "[:, :, 3] =\n",
       " 0.0  0.0  0.0  0.0\n",
       " 0.0  0.0  0.0  0.0\n",
       " 0.0  0.0  0.0  0.0\n",
       " 0.0  0.0  0.0  0.0\n",
       "\n",
       "[:, :, 4] =\n",
       " 0.0  0.0  0.0  0.0\n",
       " 0.0  0.0  0.0  0.0\n",
       " 0.0  0.0  0.0  0.0\n",
       " 0.0  0.0  0.0  0.0\n",
       " ITensor ord=3\n",
       "Dim 1: (dim=4|id=678)\n",
       "Dim 2: (dim=4|id=264)\n",
       "Dim 3: (dim=4|id=856)\n",
       "NDTensors.Dense{Float64, Vector{Float64}}\n",
       " 4×4×4\n",
       "[:, :, 1] =\n",
       " 0.0  0.0  0.0  0.0\n",
       " 0.0  0.0  0.0  0.0\n",
       " 0.0  0.0  1.0  0.0\n",
       " 0.0  0.0  0.0  0.0\n",
       "\n",
       "[:, :, 2] =\n",
       " 0.0  0.0  0.0  0.0\n",
       " 0.0  0.0  0.0  0.0\n",
       " 0.0  0.0  0.0  0.0\n",
       " 0.0  0.0  0.0  0.0\n",
       "\n",
       "[:, :, 3] =\n",
       " 0.0  0.0  0.0  0.0\n",
       " 0.0  0.0  0.0  0.0\n",
       " 0.0  0.0  0.0  0.0\n",
       " 0.0  0.0  0.0  0.0\n",
       "\n",
       "[:, :, 4] =\n",
       " 0.0  0.0  0.0  0.0\n",
       " 0.0  0.0  0.0  0.0\n",
       " 0.0  0.0  0.0  0.0\n",
       " 0.0  0.0  0.0  0.0\n",
       " ITensor ord=3\n",
       "Dim 1: (dim=4|id=678)\n",
       "Dim 2: (dim=4|id=264)\n",
       "Dim 3: (dim=4|id=856)\n",
       "NDTensors.Dense{Float64, Vector{Float64}}\n",
       " 4×4×4\n",
       "[:, :, 1] =\n",
       " 0.0  0.0  0.0  0.0\n",
       " 0.0  0.0  0.0  0.0\n",
       " 0.0  0.0  0.0  0.0\n",
       " 0.0  0.0  1.0  0.0\n",
       "\n",
       "[:, :, 2] =\n",
       " 0.0  0.0  0.0  0.0\n",
       " 0.0  0.0  0.0  0.0\n",
       " 0.0  0.0  0.0  0.0\n",
       " 0.0  0.0  0.0  0.0\n",
       "\n",
       "[:, :, 3] =\n",
       " 0.0  0.0  0.0  0.0\n",
       " 0.0  0.0  0.0  0.0\n",
       " 0.0  0.0  0.0  0.0\n",
       " 0.0  0.0  0.0  0.0\n",
       "\n",
       "[:, :, 4] =\n",
       " 0.0  0.0  0.0  0.0\n",
       " 0.0  0.0  0.0  0.0\n",
       " 0.0  0.0  0.0  0.0\n",
       " 0.0  0.0  0.0  0.0\n",
       " ITensor ord=3\n",
       "Dim 1: (dim=4|id=678)\n",
       "Dim 2: (dim=4|id=264)\n",
       "Dim 3: (dim=4|id=856)\n",
       "NDTensors.Dense{Float64, Vector{Float64}}\n",
       " 4×4×4\n",
       "[:, :, 1] =\n",
       " 0.0  0.0  0.0  1.0\n",
       " 0.0  0.0  0.0  0.0\n",
       " 0.0  0.0  0.0  0.0\n",
       " 0.0  0.0  0.0  0.0\n",
       "\n",
       "[:, :, 2] =\n",
       " 0.0  0.0  0.0  0.0\n",
       " 0.0  0.0  0.0  0.0\n",
       " 0.0  0.0  0.0  0.0\n",
       " 0.0  0.0  0.0  0.0\n",
       "\n",
       "[:, :, 3] =\n",
       " 0.0  0.0  0.0  0.0\n",
       " 0.0  0.0  0.0  0.0\n",
       " 0.0  0.0  0.0  0.0\n",
       " 0.0  0.0  0.0  0.0\n",
       "\n",
       "[:, :, 4] =\n",
       " 0.0  0.0  0.0  0.0\n",
       " 0.0  0.0  0.0  0.0\n",
       " 0.0  0.0  0.0  0.0\n",
       " 0.0  0.0  0.0  0.0\n",
       " ⋮\n",
       " ITensor ord=3\n",
       "Dim 1: (dim=4|id=678)\n",
       "Dim 2: (dim=4|id=264)\n",
       "Dim 3: (dim=4|id=856)\n",
       "NDTensors.Dense{Float64, Vector{Float64}}\n",
       " 4×4×4\n",
       "[:, :, 1] =\n",
       " 0.0  0.0  0.0  0.0\n",
       " 0.0  0.0  0.0  0.0\n",
       " 0.0  0.0  0.0  0.0\n",
       " 0.0  0.0  0.0  0.0\n",
       "\n",
       "[:, :, 2] =\n",
       " 0.0  0.0  0.0  0.0\n",
       " 0.0  0.0  0.0  0.0\n",
       " 0.0  0.0  0.0  0.0\n",
       " 0.0  0.0  0.0  0.0\n",
       "\n",
       "[:, :, 3] =\n",
       " 0.0  0.0  0.0  0.0\n",
       " 0.0  0.0  0.0  0.0\n",
       " 0.0  0.0  0.0  0.0\n",
       " 0.0  0.0  0.0  0.0\n",
       "\n",
       "[:, :, 4] =\n",
       " 0.0  1.0  0.0  0.0\n",
       " 0.0  0.0  0.0  0.0\n",
       " 0.0  0.0  0.0  0.0\n",
       " 0.0  0.0  0.0  0.0\n",
       " ITensor ord=3\n",
       "Dim 1: (dim=4|id=678)\n",
       "Dim 2: (dim=4|id=264)\n",
       "Dim 3: (dim=4|id=856)\n",
       "NDTensors.Dense{Float64, Vector{Float64}}\n",
       " 4×4×4\n",
       "[:, :, 1] =\n",
       " 0.0  0.0  0.0  0.0\n",
       " 0.0  0.0  0.0  0.0\n",
       " 0.0  0.0  0.0  0.0\n",
       " 0.0  0.0  0.0  0.0\n",
       "\n",
       "[:, :, 2] =\n",
       " 0.0  0.0  0.0  0.0\n",
       " 0.0  0.0  0.0  0.0\n",
       " 0.0  0.0  0.0  0.0\n",
       " 0.0  0.0  0.0  0.0\n",
       "\n",
       "[:, :, 3] =\n",
       " 0.0  0.0  0.0  0.0\n",
       " 0.0  0.0  0.0  0.0\n",
       " 0.0  0.0  0.0  0.0\n",
       " 0.0  0.0  0.0  0.0\n",
       "\n",
       "[:, :, 4] =\n",
       " 0.0  0.0  0.0  0.0\n",
       " 0.0  1.0  0.0  0.0\n",
       " 0.0  0.0  0.0  0.0\n",
       " 0.0  0.0  0.0  0.0\n",
       " ITensor ord=3\n",
       "Dim 1: (dim=4|id=678)\n",
       "Dim 2: (dim=4|id=264)\n",
       "Dim 3: (dim=4|id=856)\n",
       "NDTensors.Dense{Float64, Vector{Float64}}\n",
       " 4×4×4\n",
       "[:, :, 1] =\n",
       " 0.0  0.0  0.0  0.0\n",
       " 0.0  0.0  0.0  0.0\n",
       " 0.0  0.0  0.0  0.0\n",
       " 0.0  0.0  0.0  0.0\n",
       "\n",
       "[:, :, 2] =\n",
       " 0.0  0.0  0.0  0.0\n",
       " 0.0  0.0  0.0  0.0\n",
       " 0.0  0.0  0.0  0.0\n",
       " 0.0  0.0  0.0  0.0\n",
       "\n",
       "[:, :, 3] =\n",
       " 0.0  0.0  0.0  0.0\n",
       " 0.0  0.0  0.0  0.0\n",
       " 0.0  0.0  0.0  0.0\n",
       " 0.0  0.0  0.0  0.0\n",
       "\n",
       "[:, :, 4] =\n",
       " 0.0  0.0  0.0  0.0\n",
       " 0.0  0.0  0.0  0.0\n",
       " 0.0  1.0  0.0  0.0\n",
       " 0.0  0.0  0.0  0.0\n",
       " ITensor ord=3\n",
       "Dim 1: (dim=4|id=678)\n",
       "Dim 2: (dim=4|id=264)\n",
       "Dim 3: (dim=4|id=856)\n",
       "NDTensors.Dense{Float64, Vector{Float64}}\n",
       " 4×4×4\n",
       "[:, :, 1] =\n",
       " 0.0  0.0  0.0  0.0\n",
       " 0.0  0.0  0.0  0.0\n",
       " 0.0  0.0  0.0  0.0\n",
       " 0.0  0.0  0.0  0.0\n",
       "\n",
       "[:, :, 2] =\n",
       " 0.0  0.0  0.0  0.0\n",
       " 0.0  0.0  0.0  0.0\n",
       " 0.0  0.0  0.0  0.0\n",
       " 0.0  0.0  0.0  0.0\n",
       "\n",
       "[:, :, 3] =\n",
       " 0.0  0.0  0.0  0.0\n",
       " 0.0  0.0  0.0  0.0\n",
       " 0.0  0.0  0.0  0.0\n",
       " 0.0  0.0  0.0  0.0\n",
       "\n",
       "[:, :, 4] =\n",
       " 0.0  0.0  0.0  0.0\n",
       " 0.0  0.0  0.0  0.0\n",
       " 0.0  0.0  0.0  0.0\n",
       " 0.0  1.0  0.0  0.0\n",
       " ITensor ord=3\n",
       "Dim 1: (dim=4|id=678)\n",
       "Dim 2: (dim=4|id=264)\n",
       "Dim 3: (dim=4|id=856)\n",
       "NDTensors.Dense{Float64, Vector{Float64}}\n",
       " 4×4×4\n",
       "[:, :, 1] =\n",
       " 0.0  0.0  0.0  0.0\n",
       " 0.0  0.0  0.0  0.0\n",
       " 0.0  0.0  0.0  0.0\n",
       " 0.0  0.0  0.0  0.0\n",
       "\n",
       "[:, :, 2] =\n",
       " 0.0  0.0  0.0  0.0\n",
       " 0.0  0.0  0.0  0.0\n",
       " 0.0  0.0  0.0  0.0\n",
       " 0.0  0.0  0.0  0.0\n",
       "\n",
       "[:, :, 3] =\n",
       " 0.0  0.0  0.0  0.0\n",
       " 0.0  0.0  0.0  0.0\n",
       " 0.0  0.0  0.0  0.0\n",
       " 0.0  0.0  0.0  0.0\n",
       "\n",
       "[:, :, 4] =\n",
       " 0.0  0.0  1.0  0.0\n",
       " 0.0  0.0  0.0  0.0\n",
       " 0.0  0.0  0.0  0.0\n",
       " 0.0  0.0  0.0  0.0\n",
       " ITensor ord=3\n",
       "Dim 1: (dim=4|id=678)\n",
       "Dim 2: (dim=4|id=264)\n",
       "Dim 3: (dim=4|id=856)\n",
       "NDTensors.Dense{Float64, Vector{Float64}}\n",
       " 4×4×4\n",
       "[:, :, 1] =\n",
       " 0.0  0.0  0.0  0.0\n",
       " 0.0  0.0  0.0  0.0\n",
       " 0.0  0.0  0.0  0.0\n",
       " 0.0  0.0  0.0  0.0\n",
       "\n",
       "[:, :, 2] =\n",
       " 0.0  0.0  0.0  0.0\n",
       " 0.0  0.0  0.0  0.0\n",
       " 0.0  0.0  0.0  0.0\n",
       " 0.0  0.0  0.0  0.0\n",
       "\n",
       "[:, :, 3] =\n",
       " 0.0  0.0  0.0  0.0\n",
       " 0.0  0.0  0.0  0.0\n",
       " 0.0  0.0  0.0  0.0\n",
       " 0.0  0.0  0.0  0.0\n",
       "\n",
       "[:, :, 4] =\n",
       " 0.0  0.0  0.0  0.0\n",
       " 0.0  0.0  1.0  0.0\n",
       " 0.0  0.0  0.0  0.0\n",
       " 0.0  0.0  0.0  0.0\n",
       " ITensor ord=3\n",
       "Dim 1: (dim=4|id=678)\n",
       "Dim 2: (dim=4|id=264)\n",
       "Dim 3: (dim=4|id=856)\n",
       "NDTensors.Dense{Float64, Vector{Float64}}\n",
       " 4×4×4\n",
       "[:, :, 1] =\n",
       " 0.0  0.0  0.0  0.0\n",
       " 0.0  0.0  0.0  0.0\n",
       " 0.0  0.0  0.0  0.0\n",
       " 0.0  0.0  0.0  0.0\n",
       "\n",
       "[:, :, 2] =\n",
       " 0.0  0.0  0.0  0.0\n",
       " 0.0  0.0  0.0  0.0\n",
       " 0.0  0.0  0.0  0.0\n",
       " 0.0  0.0  0.0  0.0\n",
       "\n",
       "[:, :, 3] =\n",
       " 0.0  0.0  0.0  0.0\n",
       " 0.0  0.0  0.0  0.0\n",
       " 0.0  0.0  0.0  0.0\n",
       " 0.0  0.0  0.0  0.0\n",
       "\n",
       "[:, :, 4] =\n",
       " 0.0  0.0  0.0  0.0\n",
       " 0.0  0.0  0.0  0.0\n",
       " 0.0  0.0  1.0  0.0\n",
       " 0.0  0.0  0.0  0.0\n",
       " ITensor ord=3\n",
       "Dim 1: (dim=4|id=678)\n",
       "Dim 2: (dim=4|id=264)\n",
       "Dim 3: (dim=4|id=856)\n",
       "NDTensors.Dense{Float64, Vector{Float64}}\n",
       " 4×4×4\n",
       "[:, :, 1] =\n",
       " 0.0  0.0  0.0  0.0\n",
       " 0.0  0.0  0.0  0.0\n",
       " 0.0  0.0  0.0  0.0\n",
       " 0.0  0.0  0.0  0.0\n",
       "\n",
       "[:, :, 2] =\n",
       " 0.0  0.0  0.0  0.0\n",
       " 0.0  0.0  0.0  0.0\n",
       " 0.0  0.0  0.0  0.0\n",
       " 0.0  0.0  0.0  0.0\n",
       "\n",
       "[:, :, 3] =\n",
       " 0.0  0.0  0.0  0.0\n",
       " 0.0  0.0  0.0  0.0\n",
       " 0.0  0.0  0.0  0.0\n",
       " 0.0  0.0  0.0  0.0\n",
       "\n",
       "[:, :, 4] =\n",
       " 0.0  0.0  0.0  0.0\n",
       " 0.0  0.0  0.0  0.0\n",
       " 0.0  0.0  0.0  0.0\n",
       " 0.0  0.0  1.0  0.0\n",
       " ITensor ord=3\n",
       "Dim 1: (dim=4|id=678)\n",
       "Dim 2: (dim=4|id=264)\n",
       "Dim 3: (dim=4|id=856)\n",
       "NDTensors.Dense{Float64, Vector{Float64}}\n",
       " 4×4×4\n",
       "[:, :, 1] =\n",
       " 0.0  0.0  0.0  0.0\n",
       " 0.0  0.0  0.0  0.0\n",
       " 0.0  0.0  0.0  0.0\n",
       " 0.0  0.0  0.0  0.0\n",
       "\n",
       "[:, :, 2] =\n",
       " 0.0  0.0  0.0  0.0\n",
       " 0.0  0.0  0.0  0.0\n",
       " 0.0  0.0  0.0  0.0\n",
       " 0.0  0.0  0.0  0.0\n",
       "\n",
       "[:, :, 3] =\n",
       " 0.0  0.0  0.0  0.0\n",
       " 0.0  0.0  0.0  0.0\n",
       " 0.0  0.0  0.0  0.0\n",
       " 0.0  0.0  0.0  0.0\n",
       "\n",
       "[:, :, 4] =\n",
       " 0.0  0.0  0.0  1.0\n",
       " 0.0  0.0  0.0  0.0\n",
       " 0.0  0.0  0.0  0.0\n",
       " 0.0  0.0  0.0  0.0\n",
       " ITensor ord=3\n",
       "Dim 1: (dim=4|id=678)\n",
       "Dim 2: (dim=4|id=264)\n",
       "Dim 3: (dim=4|id=856)\n",
       "NDTensors.Dense{Float64, Vector{Float64}}\n",
       " 4×4×4\n",
       "[:, :, 1] =\n",
       " 0.0  0.0  0.0  0.0\n",
       " 0.0  0.0  0.0  0.0\n",
       " 0.0  0.0  0.0  0.0\n",
       " 0.0  0.0  0.0  0.0\n",
       "\n",
       "[:, :, 2] =\n",
       " 0.0  0.0  0.0  0.0\n",
       " 0.0  0.0  0.0  0.0\n",
       " 0.0  0.0  0.0  0.0\n",
       " 0.0  0.0  0.0  0.0\n",
       "\n",
       "[:, :, 3] =\n",
       " 0.0  0.0  0.0  0.0\n",
       " 0.0  0.0  0.0  0.0\n",
       " 0.0  0.0  0.0  0.0\n",
       " 0.0  0.0  0.0  0.0\n",
       "\n",
       "[:, :, 4] =\n",
       " 0.0  0.0  0.0  0.0\n",
       " 0.0  0.0  0.0  1.0\n",
       " 0.0  0.0  0.0  0.0\n",
       " 0.0  0.0  0.0  0.0\n",
       " ITensor ord=3\n",
       "Dim 1: (dim=4|id=678)\n",
       "Dim 2: (dim=4|id=264)\n",
       "Dim 3: (dim=4|id=856)\n",
       "NDTensors.Dense{Float64, Vector{Float64}}\n",
       " 4×4×4\n",
       "[:, :, 1] =\n",
       " 0.0  0.0  0.0  0.0\n",
       " 0.0  0.0  0.0  0.0\n",
       " 0.0  0.0  0.0  0.0\n",
       " 0.0  0.0  0.0  0.0\n",
       "\n",
       "[:, :, 2] =\n",
       " 0.0  0.0  0.0  0.0\n",
       " 0.0  0.0  0.0  0.0\n",
       " 0.0  0.0  0.0  0.0\n",
       " 0.0  0.0  0.0  0.0\n",
       "\n",
       "[:, :, 3] =\n",
       " 0.0  0.0  0.0  0.0\n",
       " 0.0  0.0  0.0  0.0\n",
       " 0.0  0.0  0.0  0.0\n",
       " 0.0  0.0  0.0  0.0\n",
       "\n",
       "[:, :, 4] =\n",
       " 0.0  0.0  0.0  0.0\n",
       " 0.0  0.0  0.0  0.0\n",
       " 0.0  0.0  0.0  1.0\n",
       " 0.0  0.0  0.0  0.0\n",
       " ITensor ord=3\n",
       "Dim 1: (dim=4|id=678)\n",
       "Dim 2: (dim=4|id=264)\n",
       "Dim 3: (dim=4|id=856)\n",
       "NDTensors.Dense{Float64, Vector{Float64}}\n",
       " 4×4×4\n",
       "[:, :, 1] =\n",
       " 0.0  0.0  0.0  0.0\n",
       " 0.0  0.0  0.0  0.0\n",
       " 0.0  0.0  0.0  0.0\n",
       " 0.0  0.0  0.0  0.0\n",
       "\n",
       "[:, :, 2] =\n",
       " 0.0  0.0  0.0  0.0\n",
       " 0.0  0.0  0.0  0.0\n",
       " 0.0  0.0  0.0  0.0\n",
       " 0.0  0.0  0.0  0.0\n",
       "\n",
       "[:, :, 3] =\n",
       " 0.0  0.0  0.0  0.0\n",
       " 0.0  0.0  0.0  0.0\n",
       " 0.0  0.0  0.0  0.0\n",
       " 0.0  0.0  0.0  0.0\n",
       "\n",
       "[:, :, 4] =\n",
       " 0.0  0.0  0.0  0.0\n",
       " 0.0  0.0  0.0  0.0\n",
       " 0.0  0.0  0.0  0.0\n",
       " 0.0  0.0  0.0  1.0"
      ]
     },
     "execution_count": 3,
     "metadata": {},
     "output_type": "execute_result"
    }
   ],
   "source": [
    "oht_list = OneHotTensors(T);"
   ]
  },
  {
   "cell_type": "code",
   "execution_count": 5,
   "id": "620f49a0-d05a-4b54-b2d6-5128e307ae7b",
   "metadata": {},
   "outputs": [
    {
     "data": {
      "text/plain": [
       "ITensor ord=4 (dim=64|id=964) (dim=4|id=678) (dim=4|id=264) (dim=4|id=856)\n",
       "NDTensors.Dense{Float64, Vector{Float64}}"
      ]
     },
     "execution_count": 5,
     "metadata": {},
     "output_type": "execute_result"
    }
   ],
   "source": [
    "C = OHTCompIndexTensor(T)"
   ]
  },
  {
   "cell_type": "code",
   "execution_count": 9,
   "id": "64d82179-c19b-4471-a208-daa8de87c886",
   "metadata": {},
   "outputs": [
    {
     "data": {
      "text/plain": [
       "64-element Vector{Float64}:\n",
       " 0.0\n",
       " 0.0\n",
       " 0.0\n",
       " 0.0\n",
       " 0.0\n",
       " 0.0\n",
       " 0.0\n",
       " 0.0\n",
       " 0.0\n",
       " 0.0\n",
       " 0.0\n",
       " 1.0\n",
       " 0.0\n",
       " ⋮\n",
       " 0.0\n",
       " 0.0\n",
       " 0.0\n",
       " 0.0\n",
       " 0.0\n",
       " 0.0\n",
       " 0.0\n",
       " 0.0\n",
       " 0.0\n",
       " 0.0\n",
       " 0.0\n",
       " 0.0"
      ]
     },
     "execution_count": 9,
     "metadata": {},
     "output_type": "execute_result"
    }
   ],
   "source": [
    "ct1 = C * oht_list[12]\n",
    "\n",
    "vec1 = Array(ct1, inds(ct1))"
   ]
  },
  {
   "cell_type": "code",
   "execution_count": 2,
   "id": "87d2c77a-068d-4303-a22b-689a5e7dae06",
   "metadata": {},
   "outputs": [
    {
     "data": {
      "text/plain": [
       "4-element Vector{Float64}:\n",
       " 0.0\n",
       " 0.0\n",
       " 0.0\n",
       " 0.0"
      ]
     },
     "execution_count": 2,
     "metadata": {},
     "output_type": "execute_result"
    }
   ],
   "source": [
    "t = zeros(4)"
   ]
  },
  {
   "cell_type": "code",
   "execution_count": 3,
   "id": "aebe3d79-4f1e-4a1a-8634-a98e54b6a54e",
   "metadata": {},
   "outputs": [
    {
     "data": {
      "text/plain": [
       "4-element Vector{Float64}:\n",
       " NaN\n",
       " NaN\n",
       " NaN\n",
       " NaN"
      ]
     },
     "execution_count": 3,
     "metadata": {},
     "output_type": "execute_result"
    }
   ],
   "source": [
    "normalize(t)"
   ]
  },
  {
   "cell_type": "code",
   "execution_count": 11,
   "id": "e9a11539-5a0c-4368-b924-215e078a11eb",
   "metadata": {},
   "outputs": [
    {
     "name": "stdout",
     "output_type": "stream",
     "text": [
      "4-x---------1\n",
      "  |          \n",
      "1-x-x-------6\n",
      "    |        \n",
      "5-x-x-----x-3\n",
      "  |       |  \n",
      "6-x-x---x-x-4\n",
      "    |   |    \n",
      "2---x-x-x---2\n",
      "      |      \n",
      "3-----x-----5\n"
     ]
    }
   ],
   "source": [
    "PrintFSWAPNetwork([4,1,5,6,2,3],[1,6,3,4,2,5])"
   ]
  },
  {
   "cell_type": "raw",
   "id": "577a3424-79f4-4024-8bcf-ccf4eb080f8f",
   "metadata": {
    "jupyter": {
     "source_hidden": true
    },
    "tags": []
   },
   "source": [
    "vec_list = [normalize!(randn(6)) for j=1:4]\n"
   ]
  },
  {
   "cell_type": "raw",
   "id": "6a501840-159d-48f9-9cba-cd1b19b6257e",
   "metadata": {
    "jupyter": {
     "source_hidden": true
    },
    "tags": []
   },
   "source": [
    "\n",
    "mat = ones((4,4))-Matrix(I,(4,4))"
   ]
  },
  {
   "cell_type": "raw",
   "id": "3739d9f9-c0aa-4876-9a89-5c973c326b4f",
   "metadata": {
    "jupyter": {
     "source_hidden": true
    },
    "tags": []
   },
   "source": [
    "println(cond(mat))"
   ]
  },
  {
   "cell_type": "raw",
   "id": "5f740540-0061-47b1-a4e7-7eea64aef023",
   "metadata": {
    "jupyter": {
     "source_hidden": true
    },
    "tags": []
   },
   "source": [
    "for m=2:20\n",
    "\n",
    "    mat = -ones((m,m))+Matrix(I,(m,m))\n",
    "    \n",
    "    #println(cond(mat))\n",
    "    \n",
    "    F = eigen(mat)\n",
    "    \n",
    "    display(F.values)\n",
    "    \n",
    "    display(F.vectors)\n",
    "end"
   ]
  },
  {
   "cell_type": "raw",
   "id": "8c8ec253-8891-499e-ba75-97a3cd808b0a",
   "metadata": {
    "tags": []
   },
   "source": [
    "using LinearAlgebra\n",
    "\n",
    "using SparseArrays\n",
    "\n",
    "I_4 =  sparse(Matrix(1.0I, 4, 4))\n",
    "\n",
    "I_2 = sparse(Matrix(1.0I, 2, 2))\n",
    "\n",
    "FSWAP_4 = sparse([\n",
    "        1 0 0 0;\n",
    "        0 0 1 0;\n",
    "        0 1 0 0;\n",
    "        0 0 0 -1\n",
    "        ])\n",
    "\n",
    "FSWAP_16 = kron(I_2,kron(FSWAP_4,I_2))*kron(FSWAP_4,FSWAP_4)*kron(I_2,kron(FSWAP_4,I_2))\n",
    "\n",
    "display(findnz(FSWAP_16))\n",
    "\n",
    "display(FSWAP_16)\n",
    "\n",
    "perm_vec = [1,3,2,4]\n",
    "\n",
    "dense_FSWAP = reshape(permutedims(reshape(Matrix(FSWAP_16), (4,4,4,4)), (1,3,2,4)), (16,16))\n",
    "\n",
    "\n",
    "F = svd(dense_FSWAP)\n",
    "\n",
    "display(F.S)\n",
    "display(F.V)\n",
    "\n",
    "\"\"\"\n",
    "display(FSWAP_16)\n",
    "\n",
    "display(findnz(FSWAP_16))\n",
    "\n",
    "N = 7\n",
    "\n",
    "init_tensor = I_4\n",
    "\n",
    "for p=1:N-1\n",
    "    init_tensor = kron(init_tensor, I_4)\n",
    "end\n",
    "\n",
    "display(init_tensor)\n",
    "\n",
    "dim_vec = Tuple([4 for p=1:(2*N)])\n",
    "\n",
    "dim_vec2 = Tuple([16 for p=1:N])\n",
    "\n",
    "p1 = collect(1:N)\n",
    "p2 = collect(N+1:2*N)\n",
    "\n",
    "perm_vec = [p1 p2]'[:]\n",
    "\n",
    "dense_tensor = reshape(Matrix(init_tensor), dim_vec);\n",
    "\n",
    "dense_tensor = permutedims(dense_tensor, Tuple(perm_vec));\n",
    "\n",
    "dense_tensor = reshape(dense_tensor, dim_vec2);\n",
    "\"\"\"\n"
   ]
  },
  {
   "cell_type": "raw",
   "id": "4895757f-45a6-4334-90fc-fa5fa0d58af0",
   "metadata": {
    "jupyter": {
     "source_hidden": true
    },
    "tags": []
   },
   "source": [
    "output = FastTT.FastTT(dense_tensor, N-1, 2^16, 1.0e-8);\n",
    "\n",
    "for p=1:N\n",
    "    display(size(output[p]))\n",
    "end"
   ]
  },
  {
   "cell_type": "raw",
   "id": "1eab1667-3c94-417d-b392-35dec820d228",
   "metadata": {},
   "source": [
    "N = 6\n",
    "\n",
    "ord1 = randperm(N)\n",
    "\n",
    "ord2 = randperm(N)\n",
    "\n",
    "sites = siteinds(\"Electron\", N, conserve_qns=true)\n",
    "\n",
    "mpo = FastPMPO(N, ord1, ord2, [false, false], sites, tol=1.0e-12);\n",
    "\n",
    "display(linkdims(mpo));"
   ]
  },
  {
   "cell_type": "raw",
   "id": "b5c8cf30-c936-4bcf-9515-186474287362",
   "metadata": {},
   "source": [
    "display(mpo[1].tensor)"
   ]
  },
  {
   "cell_type": "raw",
   "id": "c67add5b-43b8-456c-b73c-54b7d2f51fee",
   "metadata": {},
   "source": [
    "mps = randomMPS(sites, linkdims=16)\n",
    "\n",
    "display(inner(mpo, mps, mpo, mps))"
   ]
  },
  {
   "cell_type": "raw",
   "id": "fe1e916a-e4a1-48b6-a125-5dd7a1015e81",
   "metadata": {
    "jupyter": {
     "source_hidden": true
    },
    "tags": []
   },
   "source": [
    "using Profile\n",
    "using ProfileVega\n",
    "Profile.clear()\n",
    "\n",
    "output = FastTT.BubbleSort2TT(N, swap_inds, [false,false], N-1, 2^16, 1.0e-8)\n",
    "\n",
    "for p=1:N\n",
    "    display(size(output[p]))\n",
    "end\n",
    "\n",
    "#ProfileVega.view()"
   ]
  },
  {
   "cell_type": "raw",
   "id": "0efcc896-ecf0-48f5-a9f1-84b2e6ef12ff",
   "metadata": {
    "jupyter": {
     "source_hidden": true
    },
    "tags": []
   },
   "source": [
    "mpo_vec = []\n",
    "\n",
    "for p=1:N\n",
    "    dtup = size(output[p])\n",
    "    \n",
    "    # Drop numerical zeros:\n",
    "    array_p = output[p]\n",
    "    array_p[abs.(array_p) .< 1e-12] .= 0.0\n",
    "    \n",
    "    if p==1\n",
    "        array_p = reshape(array_p, (dtup[1], 4, 4, dtup[3]))\n",
    "    elseif p==N\n",
    "        array_p = reshape(array_p, (dtup[1], 4, 4, dtup[3]))\n",
    "    else\n",
    "        array_p = reshape(array_p, (dtup[1], 4, 4, dtup[3]))\n",
    "    end\n",
    "    \n",
    "    push!(mpo_vec, array_p)\n",
    "    \n",
    "end\n",
    "\n",
    "#display(output2[abs.(output2).>1.0e-8])"
   ]
  },
  {
   "cell_type": "raw",
   "id": "ec9d1e99-7afe-4e53-b73e-17aaa8178296",
   "metadata": {
    "jupyter": {
     "source_hidden": true
    },
    "tags": []
   },
   "source": [
    "using ITensors\n",
    "using Profile\n",
    "using ProfileVega\n",
    "Profile.clear()\n",
    "\n",
    "sites = siteinds(4,N, sitetype=\"Electron\")\n",
    "\n",
    "mpo_sites = [[sites[p], sites[p]'] for p=1:N]\n",
    "\n",
    "dense_itensor = ITensor(dense_tensor, mpo_sites, tol=1e-8)\n",
    "\n",
    "#ProfileVega.view()"
   ]
  },
  {
   "cell_type": "raw",
   "id": "f01dd1ee-acd6-4330-8305-bc95f62c515d",
   "metadata": {
    "jupyter": {
     "source_hidden": true
    },
    "tags": []
   },
   "source": [
    "mpo = MPO(dense_tensor, mpo_sites, cutoff=1e-12, alg=\"qr_iteration\")\n",
    "\n",
    "display(mpo)"
   ]
  },
  {
   "cell_type": "raw",
   "id": "86401d11-f851-4660-a70a-0d9d1d0fecde",
   "metadata": {
    "jupyter": {
     "source_hidden": true
    },
    "tags": []
   },
   "source": [
    "FastTT.testfunc()\n",
    "\n"
   ]
  },
  {
   "cell_type": "raw",
   "id": "3e99ad6c-48a5-4aae-8eff-2e3ca56705b1",
   "metadata": {
    "jupyter": {
     "source_hidden": true
    },
    "tags": []
   },
   "source": [
    "#pyimport(\"sys\").\"stdout\" = PyTextIO(stdout)\n",
    "#pyimport(\"sys\").\"stderr\" = PyTextIO(stderr)\n",
    "\n",
    "using NumPyArrays\n",
    "\n",
    "# Get the tensor-train decomposed tensor list:\n",
    "tensor_list = FastTT.FastTT(dense_tensor)\n",
    "\n",
    "jl_tensor_list = [tensor_list[p] for p=1:end]\n",
    "\n",
    "# Construct an ITensor MPO:"
   ]
  },
  {
   "cell_type": "raw",
   "id": "9ca5c833-1d00-4d64-9414-0f9563bbcc49",
   "metadata": {},
   "source": [
    "display(linkdims(mpo))"
   ]
  },
  {
   "cell_type": "code",
   "execution_count": 2,
   "id": "05212d15-3f08-47bf-b5ed-8145ce7c36fb",
   "metadata": {},
   "outputs": [
    {
     "data": {
      "text/plain": [
       "PSWAP! (generic function with 2 methods)"
      ]
     },
     "execution_count": 2,
     "metadata": {},
     "output_type": "execute_result"
    }
   ],
   "source": [
    "using LinearAlgebra\n",
    "\n",
    "using SparseArrays\n",
    "\n",
    "I_4 =  sparse(Matrix(1.0I, 4, 4))\n",
    "\n",
    "I_2 = sparse(Matrix(1.0I, 2, 2))\n",
    "\n",
    "FSWAP_4 = sparse([\n",
    "        1 0 0 0;\n",
    "        0 0 1 0;\n",
    "        0 1 0 0;\n",
    "        0 0 0 -1\n",
    "        ])\n",
    "\n",
    "FSWAP_16 = kron(I_2,kron(FSWAP_4,I_2))*kron(FSWAP_4,FSWAP_4)*kron(I_2,kron(FSWAP_4,I_2))\n",
    "\n",
    "dense_FSWAP = reshape(permutedims(reshape(Matrix(FSWAP_16), (4,4,4,4)), (1,3,2,4)), (16,16))\n",
    "\n",
    "F = svd(dense_FSWAP)\n",
    "\n",
    "lU = reshape(F.U, 4,4,16)\n",
    "rV = reshape(F.V, 16,4,4)\n",
    "\n",
    "qnvec = [\n",
    "    QN((\"Nf\",0,-1),(\"Sz\",0)) => 1,\n",
    "    QN((\"Nf\",1,-1),(\"Sz\",1)) => 1,\n",
    "    QN((\"Nf\",1,-1),(\"Sz\",-1)) => 1,\n",
    "    QN((\"Nf\",2,-1),(\"Sz\",0)) => 1,\n",
    "    #---------------------------#\n",
    "    QN((\"Nf\",-1,-1),(\"Sz\",-1)) => 1,\n",
    "    QN((\"Nf\",0,-1),(\"Sz\",0)) => 1,\n",
    "    QN((\"Nf\",0,-1),(\"Sz\",-2)) => 1,\n",
    "    QN((\"Nf\",1,-1),(\"Sz\",-1)) => 1,\n",
    "    #---------------------------#\n",
    "    QN((\"Nf\",-1,-1),(\"Sz\",1)) => 1,\n",
    "    QN((\"Nf\",0,-1),(\"Sz\",2)) => 1,\n",
    "    QN((\"Nf\",0,-1),(\"Sz\",0)) => 1,\n",
    "    QN((\"Nf\",1,-1),(\"Sz\",1)) => 1,\n",
    "    #---------------------------#\n",
    "    QN((\"Nf\",-2,-1),(\"Sz\",0)) => 1,\n",
    "    QN((\"Nf\",-1,-1),(\"Sz\",1)) => 1,\n",
    "    QN((\"Nf\",-1,-1),(\"Sz\",-1)) => 1,\n",
    "    QN((\"Nf\",0,-1),(\"Sz\",0)) => 1\n",
    "]\n",
    "\n",
    "function PSWAP!(mpo, p)\n",
    "    \n",
    "    psite = [siteinds(mpo, plev=0)[p][1], siteinds(mpo, plev=0)[p+1][1]]\n",
    "    \n",
    "    plink = commoninds(mpo[p], mpo[p+1])\n",
    "    \n",
    "    nlink = Index(qnvec, tags=\"nlink\")\n",
    "    \n",
    "    combo = combiner(plink, nlink, tags=\"link,l=$(p)\")\n",
    "    \n",
    "    lswap = ITensor(lU, dag(setprime(psite[1],2)), setprime(psite[1],1), nlink)\n",
    "    \n",
    "    rswap = ITensor(rV, dag(nlink), dag(setprime(psite[2],2)), setprime(psite[2],1))\n",
    "    \n",
    "    mpo[p] = mpo[p] * lswap * combo\n",
    "    \n",
    "    mpo[p+1] = mpo[p+1] * rswap * dag(combo)\n",
    "    \n",
    "    setprime!(mpo[p], 1, plev=2)\n",
    "    setprime!(mpo[p+1], 1, plev=2)\n",
    "    \n",
    "    #if maxlinkdim(mpo) > 1024\n",
    "    truncate!(mpo, tol=1.0e-12)\n",
    "    #end\n",
    "    \n",
    "end"
   ]
  },
  {
   "cell_type": "code",
   "execution_count": 3,
   "id": "cacacca5-52ff-4edd-be24-27503a53d199",
   "metadata": {},
   "outputs": [
    {
     "name": "stdout",
     "output_type": "stream",
     "text": [
      "1:  16\n",
      "2:  256\n",
      "3:  256\n",
      "4:  256\n",
      "5:  256\n",
      "6:  256\n",
      "7:  256\n",
      "8:  256\n",
      "9:  256\n",
      "10:  256\n",
      "11:  256\n",
      "12:  16\n",
      "13:  256\n",
      "14:  256\n",
      "15:  256\n"
     ]
    }
   ],
   "source": [
    "N = 7\n",
    "\n",
    "sites = siteinds(\"Electron\", N, conserve_qns=true)\n",
    "\n",
    "for pm=1:15\n",
    "    \n",
    "    ord1 = randperm(N)\n",
    "    ord2 = randperm(N)\n",
    "    ord3 = reverse(ord2)\n",
    "\n",
    "    swap_inds1 = BubbleSort(ord1, ord2)\n",
    "    swap_inds2 = BubbleSort(ord1, ord3)\n",
    "    \n",
    "    swap_inds = swap_inds1\n",
    "    \n",
    "    if length(swap_inds1) > length(swap_inds2)\n",
    "        swap_inds = swap_inds2\n",
    "    end\n",
    "\n",
    "    pmpo = MPO(sites, \"I\")\n",
    "\n",
    "    for p in swap_inds\n",
    "        PSWAP!(pmpo, p)\n",
    "    end\n",
    "\n",
    "    println(\"$(pm):  $(maxlinkdim(pmpo))\")#  $(maxlinkdim(pmpo2))\")\n",
    "end\n"
   ]
  },
  {
   "cell_type": "code",
   "execution_count": 4,
   "id": "2ca3ace0-bb3c-4c7f-8389-32d9e2d1470a",
   "metadata": {},
   "outputs": [
    {
     "data": {
      "text/plain": [
       "7-element Vector{Index{Vector{Pair{QN, Int64}}}}:\n",
       " (dim=4|id=91|\"Electron,Site,n=1\") <Out>\n",
       " 1: QN((\"Nf\",0,-1),(\"Sz\",0)) => 1\n",
       " 2: QN((\"Nf\",1,-1),(\"Sz\",1)) => 1\n",
       " 3: QN((\"Nf\",1,-1),(\"Sz\",-1)) => 1\n",
       " 4: QN((\"Nf\",2,-1),(\"Sz\",0)) => 1\n",
       " (dim=4|id=876|\"Electron,Site,n=2\") <Out>\n",
       " 1: QN((\"Nf\",0,-1),(\"Sz\",0)) => 1\n",
       " 2: QN((\"Nf\",1,-1),(\"Sz\",1)) => 1\n",
       " 3: QN((\"Nf\",1,-1),(\"Sz\",-1)) => 1\n",
       " 4: QN((\"Nf\",2,-1),(\"Sz\",0)) => 1\n",
       " (dim=4|id=155|\"Electron,Site,n=3\") <Out>\n",
       " 1: QN((\"Nf\",0,-1),(\"Sz\",0)) => 1\n",
       " 2: QN((\"Nf\",1,-1),(\"Sz\",1)) => 1\n",
       " 3: QN((\"Nf\",1,-1),(\"Sz\",-1)) => 1\n",
       " 4: QN((\"Nf\",2,-1),(\"Sz\",0)) => 1\n",
       " (dim=4|id=159|\"Electron,Site,n=4\") <Out>\n",
       " 1: QN((\"Nf\",0,-1),(\"Sz\",0)) => 1\n",
       " 2: QN((\"Nf\",1,-1),(\"Sz\",1)) => 1\n",
       " 3: QN((\"Nf\",1,-1),(\"Sz\",-1)) => 1\n",
       " 4: QN((\"Nf\",2,-1),(\"Sz\",0)) => 1\n",
       " (dim=4|id=71|\"Electron,Site,n=5\") <Out>\n",
       " 1: QN((\"Nf\",0,-1),(\"Sz\",0)) => 1\n",
       " 2: QN((\"Nf\",1,-1),(\"Sz\",1)) => 1\n",
       " 3: QN((\"Nf\",1,-1),(\"Sz\",-1)) => 1\n",
       " 4: QN((\"Nf\",2,-1),(\"Sz\",0)) => 1\n",
       " (dim=4|id=623|\"Electron,Site,n=6\") <Out>\n",
       " 1: QN((\"Nf\",0,-1),(\"Sz\",0)) => 1\n",
       " 2: QN((\"Nf\",1,-1),(\"Sz\",1)) => 1\n",
       " 3: QN((\"Nf\",1,-1),(\"Sz\",-1)) => 1\n",
       " 4: QN((\"Nf\",2,-1),(\"Sz\",0)) => 1\n",
       " (dim=4|id=334|\"Electron,Site,n=7\") <Out>\n",
       " 1: QN((\"Nf\",0,-1),(\"Sz\",0)) => 1\n",
       " 2: QN((\"Nf\",1,-1),(\"Sz\",1)) => 1\n",
       " 3: QN((\"Nf\",1,-1),(\"Sz\",-1)) => 1\n",
       " 4: QN((\"Nf\",2,-1),(\"Sz\",0)) => 1"
      ]
     },
     "metadata": {},
     "output_type": "display_data"
    },
    {
     "ename": "LoadError",
     "evalue": "UndefVarError: pmpo not defined",
     "output_type": "error",
     "traceback": [
      "UndefVarError: pmpo not defined",
      "",
      "Stacktrace:",
      " [1] top-level scope",
      "   @ In[4]:9"
     ]
    }
   ],
   "source": [
    "N_el = N\n",
    "\n",
    "hf_occ = [FillHF(i, N_el) for i=1:N]\n",
    "\n",
    "display(sites)\n",
    "\n",
    "mps = randomMPS(sites, hf_occ, linkdims=1)\n",
    "\n",
    "display(inner(pmpo, mps, pmpo, mps))"
   ]
  },
  {
   "cell_type": "code",
   "execution_count": 5,
   "id": "10b0ec70-ca4e-4619-884b-78a9de3d8f25",
   "metadata": {},
   "outputs": [
    {
     "data": {
      "text/plain": [
       "0.0"
      ]
     },
     "metadata": {},
     "output_type": "display_data"
    }
   ],
   "source": [
    "using ITensors\n",
    "\n",
    "qnvec = [QN((\"Nf\",0,-1),(\"Sz\",0)) => 2,\n",
    "    QN((\"Nf\",1,-1),(\"Sz\",1)) => 4,\n",
    "    QN((\"Nf\",1,-1),(\"Sz\",-1)) => 4,\n",
    "    QN((\"Nf\",2,-1),(\"Sz\",0)) => 2]\n",
    "\n",
    "ind = Index(qnvec)\n",
    "\n",
    "ids = (dag(ind)', ind)\n",
    "\n",
    "T = randomITensor(ids)\n",
    "\n",
    "display(T[1,3])\n",
    "\n",
    "#Q, R = qr(dense(T), (removeqns(ind), removeqns(ind)))\n",
    "\n",
    "#display(Q.tensor)"
   ]
  },
  {
   "cell_type": "code",
   "execution_count": 6,
   "id": "7b1844c2-d01a-4205-b2d2-d06ebb959945",
   "metadata": {},
   "outputs": [
    {
     "data": {
      "text/plain": [
       "((dim=12|id=210) <Out>\n",
       " 1: QN((\"Nf\",0,-1),(\"Sz\",0)) => 2\n",
       " 2: QN((\"Nf\",1,-1),(\"Sz\",1)) => 4\n",
       " 3: QN((\"Nf\",1,-1),(\"Sz\",-1)) => 4\n",
       " 4: QN((\"Nf\",2,-1),(\"Sz\",0)) => 2, (dim=12|id=55|\"Link,u\") <In>\n",
       " 1: QN((\"Nf\",0,-1),(\"Sz\",0)) => 2\n",
       " 2: QN((\"Nf\",1,-1),(\"Sz\",-1)) => 4\n",
       " 3: QN((\"Nf\",1,-1),(\"Sz\",1)) => 4\n",
       " 4: QN((\"Nf\",2,-1),(\"Sz\",0)) => 2)"
      ]
     },
     "metadata": {},
     "output_type": "display_data"
    }
   ],
   "source": [
    "Q,_,_ = svd(T, ind)\n",
    "\n",
    "display(inds(Q))"
   ]
  },
  {
   "cell_type": "code",
   "execution_count": 11,
   "id": "51727905-b0e1-4c28-b955-b43ece2f31b8",
   "metadata": {},
   "outputs": [
    {
     "data": {
      "text/plain": [
       "QN((\"Nf\",0,-1),(\"Sz\",0))"
      ]
     },
     "metadata": {},
     "output_type": "display_data"
    },
    {
     "data": {
      "text/plain": [
       "QN((\"Nf\",0,-1),(\"Sz\",0))"
      ]
     },
     "metadata": {},
     "output_type": "display_data"
    }
   ],
   "source": [
    "display(flux(T))\n",
    "\n",
    "T2 = onehot(ids[1]=>1, ids[2]=>2)\n",
    "\n",
    "display(flux(T2))"
   ]
  },
  {
   "cell_type": "code",
   "execution_count": 16,
   "id": "39784d2e-e93e-421d-9615-becc36a7c416",
   "metadata": {},
   "outputs": [
    {
     "data": {
      "text/plain": [
       "5×5 Matrix{Int64}:\n",
       " 0   5   8  4  3\n",
       " 5   0  10  9  3\n",
       " 8  10   0  7  6\n",
       " 4   9   7  0  5\n",
       " 3   3   6  5  0"
      ]
     },
     "metadata": {},
     "output_type": "display_data"
    }
   ],
   "source": [
    "using LinearAlgebra\n",
    "\n",
    "mat1 = [\n",
    "    0 2 4 3 1;\n",
    "    3 0 4 1 2;\n",
    "    4 6 0 3 2;\n",
    "    1 8 4 0 3;\n",
    "    2 1 4 2 0\n",
    "]\n",
    "\n",
    "mat1 += transpose(mat1)\n",
    "\n",
    "display(mat1)"
   ]
  },
  {
   "cell_type": "code",
   "execution_count": 17,
   "id": "5b7593b1-e369-4a37-b4a7-bfeb09eda2d5",
   "metadata": {},
   "outputs": [
    {
     "data": {
      "text/plain": [
       "5×5 Matrix{Int64}:\n",
       "  0   5   8   4   3\n",
       " -1  -1  -1  -1  -1\n",
       " -1  -1  -1  -1  -1\n",
       "  4   9   7   0   5\n",
       "  3   3   6   5   0"
      ]
     },
     "metadata": {},
     "output_type": "display_data"
    },
    {
     "name": "stdout",
     "output_type": "stream",
     "text": [
      "89\n",
      "14\n"
     ]
    },
    {
     "data": {
      "text/plain": [
       "5×5 Matrix{Int64}:\n",
       "  0   5   8   4   3\n",
       " -1  -1  -1  -1  -1\n",
       " -1  -1  -1  -1  -1\n",
       " -1  -1  -1  -1  -1\n",
       "  3   3   6   5   0"
      ]
     },
     "metadata": {},
     "output_type": "display_data"
    },
    {
     "name": "stdout",
     "output_type": "stream",
     "text": [
      "85\n",
      "15\n"
     ]
    },
    {
     "data": {
      "text/plain": [
       "5×5 Matrix{Int64}:\n",
       " -1  -1  -1  -1  -1\n",
       " -1  -1  -1  -1  -1\n",
       " -1  -1  -1  -1  -1\n",
       " -1  -1  -1  -1  -1\n",
       "  3   3   6   5   0"
      ]
     },
     "metadata": {},
     "output_type": "display_data"
    },
    {
     "name": "stdout",
     "output_type": "stream",
     "text": [
      "35\n",
      "55\n"
     ]
    },
    {
     "data": {
      "text/plain": [
       "5×5 Matrix{Int64}:\n",
       " -1  -1  -1  -1  -1\n",
       " -1  -1  -1  -1  -1\n",
       " -1  -1  -1  -1  -1\n",
       " -1  -1  -1  -1  -1\n",
       " -1  -1  -1  -1  -1"
      ]
     },
     "metadata": {},
     "output_type": "display_data"
    },
    {
     "data": {
      "text/plain": [
       "32"
      ]
     },
     "execution_count": 17,
     "metadata": {},
     "output_type": "execute_result"
    }
   ],
   "source": [
    "ChainMaxEls(mat1)"
   ]
  },
  {
   "cell_type": "code",
   "execution_count": 2,
   "id": "b7356e8f-d6c1-46de-beee-6da1e1f3b1c2",
   "metadata": {},
   "outputs": [
    {
     "data": {
      "text/plain": [
       "MPS\n",
       "[1] ((dim=4|id=635|\"Link,l=1\"), (dim=4|id=434|\"Electron,Site,n=1\"))\n",
       "[2] ((dim=4|id=387|\"Electron,Site,n=2\"), (dim=6|id=294|\"Link,l=2\"), (dim=4|id=635|\"Link,l=1\"))\n",
       "[3] ((dim=4|id=560|\"Electron,Site,n=3\"), (dim=6|id=91|\"Link,l=3\"), (dim=6|id=294|\"Link,l=2\"))\n",
       "[4] ((dim=4|id=107|\"Electron,Site,n=4\"), (dim=6|id=834|\"Link,l=4\"), (dim=6|id=91|\"Link,l=3\"))\n",
       "[5] ((dim=4|id=268|\"Electron,Site,n=5\"), (dim=6|id=601|\"Link,l=5\"), (dim=6|id=834|\"Link,l=4\"))\n",
       "[6] ((dim=4|id=86|\"Electron,Site,n=6\"), (dim=4|id=551|\"Link,l=6\"), (dim=6|id=601|\"Link,l=5\"))\n",
       "[7] ((dim=4|id=840|\"Electron,Site,n=7\"), (dim=4|id=551|\"Link,l=6\"))\n"
      ]
     },
     "execution_count": 2,
     "metadata": {},
     "output_type": "execute_result"
    }
   ],
   "source": [
    "sites = siteinds(\"Electron\", 7)\n",
    "\n",
    "psi = randomMPS(sites, [4,4,4,4,4,1,1], linkdims=6);"
   ]
  },
  {
   "cell_type": "code",
   "execution_count": 7,
   "id": "2d3b5e1d-25f9-42e5-a5cc-26c40d05c0ff",
   "metadata": {},
   "outputs": [
    {
     "data": {
      "text/plain": [
       "Dim 1: (dim=4|id=387|\"Electron,Site,n=2\")\n",
       "Dim 2: (dim=6|id=294|\"Link,l=2\")\n",
       "Dim 3: (dim=4|id=635|\"Link,l=1\")\n",
       "NDTensors.Dense{Float64, Vector{Float64}}\n",
       " 4×6×4\n",
       "[:, :, 1] =\n",
       "  0.5291874801546498   -0.22382193213582868    …   0.00752221383387474\n",
       " -0.14101888395510803  -0.5706616710530368         0.0907757222993717\n",
       "  0.03205053816743192  -0.15086007015194908       -0.12176969348653219\n",
       " -0.05437599528690669  -0.0020005808923655166      0.12591644936886665\n",
       "\n",
       "[:, :, 2] =\n",
       "  0.001627406747482893   0.12075401412459551   …   0.11919224220618471\n",
       " -0.14493195941743914   -0.004391303794599705     -0.059160823656155076\n",
       "  0.2103128597422932    -0.07942546760916798      -0.269205909612074\n",
       " -0.17297474138267027   -0.3230861618063352        0.12229003994521956\n",
       "\n",
       "[:, :, 3] =\n",
       "  0.15329237939883314  -0.3476215785594093   …  -0.04986712598915079\n",
       "  0.6426714886889915    0.11523676857696302      0.043239531161317374\n",
       "  0.25558451396279275  -0.131903488673563        0.09658352135924997\n",
       " -0.1543398470609497    0.2344291176610955       0.13888885392875028\n",
       "\n",
       "[:, :, 4] =\n",
       "  0.06598191818386563  -0.2566983911588422   …   0.08745324912908532\n",
       " -0.05327352655317275   0.07549652189822911      0.14769446142548728\n",
       " -0.17984152901021402   0.13594177397588958     -0.0718983326912693\n",
       "  0.5307381050687152    0.20645029300354528      0.1555659006785942"
      ]
     },
     "execution_count": 7,
     "metadata": {},
     "output_type": "execute_result"
    }
   ],
   "source": [
    "inner(psi, psi)\n",
    "\n",
    "psi[2].tensor"
   ]
  },
  {
   "cell_type": "code",
   "execution_count": 38,
   "id": "b39b3680-efbf-430a-910a-59871d183d5d",
   "metadata": {},
   "outputs": [
    {
     "data": {
      "text/plain": [
       "softmax (generic function with 1 method)"
      ]
     },
     "execution_count": 38,
     "metadata": {},
     "output_type": "execute_result"
    }
   ],
   "source": [
    "function softmax(alpha, x)\n",
    "    \n",
    "    xmax = maximum(x)\n",
    "    \n",
    "    if minimum(x) <= 0\n",
    "        println(\"Error: xmin <= 0\")\n",
    "        return nothing\n",
    "    end\n",
    "    \n",
    "    exptot = 0.0\n",
    "    \n",
    "    for j=1:length(x)\n",
    "        exptot += exp(alpha*x[j]/xmax)\n",
    "    end\n",
    "    \n",
    "    return xmax/alpha*log(exptot)\n",
    "    \n",
    "end"
   ]
  },
  {
   "cell_type": "code",
   "execution_count": 82,
   "id": "b945f7aa-4758-4881-a2fd-86428a3343e5",
   "metadata": {},
   "outputs": [
    {
     "name": "stdout",
     "output_type": "stream",
     "text": [
      "[200]\n"
     ]
    },
    {
     "data": {
      "text/plain": [
       "200.0"
      ]
     },
     "execution_count": 82,
     "metadata": {},
     "output_type": "execute_result"
    }
   ],
   "source": [
    "x = [200]\n",
    "println(x)\n",
    "\n",
    "softmax(3.0, x)"
   ]
  },
  {
   "cell_type": "code",
   "execution_count": 1,
   "id": "c5894ca8-3e79-45d6-9017-9dc7cb6ef1a4",
   "metadata": {},
   "outputs": [],
   "source": [
    "using ITensors"
   ]
  },
  {
   "cell_type": "code",
   "execution_count": 2,
   "id": "bdffd5f0-0f06-4811-acca-14a4ce094520",
   "metadata": {},
   "outputs": [
    {
     "data": {
      "text/plain": [
       "(dim=2|id=381)"
      ]
     },
     "execution_count": 2,
     "metadata": {},
     "output_type": "execute_result"
    }
   ],
   "source": [
    "i = Index(3)\n",
    "j = Index(4)\n",
    "k = Index(2)"
   ]
  },
  {
   "cell_type": "code",
   "execution_count": 5,
   "id": "0ef9e66e-b0d3-4655-a6d8-eb53c6cfad0e",
   "metadata": {},
   "outputs": [
    {
     "ename": "LoadError",
     "evalue": "MethodError: no method matching onehot(::Pair{Tuple{Index{Int64}, Index{Int64}, Index{Int64}}, Tuple{Int64, Int64, Int64}})\n\u001b[0mClosest candidates are:\n\u001b[0m  onehot(\u001b[91m::Type{<:Number}\u001b[39m, \u001b[91m::Pair{<:Index}...\u001b[39m) at ~/.julia/packages/ITensors/LXBUp/src/itensor.jl:567\n\u001b[0m  onehot(\u001b[91m::Type{<:Number}\u001b[39m, \u001b[91m::Vector{<:Pair{<:Index}}\u001b[39m) at ~/.julia/packages/ITensors/LXBUp/src/itensor.jl:572\n\u001b[0m  onehot(\u001b[91m::Vector{<:Pair{<:Index}}\u001b[39m) at ~/.julia/packages/ITensors/LXBUp/src/itensor.jl:576\n\u001b[0m  ...",
     "output_type": "error",
     "traceback": [
      "MethodError: no method matching onehot(::Pair{Tuple{Index{Int64}, Index{Int64}, Index{Int64}}, Tuple{Int64, Int64, Int64}})\n\u001b[0mClosest candidates are:\n\u001b[0m  onehot(\u001b[91m::Type{<:Number}\u001b[39m, \u001b[91m::Pair{<:Index}...\u001b[39m) at ~/.julia/packages/ITensors/LXBUp/src/itensor.jl:567\n\u001b[0m  onehot(\u001b[91m::Type{<:Number}\u001b[39m, \u001b[91m::Vector{<:Pair{<:Index}}\u001b[39m) at ~/.julia/packages/ITensors/LXBUp/src/itensor.jl:572\n\u001b[0m  onehot(\u001b[91m::Vector{<:Pair{<:Index}}\u001b[39m) at ~/.julia/packages/ITensors/LXBUp/src/itensor.jl:576\n\u001b[0m  ...",
      "",
      "Stacktrace:",
      " [1] top-level scope",
      "   @ In[5]:1"
     ]
    }
   ],
   "source": [
    "OH = onehot()"
   ]
  },
  {
   "cell_type": "code",
   "execution_count": 7,
   "id": "85ad3ca1-0fe2-4e93-bac6-ae1860b580f0",
   "metadata": {},
   "outputs": [
    {
     "data": {
      "text/plain": [
       "6×6 Matrix{Float64}:\n",
       "  0.600237   0.643613  -2.3172     0.999158  -0.645821  -1.29218\n",
       "  0.643613   4.34081   -1.28266    0.825289   1.30472   -0.344765\n",
       " -2.3172    -1.28266    0.158077  -0.460724   1.85856   -1.13678\n",
       "  0.999158   0.825289  -0.460724  -1.24188   -2.57736   -0.951398\n",
       " -0.645821   1.30472    1.85856   -2.57736   -1.8938    -1.07846\n",
       " -1.29218   -0.344765  -1.13678   -0.951398  -1.07846   -0.909567"
      ]
     },
     "execution_count": 7,
     "metadata": {},
     "output_type": "execute_result"
    }
   ],
   "source": [
    "A = randn((6,6))\n",
    "\n",
    "H0 = A + transpose(A)"
   ]
  },
  {
   "cell_type": "code",
   "execution_count": 10,
   "id": "202889ee-5c68-499a-95f7-153e0c82869e",
   "metadata": {},
   "outputs": [
    {
     "data": {
      "text/plain": [
       "6×6 Matrix{Float64}:\n",
       "  0.522764   0.267318   0.957764   -0.652565  -1.69027    2.76237\n",
       "  0.267318  -2.2654    -1.29042     0.207895   2.18287   -1.13492\n",
       "  0.957764  -1.29042    0.466027    0.299111  -1.05832    0.0421351\n",
       " -0.652565   0.207895   0.299111    1.58885   -0.838656  -0.630716\n",
       " -1.69027    2.18287   -1.05832    -0.838656  -2.72999   -2.14835\n",
       "  2.76237   -1.13492    0.0421351  -0.630716  -2.14835   -0.942323"
      ]
     },
     "metadata": {},
     "output_type": "display_data"
    },
    {
     "data": {
      "text/plain": [
       "3×3 Matrix{Float64}:\n",
       "  0.522764  -1.69027   2.76237\n",
       " -1.69027   -2.72999  -2.14835\n",
       "  2.76237   -2.14835  -0.942323"
      ]
     },
     "metadata": {},
     "output_type": "display_data"
    }
   ],
   "source": [
    "M = 6\n",
    "\n",
    "A = randn((M,M))\n",
    "\n",
    "H0 = A + transpose(A)\n",
    "\n",
    "display(H0)\n",
    "\n",
    "cols = [2,3,4]\n",
    "\n",
    "for (i,c) in enumerate(cols)\n",
    "    \n",
    "    col = c-i+1\n",
    "    \n",
    "    H1 = zeros((M-i,M-i))\n",
    "    H1[1:col-1,1:col-1] = H0[1:col-1,1:col-1]\n",
    "    H1[1:col-1,col:end] = H0[1:col-1,col+1:end]\n",
    "    H1[col:end,1:col-1] = H0[col+1:end,1:col-1]\n",
    "    H1[col:end,col:end] = H0[col+1:end,col+1:end]\n",
    "    \n",
    "    H0 = H1\n",
    "    \n",
    "end\n",
    "    \n",
    "display(H0)\n"
   ]
  },
  {
   "cell_type": "code",
   "execution_count": 20,
   "id": "a62dddc5-6316-494a-b3e2-527b19721a28",
   "metadata": {},
   "outputs": [
    {
     "name": "stdout",
     "output_type": "stream",
     "text": [
      "-88.43395774485919\n",
      "11 10 (462, 462)\n",
      "converged SCF energy = -99.9593211672818\n"
     ]
    },
    {
     "ename": "LoadError",
     "evalue": "PyError ($(Expr(:escape, :(ccall(#= /home/oskar/.julia/packages/PyCall/twYvK/src/pyeval.jl:38 =# @pysym(:PyEval_EvalCode), PyPtr, (PyPtr, PyPtr, PyPtr), o, globals, locals))))) <class 'TypeError'>\nTypeError(\"'float' object cannot be interpreted as an integer\")\n  File \"/home/oskar/.julia/packages/PyCall/twYvK/src/pyeval.jl\", line 29, in <module>\n    # internal function evaluate a python string, returning PyObject, given\n  File \"/home/oskar/anaconda3/envs/fasttt/lib/python3.10/site-packages/pyscf/fci/cistring.py\", line 113, in num_strings\n    return math.factorial(n) // (math.factorial(n-m)*math.factorial(m))\n",
     "output_type": "error",
     "traceback": [
      "PyError ($(Expr(:escape, :(ccall(#= /home/oskar/.julia/packages/PyCall/twYvK/src/pyeval.jl:38 =# @pysym(:PyEval_EvalCode), PyPtr, (PyPtr, PyPtr, PyPtr), o, globals, locals))))) <class 'TypeError'>\nTypeError(\"'float' object cannot be interpreted as an integer\")\n  File \"/home/oskar/.julia/packages/PyCall/twYvK/src/pyeval.jl\", line 29, in <module>\n    # internal function evaluate a python string, returning PyObject, given\n  File \"/home/oskar/anaconda3/envs/fasttt/lib/python3.10/site-packages/pyscf/fci/cistring.py\", line 113, in num_strings\n    return math.factorial(n) // (math.factorial(n-m)*math.factorial(m))\n",
      "",
      "Stacktrace:",
      " [1] pyerr_check",
      "   @ ~/.julia/packages/PyCall/twYvK/src/exception.jl:75 [inlined]",
      " [2] pyerr_check",
      "   @ ~/.julia/packages/PyCall/twYvK/src/exception.jl:79 [inlined]",
      " [3] _handle_error(msg::String)",
      "   @ PyCall ~/.julia/packages/PyCall/twYvK/src/exception.jl:96",
      " [4] macro expansion",
      "   @ ~/.julia/packages/PyCall/twYvK/src/exception.jl:110 [inlined]",
      " [5] #117",
      "   @ ~/.julia/packages/PyCall/twYvK/src/pyeval.jl:38 [inlined]",
      " [6] disable_sigint",
      "   @ ./c.jl:458 [inlined]",
      " [7] pyeval_(s::String, globals::PyDict{String, PyObject, true}, locals::PyDict{String, PyObject, true}, input_type::Int64, fname::String)",
      "   @ PyCall ~/.julia/packages/PyCall/twYvK/src/pyeval.jl:37",
      " [8] top-level scope",
      "   @ ~/.julia/packages/PyCall/twYvK/src/pyeval.jl:230"
     ]
    }
   ],
   "source": [
    "py\"\"\"\n",
    "\n",
    "from pyscf import scf, gto, fci, agf2, ao2mo\n",
    "import numpy as np\n",
    "\n",
    "\n",
    "mol = gto.Mole()\n",
    "mol.build(\n",
    "    atom = 'H 0 0 0; F 0 0 1.1',  # in Angstrom\n",
    "    basis = '6-31g',\n",
    "    spin = 0,\n",
    ")\n",
    "myhf = scf.RHF(mol)\n",
    "myhf.kernel()\n",
    "\n",
    "#\n",
    "# First create FCI solver with function fci.FCI and solve the FCI problem\n",
    "#\n",
    "#cisolver = fci.FCI(mol, myhf.mo_coeff)\n",
    "e, fcivec = cisolver.kernel()"
   ]
  },
  {
   "cell_type": "code",
   "execution_count": 34,
   "id": "091cf547-0aa1-4153-850a-4079ff064bc9",
   "metadata": {},
   "outputs": [
    {
     "name": "stdout",
     "output_type": "stream",
     "text": [
      "[0, 0, 0, 0, 0, 0]\n",
      "[1, 0, 0, 0, 0, 0]\n",
      "[0, 1, 0, 0, 0, 0]\n",
      "[1, 1, 0, 0, 0, 0]\n",
      "[0, 0, 1, 0, 0, 0]\n",
      "[1, 0, 1, 0, 0, 0]\n",
      "[0, 1, 1, 0, 0, 0]\n",
      "[1, 1, 0]7\n",
      "[1, 0, 0]5\n",
      "[1, 1, 1, 0, 0, 0]\n",
      "[0, 0, 0, 1, 0, 0]\n",
      "[1, 0, 0, 1, 0, 0]\n",
      "[0, 1, 0, 1, 0, 0]\n",
      "[1, 0, 0]5\n",
      "[1, 1, 0]7\n",
      "[1, 1, 0, 1, 0, 0]\n",
      "[0, 0, 1, 1, 0, 0]\n",
      "[1, 1, 0]7\n",
      "[0, 1, 0]3\n",
      "[1, 0, 1, 1, 0, 0]\n",
      "[0, 1, 0]3\n",
      "[1, 1, 0]7\n",
      "[0, 1, 1, 1, 0, 0]\n",
      "[1, 1, 1, 1, 0, 0]\n",
      "[0, 0, 0, 0, 1, 0]\n",
      "[1, 0, 0, 0, 1, 0]\n",
      "[0, 1, 0, 0, 1, 0]\n",
      "[1, 0, 1]6\n",
      "[1, 0, 0]5\n",
      "[1, 1, 0, 0, 1, 0]\n",
      "[0, 0, 1, 0, 1, 0]\n",
      "[1, 1, 1]8\n",
      "[0, 0, 0]1\n",
      "[1, 0, 1, 0, 1, 0]\n",
      "[0, 1, 1]4\n",
      "[1, 0, 0]5\n",
      "[0, 1, 1, 0, 1, 0]\n",
      "[1, 1, 1, 0, 1, 0]\n",
      "[0, 0, 0, 1, 1, 0]\n",
      "[1, 0, 1]6\n",
      "[0, 1, 0]3\n",
      "[1, 0, 0, 1, 1, 0]\n",
      "[0, 0, 1]2\n",
      "[1, 1, 0]7\n",
      "[0, 1, 0, 1, 1, 0]\n",
      "[1, 1, 0, 1, 1, 0]\n",
      "[0, 1, 1]4\n",
      "[0, 1, 0]3\n",
      "[0, 0, 1, 1, 1, 0]\n",
      "[1, 0, 1, 1, 1, 0]\n",
      "[0, 1, 1, 1, 1, 0]\n",
      "[1, 1, 1, 1, 1, 0]\n",
      "[0, 0, 0, 0, 0, 1]\n",
      "[1, 0, 0, 0, 0, 1]\n",
      "[0, 1, 0, 0, 0, 1]\n",
      "[1, 0, 0]5\n",
      "[1, 0, 1]6\n",
      "[1, 1, 0, 0, 0, 1]\n",
      "[0, 0, 1, 0, 0, 1]\n",
      "[1, 1, 0]7\n",
      "[0, 0, 1]2\n",
      "[1, 0, 1, 0, 0, 1]\n",
      "[0, 1, 0]3\n",
      "[1, 0, 1]6\n",
      "[0, 1, 1, 0, 0, 1]\n",
      "[1, 1, 1, 0, 0, 1]\n",
      "[0, 0, 0, 1, 0, 1]\n",
      "[1, 0, 0]5\n",
      "[0, 1, 1]4\n",
      "[1, 0, 0, 1, 0, 1]\n",
      "[0, 0, 0]1\n",
      "[1, 1, 1]8\n",
      "[0, 1, 0, 1, 0, 1]\n",
      "[1, 1, 0, 1, 0, 1]\n",
      "[0, 1, 0]3\n",
      "[0, 1, 1]4\n",
      "[0, 0, 1, 1, 0, 1]\n",
      "[1, 0, 1, 1, 0, 1]\n",
      "[0, 1, 1, 1, 0, 1]\n",
      "[1, 1, 1, 1, 0, 1]\n",
      "[0, 0, 0, 0, 1, 1]\n",
      "[1, 0, 1]6\n",
      "[0, 0, 1]2\n",
      "[1, 0, 0, 0, 1, 1]\n",
      "[0, 0, 1]2\n",
      "[1, 0, 1]6\n",
      "[0, 1, 0, 0, 1, 1]\n",
      "[1, 1, 0, 0, 1, 1]\n",
      "[0, 1, 1]4\n",
      "[0, 0, 1]2\n",
      "[0, 0, 1, 0, 1, 1]\n",
      "[1, 0, 1, 0, 1, 1]\n",
      "[0, 1, 1, 0, 1, 1]\n",
      "[1, 1, 1, 0, 1, 1]\n",
      "[0, 0, 1]2\n",
      "[0, 1, 1]4\n",
      "[0, 0, 0, 1, 1, 1]\n",
      "[1, 0, 0, 1, 1, 1]\n",
      "[0, 1, 0, 1, 1, 1]\n",
      "[1, 1, 0, 1, 1, 1]\n",
      "[0, 0, 1, 1, 1, 1]\n",
      "[1, 0, 1, 1, 1, 1]\n",
      "[0, 1, 1, 1, 1, 1]\n",
      "[1, 1, 1, 1, 1, 1]\n"
     ]
    }
   ],
   "source": [
    "N = \n",
    "\n",
    "N_el = 3\n",
    "\n",
    "d = 4 \n",
    "\n",
    "dtot = d^N\n",
    "\n",
    "for dnum=1:dtot\n",
    "        \n",
    "    bstr = digits(dnum-1, base=2, pad=2*N)\n",
    "    \n",
    "    if sum(bstr)==N_el\n",
    "        \n",
    "        even_inds = collect(1:N) .* 2\n",
    "        odd_inds = even_inds .- 1\n",
    "        \n",
    "        alpha_bstr = bstr[odd_inds]\n",
    "        alpha_dnum = parse(Int,reduce(*, string.(alpha_bstr)),base=2)+1\n",
    "        #println(alpha_bstr, alpha_dnum)\n",
    "        \n",
    "        beta_bstr = bstr[even_inds]\n",
    "        beta_dnum = parse(Int,reduce(*, string.(beta_bstr)),base=2)+1\n",
    "        #println(beta_bstr, beta_dnum)\n",
    "        \n",
    "        fci_vec[alpha_dnum, beta_dnum]\n",
    "        \n",
    "    end\n",
    "\n",
    "    println(bstr)\n",
    "\n",
    "end"
   ]
  },
  {
   "cell_type": "code",
   "execution_count": 5,
   "id": "83ed7c1f-fbef-4f99-b26b-a8e96746d2ef",
   "metadata": {},
   "outputs": [
    {
     "data": {
      "text/plain": [
       "5-element Vector{Int64}:\n",
       " 4\n",
       " 1\n",
       " 2\n",
       " 3\n",
       " 5"
      ]
     },
     "execution_count": 5,
     "metadata": {},
     "output_type": "execute_result"
    }
   ],
   "source": [
    "using Random\n",
    "\n",
    "randperm(5)"
   ]
  },
  {
   "cell_type": "code",
   "execution_count": 7,
   "id": "85a859c8-15b4-42a4-8b4f-c4c61201e7e1",
   "metadata": {},
   "outputs": [
    {
     "name": "stdout",
     "output_type": "stream",
     "text": [
      "[1, 3, 2, 4, 5][5, 4, 1, 2, 3]\n"
     ]
    },
    {
     "data": {
      "text/plain": [
       "8-element Vector{Any}:\n",
       " 2\n",
       " 3\n",
       " 4\n",
       " 2\n",
       " 3\n",
       " 1\n",
       " 2\n",
       " 1"
      ]
     },
     "execution_count": 7,
     "metadata": {},
     "output_type": "execute_result"
    }
   ],
   "source": [
    "ord1, ord2 = randperm(5), randperm(5)\n",
    "println(ord1, ord2)\n",
    "\n",
    "BubbleSort(ord1, ord2)"
   ]
  },
  {
   "cell_type": "code",
   "execution_count": 8,
   "id": "364d0e59-2279-4540-b482-5e798e325248",
   "metadata": {},
   "outputs": [
    {
     "data": {
      "text/plain": [
       "8-element Vector{Any}:\n",
       " 2\n",
       " 3\n",
       " 4\n",
       " 2\n",
       " 3\n",
       " 1\n",
       " 2\n",
       " 1"
      ]
     },
     "execution_count": 8,
     "metadata": {},
     "output_type": "execute_result"
    }
   ],
   "source": [
    "BubbleSort(ord1, ord2)"
   ]
  },
  {
   "cell_type": "code",
   "execution_count": 9,
   "id": "700c3230-d3bd-4da6-abb7-33358fb32f5f",
   "metadata": {},
   "outputs": [
    {
     "data": {
      "text/plain": [
       "5-element Vector{Int64}:\n",
       " 1\n",
       " 2\n",
       " 3\n",
       " 4\n",
       " 5"
      ]
     },
     "execution_count": 9,
     "metadata": {},
     "output_type": "execute_result"
    }
   ],
   "source": [
    "ord3 = [1,2,3,4,5]"
   ]
  },
  {
   "cell_type": "code",
   "execution_count": 10,
   "id": "fa7cbff1-2213-4ab1-8134-541e0fbcfd01",
   "metadata": {},
   "outputs": [
    {
     "data": {
      "text/plain": [
       "7-element Vector{Any}:\n",
       " 3\n",
       " 4\n",
       " 2\n",
       " 3\n",
       " 1\n",
       " 2\n",
       " 1"
      ]
     },
     "execution_count": 10,
     "metadata": {},
     "output_type": "execute_result"
    }
   ],
   "source": [
    "BubbleSort(ord3, ord2)"
   ]
  },
  {
   "cell_type": "code",
   "execution_count": null,
   "id": "1d80b860-54d6-4f53-baed-6fe6e4c2f3c3",
   "metadata": {},
   "outputs": [],
   "source": [
    "tnqe1 = "
   ]
  },
  {
   "cell_type": "code",
   "execution_count": 7,
   "id": "cc697ac2-ba14-48dc-9b26-efd0d4a7b826",
   "metadata": {},
   "outputs": [],
   "source": [
    "for i=1:100000000\n",
    "    \n",
    "    vec = normalize(randn(3))\n",
    "    \n",
    "    if (NaN in vec) || (Inf in vec)\n",
    "        println(\"flag\")\n",
    "    end\n",
    "    \n",
    "end"
   ]
  },
  {
   "cell_type": "code",
   "execution_count": 16,
   "id": "c69c2199-1a87-46b1-8de2-074314ab2198",
   "metadata": {},
   "outputs": [],
   "source": [
    "for x=1:1000000\n",
    "\n",
    "    i,j,k = Index(4,\"i\"), Index(4,\"j\"), Index(4,\"k\")\n",
    "\n",
    "    T = randomITensor(i,j,k)\n",
    "\n",
    "    T *= 1.0/sqrt(scalar(T*dag(T)))\n",
    "\n",
    "    if (NaN in T) || (Inf in T)\n",
    "        println(\"flag\")\n",
    "    end\n",
    "    \n",
    "end"
   ]
  },
  {
   "cell_type": "code",
   "execution_count": 40,
   "id": "2b927f1e-4e7f-4e3a-b3c4-78a647b21e83",
   "metadata": {},
   "outputs": [
    {
     "data": {
      "text/plain": [
       "4×4 Matrix{Float64}:\n",
       " 8.35978   1.67587  4.74687  2.9095\n",
       " 1.67587  11.3231   2.99127  5.29955\n",
       " 4.74687   2.99127  9.58837  5.72554\n",
       " 2.9095    5.29955  5.72554  6.9869"
      ]
     },
     "metadata": {},
     "output_type": "display_data"
    },
    {
     "data": {
      "text/plain": [
       "4×4 Hermitian{Float64, Matrix{Float64}}:\n",
       " 1.0       0.441537  0.991724  0.241903\n",
       " 0.441537  1.0       0.474378  0.840294\n",
       " 0.991724  0.474378  1.0       0.506827\n",
       " 0.241903  0.840294  0.506827  1.0"
      ]
     },
     "metadata": {},
     "output_type": "display_data"
    }
   ],
   "source": [
    "E_scale = 6.0\n",
    "\n",
    "H_mat = E_scale*(Matrix(1.0I, 4, 4) + Hermitian(rand(Float64, (4,4))))\n",
    "\n",
    "S_mat = Hermitian(rand(Float64, (4,4)))\n",
    "for k=1:4\n",
    "    S_mat[k,k] = 1.0\n",
    "end\n",
    "\n",
    "display(H_mat)\n",
    "display(S_mat)"
   ]
  },
  {
   "cell_type": "code",
   "execution_count": 41,
   "id": "508ba10e-275f-4f05-91ab-8492b40a574e",
   "metadata": {},
   "outputs": [
    {
     "ename": "LoadError",
     "evalue": "PosDefException: matrix is not positive definite; Cholesky factorization failed.",
     "output_type": "error",
     "traceback": [
      "PosDefException: matrix is not positive definite; Cholesky factorization failed.",
      "",
      "Stacktrace:",
      " [1] chkposdef",
      "   @ ~/julia-1.7.3/share/julia/stdlib/v1.7/LinearAlgebra/src/lapack.jl:55 [inlined]",
      " [2] sygvd!(itype::Int64, jobz::Char, uplo::Char, A::Matrix{Float64}, B::Matrix{Float64})",
      "   @ LinearAlgebra.LAPACK ~/julia-1.7.3/share/julia/stdlib/v1.7/LinearAlgebra/src/lapack.jl:5180",
      " [3] #eigen!#187",
      "   @ ~/julia-1.7.3/share/julia/stdlib/v1.7/LinearAlgebra/src/symmetriceigen.jl:157 [inlined]",
      " [4] eigen!",
      "   @ ~/julia-1.7.3/share/julia/stdlib/v1.7/LinearAlgebra/src/symmetriceigen.jl:157 [inlined]",
      " [5] eigen(A::Hermitian{Float64, Matrix{Float64}}, B::Hermitian{Float64, Matrix{Float64}}; kws::Base.Pairs{Symbol, Union{}, Tuple{}, NamedTuple{(), Tuple{}}})",
      "   @ LinearAlgebra ~/julia-1.7.3/share/julia/stdlib/v1.7/LinearAlgebra/src/eigen.jl:501",
      " [6] eigen",
      "   @ ~/julia-1.7.3/share/julia/stdlib/v1.7/LinearAlgebra/src/eigen.jl:500 [inlined]",
      " [7] SolveGenEig(H_in::Matrix{Float64}, S_in::Hermitian{Float64, Matrix{Float64}}; thresh::String, eps::Float64)",
      "   @ Main ~/Documents/TNQE/TNQE-Julia/subroutines/GenEigRoutines.jl:17",
      " [8] top-level scope",
      "   @ In[41]:1"
     ]
    }
   ],
   "source": [
    "E, C, kappa = SolveGenEig(H_mat, S_mat, thresh=\"none\")\n",
    "display(E)\n",
    "display(C)\n",
    "display(kappa)"
   ]
  },
  {
   "cell_type": "code",
   "execution_count": 42,
   "id": "e79ddaf7-bbf0-48d7-822f-34baa15c28a8",
   "metadata": {},
   "outputs": [
    {
     "data": {
      "text/plain": [
       "4-element Vector{Float64}:\n",
       " -48.00660762681087\n",
       "   3.815282959425475\n",
       "   7.549167321456006\n",
       "  25.30624244418141"
      ]
     },
     "metadata": {},
     "output_type": "display_data"
    },
    {
     "data": {
      "text/plain": [
       "4×4 Matrix{Float64}:\n",
       " -0.591682   0.26334   0.516827   0.159441\n",
       "  0.274211   0.157731  0.448926   0.740136\n",
       "  0.632945   0.468068  0.162333  -0.396227\n",
       " -0.417255  -0.828665  0.710636  -0.519406"
      ]
     },
     "metadata": {},
     "output_type": "display_data"
    },
    {
     "data": {
      "text/plain": [
       "43.158344675979784"
      ]
     },
     "metadata": {},
     "output_type": "display_data"
    }
   ],
   "source": [
    "E, C, kappa = SolveGenEig(H_mat, S_mat, thresh=\"inversion\", eps=1e-20)\n",
    "display(E)\n",
    "display(C)\n",
    "display(kappa)"
   ]
  },
  {
   "cell_type": "code",
   "execution_count": 43,
   "id": "235d662c-74f2-45f7-b238-95ce98e9bcdc",
   "metadata": {},
   "outputs": [
    {
     "ename": "LoadError",
     "evalue": "DomainError with -0.06196123489583817:\nsqrt will only return a complex result if called with a complex argument. Try sqrt(Complex(x)).",
     "output_type": "error",
     "traceback": [
      "DomainError with -0.06196123489583817:\nsqrt will only return a complex result if called with a complex argument. Try sqrt(Complex(x)).",
      "",
      "Stacktrace:",
      " [1] throw_complex_domainerror(f::Symbol, x::Float64)",
      "   @ Base.Math ./math.jl:33",
      " [2] sqrt(x::Float64)",
      "   @ Base.Math ./math.jl:567",
      " [3] top-level scope",
      "   @ In[43]:1"
     ]
    }
   ],
   "source": [
    "c1 = C[:,1]/sqrt(transpose(C[:,1])*S_mat*C[:,1])"
   ]
  },
  {
   "cell_type": "code",
   "execution_count": 37,
   "id": "256ef437-ff48-4fe4-b83d-9e90d9dc35fa",
   "metadata": {},
   "outputs": [
    {
     "ename": "LoadError",
     "evalue": "UndefVarError: c1 not defined",
     "output_type": "error",
     "traceback": [
      "UndefVarError: c1 not defined",
      "",
      "Stacktrace:",
      " [1] top-level scope",
      "   @ In[37]:1"
     ]
    }
   ],
   "source": [
    "transpose(c1)*S_mat*c1"
   ]
  },
  {
   "cell_type": "code",
   "execution_count": 32,
   "id": "680c78af-e180-47ca-b5ea-49564144eadd",
   "metadata": {},
   "outputs": [
    {
     "data": {
      "text/plain": [
       "4-element Vector{Float64}:\n",
       " -33.516910573020624\n",
       "   1.324692099136696\n",
       "   4.496214385533692\n",
       " 124.2022707520225"
      ]
     },
     "metadata": {},
     "output_type": "display_data"
    },
    {
     "data": {
      "text/plain": [
       "4×4 Matrix{Float64}:\n",
       " -0.487163  -0.735324   0.198975   0.0598732\n",
       " -0.33483    0.464208   0.805339  -0.547466\n",
       " -0.231902   0.407508  -0.177133   0.792403\n",
       "  0.799649  -0.318991   1.05404   -0.26517"
      ]
     },
     "metadata": {},
     "output_type": "display_data"
    },
    {
     "data": {
      "text/plain": [
       "72.55710292574939"
      ]
     },
     "metadata": {},
     "output_type": "display_data"
    }
   ],
   "source": [
    "E, C, kappa = SolveGenEig(H_mat, S_mat, thresh=\"projection\", eps=1e-20)\n",
    "display(E)\n",
    "display(C)\n",
    "display(kappa)"
   ]
  },
  {
   "cell_type": "code",
   "execution_count": 33,
   "id": "839cffeb-8d4f-449e-a4ff-fc1fc04a8cce",
   "metadata": {},
   "outputs": [
    {
     "data": {
      "text/plain": [
       "-0.20548104808214088"
      ]
     },
     "execution_count": 33,
     "metadata": {},
     "output_type": "execute_result"
    }
   ],
   "source": [
    "transpose(C[:,1])*S_mat*C[:,1]"
   ]
  },
  {
   "cell_type": "code",
   "execution_count": 3,
   "id": "dbca3964-b287-483f-823d-457d627f0419",
   "metadata": {},
   "outputs": [
    {
     "data": {
      "text/plain": [
       "6-element Vector{Float64}:\n",
       " 0.2749178041309873\n",
       " 0.7955334585424539\n",
       " 0.3285195829111224\n",
       " 0.8518114865275598\n",
       " 0.2255209542652915\n",
       " 0.4129112399919166"
      ]
     },
     "execution_count": 3,
     "metadata": {},
     "output_type": "execute_result"
    }
   ],
   "source": [
    "vec = rand(6)"
   ]
  },
  {
   "cell_type": "code",
   "execution_count": 7,
   "id": "96d44897-1454-45ed-8956-867007456cea",
   "metadata": {},
   "outputs": [
    {
     "data": {
      "text/plain": [
       "6-element Vector{Int64}:\n",
       " 4\n",
       " 2\n",
       " 6\n",
       " 3\n",
       " 1\n",
       " 5"
      ]
     },
     "execution_count": 7,
     "metadata": {},
     "output_type": "execute_result"
    }
   ],
   "source": [
    "perm1 = sortperm(vec)\n",
    "    \n",
    "rbonds = reverse(collect(1:6)[perm1])"
   ]
  },
  {
   "cell_type": "markdown",
   "id": "af9500df-9816-4a20-a651-0781f7a0f777",
   "metadata": {},
   "source": [
    "# "
   ]
  }
 ],
 "metadata": {
  "kernelspec": {
   "display_name": "Julia 1.7.3",
   "language": "julia",
   "name": "julia-1.7"
  },
  "language_info": {
   "file_extension": ".jl",
   "mimetype": "application/julia",
   "name": "julia",
   "version": "1.7.3"
  }
 },
 "nbformat": 4,
 "nbformat_minor": 5
}
