{
 "cells": [
  {
   "cell_type": "code",
   "execution_count": 7,
   "id": "286345d3-681b-4198-9b80-dc5e982459f9",
   "metadata": {},
   "outputs": [],
   "source": [
    "# Import modules and subroutines:\n",
    "\n",
    "include(\"../subroutines/Subroutines.jl\");"
   ]
  },
  {
   "cell_type": "code",
   "execution_count": 4,
   "id": "e42f1502-2af9-47bc-ae9f-a168623e74e3",
   "metadata": {},
   "outputs": [
    {
     "name": "stdout",
     "output_type": "stream",
     "text": [
      "Molecule name: h2o\n",
      "Basis set: sto-3g\n",
      "Molecular geometry: O 0.0 0.0 0.0; H 1.0 0.0 0.0; H 0.0 1.0 0.0; \n",
      "RHF energy: -74.96117113786774\n",
      "FCI energy: -75.01927599660624\n"
     ]
    }
   ],
   "source": [
    "# Load the chemical data into julia as an array of chemical data structs:\n",
    "# (one struct obtained for each molecular geometry as set up in the config file)\n",
    "\n",
    "cdata_list = ReadIn(\"../datasets/pyscf_data/h2o_sto-3g_080222%000756.hdf5\");\n",
    "\n",
    "chemical_data = cdata_list[1]\n",
    "\n",
    "println(\"Molecule name: \", chemical_data.mol_name)\n",
    "println(\"Basis set: \", chemical_data.basis)\n",
    "println(\"Molecular geometry: \", chemical_data.geometry)\n",
    "println(\"RHF energy: \", chemical_data.e_rhf)\n",
    "println(\"FCI energy: \", chemical_data.e_fci)"
   ]
  },
  {
   "cell_type": "code",
   "execution_count": 8,
   "id": "3f8aecd0-dedf-4c80-86f8-d9b034e7ec11",
   "metadata": {},
   "outputs": [],
   "source": [
    "# Set up the calculation:\n",
    "\n",
    "# MxM NO subspace:\n",
    "M = 10\n",
    "\n",
    "# Generate some random orderings:\n",
    "ord_list = [randperm(chemical_data.N_spt) for j=1:M]\n",
    "\n",
    "# Set up some sweep parameters:\n",
    "opt_sweeps = Sweeps(4) # number of sweeps is 5\n",
    "maxdim!(opt_sweeps,6) # gradually increase states kept\n",
    "cutoff!(opt_sweeps,1E-6) # desired truncation error\n",
    "setnoise!(opt_sweeps, 1e-4)\n",
    "\n",
    "# Set up the Hamiltonian MPO:\n",
    "hf_ord = collect(1:chemical_data.N_spt)\n",
    "sites = siteinds(\"Electron\", chemical_data.N_spt, conserve_qns=true);"
   ]
  },
  {
   "cell_type": "code",
   "execution_count": 9,
   "id": "91b8d01b-6ae9-4b70-b00f-b86a9e1f5582",
   "metadata": {
    "tags": []
   },
   "outputs": [
    {
     "name": "stdout",
     "output_type": "stream",
     "text": [
      "Generating states:\n",
      "Progress: [1/10]\n",
      "Progress: [2/10]\n",
      "Progress: [3/10]\n",
      "Progress: [4/10]\n",
      "Progress: [5/10]\n",
      "Progress: [6/10]\n",
      "Progress: [7/10]\n",
      "Progress: [8/10]\n",
      "Progress: [9/10]\n",
      "Progress: [10/10]\n",
      "Done!\n",
      "Matrix elements:\n",
      "Progress: [10/55]\n",
      "Progress: [19/55]\n",
      "Progress: [27/55]\n",
      "Progress: [34/55]\n",
      "Progress: [40/55]\n",
      "Progress: [45/55]\n",
      "Progress: [49/55]\n",
      "Progress: [52/55]\n",
      "Progress: [54/55]\n",
      "Progress: [55/55]\n"
     ]
    }
   ],
   "source": [
    "# Get the H and S matrices:\n",
    "\n",
    "psi_list, ham_list = GenStates(\n",
    "    chemical_data, \n",
    "    sites, \n",
    "    ord_list, \n",
    "    opt_sweeps, \n",
    "    ovlp_opt=true, \n",
    "    weight=0.5, \n",
    "    prior_states=[],\n",
    "    perm_tol=1E-8, \n",
    "    perm_maxdim=1000, \n",
    "    ham_tol=1E-5, \n",
    "    ham_maxdim=1000, \n",
    "    spinpair=false, \n",
    "    spatial=true, \n",
    "    singleham=false,\n",
    "    verbose=true\n",
    ")\n",
    "\n",
    "H_mat, S_mat, = GenSubspaceMats(\n",
    "    chemical_data, \n",
    "    sites, \n",
    "    ord_list, \n",
    "    psi_list,\n",
    "    ham_list,\n",
    "    perm_tol=1E-8, \n",
    "    perm_maxdim=1000, \n",
    "    spinpair=false, \n",
    "    spatial=true, \n",
    "    singleham=false,\n",
    "    verbose=true\n",
    ");"
   ]
  },
  {
   "cell_type": "code",
   "execution_count": 10,
   "id": "5875d583-7b1a-4486-a114-301fb50fb551",
   "metadata": {},
   "outputs": [
    {
     "name": "stdout",
     "output_type": "stream",
     "text": [
      "Minimum eigenvalue: -83.84838334452328\n",
      "Condition number: 130.56184338579504\n",
      "FCI energy: -75.01927599660624\n",
      "Final energy estimate: -75.00736317551237\n",
      "Best single ref. estimate: -74.99448805312066\n"
     ]
    }
   ],
   "source": [
    "# Solve the generalized eigenvalue problem:\n",
    "\n",
    "E, C, kappa = SolveGenEig(H_mat, S_mat, thresh=\"none\", eps=1e-8)\n",
    "\n",
    "println(\"Minimum eigenvalue: \", minimum(filter(!isnan,E)))\n",
    "println(\"Condition number: \", kappa)\n",
    "\n",
    "println(\"FCI energy: \", chemical_data.e_fci)\n",
    "println(\"Final energy estimate: \", minimum(filter(!isnan,E))+chemical_data.e_nuc)\n",
    "println(\"Best single ref. estimate: \", minimum(diag(H_mat))+chemical_data.e_nuc)"
   ]
  },
  {
   "cell_type": "code",
   "execution_count": 11,
   "id": "957a0da2-13ad-4bb9-be9e-b954115d6a99",
   "metadata": {},
   "outputs": [
    {
     "name": "stdout",
     "output_type": "stream",
     "text": [
      "-83.84838334452328\n"
     ]
    }
   ],
   "source": [
    "println(E[1])"
   ]
  },
  {
   "cell_type": "code",
   "execution_count": 12,
   "id": "77d4cc27-833a-4c46-bb7a-4a09315d8872",
   "metadata": {},
   "outputs": [
    {
     "name": "stdout",
     "output_type": "stream",
     "text": [
      "-75.00720887400463\n",
      "6\n",
      "[[3, 6, 2, 7, 5, 1, 4], [7, 2, 6, 4, 1, 3, 5], [7, 6, 4, 1, 3, 2, 5], [6, 2, 5, 4, 1, 7, 3], [5, 3, 7, 1, 6, 2, 4], [3, 5, 1, 7, 6, 2, 4]]\n"
     ]
    }
   ],
   "source": [
    "cutoff = 0.02\n",
    "\n",
    "vec1 = C[:,1]\n",
    "vec1[abs.(vec1) .< cutoff] .= 0.0\n",
    "vec1 = vec1/sqrt(transpose(vec1) * S_mat * vec1)\n",
    "println(transpose(vec1) * H_mat * vec1 + chemical_data.e_nuc)\n",
    "println(sum(abs.(vec1) .> cutoff))\n",
    "println(ord_list[abs.(vec1) .> cutoff])"
   ]
  }
 ],
 "metadata": {
  "kernelspec": {
   "display_name": "Julia 1.7.3",
   "language": "julia",
   "name": "julia-1.7"
  },
  "language_info": {
   "file_extension": ".jl",
   "mimetype": "application/julia",
   "name": "julia",
   "version": "1.7.3"
  }
 },
 "nbformat": 4,
 "nbformat_minor": 5
}
