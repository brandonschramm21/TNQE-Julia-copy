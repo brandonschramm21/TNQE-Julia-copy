{
 "cells": [
  {
   "cell_type": "code",
   "execution_count": 4,
   "id": "8424bd49-c29f-432c-93de-17008e6477d2",
   "metadata": {},
   "outputs": [],
   "source": [
    "# Import Subroutines:\n",
    "\n",
    "include(\"../subroutines/Subroutines.jl\");"
   ]
  },
  {
   "cell_type": "code",
   "execution_count": 5,
   "id": "dc1eaef3-2678-409b-902b-08d5105d0f78",
   "metadata": {},
   "outputs": [
    {
     "data": {
      "text/plain": [
       "PyObject <PyIO object at 0x7fd282ed3cd0>"
      ]
     },
     "execution_count": 5,
     "metadata": {},
     "output_type": "execute_result"
    }
   ],
   "source": [
    "pyimport(\"sys\").\"stdout\" = PyTextIO(stdout)\n",
    "pyimport(\"sys\").\"stderr\" = PyTextIO(stderr)"
   ]
  },
  {
   "cell_type": "raw",
   "id": "bc9e9caa-35c6-4765-b57d-9821b554fa8e",
   "metadata": {},
   "source": [
    "# Fetch a config file and generate some chemical data:\n",
    "\n",
    "py\"\"\"\n",
    "config = configparser.ConfigParser()\n",
    "config.read(wd+'/../configs/Fe2S2-test-loc.ini')\n",
    "RunPySCF.RunPySCF(config, gen_cubes=True)\n",
    "\"\"\""
   ]
  },
  {
   "cell_type": "code",
   "execution_count": 6,
   "id": "fcb8747e-7233-4654-93bd-2481bcaefdd6",
   "metadata": {},
   "outputs": [
    {
     "name": "stdout",
     "output_type": "stream",
     "text": [
      "Molecule name: [Fe2S2(SCH3)4]^2-\n",
      "Basis set: def2-svp\n",
      "Molecular geometry: ../configs/xyz_files/Fe2S2_complex.xyz\n",
      "RHF energy: -5013.924498117069\n",
      "FCI energy: 0.0\n"
     ]
    }
   ],
   "source": [
    "# Load the chemical data into julia as an array of chemical data structs:\n",
    "# (one struct obtained for each molecular geometry as set up in the config file)\n",
    "\n",
    "cdata_list = ReadIn(\"../datasets/pyscf_data/[Fe2S2(SCH3)4]^2-_def2-svp_090622%130341.hdf5\");\n",
    "\n",
    "chemical_data = cdata_list[1]\n",
    "\n",
    "println(\"Molecule name: \", chemical_data.mol_name)\n",
    "println(\"Basis set: \", chemical_data.basis)\n",
    "println(\"Molecular geometry: \", chemical_data.geometry)\n",
    "println(\"RHF energy: \", chemical_data.e_rhf)\n",
    "println(\"FCI energy: \", chemical_data.e_fci)"
   ]
  },
  {
   "cell_type": "code",
   "execution_count": 7,
   "id": "d175c2bf-6790-4994-a45d-78b8eadbda1b",
   "metadata": {},
   "outputs": [
    {
     "name": "stdout",
     "output_type": "stream",
     "text": [
      "-4973.453875400021\n"
     ]
    }
   ],
   "source": [
    "println(ClosedShellEHF(chemical_data)+chemical_data.e_nuc)"
   ]
  },
  {
   "cell_type": "code",
   "execution_count": 9,
   "id": "f07d10aa-c71e-450c-b53f-24d3a919fa24",
   "metadata": {},
   "outputs": [
    {
     "name": "stdout",
     "output_type": "stream",
     "text": [
      "30\n",
      "1237.7388345540714\n"
     ]
    }
   ],
   "source": [
    "active_data = ActiveSpace(chemical_data, reduce(vcat,[collect(75:79),[81,82,85],collect(87:98)]))\n",
    "\n",
    "println(active_data.N_el)\n",
    "\n",
    "println(ClosedShellEHF(active_data)+active_data.e_nuc)"
   ]
  },
  {
   "cell_type": "code",
   "execution_count": null,
   "id": "d20100a3-7f1f-4ef2-962f-549eae1c8b9a",
   "metadata": {},
   "outputs": [
    {
     "name": "stderr",
     "output_type": "stream",
     "text": [
      "WARNING: Force throwing a SIGINT\n"
     ]
    }
   ],
   "source": [
    "# Generate an MPO representation of the Hamiltonian (with the generic HF orbital ordering):\n",
    "\n",
    "hf_ord = collect(1:active_data.N_spt)\n",
    "\n",
    "sites = siteinds(\"Electron\", active_data.N_spt, conserve_qns=true)\n",
    "\n",
    "opsum = GenOpSum(active_data, hf_ord, tol=1E-12)\n",
    "\n",
    "H = MPO(opsum, sites, cutoff=1E-6, maxdim=2048);\n",
    "\n",
    "println(\"Got H!\")\n",
    "\n",
    "# Run a DMRG calculation and output the energy estimate, particle density distribution and total particle number:\n",
    "\n",
    "sweeps = Sweeps(10) # number of sweeps is 5\n",
    "maxdim!(sweeps,10,20,50,100,200) # gradually increase states kept\n",
    "cutoff!(sweeps,1E-10) # desired truncation error\n",
    "setnoise!(sweeps, 1e-6, 1e-7, 1e-8, 0.0)\n",
    "\n",
    "hf_occ = [FillHF(hf_ord[i], active_data.N_el) for i=1:active_data.N_spt]\n",
    "psi0 = randomMPS(sites, hf_occ)\n",
    "\n",
    "e_dmrg, psi = dmrg(H, psi0, sweeps)\n",
    "\n",
    "e_corr = e_dmrg - ClosedShellEHF(active_data)\n",
    "\n",
    "println(\"DMRG energy: \", ClosedShellEHF(chemical_data) + chemical_data.e_nuc + e_corr)"
   ]
  },
  {
   "cell_type": "code",
   "execution_count": null,
   "id": "567c6645-da97-4f0d-8fc8-5b982a99d96a",
   "metadata": {},
   "outputs": [],
   "source": []
  }
 ],
 "metadata": {
  "kernelspec": {
   "display_name": "Julia 1.7.3",
   "language": "julia",
   "name": "julia-1.7"
  },
  "language_info": {
   "file_extension": ".jl",
   "mimetype": "application/julia",
   "name": "julia",
   "version": "1.7.3"
  }
 },
 "nbformat": 4,
 "nbformat_minor": 5
}
