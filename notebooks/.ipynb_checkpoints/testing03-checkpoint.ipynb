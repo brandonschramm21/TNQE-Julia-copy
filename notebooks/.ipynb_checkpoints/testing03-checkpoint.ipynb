{
 "cells": [
  {
   "cell_type": "markdown",
   "id": "27a74f43-3fd0-485c-ab53-6b1588bf7b29",
   "metadata": {},
   "source": [
    "# Testing Notebook"
   ]
  },
  {
   "cell_type": "code",
   "execution_count": 1,
   "id": "1fea67b7-035e-480d-b38e-a916e87328fd",
   "metadata": {},
   "outputs": [],
   "source": [
    "# Import modules:\n",
    "\n",
    "using ITensors\n",
    "using HDF5\n",
    "using Random\n",
    "using PyCall\n",
    "using Graphs\n",
    "using SimpleWeightedGraphs\n",
    "using Plots\n",
    "using GraphRecipes"
   ]
  },
  {
   "cell_type": "code",
   "execution_count": 2,
   "id": "6dfbe310-1850-403d-a6ce-c230a4b72c9c",
   "metadata": {},
   "outputs": [],
   "source": [
    "# Import Subroutines:\n",
    "\n",
    "include(\"../subroutines/Subroutines.jl\");"
   ]
  },
  {
   "cell_type": "code",
   "execution_count": 3,
   "id": "a7894e7c-effd-4ba0-b64a-0bb9a9dac2a7",
   "metadata": {
    "jupyter": {
     "source_hidden": true
    },
    "tags": []
   },
   "outputs": [],
   "source": [
    "#pyimport(\"sys\").\"stdout\" = PyTextIO(stdout)\n",
    "#pyimport(\"sys\").\"stderr\" = PyTextIO(stderr)"
   ]
  },
  {
   "cell_type": "code",
   "execution_count": 4,
   "id": "769700d1-1460-481b-86e1-027775c8da43",
   "metadata": {},
   "outputs": [],
   "source": [
    "# Import Python modules, including the RunPySCF subroutines in Python in order to use PySCF:\n",
    "\n",
    "py\"\"\"\n",
    "import sys\n",
    "import os\n",
    "import configparser\n",
    "wd = os.getcwd()\n",
    "sys.path.append(wd+'/../subroutines/')\n",
    "import RunPySCF\n",
    "\"\"\""
   ]
  },
  {
   "cell_type": "code",
   "execution_count": 5,
   "id": "bf533303-5d94-45e3-a5b9-66e8dc319bb3",
   "metadata": {},
   "outputs": [
    {
     "name": "stdout",
     "output_type": "stream",
     "text": [
      "converged SCF energy = -74.9611711378677\n"
     ]
    }
   ],
   "source": [
    "# Fetch a config file and generate some chemical data:\n",
    "\n",
    "py\"\"\"\n",
    "config = configparser.ConfigParser()\n",
    "config.read(wd+'/../configs/h2o-test-single-geom.ini')\n",
    "RunPySCF.RunPySCF(config)\n",
    "\"\"\""
   ]
  },
  {
   "cell_type": "code",
   "execution_count": 6,
   "id": "f200fc8e-b09d-4df8-94e7-179b4caf886a",
   "metadata": {},
   "outputs": [
    {
     "name": "stdout",
     "output_type": "stream",
     "text": [
      "Molecule name: h2o\n",
      "Basis set: sto-3g\n",
      "Molecular geometry: O 0.0 0.0 0.0; H 1.0 0.0 0.0; H 0.0 1.0 0.0; \n",
      "RHF energy: -74.96117113786774\n",
      "FCI energy: -75.01927599660624\n"
     ]
    }
   ],
   "source": [
    "# Load the chemical data into julia as an array of chemical data structs:\n",
    "# (one struct obtained for each molecular geometry as set up in the config file)\n",
    "\n",
    "cdata_list = ReadIn(\"../datasets/pyscf_data/h2o_sto-3g_080222%000756.hdf5\");\n",
    "\n",
    "chemical_data = cdata_list[1]\n",
    "\n",
    "println(\"Molecule name: \", chemical_data.mol_name)\n",
    "println(\"Basis set: \", chemical_data.basis)\n",
    "println(\"Molecular geometry: \", chemical_data.geometry)\n",
    "println(\"RHF energy: \", chemical_data.e_rhf)\n",
    "println(\"FCI energy: \", chemical_data.e_fci)"
   ]
  },
  {
   "cell_type": "code",
   "execution_count": 7,
   "id": "2399acf6-36bc-4dca-b1d8-0dd682fdb9a9",
   "metadata": {},
   "outputs": [],
   "source": [
    "# Generate an MPO representation of the Hamiltonian (with the generic HF orbital ordering):\n",
    "\n",
    "hf_ord = collect(1:chemical_data.N_spt)\n",
    "\n",
    "sites = siteinds(\"Fermion\", chemical_data.N)\n",
    "\n",
    "opsum = GenOpSum(chemical_data, hf_ord)\n",
    "\n",
    "H = MPO(opsum, sites, cutoff=1E-40, maxdim=100000);"
   ]
  },
  {
   "cell_type": "code",
   "execution_count": 8,
   "id": "ccd9abb1-114d-40e8-b493-1d2e2677d9ba",
   "metadata": {},
   "outputs": [
    {
     "name": "stdout",
     "output_type": "stream",
     "text": [
      "HF energy: -74.96117113786768\n"
     ]
    }
   ],
   "source": [
    "# Generate the HF bitstring product state:\n",
    "\n",
    "hf_spnord = Spatial2SpinOrd(hf_ord)\n",
    "\n",
    "hf_occ = [FillHF(hf_spnord[i], chemical_data.N_el) for i=1:chemical_data.N]\n",
    "\n",
    "psi_hf = MPS(sites, hf_occ)\n",
    "\n",
    "e_hf = inner(psi_hf', H, psi_hf)\n",
    "\n",
    "println(\"HF energy: \", e_hf + chemical_data.e_nuc)"
   ]
  },
  {
   "cell_type": "code",
   "execution_count": 9,
   "id": "2a853832-8222-4dad-b0dd-0ff4874fdb47",
   "metadata": {},
   "outputs": [
    {
     "name": "stdout",
     "output_type": "stream",
     "text": [
      "After sweep 1 energy=-83.85706415540294  maxlinkdim=10 maxerr=1.67E-05 time=17.536\n",
      "After sweep 2 energy=-83.85937518063085  maxlinkdim=20 maxerr=1.14E-06 time=0.452\n",
      "After sweep 3 energy=-83.86027996222987  maxlinkdim=50 maxerr=1.33E-07 time=1.164\n",
      "After sweep 4 energy=-83.86029598596554  maxlinkdim=25 maxerr=8.30E-11 time=1.852\n",
      "After sweep 5 energy=-83.86029603008033  maxlinkdim=25 maxerr=8.23E-11 time=0.545\n",
      "After sweep 6 energy=-83.86029603800003  maxlinkdim=25 maxerr=9.65E-11 time=0.556\n",
      "After sweep 7 energy=-83.8602960386014  maxlinkdim=25 maxerr=9.64E-11 time=0.559\n",
      "After sweep 8 energy=-83.86029603912016  maxlinkdim=25 maxerr=9.63E-11 time=0.565\n",
      "After sweep 9 energy=-83.8602960395518  maxlinkdim=25 maxerr=9.63E-11 time=0.569\n",
      "After sweep 10 energy=-83.8602960399062  maxlinkdim=25 maxerr=9.63E-11 time=0.568\n",
      "DMRG energy: -75.01927587089529\n",
      "Expected particle number: 10\n",
      "Particle number: 9.999999999996259\n"
     ]
    }
   ],
   "source": [
    "# Run a DMRG calculation and output the energy estimate, particle density distribution and total particle number:\n",
    "\n",
    "sweeps = Sweeps(10) # number of sweeps is 5\n",
    "maxdim!(sweeps,10,20,50,100,200) # gradually increase states kept\n",
    "cutoff!(sweeps,1E-10) # desired truncation error\n",
    "setnoise!(sweeps, 1e-6, 1e-7, 1e-8, 0.0)\n",
    "\n",
    "psi0 = randomMPS(sites, hf_occ)\n",
    "\n",
    "e_dmrg, psi = dmrg(H, psi0, sweeps)\n",
    "\n",
    "println(\"DMRG energy: \", e_dmrg + chemical_data.e_nuc)\n",
    "\n",
    "dens = expect(psi,\"N\")\n",
    "#println(\"Site densities: \", dens)\n",
    "println(\"Expected particle number: \", chemical_data.N_el)\n",
    "println(\"Particle number: \", sum(dens))"
   ]
  },
  {
   "cell_type": "raw",
   "id": "131634a9-f4a5-41db-8068-b4948adad3c8",
   "metadata": {},
   "source": [
    "# Compute the mutual information:\n",
    "\n",
    "Ipq = MutualInformation(psi, chemical_data);"
   ]
  },
  {
   "cell_type": "raw",
   "id": "dc224105-fe65-4d6d-934a-13549df8d84b",
   "metadata": {},
   "source": [
    "graphplot(Ipq, \n",
    "    method=:circular,\n",
    "    curves=false, \n",
    "    names=[lpad(string(i), 2, '0') for i in hf_spnord], \n",
    "    edgewidth=450*Ipq, \n",
    "    nodesize=0.2, \n",
    "    fontsize=8, \n",
    "    nodecolor=7, \n",
    "    nodeshape=:circle,\n",
    "    linealpha=0.9,\n",
    "    nodestrokealpha=0.0,\n",
    "    edgecolor=:darkcyan\n",
    ")"
   ]
  },
  {
   "cell_type": "code",
   "execution_count": 10,
   "id": "025eaeb2-013c-4150-8de1-eec3c9bde0c7",
   "metadata": {},
   "outputs": [
    {
     "name": "stdout",
     "output_type": "stream",
     "text": [
      "[1, 6, 7, 3, 5, 4, 2]\n",
      "After sweep 1 energy=-83.85568213752214  maxlinkdim=10 maxerr=1.30E-05 time=0.106\n",
      "After sweep 2 energy=-83.85936069165247  maxlinkdim=20 maxerr=8.68E-07 time=0.434\n",
      "After sweep 3 energy=-83.86029157299848  maxlinkdim=50 maxerr=3.87E-09 time=1.516\n",
      "After sweep 4 energy=-83.86029613799359  maxlinkdim=27 maxerr=7.79E-11 time=1.265\n",
      "After sweep 5 energy=-83.86029616444527  maxlinkdim=27 maxerr=4.34E-11 time=0.657\n",
      "After sweep 6 energy=-83.86029616458421  maxlinkdim=27 maxerr=4.21E-11 time=0.648\n",
      "After sweep 7 energy=-83.86029616458745  maxlinkdim=27 maxerr=4.16E-11 time=0.650\n",
      "After sweep 8 energy=-83.86029616458768  maxlinkdim=27 maxerr=4.16E-11 time=0.660\n",
      "After sweep 9 energy=-83.86029616458748  maxlinkdim=27 maxerr=4.16E-11 time=0.669\n",
      "After sweep 10 energy=-83.86029616458737  maxlinkdim=27 maxerr=4.16E-11 time=0.675\n",
      "DMRG energy: -75.01927599557645\n",
      "Expected particle number: 10\n",
      "Particle number: 10.000000000000004\n",
      "[1, 2, 3, 4, 5, 6, 7, 8, 9, 10, 11, 12, 13, 14]\n",
      "DMRG energy after permutation: -74.97046401383935\n",
      "0.9893807355149378\n"
     ]
    }
   ],
   "source": [
    "# Testing the permutation functionality:\n",
    "\n",
    "perm_ord = randperm(chemical_data.N_spt)\n",
    "println(perm_ord)\n",
    "\n",
    "pH, ppsi, pe_dmrg = RunDMRG(chemical_data, sites, perm_ord, sweeps, mpo_cutoff=1E-40, mpo_maxdim=100000)\n",
    "\n",
    "println(\"DMRG energy: \", pe_dmrg + chemical_data.e_nuc)\n",
    "\n",
    "dens = expect(ppsi,\"N\")\n",
    "#println(\"Site densities: \", dens)\n",
    "println(\"Expected particle number: \", chemical_data.N_el)\n",
    "println(\"Particle number: \", sum(dens))\n",
    "\n",
    "permuted_ppsi = Permute(ppsi, sites, perm_ord, hf_ord, spatial=true, tol=1E-40, maxdim=100000)\n",
    "\n",
    "permuted_pe_dmrg = inner(permuted_ppsi', H, permuted_ppsi)\n",
    "\n",
    "println(\"DMRG energy after permutation: \", permuted_pe_dmrg + chemical_data.e_nuc)\n",
    "\n",
    "ovlp = inner(permuted_ppsi, psi)\n",
    "\n",
    "println(ovlp)"
   ]
  },
  {
   "cell_type": "code",
   "execution_count": null,
   "id": "96cf55e7-9106-4da4-a0ad-da0f692a13b3",
   "metadata": {},
   "outputs": [],
   "source": []
  }
 ],
 "metadata": {
  "kernelspec": {
   "display_name": "Julia 1.7.3",
   "language": "julia",
   "name": "julia-1.7"
  },
  "language_info": {
   "file_extension": ".jl",
   "mimetype": "application/julia",
   "name": "julia",
   "version": "1.7.3"
  }
 },
 "nbformat": 4,
 "nbformat_minor": 5
}
