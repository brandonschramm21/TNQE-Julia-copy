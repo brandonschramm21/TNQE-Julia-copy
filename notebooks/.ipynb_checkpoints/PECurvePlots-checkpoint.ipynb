{
 "cells": [
  {
   "cell_type": "code",
   "execution_count": 1,
   "id": "50410670-6418-4d18-9310-92085a132490",
   "metadata": {},
   "outputs": [
    {
     "name": "stdout",
     "output_type": "stream",
     "text": [
      "3.10.9\n"
     ]
    }
   ],
   "source": [
    "# Import modules and subroutines:\n",
    "using ConfParser\n",
    "using LaTeXStrings\n",
    "include(\"../subroutines/Subroutines.jl\");"
   ]
  },
  {
   "cell_type": "code",
   "execution_count": 2,
   "id": "2d892444-3314-4542-884a-56910a89d27b",
   "metadata": {},
   "outputs": [
    {
     "name": "stdout",
     "output_type": "stream",
     "text": [
      "Molecule name: h2o_1p8A\n",
      "Basis set: sto-3g\n",
      "Molecular geometry: ../configs/xyz_files/h2o_double_dissoc/1p8.xyz\n",
      "RHF energy: -74.51129616870286\n",
      "FCI energy: -74.79063381243297\n",
      "Molecule name: h2o_2p0A\n",
      "Basis set: sto-3g\n",
      "Molecular geometry: ../configs/xyz_files/h2o_double_dissoc/2p0.xyz\n",
      "RHF energy: -74.40123645839991\n",
      "FCI energy: -74.76201009070276\n",
      "Molecule name: h2o_2p2A\n",
      "Basis set: sto-3g\n",
      "Molecular geometry: ../configs/xyz_files/h2o_double_dissoc/2p2.xyz\n",
      "RHF energy: -74.33041073725958\n",
      "FCI energy: -74.74829392590965\n",
      "Molecule name: h2o_2p4A\n",
      "Basis set: sto-3g\n",
      "Molecular geometry: ../configs/xyz_files/h2o_double_dissoc/2p4.xyz\n",
      "RHF energy: -74.29633215630733\n",
      "FCI energy: -74.74206584168074\n",
      "Molecule name: h2o_2p6A\n",
      "Basis set: sto-3g\n",
      "Molecular geometry: ../configs/xyz_files/h2o_double_dissoc/2p6.xyz\n",
      "RHF energy: -74.28014717418989\n",
      "FCI energy: -74.73939432913508\n",
      "Molecule name: h2o_2p8A\n",
      "Basis set: sto-3g\n",
      "Molecular geometry: ../configs/xyz_files/h2o_double_dissoc/2p8.xyz\n",
      "RHF energy: -74.27080055681118\n",
      "FCI energy: -74.73802086365612\n",
      "Molecule name: h2o_3p0A\n",
      "Basis set: sto-3g\n",
      "Molecular geometry: ../configs/xyz_files/h2o_double_dissoc/3p0.xyz\n",
      "RHF energy: -74.26486152163768\n",
      "FCI energy: -74.73752063754024\n"
     ]
    }
   ],
   "source": [
    "# Load data and config parameters:\n",
    "fid = h5open(\"../datasets/tnqe_data/h2o_stretch_2023-05-23.h5\", \"r\")\n",
    "\n",
    "conf_path = read(fid[\"conf_path\"])\n",
    "\n",
    "conf, op_list, gp_list, swp_list = FetchConfig(\"../$(conf_path)\")\n",
    "\n",
    "# Load chemical data:\n",
    "cdata_list = []\n",
    "\n",
    "for m=1:conf.nmol\n",
    "\n",
    "    cdata = ReadIn(\"../\"*conf.pyscf_paths[m])[1];\n",
    "    push!(cdata_list, cdata)\n",
    "    PrintChemData(cdata)\n",
    "    \n",
    "end"
   ]
  },
  {
   "cell_type": "code",
   "execution_count": 3,
   "id": "0b10f8bf-0a77-45b1-b49f-09d76478f9ee",
   "metadata": {},
   "outputs": [
    {
     "data": {
      "text/plain": [
       "7-element Vector{Float64}:\n",
       " -74.75672075307956\n",
       " -74.76169484339339\n",
       " -74.7479946330185\n",
       " -74.74193014998978\n",
       " -74.73901534175572\n",
       " -74.73744259343825\n",
       " -74.73724028052996"
      ]
     },
     "metadata": {},
     "output_type": "display_data"
    },
    {
     "data": {
      "text/plain": [
       "7-element Vector{Float64}:\n",
       " -74.62139090353821\n",
       " -74.66262207663293\n",
       " -74.73860952232896\n",
       " -74.73603426293955\n",
       " -74.73738982868524\n",
       " -74.69091451496159\n",
       " -74.73689417763904"
      ]
     },
     "metadata": {},
     "output_type": "display_data"
    },
    {
     "data": {
      "text/plain": [
       "7-element Vector{Float64}:\n",
       " -74.79021722785643\n",
       " -74.76121643367232\n",
       " -74.72668775989067\n",
       " -74.74036680516922\n",
       " -74.7380831403103\n",
       " -74.73646619908969\n",
       " -74.737450293169"
      ]
     },
     "metadata": {},
     "output_type": "display_data"
    },
    {
     "data": {
      "text/plain": [
       "7-element Vector{Float64}:\n",
       " -74.78805067859601\n",
       " -74.75715098196221\n",
       " -74.73980093165376\n",
       " -74.7417145266889\n",
       " -74.7387150780956\n",
       " -74.73767850056592\n",
       " -74.73755496817866"
      ]
     },
     "metadata": {},
     "output_type": "display_data"
    }
   ],
   "source": [
    "# Collect the potential energy curves:\n",
    "\n",
    "e_rhf_vec = [cdata_list[m].e_rhf for m=1:length(cdata_list)]\n",
    "e_fci_vec = [cdata_list[m].e_fci for m=1:length(cdata_list)]\n",
    "\n",
    "atz_labels = conf.atz_name\n",
    "\n",
    "e_atz_vecs = []\n",
    "for a=1:conf.n_atz\n",
    "    e_atz_vec = [read(fid[\"$(conf.mol_names[m])/$(conf.atz_name[a])/E\"])[1] + cdata_list[m].e_nuc for m=1:conf.nmol]\n",
    "    push!(e_atz_vecs, e_atz_vec)\n",
    "    display(e_atz_vec)\n",
    "end"
   ]
  },
  {
   "cell_type": "code",
   "execution_count": 4,
   "id": "ee490e0d-f329-4168-a275-ae883ef5bcf4",
   "metadata": {},
   "outputs": [
    {
     "data": {
      "text/plain": [
       "4-element Vector{String}:\n",
       " \"dmrg8\"\n",
       " \"dmrg3\"\n",
       " \"nomps\"\n",
       " \"tnqe\""
      ]
     },
     "metadata": {},
     "output_type": "display_data"
    }
   ],
   "source": [
    "display(atz_labels)"
   ]
  },
  {
   "cell_type": "code",
   "execution_count": null,
   "id": "65b234b4-f87f-4f7b-bfcc-54f25ea21168",
   "metadata": {},
   "outputs": [],
   "source": []
  },
  {
   "cell_type": "code",
   "execution_count": 6,
   "id": "f370dd3f-876a-4b42-b003-e17ddf2b0006",
   "metadata": {},
   "outputs": [
    {
     "data": {
      "text/plain": [
       "\"/home/oskar/Documents/TNQE/TNQE-Julia/plots/test.pdf\""
      ]
     },
     "execution_count": 6,
     "metadata": {},
     "output_type": "execute_result"
    }
   ],
   "source": [
    "# Plot the potential energy curves:\n",
    "\n",
    "# x-axis information:\n",
    "x_vals = [1.8,2.0,2.2,2.4,2.6,2.8,3.0]\n",
    "x_label = L\"r\\quad(\\AA)\"\n",
    "\n",
    "# Plot title:\n",
    "title = \"Double-dissociation of H2O in STO-3G basis\"\n",
    "\n",
    "bond_lengths = [1.8,2.0,2.2,2.4,2.6,2.8,3.0]\n",
    "\n",
    "using LaTeXStrings\n",
    "\n",
    "plot(\n",
    "    x_vals, \n",
    "    e_rhf_vec, \n",
    "    color=RGB(0.7,0.7,0.7), \n",
    "    linewidth=2.0,\n",
    "    label=\"RHF\",\n",
    "    title=title,\n",
    "    titlefontsize=11.0,\n",
    "    titlefont=font(14,\"Computer Modern\"),\n",
    "    xguide=x_label,\n",
    "    yguide=L\"E\\quad(\\textrm{Ha.})\",\n",
    "    size=(700,500)\n",
    ")\n",
    "\n",
    "plot!(\n",
    "    x_vals, \n",
    "    e_fci_vec, \n",
    "    color=RGB(0.3,0.3,0.3), \n",
    "    linewidth=2.0,\n",
    "    label=\"FCI\"\n",
    ")\n",
    "\n",
    "for a=3:conf.n_atz\n",
    "    \n",
    "    plot!(\n",
    "        x_vals, \n",
    "        e_atz_vecs[a], \n",
    "        linewidth=2.0,\n",
    "        markersize=4,\n",
    "        markershape=:circle,\n",
    "        label=atz_labels[a]\n",
    "    )\n",
    "    \n",
    "end\n",
    "\n",
    "\n",
    "savefig(\"../plots/test.pdf\")"
   ]
  },
  {
   "cell_type": "code",
   "execution_count": null,
   "id": "978414ed-bff7-4af3-b735-6d0ce52049c9",
   "metadata": {},
   "outputs": [],
   "source": [
    "plot!(\n",
    "    bond_lengths, \n",
    "    e_dmrg8_vec, \n",
    "    color=RGB(0.4,0.4,1.0), \n",
    "    linewidth=2.0,\n",
    "    markersize=4,\n",
    "    markershape=:circle,\n",
    "    label=\"DMRG; m=8\"\n",
    ")\n",
    "\n",
    "plot!(\n",
    "    bond_lengths, \n",
    "    e_dmrg3_vec, \n",
    "    color=RGB(0.3,0.8,0.5), \n",
    "    linewidth=2.0,\n",
    "    markersize=4,\n",
    "    markershape=:circle,\n",
    "    label=\"DMRG; m=3\"\n",
    ")\n",
    "\n",
    "plot!(\n",
    "    bond_lengths, \n",
    "    e_nomps_vec, \n",
    "    color=color=RGB(1.0,0.8,0.3), \n",
    "    linewidth=2.0,\n",
    "    markersize=4,\n",
    "    markershape=:circle,\n",
    "    label=\"Cl. NOMPS; M=5, m=3\"\n",
    ")\n",
    "\n",
    "plot!(\n",
    "    bond_lengths, \n",
    "    e_tnqe_vec, \n",
    "    color=color=RGB(1.0,0.4,0.4), \n",
    "    linewidth=2.0,\n",
    "    markersize=4,\n",
    "    markershape=:circle,\n",
    "    label=\"TNQE (NOMPS); M=5, m=3\"\n"
   ]
  },
  {
   "cell_type": "code",
   "execution_count": 9,
   "id": "07940e04-8e1b-4627-8966-edeeb67f22c2",
   "metadata": {},
   "outputs": [
    {
     "data": {
      "text/plain": [
       "0.1"
      ]
     },
     "execution_count": 9,
     "metadata": {},
     "output_type": "execute_result"
    }
   ],
   "source": [
    "parse(Float64, \"1e-1\")"
   ]
  },
  {
   "cell_type": "code",
   "execution_count": null,
   "id": "8ab2a4ee-16a0-42d9-aa19-386f5a8f284f",
   "metadata": {},
   "outputs": [],
   "source": []
  }
 ],
 "metadata": {
  "kernelspec": {
   "display_name": "Julia 1.7.3",
   "language": "julia",
   "name": "julia-1.7"
  },
  "language_info": {
   "file_extension": ".jl",
   "mimetype": "application/julia",
   "name": "julia",
   "version": "1.7.3"
  }
 },
 "nbformat": 4,
 "nbformat_minor": 5
}
