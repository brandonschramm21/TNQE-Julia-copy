{
 "cells": [
  {
   "cell_type": "code",
   "execution_count": 2,
   "id": "50410670-6418-4d18-9310-92085a132490",
   "metadata": {},
   "outputs": [
    {
     "name": "stdout",
     "output_type": "stream",
     "text": [
      "3.10.9\n"
     ]
    }
   ],
   "source": [
    "# Import modules and subroutines:\n",
    "using ConfParser\n",
    "using LaTeXStrings\n",
    "include(\"../subroutines/Subroutines.jl\");"
   ]
  },
  {
   "cell_type": "code",
   "execution_count": 3,
   "id": "2d892444-3314-4542-884a-56910a89d27b",
   "metadata": {},
   "outputs": [
    {
     "name": "stdout",
     "output_type": "stream",
     "text": [
      "Molecule name: h6_0.65A\n",
      "Basis set: sto-3g\n",
      "Molecular geometry: ../configs/xyz_files/h6_octahedron/0.65.xyz\n",
      "RHF energy: -2.2750088491574125\n",
      "FCI energy: -2.4150646452458577\n",
      "Molecule name: h6_0.75A\n",
      "Basis set: sto-3g\n",
      "Molecular geometry: ../configs/xyz_files/h6_octahedron/0.75.xyz\n",
      "RHF energy: -2.4685234927711077\n",
      "FCI energy: -2.623765900816072\n",
      "Molecule name: h6_0.85A\n",
      "Basis set: sto-3g\n",
      "Molecular geometry: ../configs/xyz_files/h6_octahedron/0.85.xyz\n",
      "RHF energy: -2.5427362470491515\n",
      "FCI energy: -2.7258658998727627\n",
      "Molecule name: h6_0.95A\n",
      "Basis set: sto-3g\n",
      "Molecular geometry: ../configs/xyz_files/h6_octahedron/0.95.xyz\n",
      "RHF energy: -2.5522990394405527\n",
      "FCI energy: -2.7708424728855965\n",
      "Molecule name: h6_1.05A\n",
      "Basis set: sto-3g\n",
      "Molecular geometry: ../configs/xyz_files/h6_octahedron/1.05.xyz\n",
      "RHF energy: -2.526126764176243\n",
      "FCI energy: -2.7890475622976973\n",
      "Molecule name: h6_1.15A\n",
      "Basis set: sto-3g\n",
      "Molecular geometry: ../configs/xyz_files/h6_octahedron/1.15.xyz\n",
      "RHF energy: -2.4801757858099958\n",
      "FCI energy: -2.7963804678396107\n",
      "Molecule name: h6_1.25A\n",
      "Basis set: sto-3g\n",
      "Molecular geometry: ../configs/xyz_files/h6_octahedron/1.25.xyz\n",
      "RHF energy: -2.4237741486662063\n",
      "FCI energy: -2.7999018858828384\n",
      "Molecule name: h6_1.35A\n",
      "Basis set: sto-3g\n",
      "Molecular geometry: ../configs/xyz_files/h6_octahedron/1.35.xyz\n",
      "RHF energy: -2.3627044438070457\n",
      "FCI energy: -2.8071910380531615\n"
     ]
    }
   ],
   "source": [
    "# Load data and config parameters:\n",
    "fid = h5open(\"../datasets/tnqe_data/h6_octahedron_2023-10-16.h5\", \"r\")\n",
    "\n",
    "conf_path = read(fid[\"conf_path\"])\n",
    "\n",
    "conf, op_list, gp_list, swp_list = FetchConfig(\"../configs/script_configs/h6_octahedron\")\n",
    "\n",
    "# Load chemical data:\n",
    "cdata_list = []\n",
    "\n",
    "for m=1:conf.nmol\n",
    "\n",
    "    cdata = ReadIn(\"../\"*conf.pyscf_paths[m])[1];\n",
    "    push!(cdata_list, cdata)\n",
    "    PrintChemData(cdata)\n",
    "    \n",
    "end"
   ]
  },
  {
   "cell_type": "code",
   "execution_count": 4,
   "id": "0b10f8bf-0a77-45b1-b49f-09d76478f9ee",
   "metadata": {},
   "outputs": [
    {
     "data": {
      "text/plain": [
       "8-element Vector{Float64}:\n",
       " -2.401460596321426\n",
       " -2.6155579807908795\n",
       " -2.72410599297928\n",
       " -2.7568797438263113\n",
       " -2.7716081864287334\n",
       " -2.780977717743812\n",
       " -2.798172096717839\n",
       " -2.7870182395828356"
      ]
     },
     "metadata": {},
     "output_type": "display_data"
    },
    {
     "data": {
      "text/plain": [
       "8-element Vector{Float64}:\n",
       " -2.381428634697711\n",
       " -2.572026842337407\n",
       " -2.7000653829095276\n",
       " -2.6873766351643598\n",
       " -2.6952749993033134\n",
       " -2.6911369337118485\n",
       " -2.7823520523818157\n",
       " -2.6884725220054215"
      ]
     },
     "metadata": {},
     "output_type": "display_data"
    },
    {
     "data": {
      "text/plain": [
       "8-element Vector{Float64}:\n",
       " -2.4084737208617213\n",
       " -2.6153111764522707\n",
       " -2.723546288440713\n",
       " -2.741642577114704\n",
       " -2.773717874347515\n",
       " -2.779266393650669\n",
       " -2.7840351063029374\n",
       " -2.798197102843965"
      ]
     },
     "metadata": {},
     "output_type": "display_data"
    },
    {
     "data": {
      "text/plain": [
       "8-element Vector{Float64}:\n",
       " -2.413911459063705\n",
       " -2.5992576493175017\n",
       " -2.7249571464861946\n",
       " -2.768022550327033\n",
       " -2.7756763914515012\n",
       " -2.794666491045038\n",
       " -2.797806743848329\n",
       " -2.7999658106783873"
      ]
     },
     "metadata": {},
     "output_type": "display_data"
    }
   ],
   "source": [
    "# Collect the potential energy curves:\n",
    "\n",
    "e_rhf_vec = [cdata_list[m].e_rhf for m=1:length(cdata_list)]\n",
    "e_fci_vec = [cdata_list[m].e_fci for m=1:length(cdata_list)]\n",
    "\n",
    "atz_labels = conf.atz_name\n",
    "\n",
    "e_atz_vecs = []\n",
    "for a=1:conf.n_atz\n",
    "    e_atz_vec = [read(fid[\"$(conf.mol_names[m])/$(conf.atz_name[a])/E\"])[1] + cdata_list[m].e_nuc for m=1:conf.nmol]\n",
    "    push!(e_atz_vecs, e_atz_vec)\n",
    "    display(e_atz_vec)\n",
    "end"
   ]
  },
  {
   "cell_type": "code",
   "execution_count": 5,
   "id": "ee490e0d-f329-4168-a275-ae883ef5bcf4",
   "metadata": {},
   "outputs": [
    {
     "data": {
      "text/plain": [
       "4-element Vector{String}:\n",
       " \"dmrg10\"\n",
       " \"dmrg4\"\n",
       " \"nomps\"\n",
       " \"tnqe\""
      ]
     },
     "metadata": {},
     "output_type": "display_data"
    }
   ],
   "source": [
    "display(atz_labels)"
   ]
  },
  {
   "cell_type": "code",
   "execution_count": 6,
   "id": "65b234b4-f87f-4f7b-bfcc-54f25ea21168",
   "metadata": {},
   "outputs": [],
   "source": [
    "# Re-ran some of the points to avoid getting stuck:\n",
    "\n",
    "tnqe_fixed_points = [Any[2,-2.6227871974545183], Any[5,-2.788110043321889], Any[8, -2.8036040558696276]]\n",
    "\n",
    "for fp in tnqe_fixed_points\n",
    "    e_atz_vecs[4][fp[1]] = fp[2]\n",
    "end"
   ]
  },
  {
   "cell_type": "code",
   "execution_count": 7,
   "id": "f370dd3f-876a-4b42-b003-e17ddf2b0006",
   "metadata": {},
   "outputs": [
    {
     "data": {
      "text/plain": [
       "\"/home/oskar/Documents/TNQE/TNQE-Julia/plots/test2.pdf\""
      ]
     },
     "execution_count": 7,
     "metadata": {},
     "output_type": "execute_result"
    }
   ],
   "source": [
    "# Plot the potential energy curves:\n",
    "\n",
    "# x-axis information:\n",
    "x_vals = [0.65,0.75,0.85,0.95,1.05,1.15,1.25,1.35]\n",
    "x_label = L\"r\\quad(\\AA)\"\n",
    "\n",
    "start_val = 3\n",
    "\n",
    "# Plot title:\n",
    "title = \"Double-dissociation of H2O in STO-3G basis\"\n",
    "\n",
    "using LaTeXStrings\n",
    "\n",
    "plot(\n",
    "    x_vals[start_val:end], \n",
    "    e_fci_vec[start_val:end], \n",
    "    color=RGB(0.7,0.7,0.7), \n",
    "    linewidth=2.0,\n",
    "    label=\"RHF\",\n",
    "    title=title,\n",
    "    titlefontsize=11.0,\n",
    "    titlefont=font(14,\"Computer Modern\"),\n",
    "    xguide=x_label,\n",
    "    yguide=L\"E\\quad(\\textrm{Ha.})\",\n",
    "    size=(700,500)\n",
    ")\n",
    "\n",
    "\n",
    "plot!(\n",
    "    x_vals[start_val:end], \n",
    "    e_fci_vec[start_val:end].+0.0016, \n",
    "    color=RGB(0.3,0.3,0.3), \n",
    "    linewidth=1.0,\n",
    "    label=\"FCI\"\n",
    ")\n",
    "\n",
    "colors = [RGB(0.5,0.5,1.0), RGB(0.2,0.9,0.4), RGB(1.0,0.9,0.2), RGB(1.0,0.5,0.5)]\n",
    "\n",
    "for a in [1,3,4]\n",
    "    \n",
    "    plot!(\n",
    "        x_vals[start_val:end], \n",
    "        e_atz_vecs[a][start_val:end], \n",
    "        linewidth=2.0,\n",
    "        markersize=4,\n",
    "        markershape=:circle,\n",
    "        color=colors[a],\n",
    "        label=atz_labels[a]\n",
    "    )\n",
    "    \n",
    "end\n",
    "\n",
    "#hline!([-2.8038374177410783])\n",
    "\n",
    "savefig(\"../plots/test2.pdf\")"
   ]
  },
  {
   "cell_type": "code",
   "execution_count": 6,
   "id": "1da4329e-ac25-4ff2-9e48-d0267ee98e1b",
   "metadata": {},
   "outputs": [
    {
     "data": {
      "image/svg+xml": [
       "<?xml version=\"1.0\" encoding=\"utf-8\"?>\n",
       "<svg xmlns=\"http://www.w3.org/2000/svg\" xmlns:xlink=\"http://www.w3.org/1999/xlink\" width=\"600\" height=\"400\" viewBox=\"0 0 2400 1600\">\n",
       "<defs>\n",
       "  <clipPath id=\"clip450\">\n",
       "    <rect x=\"0\" y=\"0\" width=\"2400\" height=\"1600\"/>\n",
       "  </clipPath>\n",
       "</defs>\n",
       "<path clip-path=\"url(#clip450)\" d=\"M0 1600 L2400 1600 L2400 0 L0 0  Z\" fill=\"#ffffff\" fill-rule=\"evenodd\" fill-opacity=\"1\"/>\n",
       "<defs>\n",
       "  <clipPath id=\"clip451\">\n",
       "    <rect x=\"480\" y=\"0\" width=\"1681\" height=\"1600\"/>\n",
       "  </clipPath>\n",
       "</defs>\n",
       "<path clip-path=\"url(#clip450)\" d=\"M224.098 1486.45 L2352.76 1486.45 L2352.76 47.2441 L224.098 47.2441  Z\" fill=\"#ffffff\" fill-rule=\"evenodd\" fill-opacity=\"1\"/>\n",
       "<defs>\n",
       "  <clipPath id=\"clip452\">\n",
       "    <rect x=\"224\" y=\"47\" width=\"2130\" height=\"1440\"/>\n",
       "  </clipPath>\n",
       "</defs>\n",
       "<polyline clip-path=\"url(#clip452)\" style=\"stroke:#000000; stroke-linecap:round; stroke-linejoin:round; stroke-width:2; stroke-opacity:0.1; fill:none\" points=\"535.364,1486.45 535.364,47.2441 \"/>\n",
       "<polyline clip-path=\"url(#clip452)\" style=\"stroke:#000000; stroke-linecap:round; stroke-linejoin:round; stroke-width:2; stroke-opacity:0.1; fill:none\" points=\"1037.41,1486.45 1037.41,47.2441 \"/>\n",
       "<polyline clip-path=\"url(#clip452)\" style=\"stroke:#000000; stroke-linecap:round; stroke-linejoin:round; stroke-width:2; stroke-opacity:0.1; fill:none\" points=\"1539.45,1486.45 1539.45,47.2441 \"/>\n",
       "<polyline clip-path=\"url(#clip452)\" style=\"stroke:#000000; stroke-linecap:round; stroke-linejoin:round; stroke-width:2; stroke-opacity:0.1; fill:none\" points=\"2041.49,1486.45 2041.49,47.2441 \"/>\n",
       "<polyline clip-path=\"url(#clip450)\" style=\"stroke:#000000; stroke-linecap:round; stroke-linejoin:round; stroke-width:4; stroke-opacity:1; fill:none\" points=\"224.098,1486.45 2352.76,1486.45 \"/>\n",
       "<polyline clip-path=\"url(#clip450)\" style=\"stroke:#000000; stroke-linecap:round; stroke-linejoin:round; stroke-width:4; stroke-opacity:1; fill:none\" points=\"535.364,1486.45 535.364,1467.55 \"/>\n",
       "<polyline clip-path=\"url(#clip450)\" style=\"stroke:#000000; stroke-linecap:round; stroke-linejoin:round; stroke-width:4; stroke-opacity:1; fill:none\" points=\"1037.41,1486.45 1037.41,1467.55 \"/>\n",
       "<polyline clip-path=\"url(#clip450)\" style=\"stroke:#000000; stroke-linecap:round; stroke-linejoin:round; stroke-width:4; stroke-opacity:1; fill:none\" points=\"1539.45,1486.45 1539.45,1467.55 \"/>\n",
       "<polyline clip-path=\"url(#clip450)\" style=\"stroke:#000000; stroke-linecap:round; stroke-linejoin:round; stroke-width:4; stroke-opacity:1; fill:none\" points=\"2041.49,1486.45 2041.49,1467.55 \"/>\n",
       "<path clip-path=\"url(#clip450)\" d=\"M502.517 1544.91 L510.156 1544.91 L510.156 1518.55 L501.846 1520.21 L501.846 1515.95 L510.109 1514.29 L514.785 1514.29 L514.785 1544.91 L522.424 1544.91 L522.424 1548.85 L502.517 1548.85 L502.517 1544.91 Z\" fill=\"#000000\" fill-rule=\"evenodd\" fill-opacity=\"1\" /><path clip-path=\"url(#clip450)\" d=\"M531.869 1542.97 L536.753 1542.97 L536.753 1548.85 L531.869 1548.85 L531.869 1542.97 Z\" fill=\"#000000\" fill-rule=\"evenodd\" fill-opacity=\"1\" /><path clip-path=\"url(#clip450)\" d=\"M556.938 1517.37 Q553.327 1517.37 551.498 1520.93 Q549.693 1524.47 549.693 1531.6 Q549.693 1538.71 551.498 1542.27 Q553.327 1545.82 556.938 1545.82 Q560.572 1545.82 562.378 1542.27 Q564.206 1538.71 564.206 1531.6 Q564.206 1524.47 562.378 1520.93 Q560.572 1517.37 556.938 1517.37 M556.938 1513.66 Q562.748 1513.66 565.804 1518.27 Q568.882 1522.85 568.882 1531.6 Q568.882 1540.33 565.804 1544.94 Q562.748 1549.52 556.938 1549.52 Q551.128 1549.52 548.049 1544.94 Q544.993 1540.33 544.993 1531.6 Q544.993 1522.85 548.049 1518.27 Q551.128 1513.66 556.938 1513.66 Z\" fill=\"#000000\" fill-rule=\"evenodd\" fill-opacity=\"1\" /><path clip-path=\"url(#clip450)\" d=\"M1005.17 1544.91 L1012.81 1544.91 L1012.81 1518.55 L1004.5 1520.21 L1004.5 1515.95 L1012.76 1514.29 L1017.44 1514.29 L1017.44 1544.91 L1025.08 1544.91 L1025.08 1548.85 L1005.17 1548.85 L1005.17 1544.91 Z\" fill=\"#000000\" fill-rule=\"evenodd\" fill-opacity=\"1\" /><path clip-path=\"url(#clip450)\" d=\"M1034.52 1542.97 L1039.41 1542.97 L1039.41 1548.85 L1034.52 1548.85 L1034.52 1542.97 Z\" fill=\"#000000\" fill-rule=\"evenodd\" fill-opacity=\"1\" /><path clip-path=\"url(#clip450)\" d=\"M1050.4 1544.91 L1058.04 1544.91 L1058.04 1518.55 L1049.73 1520.21 L1049.73 1515.95 L1058 1514.29 L1062.67 1514.29 L1062.67 1544.91 L1070.31 1544.91 L1070.31 1548.85 L1050.4 1548.85 L1050.4 1544.91 Z\" fill=\"#000000\" fill-rule=\"evenodd\" fill-opacity=\"1\" /><path clip-path=\"url(#clip450)\" d=\"M1507.4 1544.91 L1515.04 1544.91 L1515.04 1518.55 L1506.73 1520.21 L1506.73 1515.95 L1514.99 1514.29 L1519.67 1514.29 L1519.67 1544.91 L1527.31 1544.91 L1527.31 1548.85 L1507.4 1548.85 L1507.4 1544.91 Z\" fill=\"#000000\" fill-rule=\"evenodd\" fill-opacity=\"1\" /><path clip-path=\"url(#clip450)\" d=\"M1536.75 1542.97 L1541.64 1542.97 L1541.64 1548.85 L1536.75 1548.85 L1536.75 1542.97 Z\" fill=\"#000000\" fill-rule=\"evenodd\" fill-opacity=\"1\" /><path clip-path=\"url(#clip450)\" d=\"M1555.85 1544.91 L1572.17 1544.91 L1572.17 1548.85 L1550.22 1548.85 L1550.22 1544.91 Q1552.89 1542.16 1557.47 1537.53 Q1562.08 1532.88 1563.26 1531.53 Q1565.5 1529.01 1566.38 1527.27 Q1567.28 1525.51 1567.28 1523.82 Q1567.28 1521.07 1565.34 1519.33 Q1563.42 1517.6 1560.32 1517.6 Q1558.12 1517.6 1555.66 1518.36 Q1553.23 1519.13 1550.45 1520.68 L1550.45 1515.95 Q1553.28 1514.82 1555.73 1514.24 Q1558.19 1513.66 1560.22 1513.66 Q1565.59 1513.66 1568.79 1516.35 Q1571.98 1519.03 1571.98 1523.52 Q1571.98 1525.65 1571.17 1527.57 Q1570.39 1529.47 1568.28 1532.07 Q1567.7 1532.74 1564.6 1535.95 Q1561.5 1539.15 1555.85 1544.91 Z\" fill=\"#000000\" fill-rule=\"evenodd\" fill-opacity=\"1\" /><path clip-path=\"url(#clip450)\" d=\"M2008.97 1544.91 L2016.61 1544.91 L2016.61 1518.55 L2008.3 1520.21 L2008.3 1515.95 L2016.56 1514.29 L2021.24 1514.29 L2021.24 1544.91 L2028.87 1544.91 L2028.87 1548.85 L2008.97 1548.85 L2008.97 1544.91 Z\" fill=\"#000000\" fill-rule=\"evenodd\" fill-opacity=\"1\" /><path clip-path=\"url(#clip450)\" d=\"M2038.32 1542.97 L2043.2 1542.97 L2043.2 1548.85 L2038.32 1548.85 L2038.32 1542.97 Z\" fill=\"#000000\" fill-rule=\"evenodd\" fill-opacity=\"1\" /><path clip-path=\"url(#clip450)\" d=\"M2067.55 1530.21 Q2070.91 1530.93 2072.79 1533.2 Q2074.68 1535.47 2074.68 1538.8 Q2074.68 1543.92 2071.17 1546.72 Q2067.65 1549.52 2061.17 1549.52 Q2058.99 1549.52 2056.67 1549.08 Q2054.38 1548.66 2051.93 1547.81 L2051.93 1543.29 Q2053.87 1544.43 2056.19 1545.01 Q2058.5 1545.58 2061.03 1545.58 Q2065.42 1545.58 2067.72 1543.85 Q2070.03 1542.11 2070.03 1538.8 Q2070.03 1535.75 2067.88 1534.03 Q2065.75 1532.3 2061.93 1532.3 L2057.9 1532.3 L2057.9 1528.45 L2062.11 1528.45 Q2065.56 1528.45 2067.39 1527.09 Q2069.22 1525.7 2069.22 1523.11 Q2069.22 1520.45 2067.32 1519.03 Q2065.45 1517.6 2061.93 1517.6 Q2060.01 1517.6 2057.81 1518.01 Q2055.61 1518.43 2052.97 1519.31 L2052.97 1515.14 Q2055.63 1514.4 2057.95 1514.03 Q2060.29 1513.66 2062.35 1513.66 Q2067.67 1513.66 2070.77 1516.09 Q2073.87 1518.5 2073.87 1522.62 Q2073.87 1525.49 2072.23 1527.48 Q2070.59 1529.45 2067.55 1530.21 Z\" fill=\"#000000\" fill-rule=\"evenodd\" fill-opacity=\"1\" /><polyline clip-path=\"url(#clip452)\" style=\"stroke:#000000; stroke-linecap:round; stroke-linejoin:round; stroke-width:2; stroke-opacity:0.1; fill:none\" points=\"224.098,1177.11 2352.76,1177.11 \"/>\n",
       "<polyline clip-path=\"url(#clip452)\" style=\"stroke:#000000; stroke-linecap:round; stroke-linejoin:round; stroke-width:2; stroke-opacity:0.1; fill:none\" points=\"224.098,803.573 2352.76,803.573 \"/>\n",
       "<polyline clip-path=\"url(#clip452)\" style=\"stroke:#000000; stroke-linecap:round; stroke-linejoin:round; stroke-width:2; stroke-opacity:0.1; fill:none\" points=\"224.098,430.04 2352.76,430.04 \"/>\n",
       "<polyline clip-path=\"url(#clip452)\" style=\"stroke:#000000; stroke-linecap:round; stroke-linejoin:round; stroke-width:2; stroke-opacity:0.1; fill:none\" points=\"224.098,56.5071 2352.76,56.5071 \"/>\n",
       "<polyline clip-path=\"url(#clip450)\" style=\"stroke:#000000; stroke-linecap:round; stroke-linejoin:round; stroke-width:4; stroke-opacity:1; fill:none\" points=\"224.098,1486.45 224.098,47.2441 \"/>\n",
       "<polyline clip-path=\"url(#clip450)\" style=\"stroke:#000000; stroke-linecap:round; stroke-linejoin:round; stroke-width:4; stroke-opacity:1; fill:none\" points=\"224.098,1177.11 242.996,1177.11 \"/>\n",
       "<polyline clip-path=\"url(#clip450)\" style=\"stroke:#000000; stroke-linecap:round; stroke-linejoin:round; stroke-width:4; stroke-opacity:1; fill:none\" points=\"224.098,803.573 242.996,803.573 \"/>\n",
       "<polyline clip-path=\"url(#clip450)\" style=\"stroke:#000000; stroke-linecap:round; stroke-linejoin:round; stroke-width:4; stroke-opacity:1; fill:none\" points=\"224.098,430.04 242.996,430.04 \"/>\n",
       "<polyline clip-path=\"url(#clip450)\" style=\"stroke:#000000; stroke-linecap:round; stroke-linejoin:round; stroke-width:4; stroke-opacity:1; fill:none\" points=\"224.098,56.5071 242.996,56.5071 \"/>\n",
       "<path clip-path=\"url(#clip450)\" d=\"M50.9921 1177.56 L80.6679 1177.56 L80.6679 1181.49 L50.9921 1181.49 L50.9921 1177.56 Z\" fill=\"#000000\" fill-rule=\"evenodd\" fill-opacity=\"1\" /><path clip-path=\"url(#clip450)\" d=\"M94.7882 1190.45 L111.108 1190.45 L111.108 1194.39 L89.1632 1194.39 L89.1632 1190.45 Q91.8252 1187.7 96.4085 1183.07 Q101.015 1178.41 102.196 1177.07 Q104.441 1174.55 105.321 1172.81 Q106.223 1171.05 106.223 1169.36 Q106.223 1166.61 104.279 1164.87 Q102.358 1163.14 99.2558 1163.14 Q97.0567 1163.14 94.603 1163.9 Q92.1725 1164.66 89.3947 1166.22 L89.3947 1161.49 Q92.2188 1160.36 94.6724 1159.78 Q97.1261 1159.2 99.1632 1159.2 Q104.534 1159.2 107.728 1161.89 Q110.922 1164.57 110.922 1169.06 Q110.922 1171.19 110.112 1173.11 Q109.325 1175.01 107.219 1177.6 Q106.64 1178.28 103.538 1181.49 Q100.436 1184.69 94.7882 1190.45 Z\" fill=\"#000000\" fill-rule=\"evenodd\" fill-opacity=\"1\" /><path clip-path=\"url(#clip450)\" d=\"M120.922 1188.51 L125.807 1188.51 L125.807 1194.39 L120.922 1194.39 L120.922 1188.51 Z\" fill=\"#000000\" fill-rule=\"evenodd\" fill-opacity=\"1\" /><path clip-path=\"url(#clip450)\" d=\"M145.992 1177.97 Q142.658 1177.97 140.737 1179.76 Q138.839 1181.54 138.839 1184.66 Q138.839 1187.79 140.737 1189.57 Q142.658 1191.35 145.992 1191.35 Q149.325 1191.35 151.246 1189.57 Q153.168 1187.77 153.168 1184.66 Q153.168 1181.54 151.246 1179.76 Q149.348 1177.97 145.992 1177.97 M141.316 1175.98 Q138.306 1175.24 136.617 1173.18 Q134.95 1171.12 134.95 1168.16 Q134.95 1164.02 137.89 1161.61 Q140.853 1159.2 145.992 1159.2 Q151.154 1159.2 154.093 1161.61 Q157.033 1164.02 157.033 1168.16 Q157.033 1171.12 155.343 1173.18 Q153.677 1175.24 150.691 1175.98 Q154.07 1176.77 155.945 1179.06 Q157.843 1181.35 157.843 1184.66 Q157.843 1189.69 154.765 1192.37 Q151.709 1195.06 145.992 1195.06 Q140.274 1195.06 137.195 1192.37 Q134.14 1189.69 134.14 1184.66 Q134.14 1181.35 136.038 1179.06 Q137.936 1176.77 141.316 1175.98 M139.603 1168.6 Q139.603 1171.28 141.269 1172.79 Q142.959 1174.29 145.992 1174.29 Q149.001 1174.29 150.691 1172.79 Q152.404 1171.28 152.404 1168.6 Q152.404 1165.91 150.691 1164.41 Q149.001 1162.91 145.992 1162.91 Q142.959 1162.91 141.269 1164.41 Q139.603 1165.91 139.603 1168.6 Z\" fill=\"#000000\" fill-rule=\"evenodd\" fill-opacity=\"1\" /><path clip-path=\"url(#clip450)\" d=\"M176.153 1162.91 Q172.542 1162.91 170.714 1166.47 Q168.908 1170.01 168.908 1177.14 Q168.908 1184.25 170.714 1187.81 Q172.542 1191.35 176.153 1191.35 Q179.788 1191.35 181.593 1187.81 Q183.422 1184.25 183.422 1177.14 Q183.422 1170.01 181.593 1166.47 Q179.788 1162.91 176.153 1162.91 M176.153 1159.2 Q181.964 1159.2 185.019 1163.81 Q188.098 1168.39 188.098 1177.14 Q188.098 1185.87 185.019 1190.47 Q181.964 1195.06 176.153 1195.06 Q170.343 1195.06 167.265 1190.47 Q164.209 1185.87 164.209 1177.14 Q164.209 1168.39 167.265 1163.81 Q170.343 1159.2 176.153 1159.2 Z\" fill=\"#000000\" fill-rule=\"evenodd\" fill-opacity=\"1\" /><path clip-path=\"url(#clip450)\" d=\"M51.1773 804.025 L80.8531 804.025 L80.8531 807.96 L51.1773 807.96 L51.1773 804.025 Z\" fill=\"#000000\" fill-rule=\"evenodd\" fill-opacity=\"1\" /><path clip-path=\"url(#clip450)\" d=\"M94.9734 816.918 L111.293 816.918 L111.293 820.853 L89.3484 820.853 L89.3484 816.918 Q92.0104 814.164 96.5937 809.534 Q101.2 804.881 102.381 803.539 Q104.626 801.016 105.506 799.279 Q106.408 797.52 106.408 795.83 Q106.408 793.076 104.464 791.34 Q102.543 789.604 99.4409 789.604 Q97.2419 789.604 94.7882 790.367 Q92.3576 791.131 89.5799 792.682 L89.5799 787.96 Q92.4039 786.826 94.8576 786.247 Q97.3113 785.668 99.3483 785.668 Q104.719 785.668 107.913 788.354 Q111.108 791.039 111.108 795.529 Q111.108 797.659 110.297 799.58 Q109.51 801.479 107.404 804.071 Q106.825 804.742 103.723 807.96 Q100.621 811.154 94.9734 816.918 Z\" fill=\"#000000\" fill-rule=\"evenodd\" fill-opacity=\"1\" /><path clip-path=\"url(#clip450)\" d=\"M121.107 814.974 L125.992 814.974 L125.992 820.853 L121.107 820.853 L121.107 814.974 Z\" fill=\"#000000\" fill-rule=\"evenodd\" fill-opacity=\"1\" /><path clip-path=\"url(#clip450)\" d=\"M134.996 786.293 L157.218 786.293 L157.218 788.284 L144.672 820.853 L139.788 820.853 L151.593 790.229 L134.996 790.229 L134.996 786.293 Z\" fill=\"#000000\" fill-rule=\"evenodd\" fill-opacity=\"1\" /><path clip-path=\"url(#clip450)\" d=\"M166.478 820.136 L166.478 815.877 Q168.237 816.71 170.042 817.15 Q171.848 817.59 173.584 817.59 Q178.214 817.59 180.644 814.488 Q183.098 811.363 183.445 805.02 Q182.103 807.011 180.042 808.076 Q177.982 809.141 175.482 809.141 Q170.297 809.141 167.265 806.016 Q164.255 802.867 164.255 797.428 Q164.255 792.104 167.404 788.886 Q170.552 785.668 175.783 785.668 Q181.778 785.668 184.927 790.275 Q188.098 794.858 188.098 803.608 Q188.098 811.779 184.209 816.664 Q180.343 821.525 173.792 821.525 Q172.033 821.525 170.228 821.177 Q168.422 820.83 166.478 820.136 M175.783 805.483 Q178.931 805.483 180.76 803.33 Q182.612 801.178 182.612 797.428 Q182.612 793.701 180.76 791.548 Q178.931 789.372 175.783 789.372 Q172.635 789.372 170.783 791.548 Q168.954 793.701 168.954 797.428 Q168.954 801.178 170.783 803.33 Q172.635 805.483 175.783 805.483 Z\" fill=\"#000000\" fill-rule=\"evenodd\" fill-opacity=\"1\" /><path clip-path=\"url(#clip450)\" d=\"M51.0847 430.492 L80.7605 430.492 L80.7605 434.427 L51.0847 434.427 L51.0847 430.492 Z\" fill=\"#000000\" fill-rule=\"evenodd\" fill-opacity=\"1\" /><path clip-path=\"url(#clip450)\" d=\"M94.8808 443.385 L111.2 443.385 L111.2 447.32 L89.2558 447.32 L89.2558 443.385 Q91.9178 440.63 96.5011 436.001 Q101.108 431.348 102.288 430.006 Q104.534 427.482 105.413 425.746 Q106.316 423.987 106.316 422.297 Q106.316 419.543 104.371 417.807 Q102.45 416.07 99.3483 416.07 Q97.1493 416.07 94.6956 416.834 Q92.2651 417.598 89.4873 419.149 L89.4873 414.427 Q92.3113 413.293 94.765 412.714 Q97.2187 412.135 99.2558 412.135 Q104.626 412.135 107.821 414.82 Q111.015 417.506 111.015 421.996 Q111.015 424.126 110.205 426.047 Q109.418 427.945 107.311 430.538 Q106.733 431.209 103.631 434.427 Q100.529 437.621 94.8808 443.385 Z\" fill=\"#000000\" fill-rule=\"evenodd\" fill-opacity=\"1\" /><path clip-path=\"url(#clip450)\" d=\"M121.015 441.441 L125.899 441.441 L125.899 447.32 L121.015 447.32 L121.015 441.441 Z\" fill=\"#000000\" fill-rule=\"evenodd\" fill-opacity=\"1\" /><path clip-path=\"url(#clip450)\" d=\"M134.904 412.76 L157.126 412.76 L157.126 414.751 L144.58 447.32 L139.695 447.32 L151.501 416.695 L134.904 416.695 L134.904 412.76 Z\" fill=\"#000000\" fill-rule=\"evenodd\" fill-opacity=\"1\" /><path clip-path=\"url(#clip450)\" d=\"M176.246 430.908 Q172.913 430.908 170.991 432.691 Q169.093 434.473 169.093 437.598 Q169.093 440.723 170.991 442.505 Q172.913 444.288 176.246 444.288 Q179.579 444.288 181.501 442.505 Q183.422 440.7 183.422 437.598 Q183.422 434.473 181.501 432.691 Q179.603 430.908 176.246 430.908 M171.57 428.918 Q168.561 428.177 166.871 426.117 Q165.204 424.057 165.204 421.094 Q165.204 416.95 168.144 414.543 Q171.107 412.135 176.246 412.135 Q181.408 412.135 184.348 414.543 Q187.288 416.95 187.288 421.094 Q187.288 424.057 185.598 426.117 Q183.931 428.177 180.945 428.918 Q184.325 429.705 186.2 431.996 Q188.098 434.288 188.098 437.598 Q188.098 442.621 185.019 445.306 Q181.964 447.992 176.246 447.992 Q170.529 447.992 167.45 445.306 Q164.394 442.621 164.394 437.598 Q164.394 434.288 166.292 431.996 Q168.191 429.705 171.57 428.918 M169.857 421.533 Q169.857 424.219 171.524 425.723 Q173.214 427.228 176.246 427.228 Q179.255 427.228 180.945 425.723 Q182.658 424.219 182.658 421.533 Q182.658 418.848 180.945 417.344 Q179.255 415.839 176.246 415.839 Q173.214 415.839 171.524 417.344 Q169.857 418.848 169.857 421.533 Z\" fill=\"#000000\" fill-rule=\"evenodd\" fill-opacity=\"1\" /><path clip-path=\"url(#clip450)\" d=\"M51.8949 56.9585 L81.5707 56.9585 L81.5707 60.8937 L51.8949 60.8937 L51.8949 56.9585 Z\" fill=\"#000000\" fill-rule=\"evenodd\" fill-opacity=\"1\" /><path clip-path=\"url(#clip450)\" d=\"M95.691 69.852 L112.01 69.852 L112.01 73.7871 L90.066 73.7871 L90.066 69.852 Q92.728 67.0973 97.3113 62.4677 Q101.918 57.815 103.098 56.4724 Q105.344 53.9493 106.223 52.2132 Q107.126 50.4539 107.126 48.7641 Q107.126 46.0095 105.182 44.2734 Q103.26 42.5373 100.159 42.5373 Q97.9595 42.5373 95.5058 43.3012 Q93.0752 44.0651 90.2975 45.616 L90.2975 40.8938 Q93.1215 39.7595 95.5752 39.1808 Q98.0289 38.6021 100.066 38.6021 Q105.436 38.6021 108.631 41.2873 Q111.825 43.9725 111.825 48.4632 Q111.825 50.5928 111.015 52.5141 Q110.228 54.4122 108.121 57.0048 Q107.543 57.6761 104.441 60.8937 Q101.339 64.0881 95.691 69.852 Z\" fill=\"#000000\" fill-rule=\"evenodd\" fill-opacity=\"1\" /><path clip-path=\"url(#clip450)\" d=\"M121.825 67.9075 L126.709 67.9075 L126.709 73.7871 L121.825 73.7871 L121.825 67.9075 Z\" fill=\"#000000\" fill-rule=\"evenodd\" fill-opacity=\"1\" /><path clip-path=\"url(#clip450)\" d=\"M135.714 39.2271 L157.936 39.2271 L157.936 41.2179 L145.39 73.7871 L140.506 73.7871 L152.311 43.1623 L135.714 43.1623 L135.714 39.2271 Z\" fill=\"#000000\" fill-rule=\"evenodd\" fill-opacity=\"1\" /><path clip-path=\"url(#clip450)\" d=\"M165.876 39.2271 L188.098 39.2271 L188.098 41.2179 L175.552 73.7871 L170.667 73.7871 L182.473 43.1623 L165.876 43.1623 L165.876 39.2271 Z\" fill=\"#000000\" fill-rule=\"evenodd\" fill-opacity=\"1\" /><polyline clip-path=\"url(#clip452)\" style=\"stroke:#4c4c4c; stroke-linecap:round; stroke-linejoin:round; stroke-width:8; stroke-opacity:1; fill:none\" points=\"284.343,87.9763 786.385,767.997 1288.43,1041.91 1790.47,1173.44 2292.51,1445.72 \"/>\n",
       "<path clip-path=\"url(#clip450)\" d=\"M2003.89 198.898 L2281.8 198.898 L2281.8 95.2176 L2003.89 95.2176  Z\" fill=\"#ffffff\" fill-rule=\"evenodd\" fill-opacity=\"1\"/>\n",
       "<polyline clip-path=\"url(#clip450)\" style=\"stroke:#000000; stroke-linecap:round; stroke-linejoin:round; stroke-width:4; stroke-opacity:1; fill:none\" points=\"2003.89,198.898 2281.8,198.898 2281.8,95.2176 2003.89,95.2176 2003.89,198.898 \"/>\n",
       "<polyline clip-path=\"url(#clip450)\" style=\"stroke:#4c4c4c; stroke-linecap:round; stroke-linejoin:round; stroke-width:8; stroke-opacity:1; fill:none\" points=\"2027.54,147.058 2169.45,147.058 \"/>\n",
       "<path clip-path=\"url(#clip450)\" d=\"M2193.1 129.778 L2212.96 129.778 L2212.96 133.713 L2197.78 133.713 L2197.78 143.898 L2211.48 143.898 L2211.48 147.833 L2197.78 147.833 L2197.78 164.338 L2193.1 164.338 L2193.1 129.778 Z\" fill=\"#000000\" fill-rule=\"evenodd\" fill-opacity=\"1\" /><path clip-path=\"url(#clip450)\" d=\"M2246.25 132.44 L2246.25 137.37 Q2243.89 135.171 2241.2 134.083 Q2238.54 132.995 2235.53 132.995 Q2229.61 132.995 2226.46 136.629 Q2223.31 140.24 2223.31 147.092 Q2223.31 153.921 2226.46 157.555 Q2229.61 161.166 2235.53 161.166 Q2238.54 161.166 2241.2 160.078 Q2243.89 158.99 2246.25 156.791 L2246.25 161.676 Q2243.8 163.342 2241.04 164.176 Q2238.31 165.009 2235.26 165.009 Q2227.41 165.009 2222.89 160.217 Q2218.38 155.402 2218.38 147.092 Q2218.38 138.759 2222.89 133.967 Q2227.41 129.153 2235.26 129.153 Q2238.36 129.153 2241.09 129.986 Q2243.84 130.796 2246.25 132.44 Z\" fill=\"#000000\" fill-rule=\"evenodd\" fill-opacity=\"1\" /><path clip-path=\"url(#clip450)\" d=\"M2253.47 129.778 L2258.15 129.778 L2258.15 164.338 L2253.47 164.338 L2253.47 129.778 Z\" fill=\"#000000\" fill-rule=\"evenodd\" fill-opacity=\"1\" /></svg>\n"
      ]
     },
     "execution_count": 6,
     "metadata": {},
     "output_type": "execute_result"
    }
   ],
   "source": [
    "plot(\n",
    "    x_vals[4:end], \n",
    "    e_rhf_vec[4:end], \n",
    "    color=RGB(0.7,0.7,0.7), \n",
    "    linewidth=2.0,\n",
    "    label=\"RHF\",\n",
    "    title=title,\n",
    "    titlefontsize=11.0,\n",
    "    titlefont=font(14,\"Computer Modern\"),\n",
    "    xguide=x_label,\n",
    "    yguide=L\"E\\quad(\\textrm{Ha.})\",\n",
    "    size=(700,500)\n",
    ")\n",
    "\n",
    "plot(\n",
    "    x_vals[4:end], \n",
    "    e_fci_vec[4:end], \n",
    "    color=RGB(0.3,0.3,0.3), \n",
    "    linewidth=2.0,\n",
    "    label=\"FCI\"\n",
    ")"
   ]
  },
  {
   "cell_type": "code",
   "execution_count": 7,
   "id": "978414ed-bff7-4af3-b735-6d0ce52049c9",
   "metadata": {},
   "outputs": [
    {
     "ename": "LoadError",
     "evalue": "UndefVarError: e_dmrg16_vec not defined",
     "output_type": "error",
     "traceback": [
      "UndefVarError: e_dmrg16_vec not defined",
      "",
      "Stacktrace:",
      " [1] top-level scope",
      "   @ In[7]:1"
     ]
    }
   ],
   "source": [
    "plot!(\n",
    "    x_vals, \n",
    "    e_dmrg16_vec, \n",
    "    color=RGB(0.4,0.4,1.0), \n",
    "    linewidth=2.0,\n",
    "    markersize=4,\n",
    "    markershape=:circle,\n",
    "    label=\"DMRG; m=8\"\n",
    ")\n",
    "\n",
    "plot!(\n",
    "    x_vals, \n",
    "    e_dmrg4_vec, \n",
    "    color=RGB(0.3,0.8,0.5), \n",
    "    linewidth=2.0,\n",
    "    markersize=4,\n",
    "    markershape=:circle,\n",
    "    label=\"DMRG; m=3\"\n",
    ")\n",
    "\n",
    "plot!(\n",
    "    x_vals, \n",
    "    e_nomps_vec, \n",
    "    color=color=RGB(1.0,0.8,0.3), \n",
    "    linewidth=2.0,\n",
    "    markersize=4,\n",
    "    markershape=:circle,\n",
    "    label=\"Cl. NOMPS; M=5, m=3\"\n",
    ")\n",
    "\n",
    "plot!(\n",
    "    x_vals, \n",
    "    e_tnqe_vec, \n",
    "    color=color=RGB(1.0,0.4,0.4), \n",
    "    linewidth=2.0,\n",
    "    markersize=4,\n",
    "    markershape=:circle,\n",
    "    label=\"TNQE (NOMPS); M=5, m=3\"\n"
   ]
  },
  {
   "cell_type": "code",
   "execution_count": 8,
   "id": "07940e04-8e1b-4627-8966-edeeb67f22c2",
   "metadata": {},
   "outputs": [
    {
     "data": {
      "text/plain": [
       "0.1"
      ]
     },
     "execution_count": 8,
     "metadata": {},
     "output_type": "execute_result"
    }
   ],
   "source": [
    "parse(Float64, \"1e-1\")"
   ]
  },
  {
   "cell_type": "code",
   "execution_count": null,
   "id": "8ab2a4ee-16a0-42d9-aa19-386f5a8f284f",
   "metadata": {},
   "outputs": [],
   "source": []
  }
 ],
 "metadata": {
  "kernelspec": {
   "display_name": "Julia 1.7.3",
   "language": "julia",
   "name": "julia-1.7"
  },
  "language_info": {
   "file_extension": ".jl",
   "mimetype": "application/julia",
   "name": "julia",
   "version": "1.7.3"
  }
 },
 "nbformat": 4,
 "nbformat_minor": 5
}
