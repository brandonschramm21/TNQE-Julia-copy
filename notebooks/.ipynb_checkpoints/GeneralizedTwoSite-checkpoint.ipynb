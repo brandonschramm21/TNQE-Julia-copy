{
 "cells": [
  {
   "cell_type": "code",
   "execution_count": 33,
   "id": "a9904bf8-b8c1-48fa-8340-2ba20cd0e4f4",
   "metadata": {},
   "outputs": [
    {
     "name": "stdout",
     "output_type": "stream",
     "text": [
      "3.10.9\n"
     ]
    }
   ],
   "source": [
    "# Import modules and subroutines:\n",
    "\n",
    "include(\"../subroutines/Subroutines.jl\");"
   ]
  },
  {
   "cell_type": "code",
   "execution_count": 2,
   "id": "7aae7683-6209-4cce-aebf-c6974224af98",
   "metadata": {},
   "outputs": [
    {
     "name": "stdout",
     "output_type": "stream",
     "text": [
      "Molecule name: h2o\n",
      "Basis set: sto-3g\n",
      "Molecular geometry: O 0.0 0.0 0.0; H 1.0 0.0 0.0; H 0.0 1.0 0.0; \n",
      "RHF energy: -74.96117113786774\n",
      "FCI energy: -75.01927599660624\n"
     ]
    }
   ],
   "source": [
    "# Load the chemical data into julia as an array of chemical data structs:\n",
    "# (one struct obtained for each molecular geometry as set up in the config file)\n",
    "\n",
    "cdata_list = ReadIn(\"../datasets/pyscf_data/h2o_sto-3g_080222%000756.hdf5\");\n",
    "chemical_data = cdata_list[1]\n",
    "PrintChemData(chemical_data)"
   ]
  },
  {
   "cell_type": "code",
   "execution_count": 3,
   "id": "3f6d9ce4-cabd-4122-9944-8887662fc391",
   "metadata": {},
   "outputs": [],
   "source": [
    "# Run a DMRG calculation to get the entanglement profile of the ground state:\n",
    "\n",
    "dmrg1 = GenSubspace(chemical_data, 1, psi_maxdim=7, sweep_num=10, sweep_noise=(1e-6, 1e-7, 1e-8, 0.0));\n",
    "dmrg1.ord_list = [collect(1:dmrg1.chem_data.N_spt)]\n",
    "GenStates!(dmrg1)\n",
    "GenPermOps!(dmrg1)\n",
    "GenSubspaceMats!(dmrg1)\n",
    "\n",
    "biparts, entrops = ComputeBipartites(dmrg1, state=1);"
   ]
  },
  {
   "cell_type": "code",
   "execution_count": 4,
   "id": "a5ec6c98-d77e-439f-80a3-0027fbfdfbf1",
   "metadata": {},
   "outputs": [
    {
     "name": "stdout",
     "output_type": "stream",
     "text": [
      "0.13305951671084673    \r"
     ]
    },
    {
     "data": {
      "text/plain": [
       "5-element Vector{Any}:\n",
       " [1, 5, 3, 7, 2, 4, 6]\n",
       " [7, 3, 4, 6, 2, 5, 1]\n",
       " [3, 7, 5, 6, 4, 1, 2]\n",
       " [1, 5, 2, 4, 6, 7, 3]\n",
       " [5, 2, 6, 3, 7, 1, 4]"
      ]
     },
     "execution_count": 4,
     "metadata": {},
     "output_type": "execute_result"
    }
   ],
   "source": [
    "# Get quasi-optimal orderings via simulated annealing:\n",
    "\n",
    "tnqe0 = GenSubspace(chemical_data, 5, psi_maxdim=3, sweep_num=6, sweep_noise=(1e-6), thresh=\"projection\", eps=1e-12);\n",
    "\n",
    "gp = GeomParameters(\n",
    "    costfunc = \"simple\",\n",
    "    zeta_list = [0.03],\n",
    "    a_maxiter=5000\n",
    ")\n",
    "\n",
    "tnqe0.ord_list = BipartiteAnnealing(\n",
    "    [randperm(tnqe0.chem_data.N_spt) for j=1:tnqe0.mparams.M], \n",
    "    biparts, \n",
    "    entrops, \n",
    "    tnqe0.mparams.psi_maxdim,\n",
    "    gp,\n",
    "    verbose=true\n",
    ")"
   ]
  },
  {
   "cell_type": "raw",
   "id": "9633ef72-ac2f-4499-9020-3f81406d3475",
   "metadata": {},
   "source": [
    "0.14683368465844"
   ]
  },
  {
   "cell_type": "code",
   "execution_count": 5,
   "id": "72450853-a2e4-4e6f-82a8-a25da0bf28aa",
   "metadata": {},
   "outputs": [
    {
     "name": "stdout",
     "output_type": "stream",
     "text": [
      "Generating states:\n",
      "Progress: [5/5] \n",
      "Done!\n"
     ]
    }
   ],
   "source": [
    "# Initialize the states:\n",
    "opt_sweeps = Sweeps(15)\n",
    "maxdim!(opt_sweeps,tnqe0.mparams.psi_maxdim)\n",
    "mindim!(opt_sweeps,tnqe0.mparams.psi_maxdim)\n",
    "cutoff!(opt_sweeps,1e-12)\n",
    "setnoise!(opt_sweeps, 1e-1,1e-1,1e-1,1e-2,1e-3,1e-4,1e-5,1e-6,1e-8,1e-10,1e-12,0.0)\n",
    "\n",
    "GenHams!(tnqe0)\n",
    "GenSLocHams!(tnqe0, sl_base=1e6)\n",
    "\n",
    "#GenExcited!(tnqe0, sweeps=opt_sweeps, weight=, levs=collect(1:tnqe0.mparams.M), verbose=true);\n",
    "#GenSLocStates!(tnqe0, sweeps=opt_sweeps, verbose=true);\n",
    "GenStates!(tnqe0, randomize=true, verbose=true)"
   ]
  },
  {
   "cell_type": "code",
   "execution_count": 30,
   "id": "bd489ede-73e3-493f-a8f3-795a6881096b",
   "metadata": {},
   "outputs": [],
   "source": [
    "for j=1:tnqe0.mparams.M\n",
    "\n",
    "    hf_occ_j = [FillHF(tnqe0.ord_list[j][p], tnqe0.chem_data.N_el) for p=1:tnqe0.chem_data.N_spt]\n",
    "\n",
    "    tnqe0.psi_list[j] = randomMPS(tnqe0.sites, hf_occ_j, linkdims=tnqe0.mparams.psi_maxdim)\n",
    "    \n",
    "end"
   ]
  },
  {
   "cell_type": "code",
   "execution_count": 31,
   "id": "a620baf2-f83a-467a-934a-3a92fc0e502d",
   "metadata": {},
   "outputs": [
    {
     "name": "stdout",
     "output_type": "stream",
     "text": [
      "Generating permutation operators:\n",
      "Progress: [10/10] \n",
      "Done!\n",
      "\n",
      "Minimum eigenvalue: -80.84673442864757\n",
      "Condition number: 1.34037230678138\n",
      "FCI energy: -75.01927599660624\n",
      "Final energy estimate: -72.00571425963665\n",
      "Best single ref. estimate: -71.99932849224639\n",
      "Error: 3.013561736969592\n",
      "BSRfE: 3.0199475043598483\n",
      "Improvement: 0.006385767390256092\n",
      "Percentage error reduction: 0.21145292694780504\n",
      "Eigenvalue condition numbers: [0.0124, 0.0127, 0.0127, 0.0146, 0.0146]\n",
      "Percent correlation energy with single-geometry DMRG: -5097.4095969339405\n",
      "Percent correlation energy with multi-geometry TNQE: -5086.419522215759\n"
     ]
    },
    {
     "data": {
      "image/svg+xml": [
       "<?xml version=\"1.0\" encoding=\"utf-8\"?>\n",
       "<svg xmlns=\"http://www.w3.org/2000/svg\" xmlns:xlink=\"http://www.w3.org/1999/xlink\" width=\"600\" height=\"400\" viewBox=\"0 0 2400 1600\">\n",
       "<defs>\n",
       "  <clipPath id=\"clip640\">\n",
       "    <rect x=\"0\" y=\"0\" width=\"2400\" height=\"1600\"/>\n",
       "  </clipPath>\n",
       "</defs>\n",
       "<path clip-path=\"url(#clip640)\" d=\"M0 1600 L2400 1600 L2400 0 L0 0  Z\" fill=\"#ffffff\" fill-rule=\"evenodd\" fill-opacity=\"1\"/>\n",
       "<defs>\n",
       "  <clipPath id=\"clip641\">\n",
       "    <rect x=\"480\" y=\"0\" width=\"1681\" height=\"1600\"/>\n",
       "  </clipPath>\n",
       "</defs>\n",
       "<path clip-path=\"url(#clip640)\" d=\"M194.422 1486.45 L2352.76 1486.45 L2352.76 47.2441 L194.422 47.2441  Z\" fill=\"#ffffff\" fill-rule=\"evenodd\" fill-opacity=\"1\"/>\n",
       "<defs>\n",
       "  <clipPath id=\"clip642\">\n",
       "    <rect x=\"194\" y=\"47\" width=\"2159\" height=\"1440\"/>\n",
       "  </clipPath>\n",
       "</defs>\n",
       "<polyline clip-path=\"url(#clip642)\" style=\"stroke:#000000; stroke-linecap:round; stroke-linejoin:round; stroke-width:2; stroke-opacity:0.1; fill:none\" points=\"255.507,1486.45 255.507,47.2441 \"/>\n",
       "<polyline clip-path=\"url(#clip642)\" style=\"stroke:#000000; stroke-linecap:round; stroke-linejoin:round; stroke-width:2; stroke-opacity:0.1; fill:none\" points=\"764.548,1486.45 764.548,47.2441 \"/>\n",
       "<polyline clip-path=\"url(#clip642)\" style=\"stroke:#000000; stroke-linecap:round; stroke-linejoin:round; stroke-width:2; stroke-opacity:0.1; fill:none\" points=\"1273.59,1486.45 1273.59,47.2441 \"/>\n",
       "<polyline clip-path=\"url(#clip642)\" style=\"stroke:#000000; stroke-linecap:round; stroke-linejoin:round; stroke-width:2; stroke-opacity:0.1; fill:none\" points=\"1782.63,1486.45 1782.63,47.2441 \"/>\n",
       "<polyline clip-path=\"url(#clip642)\" style=\"stroke:#000000; stroke-linecap:round; stroke-linejoin:round; stroke-width:2; stroke-opacity:0.1; fill:none\" points=\"2291.67,1486.45 2291.67,47.2441 \"/>\n",
       "<polyline clip-path=\"url(#clip640)\" style=\"stroke:#000000; stroke-linecap:round; stroke-linejoin:round; stroke-width:4; stroke-opacity:1; fill:none\" points=\"194.422,1486.45 2352.76,1486.45 \"/>\n",
       "<polyline clip-path=\"url(#clip640)\" style=\"stroke:#000000; stroke-linecap:round; stroke-linejoin:round; stroke-width:4; stroke-opacity:1; fill:none\" points=\"255.507,1486.45 255.507,1467.55 \"/>\n",
       "<polyline clip-path=\"url(#clip640)\" style=\"stroke:#000000; stroke-linecap:round; stroke-linejoin:round; stroke-width:4; stroke-opacity:1; fill:none\" points=\"764.548,1486.45 764.548,1467.55 \"/>\n",
       "<polyline clip-path=\"url(#clip640)\" style=\"stroke:#000000; stroke-linecap:round; stroke-linejoin:round; stroke-width:4; stroke-opacity:1; fill:none\" points=\"1273.59,1486.45 1273.59,1467.55 \"/>\n",
       "<polyline clip-path=\"url(#clip640)\" style=\"stroke:#000000; stroke-linecap:round; stroke-linejoin:round; stroke-width:4; stroke-opacity:1; fill:none\" points=\"1782.63,1486.45 1782.63,1467.55 \"/>\n",
       "<polyline clip-path=\"url(#clip640)\" style=\"stroke:#000000; stroke-linecap:round; stroke-linejoin:round; stroke-width:4; stroke-opacity:1; fill:none\" points=\"2291.67,1486.45 2291.67,1467.55 \"/>\n",
       "<path clip-path=\"url(#clip640)\" d=\"M245.889 1544.91 L253.528 1544.91 L253.528 1518.55 L245.218 1520.21 L245.218 1515.95 L253.482 1514.29 L258.157 1514.29 L258.157 1544.91 L265.796 1544.91 L265.796 1548.85 L245.889 1548.85 L245.889 1544.91 Z\" fill=\"#000000\" fill-rule=\"evenodd\" fill-opacity=\"1\" /><path clip-path=\"url(#clip640)\" d=\"M759.201 1544.91 L775.52 1544.91 L775.52 1548.85 L753.576 1548.85 L753.576 1544.91 Q756.238 1542.16 760.821 1537.53 Q765.428 1532.88 766.608 1531.53 Q768.854 1529.01 769.733 1527.27 Q770.636 1525.51 770.636 1523.82 Q770.636 1521.07 768.692 1519.33 Q766.77 1517.6 763.668 1517.6 Q761.469 1517.6 759.016 1518.36 Q756.585 1519.13 753.807 1520.68 L753.807 1515.95 Q756.631 1514.82 759.085 1514.24 Q761.539 1513.66 763.576 1513.66 Q768.946 1513.66 772.141 1516.35 Q775.335 1519.03 775.335 1523.52 Q775.335 1525.65 774.525 1527.57 Q773.738 1529.47 771.631 1532.07 Q771.053 1532.74 767.951 1535.95 Q764.849 1539.15 759.201 1544.91 Z\" fill=\"#000000\" fill-rule=\"evenodd\" fill-opacity=\"1\" /><path clip-path=\"url(#clip640)\" d=\"M1277.84 1530.21 Q1281.19 1530.93 1283.07 1533.2 Q1284.97 1535.47 1284.97 1538.8 Q1284.97 1543.92 1281.45 1546.72 Q1277.93 1549.52 1271.45 1549.52 Q1269.27 1549.52 1266.96 1549.08 Q1264.67 1548.66 1262.21 1547.81 L1262.21 1543.29 Q1264.16 1544.43 1266.47 1545.01 Q1268.79 1545.58 1271.31 1545.58 Q1275.71 1545.58 1278 1543.85 Q1280.31 1542.11 1280.31 1538.8 Q1280.31 1535.75 1278.16 1534.03 Q1276.03 1532.3 1272.21 1532.3 L1268.18 1532.3 L1268.18 1528.45 L1272.4 1528.45 Q1275.85 1528.45 1277.67 1527.09 Q1279.5 1525.7 1279.5 1523.11 Q1279.5 1520.45 1277.61 1519.03 Q1275.73 1517.6 1272.21 1517.6 Q1270.29 1517.6 1268.09 1518.01 Q1265.89 1518.43 1263.25 1519.31 L1263.25 1515.14 Q1265.92 1514.4 1268.23 1514.03 Q1270.57 1513.66 1272.63 1513.66 Q1277.95 1513.66 1281.05 1516.09 Q1284.16 1518.5 1284.16 1522.62 Q1284.16 1525.49 1282.51 1527.48 Q1280.87 1529.45 1277.84 1530.21 Z\" fill=\"#000000\" fill-rule=\"evenodd\" fill-opacity=\"1\" /><path clip-path=\"url(#clip640)\" d=\"M1785.64 1518.36 L1773.83 1536.81 L1785.64 1536.81 L1785.64 1518.36 M1784.41 1514.29 L1790.29 1514.29 L1790.29 1536.81 L1795.22 1536.81 L1795.22 1540.7 L1790.29 1540.7 L1790.29 1548.85 L1785.64 1548.85 L1785.64 1540.7 L1770.04 1540.7 L1770.04 1536.19 L1784.41 1514.29 Z\" fill=\"#000000\" fill-rule=\"evenodd\" fill-opacity=\"1\" /><path clip-path=\"url(#clip640)\" d=\"M2281.95 1514.29 L2300.31 1514.29 L2300.31 1518.22 L2286.23 1518.22 L2286.23 1526.7 Q2287.25 1526.35 2288.27 1526.19 Q2289.29 1526 2290.31 1526 Q2296.09 1526 2299.47 1529.17 Q2302.85 1532.34 2302.85 1537.76 Q2302.85 1543.34 2299.38 1546.44 Q2295.91 1549.52 2289.59 1549.52 Q2287.41 1549.52 2285.14 1549.15 Q2282.9 1548.78 2280.49 1548.04 L2280.49 1543.34 Q2282.57 1544.47 2284.8 1545.03 Q2287.02 1545.58 2289.5 1545.58 Q2293.5 1545.58 2295.84 1543.48 Q2298.18 1541.37 2298.18 1537.76 Q2298.18 1534.15 2295.84 1532.04 Q2293.5 1529.94 2289.5 1529.94 Q2287.62 1529.94 2285.75 1530.35 Q2283.89 1530.77 2281.95 1531.65 L2281.95 1514.29 Z\" fill=\"#000000\" fill-rule=\"evenodd\" fill-opacity=\"1\" /><polyline clip-path=\"url(#clip642)\" style=\"stroke:#000000; stroke-linecap:round; stroke-linejoin:round; stroke-width:2; stroke-opacity:0.1; fill:none\" points=\"194.422,1220.35 2352.76,1220.35 \"/>\n",
       "<polyline clip-path=\"url(#clip642)\" style=\"stroke:#000000; stroke-linecap:round; stroke-linejoin:round; stroke-width:2; stroke-opacity:0.1; fill:none\" points=\"194.422,872.162 2352.76,872.162 \"/>\n",
       "<polyline clip-path=\"url(#clip642)\" style=\"stroke:#000000; stroke-linecap:round; stroke-linejoin:round; stroke-width:2; stroke-opacity:0.1; fill:none\" points=\"194.422,523.972 2352.76,523.972 \"/>\n",
       "<polyline clip-path=\"url(#clip642)\" style=\"stroke:#000000; stroke-linecap:round; stroke-linejoin:round; stroke-width:2; stroke-opacity:0.1; fill:none\" points=\"194.422,175.782 2352.76,175.782 \"/>\n",
       "<polyline clip-path=\"url(#clip640)\" style=\"stroke:#000000; stroke-linecap:round; stroke-linejoin:round; stroke-width:4; stroke-opacity:1; fill:none\" points=\"194.422,1486.45 194.422,47.2441 \"/>\n",
       "<polyline clip-path=\"url(#clip640)\" style=\"stroke:#000000; stroke-linecap:round; stroke-linejoin:round; stroke-width:4; stroke-opacity:1; fill:none\" points=\"194.422,1220.35 213.32,1220.35 \"/>\n",
       "<polyline clip-path=\"url(#clip640)\" style=\"stroke:#000000; stroke-linecap:round; stroke-linejoin:round; stroke-width:4; stroke-opacity:1; fill:none\" points=\"194.422,872.162 213.32,872.162 \"/>\n",
       "<polyline clip-path=\"url(#clip640)\" style=\"stroke:#000000; stroke-linecap:round; stroke-linejoin:round; stroke-width:4; stroke-opacity:1; fill:none\" points=\"194.422,523.972 213.32,523.972 \"/>\n",
       "<polyline clip-path=\"url(#clip640)\" style=\"stroke:#000000; stroke-linecap:round; stroke-linejoin:round; stroke-width:4; stroke-opacity:1; fill:none\" points=\"194.422,175.782 213.32,175.782 \"/>\n",
       "<path clip-path=\"url(#clip640)\" d=\"M51.3162 1220.8 L80.992 1220.8 L80.992 1224.74 L51.3162 1224.74 L51.3162 1220.8 Z\" fill=\"#000000\" fill-rule=\"evenodd\" fill-opacity=\"1\" /><path clip-path=\"url(#clip640)\" d=\"M101.084 1206.15 Q97.4734 1206.15 95.6447 1209.71 Q93.8391 1213.26 93.8391 1220.39 Q93.8391 1227.49 95.6447 1231.06 Q97.4734 1234.6 101.084 1234.6 Q104.719 1234.6 106.524 1231.06 Q108.353 1227.49 108.353 1220.39 Q108.353 1213.26 106.524 1209.71 Q104.719 1206.15 101.084 1206.15 M101.084 1202.45 Q106.895 1202.45 109.95 1207.05 Q113.029 1211.64 113.029 1220.39 Q113.029 1229.11 109.95 1233.72 Q106.895 1238.3 101.084 1238.3 Q95.2743 1238.3 92.1956 1233.72 Q89.1401 1229.11 89.1401 1220.39 Q89.1401 1211.64 92.1956 1207.05 Q95.2743 1202.45 101.084 1202.45 Z\" fill=\"#000000\" fill-rule=\"evenodd\" fill-opacity=\"1\" /><path clip-path=\"url(#clip640)\" d=\"M121.246 1231.75 L126.131 1231.75 L126.131 1237.63 L121.246 1237.63 L121.246 1231.75 Z\" fill=\"#000000\" fill-rule=\"evenodd\" fill-opacity=\"1\" /><path clip-path=\"url(#clip640)\" d=\"M146.894 1218.49 Q143.746 1218.49 141.894 1220.64 Q140.066 1222.79 140.066 1226.54 Q140.066 1230.27 141.894 1232.45 Q143.746 1234.6 146.894 1234.6 Q150.043 1234.6 151.871 1232.45 Q153.723 1230.27 153.723 1226.54 Q153.723 1222.79 151.871 1220.64 Q150.043 1218.49 146.894 1218.49 M156.177 1203.84 L156.177 1208.09 Q154.417 1207.26 152.612 1206.82 Q150.83 1206.38 149.07 1206.38 Q144.441 1206.38 141.987 1209.51 Q139.556 1212.63 139.209 1218.95 Q140.575 1216.94 142.635 1215.87 Q144.695 1214.78 147.172 1214.78 Q152.38 1214.78 155.39 1217.96 Q158.422 1221.1 158.422 1226.54 Q158.422 1231.87 155.274 1235.09 Q152.126 1238.3 146.894 1238.3 Q140.899 1238.3 137.728 1233.72 Q134.556 1229.11 134.556 1220.39 Q134.556 1212.19 138.445 1207.33 Q142.334 1202.45 148.885 1202.45 Q150.644 1202.45 152.427 1202.79 Q154.232 1203.14 156.177 1203.84 Z\" fill=\"#000000\" fill-rule=\"evenodd\" fill-opacity=\"1\" /><path clip-path=\"url(#clip640)\" d=\"M50.9921 872.613 L80.6679 872.613 L80.6679 876.548 L50.9921 876.548 L50.9921 872.613 Z\" fill=\"#000000\" fill-rule=\"evenodd\" fill-opacity=\"1\" /><path clip-path=\"url(#clip640)\" d=\"M100.76 857.96 Q97.1493 857.96 95.3206 861.525 Q93.515 865.067 93.515 872.196 Q93.515 879.303 95.3206 882.868 Q97.1493 886.409 100.76 886.409 Q104.395 886.409 106.2 882.868 Q108.029 879.303 108.029 872.196 Q108.029 865.067 106.2 861.525 Q104.395 857.96 100.76 857.96 M100.76 854.257 Q106.571 854.257 109.626 858.863 Q112.705 863.446 112.705 872.196 Q112.705 880.923 109.626 885.53 Q106.571 890.113 100.76 890.113 Q94.9502 890.113 91.8715 885.53 Q88.816 880.923 88.816 872.196 Q88.816 863.446 91.8715 858.863 Q94.9502 854.257 100.76 854.257 Z\" fill=\"#000000\" fill-rule=\"evenodd\" fill-opacity=\"1\" /><path clip-path=\"url(#clip640)\" d=\"M120.922 883.562 L125.807 883.562 L125.807 889.442 L120.922 889.442 L120.922 883.562 Z\" fill=\"#000000\" fill-rule=\"evenodd\" fill-opacity=\"1\" /><path clip-path=\"url(#clip640)\" d=\"M148.839 858.956 L137.033 877.405 L148.839 877.405 L148.839 858.956 M147.612 854.882 L153.492 854.882 L153.492 877.405 L158.422 877.405 L158.422 881.294 L153.492 881.294 L153.492 889.442 L148.839 889.442 L148.839 881.294 L133.237 881.294 L133.237 876.78 L147.612 854.882 Z\" fill=\"#000000\" fill-rule=\"evenodd\" fill-opacity=\"1\" /><path clip-path=\"url(#clip640)\" d=\"M53.0754 524.423 L82.7512 524.423 L82.7512 528.359 L53.0754 528.359 L53.0754 524.423 Z\" fill=\"#000000\" fill-rule=\"evenodd\" fill-opacity=\"1\" /><path clip-path=\"url(#clip640)\" d=\"M102.844 509.771 Q99.2326 509.771 97.4039 513.335 Q95.5984 516.877 95.5984 524.007 Q95.5984 531.113 97.4039 534.678 Q99.2326 538.22 102.844 538.22 Q106.478 538.22 108.283 534.678 Q110.112 531.113 110.112 524.007 Q110.112 516.877 108.283 513.335 Q106.478 509.771 102.844 509.771 M102.844 506.067 Q108.654 506.067 111.709 510.673 Q114.788 515.257 114.788 524.007 Q114.788 532.734 111.709 537.34 Q108.654 541.923 102.844 541.923 Q97.0335 541.923 93.9549 537.34 Q90.8993 532.734 90.8993 524.007 Q90.8993 515.257 93.9549 510.673 Q97.0335 506.067 102.844 506.067 Z\" fill=\"#000000\" fill-rule=\"evenodd\" fill-opacity=\"1\" /><path clip-path=\"url(#clip640)\" d=\"M123.006 535.372 L127.89 535.372 L127.89 541.252 L123.006 541.252 L123.006 535.372 Z\" fill=\"#000000\" fill-rule=\"evenodd\" fill-opacity=\"1\" /><path clip-path=\"url(#clip640)\" d=\"M142.103 537.317 L158.422 537.317 L158.422 541.252 L136.478 541.252 L136.478 537.317 Q139.14 534.562 143.723 529.933 Q148.33 525.28 149.51 523.937 Q151.755 521.414 152.635 519.678 Q153.538 517.919 153.538 516.229 Q153.538 513.474 151.593 511.738 Q149.672 510.002 146.57 510.002 Q144.371 510.002 141.918 510.766 Q139.487 511.53 136.709 513.081 L136.709 508.359 Q139.533 507.224 141.987 506.646 Q144.441 506.067 146.478 506.067 Q151.848 506.067 155.042 508.752 Q158.237 511.437 158.237 515.928 Q158.237 518.058 157.427 519.979 Q156.64 521.877 154.533 524.47 Q153.955 525.141 150.853 528.359 Q147.751 531.553 142.103 537.317 Z\" fill=\"#000000\" fill-rule=\"evenodd\" fill-opacity=\"1\" /><path clip-path=\"url(#clip640)\" d=\"M101.246 161.581 Q97.6354 161.581 95.8067 165.146 Q94.0012 168.687 94.0012 175.817 Q94.0012 182.923 95.8067 186.488 Q97.6354 190.03 101.246 190.03 Q104.881 190.03 106.686 186.488 Q108.515 182.923 108.515 175.817 Q108.515 168.687 106.686 165.146 Q104.881 161.581 101.246 161.581 M101.246 157.877 Q107.057 157.877 110.112 162.484 Q113.191 167.067 113.191 175.817 Q113.191 184.544 110.112 189.15 Q107.057 193.734 101.246 193.734 Q95.4363 193.734 92.3576 189.15 Q89.3021 184.544 89.3021 175.817 Q89.3021 167.067 92.3576 162.484 Q95.4363 157.877 101.246 157.877 Z\" fill=\"#000000\" fill-rule=\"evenodd\" fill-opacity=\"1\" /><path clip-path=\"url(#clip640)\" d=\"M121.408 187.183 L126.293 187.183 L126.293 193.062 L121.408 193.062 L121.408 187.183 Z\" fill=\"#000000\" fill-rule=\"evenodd\" fill-opacity=\"1\" /><path clip-path=\"url(#clip640)\" d=\"M146.478 161.581 Q142.867 161.581 141.038 165.146 Q139.232 168.687 139.232 175.817 Q139.232 182.923 141.038 186.488 Q142.867 190.03 146.478 190.03 Q150.112 190.03 151.918 186.488 Q153.746 182.923 153.746 175.817 Q153.746 168.687 151.918 165.146 Q150.112 161.581 146.478 161.581 M146.478 157.877 Q152.288 157.877 155.343 162.484 Q158.422 167.067 158.422 175.817 Q158.422 184.544 155.343 189.15 Q152.288 193.734 146.478 193.734 Q140.668 193.734 137.589 189.15 Q134.533 184.544 134.533 175.817 Q134.533 167.067 137.589 162.484 Q140.668 157.877 146.478 157.877 Z\" fill=\"#000000\" fill-rule=\"evenodd\" fill-opacity=\"1\" /><circle clip-path=\"url(#clip642)\" cx=\"255.507\" cy=\"87.9763\" r=\"14.4\" fill=\"#009af9\" fill-rule=\"evenodd\" fill-opacity=\"1\" stroke=\"#000000\" stroke-opacity=\"1\" stroke-width=\"3.2\"/>\n",
       "<circle clip-path=\"url(#clip642)\" cx=\"764.548\" cy=\"1445.72\" r=\"14.4\" fill=\"#009af9\" fill-rule=\"evenodd\" fill-opacity=\"1\" stroke=\"#000000\" stroke-opacity=\"1\" stroke-width=\"3.2\"/>\n",
       "<circle clip-path=\"url(#clip642)\" cx=\"1273.59\" cy=\"193.532\" r=\"14.4\" fill=\"#009af9\" fill-rule=\"evenodd\" fill-opacity=\"1\" stroke=\"#000000\" stroke-opacity=\"1\" stroke-width=\"3.2\"/>\n",
       "<circle clip-path=\"url(#clip642)\" cx=\"1782.63\" cy=\"1349.23\" r=\"14.4\" fill=\"#009af9\" fill-rule=\"evenodd\" fill-opacity=\"1\" stroke=\"#000000\" stroke-opacity=\"1\" stroke-width=\"3.2\"/>\n",
       "<circle clip-path=\"url(#clip642)\" cx=\"2291.67\" cy=\"348.467\" r=\"14.4\" fill=\"#009af9\" fill-rule=\"evenodd\" fill-opacity=\"1\" stroke=\"#000000\" stroke-opacity=\"1\" stroke-width=\"3.2\"/>\n",
       "<polyline clip-path=\"url(#clip642)\" style=\"stroke:#e26f46; stroke-linecap:round; stroke-linejoin:round; stroke-width:8; stroke-opacity:1; fill:none\" points=\"-1963.91,175.782 4511.09,175.782 \"/>\n",
       "<path clip-path=\"url(#clip640)\" d=\"M2012.55 1438.47 L2280.81 1438.47 L2280.81 1282.95 L2012.55 1282.95  Z\" fill=\"#ffffff\" fill-rule=\"evenodd\" fill-opacity=\"1\"/>\n",
       "<polyline clip-path=\"url(#clip640)\" style=\"stroke:#000000; stroke-linecap:round; stroke-linejoin:round; stroke-width:4; stroke-opacity:1; fill:none\" points=\"2012.55,1438.47 2280.81,1438.47 2280.81,1282.95 2012.55,1282.95 2012.55,1438.47 \"/>\n",
       "<circle clip-path=\"url(#clip640)\" cx=\"2108.47\" cy=\"1334.79\" r=\"23.04\" fill=\"#009af9\" fill-rule=\"evenodd\" fill-opacity=\"1\" stroke=\"#000000\" stroke-opacity=\"1\" stroke-width=\"5.12\"/>\n",
       "<path clip-path=\"url(#clip640)\" d=\"M2218.24 1354.48 Q2216.44 1359.11 2214.72 1360.52 Q2213.01 1361.94 2210.14 1361.94 L2206.74 1361.94 L2206.74 1358.37 L2209.24 1358.37 Q2211 1358.37 2211.97 1357.54 Q2212.94 1356.7 2214.12 1353.6 L2214.89 1351.66 L2204.4 1326.15 L2208.91 1326.15 L2217.02 1346.43 L2225.12 1326.15 L2229.63 1326.15 L2218.24 1354.48 Z\" fill=\"#000000\" fill-rule=\"evenodd\" fill-opacity=\"1\" /><path clip-path=\"url(#clip640)\" d=\"M2236.92 1348.14 L2244.56 1348.14 L2244.56 1321.77 L2236.25 1323.44 L2236.25 1319.18 L2244.52 1317.51 L2249.19 1317.51 L2249.19 1348.14 L2256.83 1348.14 L2256.83 1352.07 L2236.92 1352.07 L2236.92 1348.14 Z\" fill=\"#000000\" fill-rule=\"evenodd\" fill-opacity=\"1\" /><polyline clip-path=\"url(#clip640)\" style=\"stroke:#e26f46; stroke-linecap:round; stroke-linejoin:round; stroke-width:8; stroke-opacity:1; fill:none\" points=\"2036.53,1386.63 2180.42,1386.63 \"/>\n",
       "<path clip-path=\"url(#clip640)\" d=\"M2218.24 1406.32 Q2216.44 1410.95 2214.72 1412.36 Q2213.01 1413.78 2210.14 1413.78 L2206.74 1413.78 L2206.74 1410.21 L2209.24 1410.21 Q2211 1410.21 2211.97 1409.38 Q2212.94 1408.54 2214.12 1405.44 L2214.89 1403.5 L2204.4 1377.99 L2208.91 1377.99 L2217.02 1398.27 L2225.12 1377.99 L2229.63 1377.99 L2218.24 1406.32 Z\" fill=\"#000000\" fill-rule=\"evenodd\" fill-opacity=\"1\" /><path clip-path=\"url(#clip640)\" d=\"M2240.14 1399.98 L2256.46 1399.98 L2256.46 1403.91 L2234.52 1403.91 L2234.52 1399.98 Q2237.18 1397.22 2241.76 1392.6 Q2246.37 1387.94 2247.55 1386.6 Q2249.79 1384.08 2250.67 1382.34 Q2251.58 1380.58 2251.58 1378.89 Q2251.58 1376.14 2249.63 1374.4 Q2247.71 1372.66 2244.61 1372.66 Q2242.41 1372.66 2239.96 1373.43 Q2237.52 1374.19 2234.75 1375.74 L2234.75 1371.02 Q2237.57 1369.89 2240.02 1369.31 Q2242.48 1368.73 2244.52 1368.73 Q2249.89 1368.73 2253.08 1371.41 Q2256.27 1374.1 2256.27 1378.59 Q2256.27 1380.72 2255.46 1382.64 Q2254.68 1384.54 2252.57 1387.13 Q2251.99 1387.8 2248.89 1391.02 Q2245.79 1394.22 2240.14 1399.98 Z\" fill=\"#000000\" fill-rule=\"evenodd\" fill-opacity=\"1\" /></svg>\n"
      ]
     },
     "execution_count": 31,
     "metadata": {},
     "output_type": "execute_result"
    }
   ],
   "source": [
    "GenPermOps!(tnqe0, verbose=true)\n",
    "GenSubspaceMats!(tnqe0)\n",
    "SolveGenEig!(tnqe0, verbose=true)"
   ]
  },
  {
   "cell_type": "code",
   "execution_count": 32,
   "id": "c1a16c36-bb0f-4357-9694-4c53f73c413a",
   "metadata": {},
   "outputs": [
    {
     "name": "stdout",
     "output_type": "stream",
     "text": [
      "\n",
      "########## Starting MultiGeomOptim!\n",
      "\n",
      "\n",
      "########## Repetition 1/4:\n",
      "\n",
      "Recycling states...\n",
      "\n",
      "\n",
      "GENERALIZED TWO-SITE SWEEP ALGORITHM:\n",
      "Iter: 1/1; state: 5/5; sweep: 2/2; bond: 6/6; E_min = -83.85791; kappa = 10.1     \n",
      "Done!\n",
      "\n",
      "\n",
      "########## Repetition 1/4 complete!\n",
      "########## E_new = -83.85790723715505; E_best = -83.85790723715505\n",
      "########## Outcome = \"accept!\"; acceptance ratio = 100%\n",
      "\n",
      "\n",
      "########## Repetition 2/4:\n",
      "\n",
      "Recycling states...\n",
      "\n",
      "\n",
      "GENERALIZED TWO-SITE SWEEP ALGORITHM:\n",
      "Iter: 1/1; state: 5/5; sweep: 2/2; bond: 6/6; E_min = -83.86001; kappa = 6.38     \n",
      "Done!\n",
      "\n",
      "\n",
      "########## Repetition 2/4 complete!\n",
      "########## E_new = -83.86001164810753; E_best = -83.86001164810753\n",
      "########## Outcome = \"accept!\"; acceptance ratio = 100%\n",
      "\n",
      "\n",
      "########## Repetition 3/4:\n",
      "\n",
      "Recycling states...\n",
      "\n",
      "\n",
      "GENERALIZED TWO-SITE SWEEP ALGORITHM:\n",
      "Iter: 1/1; state: 5/5; sweep: 2/2; bond: 6/6; E_min = -83.85685; kappa = 7.33     \n",
      "Done!\n",
      "\n",
      "\n",
      "########## Repetition 3/4 complete!\n",
      "########## E_new = -83.85685357666524; E_best = -83.86001164810753\n",
      "########## Outcome = \"reject!\"; acceptance ratio = 67%\n",
      "\n",
      "\n",
      "########## Repetition 4/4:\n",
      "\n",
      "Recycling states...\n",
      "\n",
      "\n",
      "GENERALIZED TWO-SITE SWEEP ALGORITHM:\n",
      "Iter: 1/1; state: 5/5; sweep: 2/2; bond: 6/6; E_min = -83.85611; kappa = 2.43     \n",
      "Done!\n",
      "\n",
      "\n",
      "########## Repetition 4/4 complete!\n",
      "########## E_new = -83.85611133454154; E_best = -83.86001164810753\n",
      "########## Outcome = \"reject!\"; acceptance ratio = 50%\n",
      "\n",
      "\n",
      "########## MultiGeomOptim complete!\n",
      "\n"
     ]
    }
   ],
   "source": [
    "tnqe1 = copy(tnqe0)\n",
    "\n",
    "op1 = OptimParameters(\n",
    "    maxiter=1, \n",
    "    numloop=2, \n",
    "    noise=[1e-2], \n",
    "    sd_thresh=\"inversion\", \n",
    "    sd_eps=1.0e-8,\n",
    "    delta=[1e-3]\n",
    ")\n",
    "\n",
    "op2 = OptimParameters(\n",
    "    afunc=\"exp\",\n",
    "    alpha=2e4,\n",
    "    rnum=1\n",
    ")\n",
    "\n",
    "\"\"\"\n",
    "GeneralizedTwoSite!(\n",
    "    tnqe1, \n",
    "    op1, \n",
    "    verbose=true\n",
    ")\n",
    "\"\"\"\n",
    "\n",
    "\"\"\"\n",
    "RandomSiteDecomp!(\n",
    "    tnqe1, \n",
    "    op2, \n",
    "    verbose=true\n",
    ")\n",
    "\"\"\"\n",
    "\n",
    "\n",
    "MultiGeomOptim!(\n",
    "    tnqe1,\n",
    "    [op2, op1],\n",
    "    reps = 4,\n",
    "    rep_struct = [\n",
    "        [\"recycle\", 1],\n",
    "        [\"twosite\", 2]\n",
    "    ],\n",
    "    verbose=true\n",
    ")\n"
   ]
  },
  {
   "cell_type": "code",
   "execution_count": 9,
   "id": "bed55277-03bc-4df6-810a-1c559d839c4f",
   "metadata": {},
   "outputs": [
    {
     "name": "stdout",
     "output_type": "stream",
     "text": [
      "\n",
      "RANDOM SITE DECOMPOSITION:\n",
      "Iter: 1/1; loop: 24/24; E_min = -83.85481; kappa = 11.7;       \n",
      "Done!\n",
      "\n"
     ]
    }
   ],
   "source": [
    "op2 = OptimParameters(\n",
    "    maxiter=1, \n",
    "    numloop=24, \n",
    "    noise=[0.0], \n",
    "    sd_thresh=\"inversion\", \n",
    "    sd_eps=1.0e-6,\n",
    "    afunc=\"flat\",\n",
    "    alpha=2e4,\n",
    "    restrict_svals=true,\n",
    "    tethering=false,\n",
    "    rnum=0,\n",
    "    move_type=\"none\",\n",
    "    sweep=true,\n",
    "    rnoise=1e-8,\n",
    "    tweight=0.5,\n",
    "    delta=[1e-3]\n",
    ")\n",
    "\n",
    "RandomSiteDecomp!(\n",
    "    tnqe1, \n",
    "    op2, \n",
    "    verbose=true\n",
    ")"
   ]
  },
  {
   "cell_type": "code",
   "execution_count": 10,
   "id": "60fd8429-af67-434e-84b8-9472f2712970",
   "metadata": {},
   "outputs": [
    {
     "data": {
      "text/plain": [
       "Dim 1: (dim=4|id=339)\n",
       "Dim 2: (dim=4|id=183)\n",
       "NDTensors.Dense{Float64, Vector{Float64}}\n",
       " 4×4\n",
       " -0.2734912165841258    0.1556539067789576     …   0.7678258199522642\n",
       "  1.3745155962581175    0.6363364948314828        -0.7059512521141726\n",
       " -0.38066604443101754  -0.08667556786146924        0.48888808164395287\n",
       " -0.25345794937939886   0.0004746836024725241      1.4642095767073529"
      ]
     },
     "metadata": {},
     "output_type": "display_data"
    }
   ],
   "source": [
    "i,j = Index(4), Index(4)\n",
    "\n",
    "T = randomITensor(i,j)\n",
    "\n",
    "display(T.tensor)"
   ]
  },
  {
   "cell_type": "code",
   "execution_count": 11,
   "id": "e6851c10-e591-4007-8338-4e7f395dac45",
   "metadata": {},
   "outputs": [
    {
     "data": {
      "text/plain": [
       "ITensor ord=0\n",
       "NDTensors.Dense{Float64, Vector{Float64}}"
      ]
     },
     "execution_count": 11,
     "metadata": {},
     "output_type": "execute_result"
    }
   ],
   "source": [
    "unit_tensor = ITensor(1.0)"
   ]
  },
  {
   "cell_type": "code",
   "execution_count": 12,
   "id": "00868d80-444a-4ca7-a398-eab1ac79c435",
   "metadata": {},
   "outputs": [
    {
     "data": {
      "text/plain": [
       "ITensor ord=2 (dim=4|id=339) (dim=4|id=183)\n",
       "NDTensors.Dense{Float64, Vector{Float64}}"
      ]
     },
     "execution_count": 12,
     "metadata": {},
     "output_type": "execute_result"
    }
   ],
   "source": [
    "unit_tensor *= T"
   ]
  },
  {
   "cell_type": "code",
   "execution_count": 13,
   "id": "0a050a6b-bfe0-4707-a091-890c3a9fbe29",
   "metadata": {},
   "outputs": [
    {
     "data": {
      "text/plain": [
       "Dim 1: (dim=4|id=339)\n",
       "Dim 2: (dim=4|id=183)\n",
       "NDTensors.Dense{Float64, Vector{Float64}}\n",
       " 4×4\n",
       " -0.2734912165841258    0.1556539067789576     …   0.7678258199522642\n",
       "  1.3745155962581175    0.6363364948314828        -0.7059512521141726\n",
       " -0.38066604443101754  -0.08667556786146924        0.48888808164395287\n",
       " -0.25345794937939886   0.0004746836024725241      1.4642095767073529"
      ]
     },
     "metadata": {},
     "output_type": "display_data"
    }
   ],
   "source": [
    "display(unit_tensor.tensor)"
   ]
  },
  {
   "cell_type": "code",
   "execution_count": null,
   "id": "51e408e0-0e16-4d73-90b2-280621cecb3f",
   "metadata": {},
   "outputs": [],
   "source": []
  }
 ],
 "metadata": {
  "kernelspec": {
   "display_name": "Julia 1.7.3",
   "language": "julia",
   "name": "julia-1.7"
  },
  "language_info": {
   "file_extension": ".jl",
   "mimetype": "application/julia",
   "name": "julia",
   "version": "1.7.3"
  }
 },
 "nbformat": 4,
 "nbformat_minor": 5
}
