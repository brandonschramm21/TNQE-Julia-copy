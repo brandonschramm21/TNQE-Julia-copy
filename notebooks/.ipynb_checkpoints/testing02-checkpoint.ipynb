{
 "cells": [
  {
   "cell_type": "code",
   "execution_count": 1,
   "id": "4a002031-816b-4ac2-837b-bda764698b18",
   "metadata": {},
   "outputs": [],
   "source": [
    "using ITensors\n",
    "using HDF5"
   ]
  },
  {
   "cell_type": "code",
   "execution_count": 2,
   "id": "efeaf149-c036-4ead-b846-2bc50ee346d7",
   "metadata": {},
   "outputs": [
    {
     "name": "stdout",
     "output_type": "stream",
     "text": [
      "-74.96117113786768\n",
      "-75.01927599660618\n",
      "(7, 7)\n",
      "(7, 7, 7, 7)\n"
     ]
    }
   ],
   "source": [
    "fid = h5open(\"mytestfile2.hdf5\", \"r\")\n",
    "\n",
    "e_rhf = read(fid, \"e_rhf\")\n",
    "e_fci = read(fid, \"e_fci\")\n",
    "h1e = read(fid, \"h1e\")\n",
    "h2e = read(fid, \"h2e\")\n",
    "nel = read(fid, \"nel\")\n",
    "\n",
    "close(fid)\n",
    "\n",
    "println(e_rhf)\n",
    "println(e_fci)\n",
    "println(size(h1e))\n",
    "println(size(h2e))"
   ]
  },
  {
   "cell_type": "code",
   "execution_count": 3,
   "id": "7ed0c7cf-a653-4a48-b39b-f646e127eb16",
   "metadata": {},
   "outputs": [
    {
     "data": {
      "text/plain": [
       "(dim=2|id=228|\"Fermion,Site\")"
      ]
     },
     "execution_count": 3,
     "metadata": {},
     "output_type": "execute_result"
    }
   ],
   "source": [
    "s = siteind(\"Fermion\")"
   ]
  },
  {
   "cell_type": "code",
   "execution_count": 4,
   "id": "aba03101-620a-4eab-abed-7ff72f7df280",
   "metadata": {},
   "outputs": [
    {
     "name": "stdout",
     "output_type": "stream",
     "text": [
      "op(\"c†\", s) = ITensor ord=2\n",
      "Dim 1: (dim=2|id=228|\"Fermion,Site\")'\n",
      "Dim 2: (dim=2|id=228|\"Fermion,Site\")\n",
      "NDTensors.Dense{Float64, Vector{Float64}}\n",
      " 2×2\n",
      " 0.0  0.0\n",
      " 1.0  0.0\n"
     ]
    }
   ],
   "source": [
    "@show op(\"c†\", s);"
   ]
  },
  {
   "cell_type": "code",
   "execution_count": 8,
   "id": "7b5f16d1-ac3f-4b4a-a114-db8d45337e43",
   "metadata": {},
   "outputs": [
    {
     "data": {
      "text/plain": [
       "hf (generic function with 1 method)"
      ]
     },
     "execution_count": 8,
     "metadata": {},
     "output_type": "execute_result"
    }
   ],
   "source": [
    "function hf(i, nel)\n",
    "    if i <= nel\n",
    "        return 2\n",
    "    else\n",
    "        return 1\n",
    "    end\n",
    "end\n"
   ]
  },
  {
   "cell_type": "code",
   "execution_count": 19,
   "id": "8b6bface-d2e9-4550-846a-4a475608f863",
   "metadata": {},
   "outputs": [
    {
     "name": "stdout",
     "output_type": "stream",
     "text": [
      "Printing works!\n",
      "Printing works!\n",
      "Got OpSum!\n",
      "[2, 2, 2, 2, 2, 2, 2, 2, 2, 2, 1, 1, 1, 1]\n",
      "Index{Int64}[(dim=2|id=562|\"Fermion,Site,n=1\"), (dim=2|id=831|\"Fermion,Site,n=2\"), (dim=2|id=580|\"Fermion,Site,n=3\"), (dim=2|id=210|\"Fermion,Site,n=4\"), (dim=2|id=196|\"Fermion,Site,n=5\"), (dim=2|id=53|\"Fermion,Site,n=6\"), (dim=2|id=688|\"Fermion,Site,n=7\"), (dim=2|id=141|\"Fermion,Site,n=8\"), (dim=2|id=273|\"Fermion,Site,n=9\"), (dim=2|id=23|\"Fermion,Site,n=10\"), (dim=2|id=232|\"Fermion,Site,n=11\"), (dim=2|id=78|\"Fermion,Site,n=12\"), (dim=2|id=69|\"Fermion,Site,n=13\"), (dim=2|id=942|\"Fermion,Site,n=14\")]\n",
      "Got psi0!Got H!\n",
      "After sweep 1 energy=-83.80219130687858  maxlinkdim=1 maxerr=9.43E-30 time=0.014\n",
      "After sweep 2 energy=-83.80219130687858  maxlinkdim=1 maxerr=0.00E+00 time=0.005\n",
      "After sweep 3 energy=-83.80219130687858  maxlinkdim=1 maxerr=0.00E+00 time=0.005\n",
      "-83.80219130687858\n"
     ]
    }
   ],
   "source": [
    "\n",
    "println(\"Printing works!\")\n",
    "\n",
    "N_spt = size(h1e, 1)\n",
    "N = 2*N_spt\n",
    "sites = siteinds(\"Fermion\",N)\n",
    "\n",
    "ampo = OpSum()\n",
    "\n",
    "println(\"Printing works!\")\n",
    "\n",
    "for p=1:N_spt\n",
    "    for q=1:N_spt\n",
    "        for σ=0:1\n",
    "            ampo += h1e[p,q],\"c†\",2*p+σ-1,\"c\",2*q+σ-1\n",
    "        end\n",
    "    end\n",
    "end\n",
    "\n",
    "for p=1:N_spt\n",
    "    for q=1:N_spt\n",
    "        for r=1:N_spt\n",
    "            for s=1:N_spt\n",
    "                for σ=0:1\n",
    "                    for τ=0:1\n",
    "                        ampo += 0.5*h2e[p,q,r,s],\"c†\",2*p+σ-1,\"c†\",2*q+τ-1,\"c\",2*r+τ-1,\"c\",2*s+σ-1\n",
    "                    end\n",
    "                end\n",
    "            end\n",
    "        end\n",
    "    end\n",
    "end\n",
    "\n",
    "println(\"Got OpSum!\")\n",
    "\n",
    "H = MPO(ampo,sites)\n",
    "\n",
    "println(\"Got H!\")\n",
    "\n",
    "hf_occ = [hf(i, nel) for i=1:N]\n",
    "\n",
    "println(hf_occ)\n",
    "println(sites)\n",
    "\n",
    "psi0 = MPS(sites,hf_occ)\n",
    "\n",
    "print(\"Got psi0!\")\n",
    "\n",
    "E_hf = inner(psi0', H, psi0)\n",
    "\n",
    "sweeps = Sweeps(3) # number of sweeps is 5\n",
    "maxdim!(sweeps,10,10,20) # gradually increase states kept\n",
    "cutoff!(sweeps,1E-10) # desired truncation error\n",
    "\n",
    "energy,psi = dmrg(H,psi0,sweeps)\n",
    "\n",
    "println(energy)\n"
   ]
  },
  {
   "cell_type": "code",
   "execution_count": 10,
   "id": "e02fb83f-f1b9-4e6d-8773-1ec359713e52",
   "metadata": {},
   "outputs": [
    {
     "name": "stdout",
     "output_type": "stream",
     "text": [
      "After sweep 1 energy=-83.21614010259428  maxlinkdim=8 maxerr=7.55E-17 time=0.025\n",
      "After sweep 2 energy=-83.4123711222672  maxlinkdim=20 maxerr=3.30E-06 time=0.085\n",
      "After sweep 3 energy=-83.8561528895118  maxlinkdim=67 maxerr=8.84E-11 time=0.329\n",
      "After sweep 4 energy=-83.86002004612013  maxlinkdim=54 maxerr=9.70E-11 time=0.479\n",
      "After sweep 5 energy=-83.86021582691428  maxlinkdim=43 maxerr=9.45E-11 time=0.409\n",
      "-83.86021582691428\n"
     ]
    }
   ],
   "source": [
    "sweeps = Sweeps(5) # number of sweeps is 5\n",
    "maxdim!(sweeps,10,20,100,100,200) # gradually increase states kept\n",
    "cutoff!(sweeps,1E-10) # desired truncation error\n",
    "\n",
    "psi0 = randomMPS(sites,2)\n",
    "\n",
    "energy,psi = dmrg(H,psi0,sweeps)\n",
    "\n",
    "println(energy)"
   ]
  },
  {
   "cell_type": "code",
   "execution_count": 17,
   "id": "5632229d-2230-46f1-9197-900358153b39",
   "metadata": {},
   "outputs": [
    {
     "data": {
      "text/plain": [
       "-69.24322671248815"
      ]
     },
     "execution_count": 17,
     "metadata": {},
     "output_type": "execute_result"
    }
   ],
   "source": [
    "dens = expect(psi,\"N\")"
   ]
  },
  {
   "cell_type": "code",
   "execution_count": null,
   "id": "e1d8273f-7407-4b30-8e06-a1d5ed6fe81f",
   "metadata": {},
   "outputs": [],
   "source": []
  }
 ],
 "metadata": {
  "kernelspec": {
   "display_name": "Julia 1.7.3",
   "language": "julia",
   "name": "julia-1.7"
  },
  "language_info": {
   "file_extension": ".jl",
   "mimetype": "application/julia",
   "name": "julia",
   "version": "1.7.3"
  }
 },
 "nbformat": 4,
 "nbformat_minor": 5
}
