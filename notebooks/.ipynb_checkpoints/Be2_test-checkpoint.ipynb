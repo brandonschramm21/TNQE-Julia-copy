{
 "cells": [
  {
   "cell_type": "code",
   "execution_count": 1,
   "id": "48c6d9bf-9bc8-47f2-9501-264f0eaf4d9a",
   "metadata": {},
   "outputs": [
    {
     "name": "stdout",
     "output_type": "stream",
     "text": [
      "3.10.9\n"
     ]
    }
   ],
   "source": [
    "# Import modules and subroutines:\n",
    "include(\"../subroutines/Subroutines.jl\");"
   ]
  },
  {
   "cell_type": "code",
   "execution_count": 4,
   "id": "5b8be5a2-547c-4fe8-a34f-d4f37b3e109f",
   "metadata": {},
   "outputs": [
    {
     "name": "stdout",
     "output_type": "stream",
     "text": [
      "Molecule name: Be2\n",
      "Basis set: sto3g\n",
      "Molecular geometry: ../configs/xyz_files/Be2/0.5.xyz\n",
      "RHF energy: -25.876964830062665\n",
      "FCI energy: -25.989067463459545\n"
     ]
    }
   ],
   "source": [
    "# Load the pyscf data into Julia:\n",
    "\n",
    "md_fname = \"Be2_sto3g_122123%1600.hdf5\"\n",
    "chemical_data_list = ReadIn(\"../datasets/pyscf_data/\"*md_fname)\n",
    "PrintChemData(chemical_data_list[1])\n",
    "bond_lengths = [i/10 for i=5:30];"
   ]
  },
  {
   "cell_type": "code",
   "execution_count": 6,
   "id": "95650c08-7ff5-4392-a43c-1ed68f063cd3",
   "metadata": {},
   "outputs": [],
   "source": [
    "e_rhf_vec = [chemical_data_list[m].e_rhf+chemical_data_list[m].e_nuc for m=1:length(chemical_data_list)]\n",
    "e_fci_vec = [chemical_data_list[m].e_fci+chemical_data_list[m].e_nuc for m=1:length(chemical_data_list)];"
   ]
  },
  {
   "cell_type": "code",
   "execution_count": 13,
   "id": "6602b16e-e558-4c96-9511-0a863f898f63",
   "metadata": {},
   "outputs": [
    {
     "data": {
      "text/plain": [
       "GeomParameters\n",
       "  maxiter: Int64 30000\n",
       "  afunc: String \"stun\"\n",
       "  a_alpha: Float64 1.0\n",
       "  a_gamma: Float64 100.0\n",
       "  swap_mult: Float64 3.0\n",
       "  a_tpow: Float64 5.0\n",
       "  cweight: Float64 1.0\n",
       "  eta: Int64 -2\n",
       "  shrp: Float64 2.0\n",
       "  anchor: Int64 0\n",
       "  return_all: Bool false\n"
      ]
     },
     "execution_count": 13,
     "metadata": {},
     "output_type": "execute_result"
    }
   ],
   "source": [
    "gp = GeomParameters(\n",
    "    maxiter=30000,\n",
    "    eta=-2,\n",
    "    shrp=2.0,\n",
    "    a_alpha=1e0\n",
    ")"
   ]
  },
  {
   "cell_type": "code",
   "execution_count": 15,
   "id": "8703bcec-4410-4d55-b0ac-59d085cbcbfc",
   "metadata": {},
   "outputs": [
    {
     "ename": "LoadError",
     "evalue": "InterruptException:",
     "output_type": "error",
     "traceback": [
      "InterruptException:",
      "",
      "Stacktrace:",
      "  [1] reshape",
      "    @ ./reshapedarray.jl:51 [inlined]",
      "  [2] _contract!(CT::Array{Float64, 6}, AT::Array{Float64, 7}, BT::Array{Float64, 3}, props::NDTensors.ContractionProperties{7, 3, 6}, α::Float64, β::Float64)",
      "    @ NDTensors ~/.julia/packages/NDTensors/RDn3T/src/abstractarray/tensoralgebra/contract.jl:128",
      "  [3] _contract!(CT::NDTensors.DenseTensor{Float64, 6, NTuple{6, Index{Int64}}, NDTensors.Dense{Float64, Vector{Float64}}}, AT::NDTensors.DenseTensor{Float64, 7, NTuple{7, Index{Int64}}, NDTensors.Dense{Float64, Vector{Float64}}}, BT::NDTensors.DenseTensor{Float64, 3, Tuple{Index{Int64}, Index{Int64}, Index{Int64}}, NDTensors.Dense{Float64, Vector{Float64}}}, props::NDTensors.ContractionProperties{7, 3, 6}, α::Float64, β::Float64)",
      "    @ NDTensors ~/.julia/packages/NDTensors/RDn3T/src/dense/tensoralgebra/contract.jl:230",
      "  [4] contract!",
      "    @ ~/.julia/packages/NDTensors/RDn3T/src/dense/tensoralgebra/contract.jl:213 [inlined]",
      "  [5] contract!",
      "    @ ~/.julia/packages/NDTensors/RDn3T/src/dense/tensoralgebra/contract.jl:171 [inlined]",
      "  [6] _contract!!(output_tensor::NDTensors.DenseTensor{Float64, 6, NTuple{6, Index{Int64}}, NDTensors.Dense{Float64, Vector{Float64}}}, labelsoutput_tensor::NTuple{6, Int64}, tensor1::NDTensors.DenseTensor{Float64, 7, NTuple{7, Index{Int64}}, NDTensors.Dense{Float64, Vector{Float64}}}, labelstensor1::NTuple{7, Int64}, tensor2::NDTensors.DenseTensor{Float64, 3, Tuple{Index{Int64}, Index{Int64}, Index{Int64}}, NDTensors.Dense{Float64, Vector{Float64}}}, labelstensor2::Tuple{Int64, Int64, Int64}, α::Int64, β::Int64)",
      "    @ NDTensors ~/.julia/packages/NDTensors/RDn3T/src/tensoroperations/generic_tensor_operations.jl:127",
      "  [7] _contract!!",
      "    @ ~/.julia/packages/NDTensors/RDn3T/src/tensoroperations/generic_tensor_operations.jl:115 [inlined]",
      "  [8] contract!!",
      "    @ ~/.julia/packages/NDTensors/RDn3T/src/tensoroperations/generic_tensor_operations.jl:176 [inlined]",
      "  [9] contract!!",
      "    @ ~/.julia/packages/NDTensors/RDn3T/src/tensoroperations/generic_tensor_operations.jl:145 [inlined]",
      " [10] contract(tensor1::NDTensors.DenseTensor{Float64, 7, NTuple{7, Index{Int64}}, NDTensors.Dense{Float64, Vector{Float64}}}, labelstensor1::NTuple{7, Int64}, tensor2::NDTensors.DenseTensor{Float64, 3, Tuple{Index{Int64}, Index{Int64}, Index{Int64}}, NDTensors.Dense{Float64, Vector{Float64}}}, labelstensor2::Tuple{Int64, Int64, Int64}, labelsoutput_tensor::NTuple{6, Int64})",
      "    @ NDTensors ~/.julia/packages/NDTensors/RDn3T/src/tensoroperations/generic_tensor_operations.jl:98",
      " [11] contract(::Type{NDTensors.CanContract{NDTensors.DenseTensor{Float64, 7, NTuple{7, Index{Int64}}, NDTensors.Dense{Float64, Vector{Float64}}}, NDTensors.DenseTensor{Float64, 3, Tuple{Index{Int64}, Index{Int64}, Index{Int64}}, NDTensors.Dense{Float64, Vector{Float64}}}}}, tensor1::NDTensors.DenseTensor{Float64, 7, NTuple{7, Index{Int64}}, NDTensors.Dense{Float64, Vector{Float64}}}, labels_tensor1::NTuple{7, Int64}, tensor2::NDTensors.DenseTensor{Float64, 3, Tuple{Index{Int64}, Index{Int64}, Index{Int64}}, NDTensors.Dense{Float64, Vector{Float64}}}, labels_tensor2::Tuple{Int64, Int64, Int64})",
      "    @ NDTensors ~/.julia/packages/NDTensors/RDn3T/src/tensoroperations/generic_tensor_operations.jl:76",
      " [12] contract",
      "    @ ~/.julia/packages/SimpleTraits/l1ZsK/src/SimpleTraits.jl:331 [inlined]",
      " [13] _contract(A::NDTensors.DenseTensor{Float64, 7, NTuple{7, Index{Int64}}, NDTensors.Dense{Float64, Vector{Float64}}}, B::NDTensors.DenseTensor{Float64, 3, Tuple{Index{Int64}, Index{Int64}, Index{Int64}}, NDTensors.Dense{Float64, Vector{Float64}}})",
      "    @ ITensors ~/.julia/packages/ITensors/MnaxI/src/tensor_operations/tensor_algebra.jl:3",
      " [14] _contract(A::ITensor, B::ITensor)",
      "    @ ITensors ~/.julia/packages/ITensors/MnaxI/src/tensor_operations/tensor_algebra.jl:9",
      " [15] contract(A::ITensor, B::ITensor)",
      "    @ ITensors ~/.julia/packages/ITensors/MnaxI/src/tensor_operations/tensor_algebra.jl:104",
      " [16] *",
      "    @ ~/.julia/packages/ITensors/MnaxI/src/tensor_operations/tensor_algebra.jl:91 [inlined]",
      " [17] kRDM(psi::MPS, p_list::Vector{Int64})",
      "    @ Main ~/Documents/TNQE/TNQE-Julia/subroutines/MutualInformation.jl:41",
      " [18] MutualInformation(psi::MPS, ord::Vector{Int64}, chemical_data::ChemProperties; dim::Int64, spatial::Bool)",
      "    @ Main ~/Documents/TNQE/TNQE-Julia/subroutines/MutualInformation.jl:81",
      " [19] MutualInformation(psi::MPS, ord::Vector{Int64}, chemical_data::ChemProperties)",
      "    @ Main ~/Documents/TNQE/TNQE-Julia/subroutines/MutualInformation.jl:57",
      " [20] top-level scope",
      "    @ ./In[15]:21"
     ]
    }
   ],
   "source": [
    "# A DMRG test:\n",
    "\n",
    "maxdims = [4,10,16,30]\n",
    "\n",
    "e_dmrg_vecs = [[],[],[],[]]\n",
    "\n",
    "sweep_objects = [\n",
    "    Sweeps(10, maxdim=4, noise=(1e-3,1e-4,1e-5,1e-6,1e-7)),\n",
    "    Sweeps(10, maxdim=10, noise=(1e-3,1e-4,1e-5,1e-6,1e-7)),\n",
    "    Sweeps(10, maxdim=16, noise=(1e-3,1e-4,1e-5,1e-6,1e-7)),\n",
    "    Sweeps(10, maxdim=30, noise=(1e-3,1e-4,1e-5,1e-6,1e-7))\n",
    "]\n",
    "\n",
    "for m=1:length(chemical_data_list)\n",
    "    \n",
    "    chemical_data = chemical_data_list[m]\n",
    "    \n",
    "    fci_array = FCIArray(chemical_data)\n",
    "    fci_mps = MPS(fci_array, siteinds(\"Electron\", 10), cutoff=1e-16, maxdim=2^16);\n",
    "    \n",
    "    S1, S2, Ipq = MutualInformation(fci_mps, collect(1:chemical_data.N_spt), chemical_data)\n",
    "    \n",
    "    opt_ord = InfDistAnnealing(\n",
    "        Ipq, \n",
    "        1, \n",
    "        gp,\n",
    "        verbose=true\n",
    "    )[1]\n",
    "    \n",
    "    for k=1:4\n",
    "    \n",
    "        dmrg_k = GenSubspace(\n",
    "            chemical_data, \n",
    "            1, \n",
    "            psi_maxdim=maxdims[k], \n",
    "            dflt_sweeps=sweep_objects[k]\n",
    "        );\n",
    "\n",
    "        dmrg_k.ord_list = [deepcopy(opt_ord)]\n",
    "\n",
    "        GenHams!(dmrg_k)\n",
    "        GenStates!(dmrg_k, verbose=true)\n",
    "        GenPermOps!(dmrg_k)\n",
    "        GenSubspaceMats!(dmrg_k)\n",
    "        SolveGenEig!(dmrg_k)\n",
    "        \n",
    "        e_fin = inner(dmrg_k.psi_list[1]', dmrg_k.ham_list[1], dmrg_k.psi_list[1])\n",
    "        \n",
    "        push!(e_dmrg_vecs[k], e_fin)\n",
    "        \n",
    "    end\n",
    "    \n",
    "    println(\"\\n$(m)/$(length(chemical_data_list))\\n\")\n",
    "    \n",
    "end"
   ]
  },
  {
   "cell_type": "code",
   "execution_count": null,
   "id": "148f2ff7-2e17-4764-94f1-d3b48abf7c98",
   "metadata": {},
   "outputs": [],
   "source": []
  }
 ],
 "metadata": {
  "kernelspec": {
   "display_name": "Julia 1.7.3",
   "language": "julia",
   "name": "julia-1.7"
  },
  "language_info": {
   "file_extension": ".jl",
   "mimetype": "application/julia",
   "name": "julia",
   "version": "1.7.3"
  }
 },
 "nbformat": 4,
 "nbformat_minor": 5
}
