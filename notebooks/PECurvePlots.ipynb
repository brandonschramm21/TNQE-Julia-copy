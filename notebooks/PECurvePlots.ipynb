{
 "cells": [
  {
   "cell_type": "code",
   "execution_count": 3,
   "id": "50410670-6418-4d18-9310-92085a132490",
   "metadata": {},
   "outputs": [
    {
     "name": "stdout",
     "output_type": "stream",
     "text": [
      "3.10.9\n"
     ]
    }
   ],
   "source": [
    "# Import modules and subroutines:\n",
    "using ConfParser\n",
    "using LaTeXStrings\n",
    "include(\"../subroutines/Subroutines.jl\");"
   ]
  },
  {
   "cell_type": "code",
   "execution_count": 4,
   "id": "2d892444-3314-4542-884a-56910a89d27b",
   "metadata": {},
   "outputs": [
    {
     "name": "stdout",
     "output_type": "stream",
     "text": [
      "Molecule name: h6_0.65A\n",
      "Basis set: sto-3g\n",
      "Molecular geometry: ../configs/xyz_files/h6_octahedron/0.65.xyz\n",
      "RHF energy: -2.2750088491574125\n",
      "FCI energy: -2.4150646452458577\n",
      "Molecule name: h6_0.75A\n",
      "Basis set: sto-3g\n",
      "Molecular geometry: ../configs/xyz_files/h6_octahedron/0.75.xyz\n",
      "RHF energy: -2.4685234927711077\n",
      "FCI energy: -2.623765900816072\n",
      "Molecule name: h6_0.85A\n",
      "Basis set: sto-3g\n",
      "Molecular geometry: ../configs/xyz_files/h6_octahedron/0.85.xyz\n",
      "RHF energy: -2.5427362470491515\n",
      "FCI energy: -2.7258658998727627\n",
      "Molecule name: h6_0.95A\n",
      "Basis set: sto-3g\n",
      "Molecular geometry: ../configs/xyz_files/h6_octahedron/0.95.xyz\n",
      "RHF energy: -2.5522990394405527\n",
      "FCI energy: -2.7708424728855965\n",
      "Molecule name: h6_1.05A\n",
      "Basis set: sto-3g\n",
      "Molecular geometry: ../configs/xyz_files/h6_octahedron/1.05.xyz\n",
      "RHF energy: -2.526126764176243\n",
      "FCI energy: -2.7890475622976973\n",
      "Molecule name: h6_1.15A\n",
      "Basis set: sto-3g\n",
      "Molecular geometry: ../configs/xyz_files/h6_octahedron/1.15.xyz\n",
      "RHF energy: -2.4801757858099958\n",
      "FCI energy: -2.7963804678396107\n",
      "Molecule name: h6_1.25A\n",
      "Basis set: sto-3g\n",
      "Molecular geometry: ../configs/xyz_files/h6_octahedron/1.25.xyz\n",
      "RHF energy: -2.4237741486662063\n",
      "FCI energy: -2.7999018858828384\n",
      "Molecule name: h6_1.35A\n",
      "Basis set: sto-3g\n",
      "Molecular geometry: ../configs/xyz_files/h6_octahedron/1.35.xyz\n",
      "RHF energy: -2.3627044438070457\n",
      "FCI energy: -2.8071910380531615\n"
     ]
    }
   ],
   "source": [
    "# Load data and config parameters:\n",
    "fid = h5open(\"../datasets/tnqe_data/h6_octahedron_2023-05-23.h5\", \"r\")\n",
    "\n",
    "conf_path = read(fid[\"conf_path\"])\n",
    "\n",
    "conf, op_list, gp_list, swp_list = FetchConfig(\"../$(conf_path)\")\n",
    "\n",
    "# Load chemical data:\n",
    "cdata_list = []\n",
    "\n",
    "for m=1:conf.nmol\n",
    "\n",
    "    cdata = ReadIn(\"../\"*conf.pyscf_paths[m])[1];\n",
    "    push!(cdata_list, cdata)\n",
    "    PrintChemData(cdata)\n",
    "    \n",
    "end"
   ]
  },
  {
   "cell_type": "code",
   "execution_count": 5,
   "id": "0b10f8bf-0a77-45b1-b49f-09d76478f9ee",
   "metadata": {},
   "outputs": [
    {
     "data": {
      "text/plain": [
       "8-element Vector{Float64}:\n",
       " -2.40115055255543\n",
       " -2.6168671990041483\n",
       " -2.724106109095982\n",
       " -2.755613972479769\n",
       " -2.770472620537074\n",
       " -2.7808491228730237\n",
       " -2.7988863849659076\n",
       " -2.798105776389106"
      ]
     },
     "metadata": {},
     "output_type": "display_data"
    },
    {
     "data": {
      "text/plain": [
       "8-element Vector{Float64}:\n",
       " -2.3814609079430937\n",
       " -2.5888141675302174\n",
       " -2.6959171378123488\n",
       " -2.682749642066665\n",
       " -2.6849518640797303\n",
       " -2.6770499563274983\n",
       " -2.7834131767807726\n",
       " -2.6914675544219357"
      ]
     },
     "metadata": {},
     "output_type": "display_data"
    },
    {
     "data": {
      "text/plain": [
       "8-element Vector{Float64}:\n",
       " -2.4060492195649434\n",
       " -2.6217296469888582\n",
       " -2.7106219188705394\n",
       " -2.7595601895532047\n",
       " -2.722935271430277\n",
       " -2.7938910955968437\n",
       " -2.7990423823056982\n",
       " -2.7993730977765856"
      ]
     },
     "metadata": {},
     "output_type": "display_data"
    },
    {
     "data": {
      "text/plain": [
       "8-element Vector{Float64}:\n",
       " -2.4139745566547326\n",
       " -2.622117862624976\n",
       " -2.7206356631096247\n",
       " -2.740030089909326\n",
       " -2.7751436492699124\n",
       " -2.783554346572215\n",
       " -2.799353111423155\n",
       " -2.802364087992149"
      ]
     },
     "metadata": {},
     "output_type": "display_data"
    }
   ],
   "source": [
    "# Collect the potential energy curves:\n",
    "\n",
    "e_rhf_vec = [cdata_list[m].e_rhf for m=1:length(cdata_list)]\n",
    "e_fci_vec = [cdata_list[m].e_fci for m=1:length(cdata_list)]\n",
    "\n",
    "atz_labels = conf.atz_name\n",
    "\n",
    "e_atz_vecs = []\n",
    "for a=1:conf.n_atz\n",
    "    e_atz_vec = [read(fid[\"$(conf.mol_names[m])/$(conf.atz_name[a])/E\"])[1] + cdata_list[m].e_nuc for m=1:conf.nmol]\n",
    "    push!(e_atz_vecs, e_atz_vec)\n",
    "    display(e_atz_vec)\n",
    "end"
   ]
  },
  {
   "cell_type": "code",
   "execution_count": 4,
   "id": "ee490e0d-f329-4168-a275-ae883ef5bcf4",
   "metadata": {},
   "outputs": [
    {
     "data": {
      "text/plain": [
       "4-element Vector{String}:\n",
       " \"dmrg8\"\n",
       " \"dmrg3\"\n",
       " \"nomps\"\n",
       " \"tnqe\""
      ]
     },
     "metadata": {},
     "output_type": "display_data"
    }
   ],
   "source": [
    "display(atz_labels)"
   ]
  },
  {
   "cell_type": "code",
   "execution_count": null,
   "id": "65b234b4-f87f-4f7b-bfcc-54f25ea21168",
   "metadata": {},
   "outputs": [],
   "source": []
  },
  {
   "cell_type": "code",
   "execution_count": 10,
   "id": "f370dd3f-876a-4b42-b003-e17ddf2b0006",
   "metadata": {},
   "outputs": [
    {
     "data": {
      "text/plain": [
       "\"/home/oskar/Documents/TNQE/TNQE-Julia/plots/test.pdf\""
      ]
     },
     "execution_count": 10,
     "metadata": {},
     "output_type": "execute_result"
    }
   ],
   "source": [
    "# Plot the potential energy curves:\n",
    "\n",
    "# x-axis information:\n",
    "x_vals = [0.65,0.75,0.85,0.95,1.05,1.15,1.25,1.35]\n",
    "x_label = L\"r\\quad(\\AA)\"\n",
    "\n",
    "# Plot title:\n",
    "title = \"Double-dissociation of H2O in STO-3G basis\"\n",
    "\n",
    "using LaTeXStrings\n",
    "\n",
    "plot(\n",
    "    x_vals, \n",
    "    e_rhf_vec, \n",
    "    color=RGB(0.7,0.7,0.7), \n",
    "    linewidth=2.0,\n",
    "    label=\"RHF\",\n",
    "    title=title,\n",
    "    titlefontsize=11.0,\n",
    "    titlefont=font(14,\"Computer Modern\"),\n",
    "    xguide=x_label,\n",
    "    yguide=L\"E\\quad(\\textrm{Ha.})\",\n",
    "    size=(700,500)\n",
    ")\n",
    "\n",
    "plot!(\n",
    "    x_vals, \n",
    "    e_fci_vec, \n",
    "    color=RGB(0.3,0.3,0.3), \n",
    "    linewidth=2.0,\n",
    "    label=\"FCI\"\n",
    ")\n",
    "\n",
    "for a=1:conf.n_atz\n",
    "    \n",
    "    plot!(\n",
    "        x_vals, \n",
    "        e_atz_vecs[a], \n",
    "        linewidth=2.0,\n",
    "        markersize=4,\n",
    "        markershape=:circle,\n",
    "        label=atz_labels[a]\n",
    "    )\n",
    "    \n",
    "end\n",
    "\n",
    "\n",
    "savefig(\"../plots/test.pdf\")"
   ]
  },
  {
   "cell_type": "code",
   "execution_count": 9,
   "id": "978414ed-bff7-4af3-b735-6d0ce52049c9",
   "metadata": {},
   "outputs": [
    {
     "ename": "LoadError",
     "evalue": "UndefVarError: e_dmrg8_vec not defined",
     "output_type": "error",
     "traceback": [
      "UndefVarError: e_dmrg8_vec not defined",
      "",
      "Stacktrace:",
      " [1] top-level scope",
      "   @ In[9]:1"
     ]
    }
   ],
   "source": [
    "plot!(\n",
    "    bond_lengths, \n",
    "    e_dmrg8_vec, \n",
    "    color=RGB(0.4,0.4,1.0), \n",
    "    linewidth=2.0,\n",
    "    markersize=4,\n",
    "    markershape=:circle,\n",
    "    label=\"DMRG; m=8\"\n",
    ")\n",
    "\n",
    "plot!(\n",
    "    bond_lengths, \n",
    "    e_dmrg3_vec, \n",
    "    color=RGB(0.3,0.8,0.5), \n",
    "    linewidth=2.0,\n",
    "    markersize=4,\n",
    "    markershape=:circle,\n",
    "    label=\"DMRG; m=3\"\n",
    ")\n",
    "\n",
    "plot!(\n",
    "    bond_lengths, \n",
    "    e_nomps_vec, \n",
    "    color=color=RGB(1.0,0.8,0.3), \n",
    "    linewidth=2.0,\n",
    "    markersize=4,\n",
    "    markershape=:circle,\n",
    "    label=\"Cl. NOMPS; M=5, m=3\"\n",
    ")\n",
    "\n",
    "plot!(\n",
    "    bond_lengths, \n",
    "    e_tnqe_vec, \n",
    "    color=color=RGB(1.0,0.4,0.4), \n",
    "    linewidth=2.0,\n",
    "    markersize=4,\n",
    "    markershape=:circle,\n",
    "    label=\"TNQE (NOMPS); M=5, m=3\"\n"
   ]
  },
  {
   "cell_type": "code",
   "execution_count": 9,
   "id": "07940e04-8e1b-4627-8966-edeeb67f22c2",
   "metadata": {},
   "outputs": [
    {
     "data": {
      "text/plain": [
       "0.1"
      ]
     },
     "execution_count": 9,
     "metadata": {},
     "output_type": "execute_result"
    }
   ],
   "source": [
    "parse(Float64, \"1e-1\")"
   ]
  },
  {
   "cell_type": "code",
   "execution_count": null,
   "id": "8ab2a4ee-16a0-42d9-aa19-386f5a8f284f",
   "metadata": {},
   "outputs": [],
   "source": []
  }
 ],
 "metadata": {
  "kernelspec": {
   "display_name": "Julia 1.7.3",
   "language": "julia",
   "name": "julia-1.7"
  },
  "language_info": {
   "file_extension": ".jl",
   "mimetype": "application/julia",
   "name": "julia",
   "version": "1.7.3"
  }
 },
 "nbformat": 4,
 "nbformat_minor": 5
}
