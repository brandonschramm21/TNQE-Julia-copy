{
 "cells": [
  {
   "cell_type": "code",
   "execution_count": null,
   "id": "d5ca47c3",
   "metadata": {
    "vscode": {
     "languageId": "julia"
    }
   },
   "outputs": [],
   "source": [
    "# Import modules and subroutines\n",
    "include(\"../subroutines/Subroutines.jl\")"
   ]
  },
  {
   "cell_type": "code",
   "execution_count": null,
   "id": "e30ebe08",
   "metadata": {
    "vscode": {
     "languageId": "julia"
    }
   },
   "outputs": [],
   "source": []
  }
 ],
 "metadata": {
  "language_info": {
   "name": "python"
  }
 },
 "nbformat": 4,
 "nbformat_minor": 5
}
