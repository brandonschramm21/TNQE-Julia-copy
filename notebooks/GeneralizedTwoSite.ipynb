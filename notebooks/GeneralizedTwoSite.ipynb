{
 "cells": [
  {
   "cell_type": "code",
   "execution_count": 35,
   "id": "a9904bf8-b8c1-48fa-8340-2ba20cd0e4f4",
   "metadata": {},
   "outputs": [
    {
     "name": "stdout",
     "output_type": "stream",
     "text": [
      "3.10.9\n"
     ]
    }
   ],
   "source": [
    "# Import modules and subroutines:\n",
    "\n",
    "include(\"../subroutines/Subroutines.jl\");"
   ]
  },
  {
   "cell_type": "code",
   "execution_count": 2,
   "id": "7aae7683-6209-4cce-aebf-c6974224af98",
   "metadata": {},
   "outputs": [
    {
     "name": "stdout",
     "output_type": "stream",
     "text": [
      "Molecule name: h2o\n",
      "Basis set: sto-3g\n",
      "Molecular geometry: O 0.0 0.0 0.0; H 1.0 0.0 0.0; H 0.0 1.0 0.0; \n",
      "RHF energy: -74.96117113786774\n",
      "FCI energy: -75.01927599660624\n"
     ]
    }
   ],
   "source": [
    "# Load the chemical data into julia as an array of chemical data structs:\n",
    "# (one struct obtained for each molecular geometry as set up in the config file)\n",
    "\n",
    "cdata_list = ReadIn(\"../datasets/pyscf_data/h2o_sto-3g_080222%000756.hdf5\");\n",
    "chemical_data = cdata_list[1]\n",
    "PrintChemData(chemical_data)"
   ]
  },
  {
   "cell_type": "code",
   "execution_count": 3,
   "id": "3f6d9ce4-cabd-4122-9944-8887662fc391",
   "metadata": {},
   "outputs": [],
   "source": [
    "# Run a DMRG calculation to get the entanglement profile of the ground state:\n",
    "\n",
    "dmrg1 = GenSubspace(chemical_data, 1, psi_maxdim=7, sweep_num=10, sweep_noise=(1e-6, 1e-7, 1e-8, 0.0));\n",
    "dmrg1.ord_list = [collect(1:dmrg1.chem_data.N_spt)]\n",
    "GenStates!(dmrg1)\n",
    "GenPermOps!(dmrg1)\n",
    "GenSubspaceMats!(dmrg1)\n",
    "\n",
    "biparts, entrops = ComputeBipartites(dmrg1, state=1);"
   ]
  },
  {
   "cell_type": "code",
   "execution_count": 4,
   "id": "a5ec6c98-d77e-439f-80a3-0027fbfdfbf1",
   "metadata": {},
   "outputs": [
    {
     "name": "stdout",
     "output_type": "stream",
     "text": [
      "0.13305951671084673    \r"
     ]
    },
    {
     "data": {
      "text/plain": [
       "5-element Vector{Any}:\n",
       " [1, 5, 3, 7, 2, 4, 6]\n",
       " [7, 3, 4, 6, 2, 5, 1]\n",
       " [3, 7, 5, 6, 4, 1, 2]\n",
       " [1, 5, 2, 4, 6, 7, 3]\n",
       " [5, 2, 6, 3, 7, 1, 4]"
      ]
     },
     "execution_count": 4,
     "metadata": {},
     "output_type": "execute_result"
    }
   ],
   "source": [
    "# Get quasi-optimal orderings via simulated annealing:\n",
    "\n",
    "tnqe0 = GenSubspace(chemical_data, 5, psi_maxdim=3, sweep_num=6, sweep_noise=(1e-6), thresh=\"projection\", eps=1e-12);\n",
    "\n",
    "gp = GeomParameters(\n",
    "    costfunc = \"simple\",\n",
    "    zeta_list = [0.03],\n",
    "    a_maxiter=5000\n",
    ")\n",
    "\n",
    "tnqe0.ord_list = BipartiteAnnealing(\n",
    "    [randperm(tnqe0.chem_data.N_spt) for j=1:tnqe0.mparams.M], \n",
    "    biparts, \n",
    "    entrops, \n",
    "    tnqe0.mparams.psi_maxdim,\n",
    "    gp,\n",
    "    verbose=true\n",
    ")"
   ]
  },
  {
   "cell_type": "raw",
   "id": "9633ef72-ac2f-4499-9020-3f81406d3475",
   "metadata": {},
   "source": [
    "0.14683368465844"
   ]
  },
  {
   "cell_type": "code",
   "execution_count": 37,
   "id": "72450853-a2e4-4e6f-82a8-a25da0bf28aa",
   "metadata": {},
   "outputs": [
    {
     "name": "stdout",
     "output_type": "stream",
     "text": [
      "Generating states:\n",
      "Progress: [5/5] \n",
      "Done!\n"
     ]
    }
   ],
   "source": [
    "# Initialize the states:\n",
    "opt_sweeps = Sweeps(15)\n",
    "maxdim!(opt_sweeps,tnqe0.mparams.psi_maxdim)\n",
    "mindim!(opt_sweeps,tnqe0.mparams.psi_maxdim)\n",
    "cutoff!(opt_sweeps,1e-12)\n",
    "setnoise!(opt_sweeps, 1e-1,1e-1,1e-1,1e-2,1e-3,1e-4,1e-5,1e-6,1e-8,1e-10,1e-12,0.0)\n",
    "\n",
    "GenHams!(tnqe0)\n",
    "GenSLocHams!(tnqe0, sl_base=1e6)\n",
    "\n",
    "#GenExcited!(tnqe0, sweeps=opt_sweeps, weight=, levs=collect(1:tnqe0.mparams.M), verbose=true);\n",
    "#GenSLocStates!(tnqe0, sweeps=opt_sweeps, verbose=true);\n",
    "GenStates!(tnqe0, randomize=true, verbose=true)"
   ]
  },
  {
   "cell_type": "code",
   "execution_count": 38,
   "id": "a620baf2-f83a-467a-934a-3a92fc0e502d",
   "metadata": {},
   "outputs": [
    {
     "name": "stdout",
     "output_type": "stream",
     "text": [
      "Generating permutation operators:\n",
      "Progress: [10/10] \n",
      "Done!\n",
      "\n",
      "Minimum eigenvalue: -82.26478574678477\n",
      "Condition number: 1.294340728192052\n",
      "FCI energy: -75.01927599660624\n",
      "Final energy estimate: -73.42376557777385\n",
      "Best single ref. estimate: -73.42241872328157\n",
      "Error: 1.59551041883239\n",
      "BSRfE: 1.596857273324673\n",
      "Improvement: 0.0013468544922830006\n",
      "Percentage error reduction: 0.08434407475120402\n",
      "Eigenvalue condition numbers: [0.0122, 0.0123, 0.012, 0.013, 0.0135]\n",
      "Percent correlation energy with single-geometry DMRG: -2648.2336382766716\n",
      "Percent correlation energy with multi-geometry TNQE: -2645.915666042466\n"
     ]
    },
    {
     "data": {
      "image/svg+xml": [
       "<?xml version=\"1.0\" encoding=\"utf-8\"?>\n",
       "<svg xmlns=\"http://www.w3.org/2000/svg\" xmlns:xlink=\"http://www.w3.org/1999/xlink\" width=\"600\" height=\"400\" viewBox=\"0 0 2400 1600\">\n",
       "<defs>\n",
       "  <clipPath id=\"clip680\">\n",
       "    <rect x=\"0\" y=\"0\" width=\"2400\" height=\"1600\"/>\n",
       "  </clipPath>\n",
       "</defs>\n",
       "<path clip-path=\"url(#clip680)\" d=\"M0 1600 L2400 1600 L2400 0 L0 0  Z\" fill=\"#ffffff\" fill-rule=\"evenodd\" fill-opacity=\"1\"/>\n",
       "<defs>\n",
       "  <clipPath id=\"clip681\">\n",
       "    <rect x=\"480\" y=\"0\" width=\"1681\" height=\"1600\"/>\n",
       "  </clipPath>\n",
       "</defs>\n",
       "<path clip-path=\"url(#clip680)\" d=\"M224.098 1486.45 L2352.76 1486.45 L2352.76 47.2441 L224.098 47.2441  Z\" fill=\"#ffffff\" fill-rule=\"evenodd\" fill-opacity=\"1\"/>\n",
       "<defs>\n",
       "  <clipPath id=\"clip682\">\n",
       "    <rect x=\"224\" y=\"47\" width=\"2130\" height=\"1440\"/>\n",
       "  </clipPath>\n",
       "</defs>\n",
       "<polyline clip-path=\"url(#clip682)\" style=\"stroke:#000000; stroke-linecap:round; stroke-linejoin:round; stroke-width:2; stroke-opacity:0.1; fill:none\" points=\"284.343,1486.45 284.343,47.2441 \"/>\n",
       "<polyline clip-path=\"url(#clip682)\" style=\"stroke:#000000; stroke-linecap:round; stroke-linejoin:round; stroke-width:2; stroke-opacity:0.1; fill:none\" points=\"786.385,1486.45 786.385,47.2441 \"/>\n",
       "<polyline clip-path=\"url(#clip682)\" style=\"stroke:#000000; stroke-linecap:round; stroke-linejoin:round; stroke-width:2; stroke-opacity:0.1; fill:none\" points=\"1288.43,1486.45 1288.43,47.2441 \"/>\n",
       "<polyline clip-path=\"url(#clip682)\" style=\"stroke:#000000; stroke-linecap:round; stroke-linejoin:round; stroke-width:2; stroke-opacity:0.1; fill:none\" points=\"1790.47,1486.45 1790.47,47.2441 \"/>\n",
       "<polyline clip-path=\"url(#clip682)\" style=\"stroke:#000000; stroke-linecap:round; stroke-linejoin:round; stroke-width:2; stroke-opacity:0.1; fill:none\" points=\"2292.51,1486.45 2292.51,47.2441 \"/>\n",
       "<polyline clip-path=\"url(#clip680)\" style=\"stroke:#000000; stroke-linecap:round; stroke-linejoin:round; stroke-width:4; stroke-opacity:1; fill:none\" points=\"224.098,1486.45 2352.76,1486.45 \"/>\n",
       "<polyline clip-path=\"url(#clip680)\" style=\"stroke:#000000; stroke-linecap:round; stroke-linejoin:round; stroke-width:4; stroke-opacity:1; fill:none\" points=\"284.343,1486.45 284.343,1467.55 \"/>\n",
       "<polyline clip-path=\"url(#clip680)\" style=\"stroke:#000000; stroke-linecap:round; stroke-linejoin:round; stroke-width:4; stroke-opacity:1; fill:none\" points=\"786.385,1486.45 786.385,1467.55 \"/>\n",
       "<polyline clip-path=\"url(#clip680)\" style=\"stroke:#000000; stroke-linecap:round; stroke-linejoin:round; stroke-width:4; stroke-opacity:1; fill:none\" points=\"1288.43,1486.45 1288.43,1467.55 \"/>\n",
       "<polyline clip-path=\"url(#clip680)\" style=\"stroke:#000000; stroke-linecap:round; stroke-linejoin:round; stroke-width:4; stroke-opacity:1; fill:none\" points=\"1790.47,1486.45 1790.47,1467.55 \"/>\n",
       "<polyline clip-path=\"url(#clip680)\" style=\"stroke:#000000; stroke-linecap:round; stroke-linejoin:round; stroke-width:4; stroke-opacity:1; fill:none\" points=\"2292.51,1486.45 2292.51,1467.55 \"/>\n",
       "<path clip-path=\"url(#clip680)\" d=\"M274.725 1544.91 L282.364 1544.91 L282.364 1518.55 L274.054 1520.21 L274.054 1515.95 L282.317 1514.29 L286.993 1514.29 L286.993 1544.91 L294.632 1544.91 L294.632 1548.85 L274.725 1548.85 L274.725 1544.91 Z\" fill=\"#000000\" fill-rule=\"evenodd\" fill-opacity=\"1\" /><path clip-path=\"url(#clip680)\" d=\"M781.038 1544.91 L797.357 1544.91 L797.357 1548.85 L775.413 1548.85 L775.413 1544.91 Q778.075 1542.16 782.658 1537.53 Q787.265 1532.88 788.445 1531.53 Q790.69 1529.01 791.57 1527.27 Q792.473 1525.51 792.473 1523.82 Q792.473 1521.07 790.528 1519.33 Q788.607 1517.6 785.505 1517.6 Q783.306 1517.6 780.853 1518.36 Q778.422 1519.13 775.644 1520.68 L775.644 1515.95 Q778.468 1514.82 780.922 1514.24 Q783.376 1513.66 785.413 1513.66 Q790.783 1513.66 793.977 1516.35 Q797.172 1519.03 797.172 1523.52 Q797.172 1525.65 796.362 1527.57 Q795.575 1529.47 793.468 1532.07 Q792.889 1532.74 789.788 1535.95 Q786.686 1539.15 781.038 1544.91 Z\" fill=\"#000000\" fill-rule=\"evenodd\" fill-opacity=\"1\" /><path clip-path=\"url(#clip680)\" d=\"M1292.67 1530.21 Q1296.03 1530.93 1297.91 1533.2 Q1299.8 1535.47 1299.8 1538.8 Q1299.8 1543.92 1296.29 1546.72 Q1292.77 1549.52 1286.29 1549.52 Q1284.11 1549.52 1281.79 1549.08 Q1279.5 1548.66 1277.05 1547.81 L1277.05 1543.29 Q1278.99 1544.43 1281.31 1545.01 Q1283.62 1545.58 1286.15 1545.58 Q1290.54 1545.58 1292.84 1543.85 Q1295.15 1542.11 1295.15 1538.8 Q1295.15 1535.75 1293 1534.03 Q1290.87 1532.3 1287.05 1532.3 L1283.02 1532.3 L1283.02 1528.45 L1287.23 1528.45 Q1290.68 1528.45 1292.51 1527.09 Q1294.34 1525.7 1294.34 1523.11 Q1294.34 1520.45 1292.44 1519.03 Q1290.57 1517.6 1287.05 1517.6 Q1285.13 1517.6 1282.93 1518.01 Q1280.73 1518.43 1278.09 1519.31 L1278.09 1515.14 Q1280.75 1514.4 1283.07 1514.03 Q1285.41 1513.66 1287.47 1513.66 Q1292.79 1513.66 1295.89 1516.09 Q1298.99 1518.5 1298.99 1522.62 Q1298.99 1525.49 1297.35 1527.48 Q1295.71 1529.45 1292.67 1530.21 Z\" fill=\"#000000\" fill-rule=\"evenodd\" fill-opacity=\"1\" /><path clip-path=\"url(#clip680)\" d=\"M1793.48 1518.36 L1781.67 1536.81 L1793.48 1536.81 L1793.48 1518.36 M1792.25 1514.29 L1798.13 1514.29 L1798.13 1536.81 L1803.06 1536.81 L1803.06 1540.7 L1798.13 1540.7 L1798.13 1548.85 L1793.48 1548.85 L1793.48 1540.7 L1777.88 1540.7 L1777.88 1536.19 L1792.25 1514.29 Z\" fill=\"#000000\" fill-rule=\"evenodd\" fill-opacity=\"1\" /><path clip-path=\"url(#clip680)\" d=\"M2282.79 1514.29 L2301.15 1514.29 L2301.15 1518.22 L2287.07 1518.22 L2287.07 1526.7 Q2288.09 1526.35 2289.11 1526.19 Q2290.13 1526 2291.15 1526 Q2296.93 1526 2300.31 1529.17 Q2303.69 1532.34 2303.69 1537.76 Q2303.69 1543.34 2300.22 1546.44 Q2296.75 1549.52 2290.43 1549.52 Q2288.25 1549.52 2285.98 1549.15 Q2283.74 1548.78 2281.33 1548.04 L2281.33 1543.34 Q2283.41 1544.47 2285.64 1545.03 Q2287.86 1545.58 2290.33 1545.58 Q2294.34 1545.58 2296.68 1543.48 Q2299.02 1541.37 2299.02 1537.76 Q2299.02 1534.15 2296.68 1532.04 Q2294.34 1529.94 2290.33 1529.94 Q2288.46 1529.94 2286.58 1530.35 Q2284.73 1530.77 2282.79 1531.65 L2282.79 1514.29 Z\" fill=\"#000000\" fill-rule=\"evenodd\" fill-opacity=\"1\" /><polyline clip-path=\"url(#clip682)\" style=\"stroke:#000000; stroke-linecap:round; stroke-linejoin:round; stroke-width:2; stroke-opacity:0.1; fill:none\" points=\"224.098,1288.24 2352.76,1288.24 \"/>\n",
       "<polyline clip-path=\"url(#clip682)\" style=\"stroke:#000000; stroke-linecap:round; stroke-linejoin:round; stroke-width:2; stroke-opacity:0.1; fill:none\" points=\"224.098,1023.07 2352.76,1023.07 \"/>\n",
       "<polyline clip-path=\"url(#clip682)\" style=\"stroke:#000000; stroke-linecap:round; stroke-linejoin:round; stroke-width:2; stroke-opacity:0.1; fill:none\" points=\"224.098,757.898 2352.76,757.898 \"/>\n",
       "<polyline clip-path=\"url(#clip682)\" style=\"stroke:#000000; stroke-linecap:round; stroke-linejoin:round; stroke-width:2; stroke-opacity:0.1; fill:none\" points=\"224.098,492.73 2352.76,492.73 \"/>\n",
       "<polyline clip-path=\"url(#clip682)\" style=\"stroke:#000000; stroke-linecap:round; stroke-linejoin:round; stroke-width:2; stroke-opacity:0.1; fill:none\" points=\"224.098,227.562 2352.76,227.562 \"/>\n",
       "<polyline clip-path=\"url(#clip680)\" style=\"stroke:#000000; stroke-linecap:round; stroke-linejoin:round; stroke-width:4; stroke-opacity:1; fill:none\" points=\"224.098,1486.45 224.098,47.2441 \"/>\n",
       "<polyline clip-path=\"url(#clip680)\" style=\"stroke:#000000; stroke-linecap:round; stroke-linejoin:round; stroke-width:4; stroke-opacity:1; fill:none\" points=\"224.098,1288.24 242.996,1288.24 \"/>\n",
       "<polyline clip-path=\"url(#clip680)\" style=\"stroke:#000000; stroke-linecap:round; stroke-linejoin:round; stroke-width:4; stroke-opacity:1; fill:none\" points=\"224.098,1023.07 242.996,1023.07 \"/>\n",
       "<polyline clip-path=\"url(#clip680)\" style=\"stroke:#000000; stroke-linecap:round; stroke-linejoin:round; stroke-width:4; stroke-opacity:1; fill:none\" points=\"224.098,757.898 242.996,757.898 \"/>\n",
       "<polyline clip-path=\"url(#clip680)\" style=\"stroke:#000000; stroke-linecap:round; stroke-linejoin:round; stroke-width:4; stroke-opacity:1; fill:none\" points=\"224.098,492.73 242.996,492.73 \"/>\n",
       "<polyline clip-path=\"url(#clip680)\" style=\"stroke:#000000; stroke-linecap:round; stroke-linejoin:round; stroke-width:4; stroke-opacity:1; fill:none\" points=\"224.098,227.562 242.996,227.562 \"/>\n",
       "<path clip-path=\"url(#clip680)\" d=\"M50.9921 1288.69 L80.6679 1288.69 L80.6679 1292.62 L50.9921 1292.62 L50.9921 1288.69 Z\" fill=\"#000000\" fill-rule=\"evenodd\" fill-opacity=\"1\" /><path clip-path=\"url(#clip680)\" d=\"M100.76 1274.03 Q97.1493 1274.03 95.3206 1277.6 Q93.515 1281.14 93.515 1288.27 Q93.515 1295.38 95.3206 1298.94 Q97.1493 1302.48 100.76 1302.48 Q104.395 1302.48 106.2 1298.94 Q108.029 1295.38 108.029 1288.27 Q108.029 1281.14 106.2 1277.6 Q104.395 1274.03 100.76 1274.03 M100.76 1270.33 Q106.571 1270.33 109.626 1274.94 Q112.705 1279.52 112.705 1288.27 Q112.705 1297 109.626 1301.6 Q106.571 1306.19 100.76 1306.19 Q94.9502 1306.19 91.8715 1301.6 Q88.816 1297 88.816 1288.27 Q88.816 1279.52 91.8715 1274.94 Q94.9502 1270.33 100.76 1270.33 Z\" fill=\"#000000\" fill-rule=\"evenodd\" fill-opacity=\"1\" /><path clip-path=\"url(#clip680)\" d=\"M120.922 1299.64 L125.807 1299.64 L125.807 1305.52 L120.922 1305.52 L120.922 1299.64 Z\" fill=\"#000000\" fill-rule=\"evenodd\" fill-opacity=\"1\" /><path clip-path=\"url(#clip680)\" d=\"M136.038 1270.96 L154.394 1270.96 L154.394 1274.89 L140.32 1274.89 L140.32 1283.36 Q141.339 1283.02 142.357 1282.85 Q143.376 1282.67 144.394 1282.67 Q150.181 1282.67 153.561 1285.84 Q156.941 1289.01 156.941 1294.43 Q156.941 1300.01 153.468 1303.11 Q149.996 1306.19 143.677 1306.19 Q141.501 1306.19 139.232 1305.82 Q136.987 1305.45 134.58 1304.7 L134.58 1300.01 Q136.663 1301.14 138.885 1301.7 Q141.107 1302.25 143.584 1302.25 Q147.589 1302.25 149.927 1300.14 Q152.265 1298.04 152.265 1294.43 Q152.265 1290.82 149.927 1288.71 Q147.589 1286.6 143.584 1286.6 Q141.709 1286.6 139.834 1287.02 Q137.982 1287.44 136.038 1288.32 L136.038 1270.96 Z\" fill=\"#000000\" fill-rule=\"evenodd\" fill-opacity=\"1\" /><path clip-path=\"url(#clip680)\" d=\"M176.153 1274.03 Q172.542 1274.03 170.714 1277.6 Q168.908 1281.14 168.908 1288.27 Q168.908 1295.38 170.714 1298.94 Q172.542 1302.48 176.153 1302.48 Q179.788 1302.48 181.593 1298.94 Q183.422 1295.38 183.422 1288.27 Q183.422 1281.14 181.593 1277.6 Q179.788 1274.03 176.153 1274.03 M176.153 1270.33 Q181.964 1270.33 185.019 1274.94 Q188.098 1279.52 188.098 1288.27 Q188.098 1297 185.019 1301.6 Q181.964 1306.19 176.153 1306.19 Q170.343 1306.19 167.265 1301.6 Q164.209 1297 164.209 1288.27 Q164.209 1279.52 167.265 1274.94 Q170.343 1270.33 176.153 1270.33 Z\" fill=\"#000000\" fill-rule=\"evenodd\" fill-opacity=\"1\" /><path clip-path=\"url(#clip680)\" d=\"M51.9875 1023.52 L81.6633 1023.52 L81.6633 1027.45 L51.9875 1027.45 L51.9875 1023.52 Z\" fill=\"#000000\" fill-rule=\"evenodd\" fill-opacity=\"1\" /><path clip-path=\"url(#clip680)\" d=\"M101.756 1008.87 Q98.1447 1008.87 96.316 1012.43 Q94.5104 1015.97 94.5104 1023.1 Q94.5104 1030.21 96.316 1033.77 Q98.1447 1037.31 101.756 1037.31 Q105.39 1037.31 107.196 1033.77 Q109.024 1030.21 109.024 1023.1 Q109.024 1015.97 107.196 1012.43 Q105.39 1008.87 101.756 1008.87 M101.756 1005.16 Q107.566 1005.16 110.621 1009.77 Q113.7 1014.35 113.7 1023.1 Q113.7 1031.83 110.621 1036.43 Q107.566 1041.02 101.756 1041.02 Q95.9456 1041.02 92.8669 1036.43 Q89.8114 1031.83 89.8114 1023.1 Q89.8114 1014.35 92.8669 1009.77 Q95.9456 1005.16 101.756 1005.16 Z\" fill=\"#000000\" fill-rule=\"evenodd\" fill-opacity=\"1\" /><path clip-path=\"url(#clip680)\" d=\"M121.918 1034.47 L126.802 1034.47 L126.802 1040.35 L121.918 1040.35 L121.918 1034.47 Z\" fill=\"#000000\" fill-rule=\"evenodd\" fill-opacity=\"1\" /><path clip-path=\"url(#clip680)\" d=\"M141.015 1036.41 L157.334 1036.41 L157.334 1040.35 L135.39 1040.35 L135.39 1036.41 Q138.052 1033.66 142.635 1029.03 Q147.242 1024.37 148.422 1023.03 Q150.668 1020.51 151.547 1018.77 Q152.45 1017.01 152.45 1015.32 Q152.45 1012.57 150.505 1010.83 Q148.584 1009.1 145.482 1009.1 Q143.283 1009.1 140.83 1009.86 Q138.399 1010.62 135.621 1012.18 L135.621 1007.45 Q138.445 1006.32 140.899 1005.74 Q143.353 1005.16 145.39 1005.16 Q150.76 1005.16 153.955 1007.85 Q157.149 1010.53 157.149 1015.02 Q157.149 1017.15 156.339 1019.07 Q155.552 1020.97 153.445 1023.56 Q152.867 1024.24 149.765 1027.45 Q146.663 1030.65 141.015 1036.41 Z\" fill=\"#000000\" fill-rule=\"evenodd\" fill-opacity=\"1\" /><path clip-path=\"url(#clip680)\" d=\"M167.195 1005.79 L185.552 1005.79 L185.552 1009.72 L171.478 1009.72 L171.478 1018.19 Q172.496 1017.85 173.515 1017.68 Q174.533 1017.5 175.552 1017.5 Q181.339 1017.5 184.718 1020.67 Q188.098 1023.84 188.098 1029.26 Q188.098 1034.84 184.626 1037.94 Q181.153 1041.02 174.834 1041.02 Q172.658 1041.02 170.39 1040.65 Q168.144 1040.28 165.737 1039.54 L165.737 1034.84 Q167.82 1035.97 170.042 1036.53 Q172.265 1037.08 174.741 1037.08 Q178.746 1037.08 181.084 1034.98 Q183.422 1032.87 183.422 1029.26 Q183.422 1025.65 181.084 1023.54 Q178.746 1021.43 174.741 1021.43 Q172.866 1021.43 170.991 1021.85 Q169.14 1022.27 167.195 1023.15 L167.195 1005.79 Z\" fill=\"#000000\" fill-rule=\"evenodd\" fill-opacity=\"1\" /><path clip-path=\"url(#clip680)\" d=\"M100.76 743.697 Q97.1493 743.697 95.3206 747.262 Q93.515 750.804 93.515 757.933 Q93.515 765.04 95.3206 768.604 Q97.1493 772.146 100.76 772.146 Q104.395 772.146 106.2 768.604 Q108.029 765.04 108.029 757.933 Q108.029 750.804 106.2 747.262 Q104.395 743.697 100.76 743.697 M100.76 739.993 Q106.571 739.993 109.626 744.6 Q112.705 749.183 112.705 757.933 Q112.705 766.66 109.626 771.266 Q106.571 775.85 100.76 775.85 Q94.9502 775.85 91.8715 771.266 Q88.816 766.66 88.816 757.933 Q88.816 749.183 91.8715 744.6 Q94.9502 739.993 100.76 739.993 Z\" fill=\"#000000\" fill-rule=\"evenodd\" fill-opacity=\"1\" /><path clip-path=\"url(#clip680)\" d=\"M120.922 769.299 L125.807 769.299 L125.807 775.178 L120.922 775.178 L120.922 769.299 Z\" fill=\"#000000\" fill-rule=\"evenodd\" fill-opacity=\"1\" /><path clip-path=\"url(#clip680)\" d=\"M145.992 743.697 Q142.381 743.697 140.552 747.262 Q138.746 750.804 138.746 757.933 Q138.746 765.04 140.552 768.604 Q142.381 772.146 145.992 772.146 Q149.626 772.146 151.431 768.604 Q153.26 765.04 153.26 757.933 Q153.26 750.804 151.431 747.262 Q149.626 743.697 145.992 743.697 M145.992 739.993 Q151.802 739.993 154.857 744.6 Q157.936 749.183 157.936 757.933 Q157.936 766.66 154.857 771.266 Q151.802 775.85 145.992 775.85 Q140.181 775.85 137.103 771.266 Q134.047 766.66 134.047 757.933 Q134.047 749.183 137.103 744.6 Q140.181 739.993 145.992 739.993 Z\" fill=\"#000000\" fill-rule=\"evenodd\" fill-opacity=\"1\" /><path clip-path=\"url(#clip680)\" d=\"M176.153 743.697 Q172.542 743.697 170.714 747.262 Q168.908 750.804 168.908 757.933 Q168.908 765.04 170.714 768.604 Q172.542 772.146 176.153 772.146 Q179.788 772.146 181.593 768.604 Q183.422 765.04 183.422 757.933 Q183.422 750.804 181.593 747.262 Q179.788 743.697 176.153 743.697 M176.153 739.993 Q181.964 739.993 185.019 744.6 Q188.098 749.183 188.098 757.933 Q188.098 766.66 185.019 771.266 Q181.964 775.85 176.153 775.85 Q170.343 775.85 167.265 771.266 Q164.209 766.66 164.209 757.933 Q164.209 749.183 167.265 744.6 Q170.343 739.993 176.153 739.993 Z\" fill=\"#000000\" fill-rule=\"evenodd\" fill-opacity=\"1\" /><path clip-path=\"url(#clip680)\" d=\"M101.756 478.529 Q98.1447 478.529 96.316 482.094 Q94.5104 485.635 94.5104 492.765 Q94.5104 499.871 96.316 503.436 Q98.1447 506.978 101.756 506.978 Q105.39 506.978 107.196 503.436 Q109.024 499.871 109.024 492.765 Q109.024 485.635 107.196 482.094 Q105.39 478.529 101.756 478.529 M101.756 474.825 Q107.566 474.825 110.621 479.432 Q113.7 484.015 113.7 492.765 Q113.7 501.492 110.621 506.098 Q107.566 510.681 101.756 510.681 Q95.9456 510.681 92.8669 506.098 Q89.8114 501.492 89.8114 492.765 Q89.8114 484.015 92.8669 479.432 Q95.9456 474.825 101.756 474.825 Z\" fill=\"#000000\" fill-rule=\"evenodd\" fill-opacity=\"1\" /><path clip-path=\"url(#clip680)\" d=\"M121.918 504.13 L126.802 504.13 L126.802 510.01 L121.918 510.01 L121.918 504.13 Z\" fill=\"#000000\" fill-rule=\"evenodd\" fill-opacity=\"1\" /><path clip-path=\"url(#clip680)\" d=\"M141.015 506.075 L157.334 506.075 L157.334 510.01 L135.39 510.01 L135.39 506.075 Q138.052 503.32 142.635 498.691 Q147.242 494.038 148.422 492.695 Q150.668 490.172 151.547 488.436 Q152.45 486.677 152.45 484.987 Q152.45 482.232 150.505 480.496 Q148.584 478.76 145.482 478.76 Q143.283 478.76 140.83 479.524 Q138.399 480.288 135.621 481.839 L135.621 477.117 Q138.445 475.982 140.899 475.404 Q143.353 474.825 145.39 474.825 Q150.76 474.825 153.955 477.51 Q157.149 480.195 157.149 484.686 Q157.149 486.816 156.339 488.737 Q155.552 490.635 153.445 493.228 Q152.867 493.899 149.765 497.117 Q146.663 500.311 141.015 506.075 Z\" fill=\"#000000\" fill-rule=\"evenodd\" fill-opacity=\"1\" /><path clip-path=\"url(#clip680)\" d=\"M167.195 475.45 L185.552 475.45 L185.552 479.385 L171.478 479.385 L171.478 487.857 Q172.496 487.51 173.515 487.348 Q174.533 487.163 175.552 487.163 Q181.339 487.163 184.718 490.334 Q188.098 493.506 188.098 498.922 Q188.098 504.501 184.626 507.603 Q181.153 510.681 174.834 510.681 Q172.658 510.681 170.39 510.311 Q168.144 509.941 165.737 509.2 L165.737 504.501 Q167.82 505.635 170.042 506.191 Q172.265 506.746 174.741 506.746 Q178.746 506.746 181.084 504.64 Q183.422 502.533 183.422 498.922 Q183.422 495.311 181.084 493.205 Q178.746 491.098 174.741 491.098 Q172.866 491.098 170.991 491.515 Q169.14 491.931 167.195 492.811 L167.195 475.45 Z\" fill=\"#000000\" fill-rule=\"evenodd\" fill-opacity=\"1\" /><path clip-path=\"url(#clip680)\" d=\"M100.76 213.36 Q97.1493 213.36 95.3206 216.925 Q93.515 220.467 93.515 227.596 Q93.515 234.703 95.3206 238.268 Q97.1493 241.809 100.76 241.809 Q104.395 241.809 106.2 238.268 Q108.029 234.703 108.029 227.596 Q108.029 220.467 106.2 216.925 Q104.395 213.36 100.76 213.36 M100.76 209.657 Q106.571 209.657 109.626 214.263 Q112.705 218.846 112.705 227.596 Q112.705 236.323 109.626 240.93 Q106.571 245.513 100.76 245.513 Q94.9502 245.513 91.8715 240.93 Q88.816 236.323 88.816 227.596 Q88.816 218.846 91.8715 214.263 Q94.9502 209.657 100.76 209.657 Z\" fill=\"#000000\" fill-rule=\"evenodd\" fill-opacity=\"1\" /><path clip-path=\"url(#clip680)\" d=\"M120.922 238.962 L125.807 238.962 L125.807 244.842 L120.922 244.842 L120.922 238.962 Z\" fill=\"#000000\" fill-rule=\"evenodd\" fill-opacity=\"1\" /><path clip-path=\"url(#clip680)\" d=\"M136.038 210.282 L154.394 210.282 L154.394 214.217 L140.32 214.217 L140.32 222.689 Q141.339 222.342 142.357 222.18 Q143.376 221.995 144.394 221.995 Q150.181 221.995 153.561 225.166 Q156.941 228.337 156.941 233.754 Q156.941 239.332 153.468 242.434 Q149.996 245.513 143.677 245.513 Q141.501 245.513 139.232 245.143 Q136.987 244.772 134.58 244.032 L134.58 239.332 Q136.663 240.467 138.885 241.022 Q141.107 241.578 143.584 241.578 Q147.589 241.578 149.927 239.471 Q152.265 237.365 152.265 233.754 Q152.265 230.143 149.927 228.036 Q147.589 225.93 143.584 225.93 Q141.709 225.93 139.834 226.346 Q137.982 226.763 136.038 227.643 L136.038 210.282 Z\" fill=\"#000000\" fill-rule=\"evenodd\" fill-opacity=\"1\" /><path clip-path=\"url(#clip680)\" d=\"M176.153 213.36 Q172.542 213.36 170.714 216.925 Q168.908 220.467 168.908 227.596 Q168.908 234.703 170.714 238.268 Q172.542 241.809 176.153 241.809 Q179.788 241.809 181.593 238.268 Q183.422 234.703 183.422 227.596 Q183.422 220.467 181.593 216.925 Q179.788 213.36 176.153 213.36 M176.153 209.657 Q181.964 209.657 185.019 214.263 Q188.098 218.846 188.098 227.596 Q188.098 236.323 185.019 240.93 Q181.964 245.513 176.153 245.513 Q170.343 245.513 167.265 240.93 Q164.209 236.323 164.209 227.596 Q164.209 218.846 167.265 214.263 Q170.343 209.657 176.153 209.657 Z\" fill=\"#000000\" fill-rule=\"evenodd\" fill-opacity=\"1\" /><circle clip-path=\"url(#clip682)\" cx=\"284.343\" cy=\"910.498\" r=\"14.4\" fill=\"#009af9\" fill-rule=\"evenodd\" fill-opacity=\"1\" stroke=\"#000000\" stroke-opacity=\"1\" stroke-width=\"3.2\"/>\n",
       "<circle clip-path=\"url(#clip682)\" cx=\"786.385\" cy=\"1445.72\" r=\"14.4\" fill=\"#009af9\" fill-rule=\"evenodd\" fill-opacity=\"1\" stroke=\"#000000\" stroke-opacity=\"1\" stroke-width=\"3.2\"/>\n",
       "<circle clip-path=\"url(#clip682)\" cx=\"1288.43\" cy=\"1180.15\" r=\"14.4\" fill=\"#009af9\" fill-rule=\"evenodd\" fill-opacity=\"1\" stroke=\"#000000\" stroke-opacity=\"1\" stroke-width=\"3.2\"/>\n",
       "<circle clip-path=\"url(#clip682)\" cx=\"1790.47\" cy=\"87.9763\" r=\"14.4\" fill=\"#009af9\" fill-rule=\"evenodd\" fill-opacity=\"1\" stroke=\"#000000\" stroke-opacity=\"1\" stroke-width=\"3.2\"/>\n",
       "<circle clip-path=\"url(#clip682)\" cx=\"2292.51\" cy=\"717.06\" r=\"14.4\" fill=\"#009af9\" fill-rule=\"evenodd\" fill-opacity=\"1\" stroke=\"#000000\" stroke-opacity=\"1\" stroke-width=\"3.2\"/>\n",
       "<polyline clip-path=\"url(#clip682)\" style=\"stroke:#e26f46; stroke-linecap:round; stroke-linejoin:round; stroke-width:8; stroke-opacity:1; fill:none\" points=\"-1904.56,757.898 4481.41,757.898 \"/>\n",
       "<path clip-path=\"url(#clip680)\" d=\"M2016.5 250.738 L2281.8 250.738 L2281.8 95.2176 L2016.5 95.2176  Z\" fill=\"#ffffff\" fill-rule=\"evenodd\" fill-opacity=\"1\"/>\n",
       "<polyline clip-path=\"url(#clip680)\" style=\"stroke:#000000; stroke-linecap:round; stroke-linejoin:round; stroke-width:4; stroke-opacity:1; fill:none\" points=\"2016.5,250.738 2281.8,250.738 2281.8,95.2176 2016.5,95.2176 2016.5,250.738 \"/>\n",
       "<circle clip-path=\"url(#clip680)\" cx=\"2111.11\" cy=\"147.058\" r=\"23.04\" fill=\"#009af9\" fill-rule=\"evenodd\" fill-opacity=\"1\" stroke=\"#000000\" stroke-opacity=\"1\" stroke-width=\"5.12\"/>\n",
       "<path clip-path=\"url(#clip680)\" d=\"M2219.56 166.745 Q2217.76 171.375 2216.04 172.787 Q2214.33 174.199 2211.46 174.199 L2208.06 174.199 L2208.06 170.634 L2210.56 170.634 Q2212.32 170.634 2213.29 169.8 Q2214.26 168.967 2215.44 165.865 L2216.2 163.921 L2205.72 138.412 L2210.23 138.412 L2218.33 158.689 L2226.44 138.412 L2230.95 138.412 L2219.56 166.745 Z\" fill=\"#000000\" fill-rule=\"evenodd\" fill-opacity=\"1\" /><path clip-path=\"url(#clip680)\" d=\"M2238.24 160.402 L2245.88 160.402 L2245.88 134.037 L2237.57 135.703 L2237.57 131.444 L2245.83 129.778 L2250.51 129.778 L2250.51 160.402 L2258.15 160.402 L2258.15 164.338 L2238.24 164.338 L2238.24 160.402 Z\" fill=\"#000000\" fill-rule=\"evenodd\" fill-opacity=\"1\" /><polyline clip-path=\"url(#clip680)\" style=\"stroke:#e26f46; stroke-linecap:round; stroke-linejoin:round; stroke-width:8; stroke-opacity:1; fill:none\" points=\"2040.16,198.898 2182.07,198.898 \"/>\n",
       "<path clip-path=\"url(#clip680)\" d=\"M2219.56 218.585 Q2217.76 223.215 2216.04 224.627 Q2214.33 226.039 2211.46 226.039 L2208.06 226.039 L2208.06 222.474 L2210.56 222.474 Q2212.32 222.474 2213.29 221.64 Q2214.26 220.807 2215.44 217.705 L2216.2 215.761 L2205.72 190.252 L2210.23 190.252 L2218.33 210.529 L2226.44 190.252 L2230.95 190.252 L2219.56 218.585 Z\" fill=\"#000000\" fill-rule=\"evenodd\" fill-opacity=\"1\" /><path clip-path=\"url(#clip680)\" d=\"M2241.46 212.242 L2257.78 212.242 L2257.78 216.178 L2235.83 216.178 L2235.83 212.242 Q2238.5 209.488 2243.08 204.858 Q2247.69 200.205 2248.87 198.863 Q2251.11 196.34 2251.99 194.604 Q2252.89 192.844 2252.89 191.155 Q2252.89 188.4 2250.95 186.664 Q2249.03 184.928 2245.93 184.928 Q2243.73 184.928 2241.27 185.692 Q2238.84 186.455 2236.07 188.006 L2236.07 183.284 Q2238.89 182.15 2241.34 181.571 Q2243.8 180.993 2245.83 180.993 Q2251.2 180.993 2254.4 183.678 Q2257.59 186.363 2257.59 190.854 Q2257.59 192.983 2256.78 194.905 Q2256 196.803 2253.89 199.395 Q2253.31 200.067 2250.21 203.284 Q2247.11 206.479 2241.46 212.242 Z\" fill=\"#000000\" fill-rule=\"evenodd\" fill-opacity=\"1\" /></svg>\n"
      ]
     },
     "execution_count": 38,
     "metadata": {},
     "output_type": "execute_result"
    }
   ],
   "source": [
    "GenPermOps!(tnqe0, verbose=true)\n",
    "GenSubspaceMats!(tnqe0)\n",
    "SolveGenEig!(tnqe0, verbose=true)"
   ]
  },
  {
   "cell_type": "code",
   "execution_count": 39,
   "id": "c1a16c36-bb0f-4357-9694-4c53f73c413a",
   "metadata": {},
   "outputs": [
    {
     "name": "stdout",
     "output_type": "stream",
     "text": [
      "\n",
      "########## Starting MultiGeomOptim!\n",
      "\n",
      "\n",
      "########## Repetition 1/4:\n",
      "\n",
      "Recycling states...\n",
      "\n",
      "\n",
      "GENERALIZED TWO-SITE SWEEP ALGORITHM:\n",
      "Iter: 1/1; state: 5/5; sweep: 2/2; bond: 6/6; E_min = -83.85963; kappa = 12.9     \n",
      "Done!\n",
      "\n",
      "\n",
      "########## Repetition 1/4 complete!\n",
      "########## E_new = -83.8596314174802; E_best = -83.8596314174802\n",
      "########## Outcome = \"accept!\"; acceptance ratio = 100%\n",
      "\n",
      "\n",
      "########## Repetition 2/4:\n",
      "\n",
      "Recycling states...\n",
      "\n",
      "\n",
      "GENERALIZED TWO-SITE SWEEP ALGORITHM:\n",
      "Iter: 1/1; state: 5/5; sweep: 2/2; bond: 6/6; E_min = -83.85973; kappa = 5.45     \n",
      "Done!\n",
      "\n",
      "\n",
      "########## Repetition 2/4 complete!\n",
      "########## E_new = -83.85973344584258; E_best = -83.85973344584258\n",
      "########## Outcome = \"accept!\"; acceptance ratio = 100%\n",
      "\n",
      "\n",
      "########## Repetition 3/4:\n",
      "\n",
      "Recycling states...\n",
      "\n",
      "\n",
      "GENERALIZED TWO-SITE SWEEP ALGORITHM:\n",
      "Iter: 1/1; state: 5/5; sweep: 2/2; bond: 6/6; E_min = -83.85999; kappa = 9.01     \n",
      "Done!\n",
      "\n",
      "\n",
      "########## Repetition 3/4 complete!\n",
      "########## E_new = -83.8599927925245; E_best = -83.8599927925245\n",
      "########## Outcome = \"accept!\"; acceptance ratio = 100%\n",
      "\n",
      "\n",
      "########## Repetition 4/4:\n",
      "\n",
      "Recycling states...\n",
      "\n",
      "\n",
      "GENERALIZED TWO-SITE SWEEP ALGORITHM:\n",
      "Iter: 1/1; state: 5/5; sweep: 2/2; bond: 6/6; E_min = -83.85879; kappa = 10.4     \n",
      "Done!\n",
      "\n",
      "\n",
      "########## Repetition 4/4 complete!\n",
      "########## E_new = -83.85879020352485; E_best = -83.8599927925245\n",
      "########## Outcome = \"reject!\"; acceptance ratio = 75%\n",
      "\n",
      "\n",
      "########## MultiGeomOptim complete!\n",
      "\n"
     ]
    }
   ],
   "source": [
    "tnqe1 = copy(tnqe0)\n",
    "\n",
    "op1 = OptimParameters(\n",
    "    maxiter=1, \n",
    "    numloop=2, \n",
    "    noise=[1e-2], \n",
    "    sd_thresh=\"inversion\", \n",
    "    sd_eps=1.0e-8,\n",
    "    delta=[1e-3]\n",
    ")\n",
    "\n",
    "op2 = OptimParameters(\n",
    "    afunc=\"exp\",\n",
    "    alpha=2e4,\n",
    "    rnum=1\n",
    ")\n",
    "\n",
    "\"\"\"\n",
    "GeneralizedTwoSite!(\n",
    "    tnqe1, \n",
    "    op1, \n",
    "    verbose=true\n",
    ")\n",
    "\"\"\"\n",
    "\n",
    "\"\"\"\n",
    "RandomSiteDecomp!(\n",
    "    tnqe1, \n",
    "    op2, \n",
    "    verbose=true\n",
    ")\n",
    "\"\"\"\n",
    "\n",
    "\n",
    "MultiGeomOptim!(\n",
    "    tnqe1,\n",
    "    [op2, op1],\n",
    "    reps = 4,\n",
    "    rep_struct = [\n",
    "        [\"recycle\", 1],\n",
    "        [\"twosite\", 2]\n",
    "    ],\n",
    "    verbose=true\n",
    ")\n"
   ]
  }
 ],
 "metadata": {
  "kernelspec": {
   "display_name": "Julia 1.7.3",
   "language": "julia",
   "name": "julia-1.7"
  },
  "language_info": {
   "file_extension": ".jl",
   "mimetype": "application/julia",
   "name": "julia",
   "version": "1.7.3"
  }
 },
 "nbformat": 4,
 "nbformat_minor": 5
}
