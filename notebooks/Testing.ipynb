{
 "cells": [
  {
   "cell_type": "markdown",
   "id": "27a74f43-3fd0-485c-ab53-6b1588bf7b29",
   "metadata": {},
   "source": [
    "# Testing Notebook"
   ]
  },
  {
   "cell_type": "code",
   "execution_count": 1,
   "id": "6dfbe310-1850-403d-a6ce-c230a4b72c9c",
   "metadata": {
    "tags": []
   },
   "outputs": [],
   "source": [
    "# Import Subroutines:\n",
    "\n",
    "include(\"../subroutines/Subroutines.jl\");"
   ]
  },
  {
   "cell_type": "code",
   "execution_count": 2,
   "id": "a7894e7c-effd-4ba0-b64a-0bb9a9dac2a7",
   "metadata": {
    "tags": []
   },
   "outputs": [
    {
     "data": {
      "text/plain": [
       "PyObject <PyIO object at 0x7fdc66f37c70>"
      ]
     },
     "execution_count": 2,
     "metadata": {},
     "output_type": "execute_result"
    }
   ],
   "source": [
    "pyimport(\"sys\").\"stdout\" = PyTextIO(stdout)\n",
    "pyimport(\"sys\").\"stderr\" = PyTextIO(stderr)"
   ]
  },
  {
   "cell_type": "code",
   "execution_count": 3,
   "id": "2c581b0d-0c24-42b0-a916-6094a7742cbb",
   "metadata": {
    "tags": []
   },
   "outputs": [],
   "source": [
    "# Import Python modules, including the RunPySCF subroutines in Python in order to use PySCF:\n",
    "\n",
    "py\"\"\"\n",
    "import sys\n",
    "import os\n",
    "import configparser\n",
    "wd = os.getcwd()\n",
    "sys.path.append(wd+'/../subroutines/')\n",
    "import RunPySCF\n",
    "\"\"\""
   ]
  },
  {
   "cell_type": "code",
   "execution_count": 4,
   "id": "630201be-c47b-4c8d-baed-2267a214e929",
   "metadata": {
    "tags": []
   },
   "outputs": [
    {
     "name": "stdout",
     "output_type": "stream",
     "text": [
      "True\n",
      "converged SCF energy = -74.9611711378677\n"
     ]
    }
   ],
   "source": [
    "# Fetch a config file and generate some chemical data:\n",
    "\n",
    "py\"\"\"\n",
    "config = configparser.ConfigParser()\n",
    "config.read(wd+'/../configs/h2o-test-single-geom.ini')\n",
    "RunPySCF.RunPySCF(config)\n",
    "\"\"\""
   ]
  },
  {
   "cell_type": "code",
   "execution_count": null,
   "id": "f200fc8e-b09d-4df8-94e7-179b4caf886a",
   "metadata": {
    "tags": []
   },
   "outputs": [],
   "source": [
    "# Load the chemical data into julia as an array of chemical data structs:\n",
    "# (one struct obtained for each molecular geometry as set up in the config file)\n",
    "\n",
    "cdata_list = ReadIn(\"../datasets/pyscf_data/h2o_sto-3g_080222%000756.hdf5\");\n",
    "\n",
    "chemical_data = cdata_list[1]\n",
    "\n",
    "println(\"Molecule name: \", chemical_data.mol_name)\n",
    "println(\"Basis set: \", chemical_data.basis)\n",
    "println(\"Molecular geometry: \", chemical_data.geometry)\n",
    "println(\"RHF energy: \", chemical_data.e_rhf)\n",
    "println(\"FCI energy: \", chemical_data.e_fci)"
   ]
  },
  {
   "cell_type": "code",
   "execution_count": null,
   "id": "efe8b239-9b26-42b1-b968-8d5d6ce3c973",
   "metadata": {
    "tags": []
   },
   "outputs": [],
   "source": [
    "# Generate an MPO representation of the Hamiltonian (with the generic HF orbital ordering):\n",
    "\n",
    "hf_ord = collect(1:chemical_data.N_spt)\n",
    "\n",
    "sites = siteinds(\"Electron\", chemical_data.N_spt, conserve_qns=true)\n",
    "#sites = siteinds(\"Qubit\", chemical_data.N, conserve_number=true)\n",
    "\n",
    "@show sites[1]\n",
    "\n",
    "opsum = GenOpSum(chemical_data, hf_ord, tol=1E-12)\n",
    "#opsum = GenOpSumJW(chemical_data, hf_ord)\n",
    "\n",
    "#println(opsum)\n",
    "\n",
    "H = MPO(opsum, sites, cutoff=1E-16, maxdim=10000);"
   ]
  },
  {
   "cell_type": "code",
   "execution_count": null,
   "id": "9a4e4a49-38f4-4eec-88bf-8128042c04d7",
   "metadata": {
    "tags": []
   },
   "outputs": [],
   "source": [
    "# Generate the HF bitstring product state:\n",
    "\n",
    "#hf_spnord = Spatial2SpinOrd(hf_ord)\n",
    "\n",
    "hf_occ = [FillHF(hf_ord[i], chemical_data.N_el) for i=1:chemical_data.N_spt]\n",
    "\n",
    "psi_hf = MPS(sites, hf_occ)\n",
    "\n",
    "e_hf = inner(psi_hf', H, psi_hf)\n",
    "\n",
    "println(\"HF energy: \", e_hf + chemical_data.e_nuc)"
   ]
  },
  {
   "cell_type": "code",
   "execution_count": null,
   "id": "19f2fcda-2db5-4816-8fa5-640ea0ad3d2a",
   "metadata": {
    "tags": []
   },
   "outputs": [],
   "source": [
    "# Run a DMRG calculation and output the energy estimate, particle density distribution and total particle number:\n",
    "\n",
    "sweeps = Sweeps(10) # number of sweeps is 5\n",
    "maxdim!(sweeps,10,20,50,100,200) # gradually increase states kept\n",
    "cutoff!(sweeps,1E-10) # desired truncation error\n",
    "setnoise!(sweeps, 1e-6, 1e-7, 1e-8, 0.0)\n",
    "\n",
    "psi0 = randomMPS(sites, hf_occ)\n",
    "\n",
    "e_dmrg, psi = dmrg(H, psi0, sweeps)\n",
    "\n",
    "println(\"DMRG energy: \", e_dmrg + chemical_data.e_nuc)\n",
    "\n",
    "dens = expect(psi,\"Ntot\")\n",
    "#println(\"Site densities: \", dens)\n",
    "println(\"Expected particle number: \", chemical_data.N_el)\n",
    "println(\"Particle number: \", sum(dens))"
   ]
  },
  {
   "cell_type": "code",
   "execution_count": null,
   "id": "7f235e0e-03fa-48e3-9008-4c83b5db1c2b",
   "metadata": {
    "tags": []
   },
   "outputs": [],
   "source": [
    "# Compute the mutual information:\n",
    "\n",
    "Ipq = MutualInformation(psi, chemical_data, dim=4);\n",
    "\n",
    "display(Ipq)\n",
    "\n",
    "graphplot(Ipq, \n",
    "    method=:circular,\n",
    "    curves=false, \n",
    "    names=[lpad(string(i), 2, '0') for i in hf_ord], \n",
    "    edgewidth=300*Ipq, \n",
    "    nodesize=0.2, \n",
    "    fontsize=8, \n",
    "    nodecolor=7, \n",
    "    nodeshape=:circle,\n",
    "    linealpha=0.9,\n",
    "    nodestrokealpha=0.0,\n",
    "    edgecolor=:darkcyan\n",
    ")"
   ]
  },
  {
   "cell_type": "raw",
   "id": "95dccdb0-fc65-41c0-95d4-00d433c13c45",
   "metadata": {
    "jupyter": {
     "source_hidden": true
    },
    "tags": []
   },
   "source": [
    "# Testing the permutation functionality:\n",
    "\n",
    "sites = siteinds(\"Electron\", chemical_data.N_spt, conserve_qns=false)\n",
    "\n",
    "ord_0 = [1,2,3,4,5,6,7]\n",
    "\n",
    "dens_0 = [4,1,2,1,1,1,2]\n",
    "\n",
    "psi_0 = MPS(sites, dens_0)\n",
    "\n",
    "println(expect(psi_0,\"Ntot\"))\n",
    "println(ExactInnerH(psi_0, psi_0, sites, chemical_data, ord_0))\n",
    "\n",
    "ord_1 = [2,3,4,5,1,6,7]\n",
    "\n",
    "mpo_01 = PermutationMPO(sites, ord_0, ord_1)\n",
    "\n",
    "#psi_1 = Permute(psi_0, sites, ord_0, ord_1, spinpair=false, tol=0.0, maxdim=1e12, mindim=1000, locdim=4)\n",
    "psi_1 = apply(mpo_01, psi_0)\n",
    "\n",
    "println(expect(psi_1,\"Ntot\"))\n",
    "println(ExactInnerH(psi_1, psi_1, sites, chemical_data, ord_1))\n",
    "\n",
    "ord_2 = [6,2,4,1,7,5,3]\n",
    "\n",
    "#psi_2 = Permute(psi_1, sites, ord_1, ord_2, spinpair=false, tol=0.0, maxdim=1e12, mindim=1000, locdim=4)\n",
    "mpo_12 = PermutationMPO(sites, ord_1, ord_2)\n",
    "psi_2 = apply(mpo_12, psi_1)\n",
    "println(ExactInnerH(psi_2, psi_2, sites, chemical_data, ord_2))\n",
    "\n",
    "#psi_3 = Permute(psi_2, sites, ord_2, ord_0, spinpair=false, tol=0.0, maxdim=1e12, mindim=1000, locdim=4)\n",
    "mpo_20 = PermutationMPO(sites, ord_2, ord_0)\n",
    "psi_3 = apply(mpo_20, psi_2)\n",
    "\n",
    "println(expect(psi_3,\"Ntot\"))"
   ]
  },
  {
   "cell_type": "raw",
   "id": "968d4b75-4a66-4ff0-8573-bf763619dd0f",
   "metadata": {
    "jupyter": {
     "source_hidden": true
    },
    "tags": []
   },
   "source": [
    "# Testing the permutation functionality:\n",
    "\n",
    "perm_ord = randperm(chemical_data.N_spt)\n",
    "#perm_ord = [2,1,3,4,5,6,7]\n",
    "println(perm_ord)\n",
    "\n",
    "popsum = GenOpSum(chemical_data, perm_ord)\n",
    "\n",
    "pH = MPO(popsum, sites, cutoff=1E-16, maxdim=10000);\n",
    "\n",
    "ppsi, pe_dmrg = RunDMRG(chemical_data, sites, perm_ord, pH, sweeps, spinpair=false, spatial=true, linkdims=31)\n",
    "\n",
    "#exact_pe_dmrg = ExactInnerH(dense(ppsi), dense(ppsi), removeqns(sites), chemical_data, perm_ord)\n",
    "\n",
    "println(\"DMRG energy: \", pe_dmrg + chemical_data.e_nuc)\n",
    "\n",
    "dens = expect(ppsi,\"Ntot\")\n",
    "#println(\"Site densities: \", dens)\n",
    "println(\"Expected particle number: \", chemical_data.N_el)\n",
    "println(\"Particle number: \", sum(dens))\n",
    "\n",
    "#perm_mpo = PermutationMPO(sites, perm_ord, hf_ord)\n",
    "\n",
    "#println(maxlinkdim(perm_mpo))\n",
    "\n",
    "dense_ppsi = dense(ppsi)\n",
    "\n",
    "println(maxlinkdim(dense_ppsi))\n",
    "\n",
    "#permuted_dense_ppsi = apply(perm_mpo, dense_ppsi)\n",
    "\n",
    "#permuted_ppsi = Permute(ppsi, sites, perm_ord, hf_ord, spinpair=false, tol=0.0, maxdim=1e12, mindim=1000, locdim=4)\n",
    "\n",
    "#twice_permuted_ppsi = Permute(permuted_ppsi, sites, hf_ord, perm_ord, spatial=true, tol=1E-8, maxdim=5000)\n",
    "\n",
    "#permuted_e_dmrg = inner(permuted_ppsi', H, permuted_ppsi)\n",
    "\n",
    "#println(maxlinkdim(permuted_ppsi))\n",
    "\n",
    "permuted_dense_ppsi = Permute(dense_ppsi, removeqns(sites), perm_ord, hf_ord, spinpair=false, tol=1e-40, maxdim=1e12, mindim=1000, locdim=4)\n",
    "\n",
    "#println(siteinds(permuted_dense_ppsi))\n",
    "\n",
    "println(maxlinkdim(permuted_dense_ppsi))\n",
    "\n",
    "#twice_permuted_dense_ppsi = Permute(permuted_dense_ppsi, removeqns(sites), hf_ord, perm_ord, spinpair=false, tol=1e-40, maxdim=1e12, mindim=1000, locdim=4)\n",
    "\n",
    "exact_permuted_e_dmrg = ExactInnerH(permuted_dense_ppsi, permuted_dense_ppsi, removeqns(sites), chemical_data, hf_ord)\n",
    "\n",
    "permuted_e_dmrg = inner(permuted_dense_ppsi', dense(H), permuted_dense_ppsi)\n",
    "\n",
    "println(\"DMRG energy after permutation: \", permuted_e_dmrg + chemical_data.e_nuc)\n",
    "println(\"Exact DMRG energy after permutation: \", exact_permuted_e_dmrg + chemical_data.e_nuc)\n",
    "#ovlp = inner(permuted_dense_ppsi,psi)\n",
    "\n",
    "#println(ovlp)\n",
    "\n",
    "dens = expect(permuted_dense_ppsi,\"Ntot\")\n",
    "println(\"Particle number: \", sum(dens))"
   ]
  },
  {
   "cell_type": "raw",
   "id": "e5529f7b-1595-46a6-ac66-47ea16046784",
   "metadata": {
    "jupyter": {
     "source_hidden": true
    },
    "tags": []
   },
   "source": [
    "# Testing the permutation functionality:\n",
    "\n",
    "perm_ord = randperm(chemical_data.N_spt)\n",
    "#perm_ord = [2,1,3,4,5,6,7]\n",
    "println(perm_ord)\n",
    "\n",
    "popsum = GenOpSum(chemical_data, perm_ord)\n",
    "\n",
    "pH = MPO(popsum, sites, cutoff=1E-16, maxdim=10000); \n",
    "\n",
    "permuted_H = PermuteMPO(H, sites, hf_ord, perm_ord, spinpair=false, tol=1E-18, maxdim=10000, locdim=4);"
   ]
  },
  {
   "cell_type": "raw",
   "id": "c4be3589-1e24-43ad-b456-aa30bc16fd82",
   "metadata": {
    "jupyter": {
     "source_hidden": true
    },
    "tags": []
   },
   "source": [
    "ppsi0 = randomMPS(sites, hf_occ)\n",
    "\n",
    "e_dmrg_2, psi_2 = dmrg(pH, ppsi0, sweeps)\n",
    "\n",
    "println(e_dmrg_2+chemical_data.e_nuc)"
   ]
  },
  {
   "cell_type": "raw",
   "id": "ad6f0eda-46dc-43cd-8225-a9fb620251e0",
   "metadata": {
    "jupyter": {
     "source_hidden": true
    },
    "tags": []
   },
   "source": [
    "permuted_psi_2 = PermuteMPO(psi_2, sites, perm_ord, hf_ord, spinpair=false, tol=1E-22, maxdim=10000, locdim=4);\n",
    "\n",
    "println(norm(permuted_psi_2))"
   ]
  },
  {
   "cell_type": "raw",
   "id": "a1a7503f-3125-4655-85cc-a7c7e9c60886",
   "metadata": {
    "jupyter": {
     "source_hidden": true
    },
    "tags": []
   },
   "source": [
    "inner(psi_2', permuted_H, psi_2)+chemical_data.e_nuc\n",
    "ExactInnerH(dense(psi_2), dense(psi_2), removeqns(sites), chemical_data, perm_ord)+chemical_data.e_nuc"
   ]
  },
  {
   "cell_type": "raw",
   "id": "d20e4041-b16c-423e-927d-b78a6d40e155",
   "metadata": {
    "jupyter": {
     "source_hidden": true
    },
    "tags": []
   },
   "source": [
    "println(maxlinkdim(H))\n",
    "println(maxlinkdim(permuted_H))"
   ]
  },
  {
   "cell_type": "raw",
   "id": "47280493-516b-4028-9100-2acb28d50eaa",
   "metadata": {
    "jupyter": {
     "source_hidden": true
    },
    "tags": []
   },
   "source": [
    "println(maxlinkdim(psi_2))\n",
    "println(maxlinkdim(permuted_psi_2))"
   ]
  },
  {
   "cell_type": "code",
   "execution_count": null,
   "id": "0173ceda-e27c-4fb5-9995-6a4c035b9285",
   "metadata": {},
   "outputs": [],
   "source": [
    "# Get some H and S matrices!\n",
    "# Set up the calculation:\n",
    "\n",
    "# MxM NO subspace:\n",
    "M = 8\n",
    "\n",
    "# Generate some random orderings:\n",
    "ord_list = [randperm(chemical_data.N_spt) for j=1:M]\n",
    "\n",
    "# Set up some sweep parameters:\n",
    "opt_sweeps = Sweeps(4) # number of sweeps is 5\n",
    "maxdim!(opt_sweeps,6) # gradually increase states kept\n",
    "cutoff!(opt_sweeps,1E-6) # desired truncation error\n",
    "setnoise!(opt_sweeps, 1e-4)\n",
    "\n",
    "# Set up the Hamiltonian MPO:\n",
    "hf_ord = collect(1:chemical_data.N_spt)\n",
    "sites = siteinds(\"Electron\", chemical_data.N_spt, conserve_qns=true);\n"
   ]
  },
  {
   "cell_type": "raw",
   "id": "fb211c2d-ee5e-4b15-9564-fb8086f43537",
   "metadata": {},
   "source": [
    "test_mpo = PermutationMPO(removeqns(sites), ord_list[2], ord_list[3], tol=1e-6)"
   ]
  },
  {
   "cell_type": "code",
   "execution_count": null,
   "id": "fbe0d46d-cc30-46f2-83be-cdb5cbfb61f1",
   "metadata": {},
   "outputs": [],
   "source": [
    "# Get the H and S matrices:\n",
    "H_mat, S_mat, psi_list, ham_list = GenSubspaceMats(\n",
    "    chemical_data, \n",
    "    sites, ord_list, \n",
    "    opt_sweeps, \n",
    "    ovlp_opt=true, \n",
    "    weight=0.5, \n",
    "    perm_tol=1E-8, \n",
    "    perm_maxdim=1000, \n",
    "    ham_tol=1E-5, \n",
    "    ham_maxdim=1000, \n",
    "    spinpair=false, \n",
    "    spatial=true, \n",
    "    singleham=false,\n",
    "    verbose=false\n",
    ")\n",
    "\n",
    "\n",
    "println(\"H matrix:\")\n",
    "display(round.(H_mat, digits=4))\n",
    "\n",
    "println(\"S matrix:\")\n",
    "display(round.(S_mat, digits=4))\n",
    "\n"
   ]
  },
  {
   "cell_type": "code",
   "execution_count": null,
   "id": "94b6c00f-d235-462c-bd90-956fb08e86e4",
   "metadata": {
    "tags": []
   },
   "outputs": [],
   "source": [
    "# Threshold the S-vals:\n",
    "\n",
    "E, C, kappa = SolveGenEig(H_mat, S_mat, thresh=\"projection\", eps=1e-8)\n",
    "\n",
    "println(\"Minimum eigenvalue: \", minimum(filter(!isnan,E)))\n",
    "println(\"Condition number: \", kappa)\n"
   ]
  },
  {
   "cell_type": "code",
   "execution_count": null,
   "id": "379ae6ab-d3af-47f6-889a-ad2bbda4db96",
   "metadata": {},
   "outputs": [],
   "source": [
    "println(\"Max particle number error: \", maximum([sum(expect(psi_state,\"Ntot\"))-10.0 for psi_state in psi_list]))\n",
    "println(\"Max Sz error: \", maximum([sum(expect(psi_state,\"Sz\")) for psi_state in psi_list]))"
   ]
  },
  {
   "cell_type": "code",
   "execution_count": null,
   "id": "bc6c159d-03ba-4a62-9fa8-68f7e9b9d548",
   "metadata": {},
   "outputs": [],
   "source": [
    "\n",
    "println(\"FCI energy: \", chemical_data.e_fci)\n",
    "println(\"Final energy estimate: \", fact.values[1]+chemical_data.e_nuc)\n",
    "println(\"Best single ref: \", min_diag+chemical_data.e_nuc)"
   ]
  },
  {
   "cell_type": "code",
   "execution_count": 76,
   "id": "dd9da611-8e99-46bd-b025-cb8e82d3ee0e",
   "metadata": {},
   "outputs": [
    {
     "name": "stdout",
     "output_type": "stream",
     "text": [
      "After sweep 1 energy=-30.500487868353098  maxlinkdim=5 maxerr=7.21E-02 time=0.108\n",
      "After sweep 2 energy=-31.042120335129173  maxlinkdim=5 maxerr=2.96E-02 time=0.053\n",
      "After sweep 3 energy=-31.162443125827817  maxlinkdim=5 maxerr=2.52E-02 time=0.058\n",
      "After sweep 4 energy=-31.175475361727983  maxlinkdim=5 maxerr=2.37E-02 time=0.076\n",
      "After sweep 5 energy=-31.18624616987077  maxlinkdim=5 maxerr=2.38E-02 time=0.046\n",
      "After sweep 6 energy=-31.187351523225995  maxlinkdim=5 maxerr=2.35E-02 time=0.047\n",
      "After sweep 7 energy=-31.180506930552053  maxlinkdim=5 maxerr=2.43E-02 time=0.049\n",
      "After sweep 8 energy=-31.182305216171176  maxlinkdim=5 maxerr=2.53E-02 time=0.074\n",
      "After sweep 9 energy=-31.18229323212943  maxlinkdim=5 maxerr=2.55E-02 time=0.044\n",
      "After sweep 10 energy=-31.18228810721151  maxlinkdim=5 maxerr=2.56E-02 time=0.047\n",
      "After sweep 11 energy=-31.18228728787095  maxlinkdim=5 maxerr=2.56E-02 time=0.050\n",
      "After sweep 12 energy=-31.182287170025283  maxlinkdim=5 maxerr=2.56E-02 time=0.073\n",
      "After sweep 13 energy=-31.18228715361964  maxlinkdim=5 maxerr=2.56E-02 time=0.051\n",
      "After sweep 14 energy=-31.18228715137112  maxlinkdim=5 maxerr=2.56E-02 time=0.056\n",
      "After sweep 15 energy=-31.18228715106581  maxlinkdim=5 maxerr=2.56E-02 time=0.058\n",
      "After sweep 16 energy=-31.18228715102452  maxlinkdim=5 maxerr=2.56E-02 time=0.072\n",
      "After sweep 17 energy=-31.182287151018983  maxlinkdim=5 maxerr=2.56E-02 time=0.046\n",
      "After sweep 18 energy=-31.18228715101828  maxlinkdim=5 maxerr=2.56E-02 time=0.050\n",
      "After sweep 19 energy=-31.18228715101816  maxlinkdim=5 maxerr=2.56E-02 time=0.056\n",
      "After sweep 20 energy=-31.182287151018123  maxlinkdim=5 maxerr=2.56E-02 time=0.084\n"
     ]
    }
   ],
   "source": [
    "N = 15\n",
    "N_el = 15\n",
    "\n",
    "sites = siteinds(\"Electron\",N, conserve_qns=true)\n",
    "\n",
    "init_occ = [FillHF(i, N_el) for i=1:N]\n",
    "\n",
    "init_state = randomMPS(sites, init_occ, linkdims=64);\n",
    "\n",
    "ampo = OpSum()\n",
    "\n",
    "for j=1:N-1\n",
    "    ampo -= 1.5, \"n↑\", j\n",
    "    ampo -= 1.5, \"n↓\", j\n",
    "    ampo -= 0.5, \"c†↑\", j, \"c↑\", j+1\n",
    "    ampo += 0.5, \"c↑\", j, \"c†↑\", j+1\n",
    "    ampo -= 0.5, \"c†↓\", j, \"c↓\", j+1\n",
    "    ampo += 0.5, \"c↓\", j, \"c†↓\", j+1\n",
    "end\n",
    "\n",
    "ampo -= 1.5, \"n↑\", N\n",
    "ampo -= 1.5, \"n↓\", N\n",
    "\n",
    "sweeps = Sweeps(20) # number of sweeps is 5\n",
    "maxdim!(sweeps,5) # gradually increase states kept\n",
    "cutoff!(sweeps,1E-10) # desired truncation error\n",
    "setnoise!(sweeps, 1e-6, 1e-7, 1e-8, 0.0)\n",
    "\n",
    "ham_mpo = MPO(ampo, sites, cutoff=1E-16, maxdim=10000)\n",
    "\n",
    "_, dmrg_state = dmrg(ham_mpo, init_state, sweeps);\n"
   ]
  },
  {
   "cell_type": "code",
   "execution_count": 77,
   "id": "a1192002-f01b-4e90-adb4-81d157029235",
   "metadata": {},
   "outputs": [
    {
     "name": "stdout",
     "output_type": "stream",
     "text": [
      "5\n",
      "Permuting state: \n",
      "Progress: [62/62] \n",
      "Done!\n",
      "4096\n",
      "Permuting state: \n",
      "Progress: [62/62] \n",
      "Done!\n",
      "0.9907944601267817\n"
     ]
    }
   ],
   "source": [
    "println(maxlinkdim(dmrg_state))\n",
    "\n",
    "orig_ord = collect(1:N)\n",
    "\n",
    "perm_ord = randperm(N)\n",
    "\n",
    "perm_state = Permute(\n",
    "    dmrg_state,\n",
    "    sites, \n",
    "    orig_ord, \n",
    "    perm_ord, \n",
    "    tol=1e-8, \n",
    "    maxdim=2^12, \n",
    "    spinpair=false, \n",
    "    locdim=4,\n",
    "    verbose=true,\n",
    "    alg=\"divide_and_conquer\"\n",
    ")\n",
    "\n",
    "println(maxlinkdim(perm_state))\n",
    "\n",
    "\n",
    "return_state = Permute(\n",
    "    perm_state,\n",
    "    sites, \n",
    "    perm_ord, \n",
    "    orig_ord, \n",
    "    tol=1e-8, \n",
    "    maxdim=2^12, \n",
    "    spinpair=false, \n",
    "    locdim=4,\n",
    "    verbose=true,\n",
    "    alg=\"divide_and_conquer\"\n",
    ")\n",
    "\n",
    "println(inner(return_state, dmrg_state)^2)"
   ]
  },
  {
   "cell_type": "code",
   "execution_count": null,
   "id": "74d670e5-1a4c-44c2-89a5-147266fe5e3b",
   "metadata": {},
   "outputs": [],
   "source": []
  }
 ],
 "metadata": {
  "kernelspec": {
   "display_name": "Julia 1.7.3",
   "language": "julia",
   "name": "julia-1.7"
  },
  "language_info": {
   "file_extension": ".jl",
   "mimetype": "application/julia",
   "name": "julia",
   "version": "1.7.3"
  }
 },
 "nbformat": 4,
 "nbformat_minor": 5
}
