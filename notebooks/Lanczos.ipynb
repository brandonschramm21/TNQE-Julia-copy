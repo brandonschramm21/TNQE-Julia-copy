{
 "cells": [
  {
   "cell_type": "code",
   "execution_count": null,
   "id": "7c222ce0",
   "metadata": {
    "vscode": {
     "languageId": "julia"
    }
   },
   "outputs": [],
   "source": [
    "# Import modules and subroutines:\n",
    "include(\"../subroutines/Subroutines.jl\");"
   ]
  },
  {
   "cell_type": "code",
   "execution_count": null,
   "id": "9d42e137",
   "metadata": {
    "vscode": {
     "languageId": "julia"
    }
   },
   "outputs": [],
   "source": [
    "using ConfParser\n",
    "# Load the chemical data into julia as an array of chemical data structs:\n",
    "# (one struct obtained for each molecular geometry as set up in the config file)\n",
    "md_fname = \"h2_sto3g_071725%1432.hdf5\"\n",
    "#md_fname = \"h2o_sto3g_032024%0918.hdf5\"\n",
    "\n",
    "chemical_data_list = ReadIn(\"../datasets/pyscf_data/\"*md_fname, uhf=true)\n",
    "\n",
    "conf = ConfParse(\"../configs/pyscf_configs/h3_stretch.ini\")\n",
    "#conf = ConfParse(\"../configs/pyscf_configs/h2o_stretch_sto3g.ini\")\n",
    "\n",
    "parse_conf!(conf)\n",
    "bond_lengths = parse.(Float64, retrieve(conf, \"GEOMETRIES\", \"xyz_files\")); # H6 bond sep = sqrt(2)*radial distance"
   ]
  }
 ],
 "metadata": {
  "language_info": {
   "name": "python"
  }
 },
 "nbformat": 4,
 "nbformat_minor": 5
}
