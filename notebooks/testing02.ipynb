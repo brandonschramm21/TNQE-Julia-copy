{
 "cells": [
  {
   "cell_type": "code",
   "execution_count": 1,
   "id": "4a002031-816b-4ac2-837b-bda764698b18",
   "metadata": {},
   "outputs": [],
   "source": [
    "using ITensors\n",
    "using HDF5\n",
    "using Random"
   ]
  },
  {
   "cell_type": "code",
   "execution_count": 2,
   "id": "efeaf149-c036-4ead-b846-2bc50ee346d7",
   "metadata": {},
   "outputs": [
    {
     "name": "stdout",
     "output_type": "stream",
     "text": [
      "-1.8837662820483878\n",
      "-2.031756908333411\n",
      "(8, 8)\n",
      "(8, 8, 8, 8)\n",
      "4\n",
      "2.865078432261832\n"
     ]
    }
   ],
   "source": [
    "fid = h5open(\"../mytestfile2.hdf5\", \"r\")\n",
    "\n",
    "e_rhf = read(fid, \"e_rhf\")\n",
    "e_fci = read(fid, \"e_fci\")\n",
    "h1e = read(fid, \"h1e\")\n",
    "h2e = read(fid, \"h2e\")\n",
    "nel = read(fid, \"nel\")\n",
    "e_nuc = read(fid, \"nuc\")\n",
    "\n",
    "close(fid)\n",
    "\n",
    "println(e_rhf)\n",
    "println(e_fci)\n",
    "println(size(h1e))\n",
    "println(size(h2e))\n",
    "println(nel)\n",
    "println(e_nuc)"
   ]
  },
  {
   "cell_type": "code",
   "execution_count": 3,
   "id": "7ed0c7cf-a653-4a48-b39b-f646e127eb16",
   "metadata": {},
   "outputs": [
    {
     "data": {
      "text/plain": [
       "(dim=2|id=999|\"Fermion,Site\")"
      ]
     },
     "execution_count": 3,
     "metadata": {},
     "output_type": "execute_result"
    }
   ],
   "source": [
    "s = siteind(\"Fermion\")"
   ]
  },
  {
   "cell_type": "code",
   "execution_count": 4,
   "id": "aba03101-620a-4eab-abed-7ff72f7df280",
   "metadata": {},
   "outputs": [
    {
     "name": "stdout",
     "output_type": "stream",
     "text": [
      "op(\"c†\", s) = ITensor ord=2\n",
      "Dim 1: (dim=2|id=999|\"Fermion,Site\")'\n",
      "Dim 2: (dim=2|id=999|\"Fermion,Site\")\n",
      "NDTensors.Dense{Float64, Vector{Float64}}\n",
      " 2×2\n",
      " 0.0  0.0\n",
      " 1.0  0.0\n"
     ]
    }
   ],
   "source": [
    "@show op(\"c†\", s);"
   ]
  },
  {
   "cell_type": "code",
   "execution_count": 5,
   "id": "7b5f16d1-ac3f-4b4a-a114-db8d45337e43",
   "metadata": {},
   "outputs": [
    {
     "data": {
      "text/plain": [
       "hf (generic function with 1 method)"
      ]
     },
     "execution_count": 5,
     "metadata": {},
     "output_type": "execute_result"
    }
   ],
   "source": [
    "function hf(i, nel)\n",
    "    if i <= nel\n",
    "        return 2\n",
    "    else\n",
    "        return 1\n",
    "    end\n",
    "end\n"
   ]
  },
  {
   "cell_type": "code",
   "execution_count": 6,
   "id": "8b6bface-d2e9-4550-846a-4a475608f863",
   "metadata": {},
   "outputs": [
    {
     "name": "stdout",
     "output_type": "stream",
     "text": [
      "[4, 3, 1, 7, 5, 6, 8, 2]Got OpSum!\n"
     ]
    },
    {
     "ename": "LoadError",
     "evalue": "InterruptException:",
     "output_type": "error",
     "traceback": [
      "InterruptException:",
      "",
      "Stacktrace:",
      " [1] svdMPO(os::Sum{Scaled{ComplexF64, Prod{Op}}}, sites::Vector{Index{Int64}}; kwargs::Base.Pairs{Symbol, Float64, Tuple{Symbol}, NamedTuple{(:cutoff,), Tuple{Float64}}})",
      "   @ ITensors ~/.julia/packages/ITensors/OjQuG/src/physics/autompo/opsum_to_mpo.jl:114",
      " [2] MPO(os::Sum{Scaled{ComplexF64, Prod{Op}}}, sites::Vector{Index{Int64}}; kwargs::Base.Pairs{Symbol, Float64, Tuple{Symbol}, NamedTuple{(:cutoff,), Tuple{Float64}}})",
      "   @ ITensors ~/.julia/packages/ITensors/OjQuG/src/physics/autompo/opsum_to_mpo_generic.jl:226",
      " [3] top-level scope",
      "   @ In[6]:35",
      " [4] eval",
      "   @ ./boot.jl:373 [inlined]",
      " [5] include_string(mapexpr::typeof(REPL.softscope), mod::Module, code::String, filename::String)",
      "   @ Base ./loading.jl:1196"
     ]
    }
   ],
   "source": [
    "N_spt = size(h1e, 1)\n",
    "N = 2*N_spt\n",
    "sites = siteinds(\"Fermion\",N)\n",
    "\n",
    "# Choosing the site ordering:\n",
    "ord = randperm(N_spt)\n",
    "print(ord)\n",
    "\n",
    "ampo = OpSum()\n",
    "\n",
    "for p=1:N_spt\n",
    "    for q=1:N_spt\n",
    "        for σ=1:2\n",
    "            ampo += h1e[ord[p],ord[q]],\"c†\",2*(p-1)+σ,\"c\",2*(q-1)+σ\n",
    "        end\n",
    "    end\n",
    "end\n",
    "\n",
    "for p=1:N_spt\n",
    "    for q=1:N_spt\n",
    "        for r=1:N_spt\n",
    "            for s=1:N_spt\n",
    "                for σ=1:2\n",
    "                    for τ=1:2\n",
    "                        ampo += 0.5*h2e[ord[p],ord[q],ord[r],ord[s]],\"c†\",2*(p-1)+σ,\"c†\",2*(r-1)+τ,\"c\",2*(s-1)+τ,\"c\",2*(q-1)+σ\n",
    "                    end\n",
    "                end\n",
    "            end\n",
    "        end\n",
    "    end\n",
    "end\n",
    "\n",
    "println(\"Got OpSum!\")\n",
    "\n",
    "H = MPO(ampo,sites,cutoff=1E-6)\n",
    "\n",
    "println(\"Got H!\")\n",
    "\n",
    "hf_occ = [hf((ord[cld(i,2)]*2-i%2), nel) for i=1:N]\n",
    "\n",
    "println(hf_occ)\n",
    "println(sites)\n",
    "\n",
    "psi0 = MPS(sites,hf_occ)\n",
    "\n",
    "println(\"Got psi0!\")\n",
    "\n",
    "E_hf = inner(psi0', H, psi0)\n",
    "\n",
    "println(\"HF energy:\")\n",
    "println(E_hf+e_nuc)\n",
    "\n",
    "sweeps = Sweeps(3) # number of sweeps is 5\n",
    "maxdim!(sweeps,10,10,20) # gradually increase states kept\n",
    "cutoff!(sweeps,1E-10) # desired truncation error\n",
    "\n",
    "energy,psi = dmrg(H,psi0,sweeps)\n",
    "\n",
    "println(energy+e_nuc)\n"
   ]
  },
  {
   "cell_type": "code",
   "execution_count": 7,
   "id": "e02fb83f-f1b9-4e6d-8773-1ec359713e52",
   "metadata": {},
   "outputs": [
    {
     "ename": "LoadError",
     "evalue": "UndefVarError: H not defined",
     "output_type": "error",
     "traceback": [
      "UndefVarError: H not defined",
      "",
      "Stacktrace:",
      " [1] top-level scope",
      "   @ In[7]:7",
      " [2] eval",
      "   @ ./boot.jl:373 [inlined]",
      " [3] include_string(mapexpr::typeof(REPL.softscope), mod::Module, code::String, filename::String)",
      "   @ Base ./loading.jl:1196"
     ]
    }
   ],
   "source": [
    "sweeps = Sweeps(5) # number of sweeps is 5\n",
    "maxdim!(sweeps,10,10,10,10,10) # gradually increase states kept\n",
    "cutoff!(sweeps,1E-10) # desired truncation error\n",
    "\n",
    "psi0 = randomMPS(sites,2)\n",
    "\n",
    "energy,psi = dmrg(H,psi0,sweeps)\n",
    "\n",
    "println(energy+e_nuc)\n",
    "\n"
   ]
  },
  {
   "cell_type": "code",
   "execution_count": 8,
   "id": "5632229d-2230-46f1-9197-900358153b39",
   "metadata": {},
   "outputs": [
    {
     "ename": "LoadError",
     "evalue": "UndefVarError: psi not defined",
     "output_type": "error",
     "traceback": [
      "UndefVarError: psi not defined",
      "",
      "Stacktrace:",
      " [1] top-level scope",
      "   @ In[8]:1",
      " [2] eval",
      "   @ ./boot.jl:373 [inlined]",
      " [3] include_string(mapexpr::typeof(REPL.softscope), mod::Module, code::String, filename::String)",
      "   @ Base ./loading.jl:1196"
     ]
    }
   ],
   "source": [
    "dens = expect(psi,\"N\")\n",
    "println(\"Particle number:\")\n",
    "println(sum(dens))"
   ]
  },
  {
   "cell_type": "code",
   "execution_count": 9,
   "id": "2dd43561-9fbb-4bf2-ac5a-012534f95cf1",
   "metadata": {},
   "outputs": [
    {
     "data": {
      "text/plain": [
       "build_swap (generic function with 1 method)"
      ]
     },
     "execution_count": 9,
     "metadata": {},
     "output_type": "execute_result"
    }
   ],
   "source": [
    "function swap_element(i,j,ip,jp)\n",
    "    if ip==j && jp==i\n",
    "        return 1\n",
    "    else\n",
    "        return 0\n",
    "    end\n",
    "end\n",
    "\n",
    "function build_swap(sites, idx)\n",
    "    swap = ITensor(sites[idx],sites[idx+1],sites[idx]',sites[idx+1]')\n",
    "    for i=1:2\n",
    "        for j=1:2\n",
    "            for ip=1:2\n",
    "                for jp=1:2\n",
    "                    swap[i,j,ip,jp] = swap_element(i,j,ip,jp)\n",
    "                end\n",
    "            end\n",
    "        end\n",
    "    end\n",
    "    \n",
    "    return swap\n",
    "    \n",
    "end"
   ]
  },
  {
   "cell_type": "code",
   "execution_count": 10,
   "id": "fd646558-bd58-4ccd-bd81-2fc0775110cd",
   "metadata": {},
   "outputs": [
    {
     "name": "stdout",
     "output_type": "stream",
     "text": [
      "ITensor ord=4\n",
      "Dim 1: (dim=2|id=372|\"Fermion,Site,n=3\")\n",
      "Dim 2: (dim=2|id=19|\"Fermion,Site,n=4\")\n",
      "Dim 3: (dim=2|id=372|\"Fermion,Site,n=3\")'\n",
      "Dim 4: (dim=2|id=19|\"Fermion,Site,n=4\")'\n",
      "NDTensors.Dense{Int64, Vector{Int64}}\n",
      " 2×2×2×2\n",
      "[:, :, 1, 1] =\n",
      " 1  0\n",
      " 0  0\n",
      "\n",
      "[:, :, 2, 1] =\n",
      " 0  1\n",
      " 0  0\n",
      "\n",
      "[:, :, 1, 2] =\n",
      " 0  0\n",
      " 1  0\n",
      "\n",
      "[:, :, 2, 2] =\n",
      " 0  0\n",
      " 0  1\n"
     ]
    }
   ],
   "source": [
    "idx = 3\n",
    "swap = build_swap(sites, idx)\n",
    "println(swap)"
   ]
  },
  {
   "cell_type": "code",
   "execution_count": 11,
   "id": "090966ab-7783-4721-9894-ef199042ef34",
   "metadata": {},
   "outputs": [
    {
     "ename": "LoadError",
     "evalue": "UndefVarError: psi not defined",
     "output_type": "error",
     "traceback": [
      "UndefVarError: psi not defined",
      "",
      "Stacktrace:",
      " [1] top-level scope",
      "   @ In[11]:1",
      " [2] eval",
      "   @ ./boot.jl:373 [inlined]",
      " [3] include_string(mapexpr::typeof(REPL.softscope), mod::Module, code::String, filename::String)",
      "   @ Base ./loading.jl:1196"
     ]
    }
   ],
   "source": [
    "orthogonalize!(psi,idx)"
   ]
  },
  {
   "cell_type": "code",
   "execution_count": 12,
   "id": "5bf14c4f-3fe1-43dc-bdf7-decc115f8316",
   "metadata": {},
   "outputs": [
    {
     "ename": "LoadError",
     "evalue": "UndefVarError: psi not defined",
     "output_type": "error",
     "traceback": [
      "UndefVarError: psi not defined",
      "",
      "Stacktrace:",
      " [1] top-level scope",
      "   @ In[12]:1",
      " [2] eval",
      "   @ ./boot.jl:373 [inlined]",
      " [3] include_string(mapexpr::typeof(REPL.softscope), mod::Module, code::String, filename::String)",
      "   @ Base ./loading.jl:1196"
     ]
    }
   ],
   "source": [
    "temp_tensor = (psi[idx] * psi[idx+1]) * swap\n",
    "noprime!(temp_tensor)"
   ]
  },
  {
   "cell_type": "code",
   "execution_count": 13,
   "id": "fdecd8b8-96d3-4d62-86a1-a18bec2cb49c",
   "metadata": {},
   "outputs": [
    {
     "ename": "LoadError",
     "evalue": "UndefVarError: psi not defined",
     "output_type": "error",
     "traceback": [
      "UndefVarError: psi not defined",
      "",
      "Stacktrace:",
      " [1] top-level scope",
      "   @ In[13]:1",
      " [2] eval",
      "   @ ./boot.jl:373 [inlined]",
      " [3] include_string(mapexpr::typeof(REPL.softscope), mod::Module, code::String, filename::String)",
      "   @ Base ./loading.jl:1196"
     ]
    }
   ],
   "source": [
    "temp_inds = uniqueinds(psi[idx],psi[idx+1])\n",
    "U,S,V = svd(temp_tensor,temp_inds,cutoff=1E-8)\n",
    "psi[idx] = U\n",
    "psi[idx+1] = S*V"
   ]
  },
  {
   "cell_type": "code",
   "execution_count": 14,
   "id": "98ae715a-ae48-4113-bd0f-56954af88640",
   "metadata": {},
   "outputs": [
    {
     "ename": "LoadError",
     "evalue": "UndefVarError: psi not defined",
     "output_type": "error",
     "traceback": [
      "UndefVarError: psi not defined",
      "",
      "Stacktrace:",
      " [1] top-level scope",
      "   @ In[14]:1",
      " [2] eval",
      "   @ ./boot.jl:373 [inlined]",
      " [3] include_string(mapexpr::typeof(REPL.softscope), mod::Module, code::String, filename::String)",
      "   @ Base ./loading.jl:1196"
     ]
    }
   ],
   "source": [
    "println(psi[idx])\n",
    "#println(psi[idx+1])"
   ]
  },
  {
   "cell_type": "code",
   "execution_count": null,
   "id": "3705f247-0da3-450c-9486-9a16924d8573",
   "metadata": {},
   "outputs": [],
   "source": []
  }
 ],
 "metadata": {
  "kernelspec": {
   "display_name": "Julia 1.7.3",
   "language": "julia",
   "name": "julia-1.7"
  },
  "language_info": {
   "file_extension": ".jl",
   "mimetype": "application/julia",
   "name": "julia",
   "version": "1.7.3"
  }
 },
 "nbformat": 4,
 "nbformat_minor": 5
}
