{
 "cells": [
  {
   "cell_type": "code",
   "execution_count": 15,
   "id": "572a756c-eb97-43f8-8a73-33378434a83e",
   "metadata": {},
   "outputs": [
    {
     "name": "stdout",
     "output_type": "stream",
     "text": [
      "3.10.9\n"
     ]
    }
   ],
   "source": [
    "# Import Subroutines:\n",
    "\n",
    "include(\"../subroutines/Subroutines.jl\");"
   ]
  },
  {
   "cell_type": "raw",
   "id": "577a3424-79f4-4024-8bcf-ccf4eb080f8f",
   "metadata": {
    "jupyter": {
     "source_hidden": true
    },
    "tags": []
   },
   "source": [
    "vec_list = [normalize!(randn(6)) for j=1:4]\n"
   ]
  },
  {
   "cell_type": "raw",
   "id": "6a501840-159d-48f9-9cba-cd1b19b6257e",
   "metadata": {
    "jupyter": {
     "source_hidden": true
    },
    "tags": []
   },
   "source": [
    "\n",
    "mat = ones((4,4))-Matrix(I,(4,4))"
   ]
  },
  {
   "cell_type": "raw",
   "id": "3739d9f9-c0aa-4876-9a89-5c973c326b4f",
   "metadata": {
    "jupyter": {
     "source_hidden": true
    },
    "tags": []
   },
   "source": [
    "println(cond(mat))"
   ]
  },
  {
   "cell_type": "raw",
   "id": "5f740540-0061-47b1-a4e7-7eea64aef023",
   "metadata": {
    "jupyter": {
     "source_hidden": true
    },
    "tags": []
   },
   "source": [
    "for m=2:20\n",
    "\n",
    "    mat = -ones((m,m))+Matrix(I,(m,m))\n",
    "    \n",
    "    #println(cond(mat))\n",
    "    \n",
    "    F = eigen(mat)\n",
    "    \n",
    "    display(F.values)\n",
    "    \n",
    "    display(F.vectors)\n",
    "end"
   ]
  },
  {
   "cell_type": "raw",
   "id": "8c8ec253-8891-499e-ba75-97a3cd808b0a",
   "metadata": {
    "tags": []
   },
   "source": [
    "using LinearAlgebra\n",
    "\n",
    "using SparseArrays\n",
    "\n",
    "I_4 =  sparse(Matrix(1.0I, 4, 4))\n",
    "\n",
    "I_2 = sparse(Matrix(1.0I, 2, 2))\n",
    "\n",
    "FSWAP_4 = sparse([\n",
    "        1 0 0 0;\n",
    "        0 0 1 0;\n",
    "        0 1 0 0;\n",
    "        0 0 0 -1\n",
    "        ])\n",
    "\n",
    "FSWAP_16 = kron(I_2,kron(FSWAP_4,I_2))*kron(FSWAP_4,FSWAP_4)*kron(I_2,kron(FSWAP_4,I_2))\n",
    "\n",
    "display(findnz(FSWAP_16))\n",
    "\n",
    "display(FSWAP_16)\n",
    "\n",
    "perm_vec = [1,3,2,4]\n",
    "\n",
    "dense_FSWAP = reshape(permutedims(reshape(Matrix(FSWAP_16), (4,4,4,4)), (1,3,2,4)), (16,16))\n",
    "\n",
    "\n",
    "F = svd(dense_FSWAP)\n",
    "\n",
    "display(F.S)\n",
    "display(F.V)\n",
    "\n",
    "\"\"\"\n",
    "display(FSWAP_16)\n",
    "\n",
    "display(findnz(FSWAP_16))\n",
    "\n",
    "N = 7\n",
    "\n",
    "init_tensor = I_4\n",
    "\n",
    "for p=1:N-1\n",
    "    init_tensor = kron(init_tensor, I_4)\n",
    "end\n",
    "\n",
    "display(init_tensor)\n",
    "\n",
    "dim_vec = Tuple([4 for p=1:(2*N)])\n",
    "\n",
    "dim_vec2 = Tuple([16 for p=1:N])\n",
    "\n",
    "p1 = collect(1:N)\n",
    "p2 = collect(N+1:2*N)\n",
    "\n",
    "perm_vec = [p1 p2]'[:]\n",
    "\n",
    "dense_tensor = reshape(Matrix(init_tensor), dim_vec);\n",
    "\n",
    "dense_tensor = permutedims(dense_tensor, Tuple(perm_vec));\n",
    "\n",
    "dense_tensor = reshape(dense_tensor, dim_vec2);\n",
    "\"\"\"\n"
   ]
  },
  {
   "cell_type": "raw",
   "id": "4895757f-45a6-4334-90fc-fa5fa0d58af0",
   "metadata": {
    "jupyter": {
     "source_hidden": true
    },
    "tags": []
   },
   "source": [
    "output = FastTT.FastTT(dense_tensor, N-1, 2^16, 1.0e-8);\n",
    "\n",
    "for p=1:N\n",
    "    display(size(output[p]))\n",
    "end"
   ]
  },
  {
   "cell_type": "raw",
   "id": "1eab1667-3c94-417d-b392-35dec820d228",
   "metadata": {},
   "source": [
    "N = 6\n",
    "\n",
    "ord1 = randperm(N)\n",
    "\n",
    "ord2 = randperm(N)\n",
    "\n",
    "sites = siteinds(\"Electron\", N, conserve_qns=true)\n",
    "\n",
    "mpo = FastPMPO(N, ord1, ord2, [false, false], sites, tol=1.0e-12);\n",
    "\n",
    "display(linkdims(mpo));"
   ]
  },
  {
   "cell_type": "raw",
   "id": "b5c8cf30-c936-4bcf-9515-186474287362",
   "metadata": {},
   "source": [
    "display(mpo[1].tensor)"
   ]
  },
  {
   "cell_type": "raw",
   "id": "c67add5b-43b8-456c-b73c-54b7d2f51fee",
   "metadata": {},
   "source": [
    "mps = randomMPS(sites, linkdims=16)\n",
    "\n",
    "display(inner(mpo, mps, mpo, mps))"
   ]
  },
  {
   "cell_type": "raw",
   "id": "fe1e916a-e4a1-48b6-a125-5dd7a1015e81",
   "metadata": {
    "jupyter": {
     "source_hidden": true
    },
    "tags": []
   },
   "source": [
    "using Profile\n",
    "using ProfileVega\n",
    "Profile.clear()\n",
    "\n",
    "output = FastTT.BubbleSort2TT(N, swap_inds, [false,false], N-1, 2^16, 1.0e-8)\n",
    "\n",
    "for p=1:N\n",
    "    display(size(output[p]))\n",
    "end\n",
    "\n",
    "#ProfileVega.view()"
   ]
  },
  {
   "cell_type": "raw",
   "id": "0efcc896-ecf0-48f5-a9f1-84b2e6ef12ff",
   "metadata": {
    "jupyter": {
     "source_hidden": true
    },
    "tags": []
   },
   "source": [
    "mpo_vec = []\n",
    "\n",
    "for p=1:N\n",
    "    dtup = size(output[p])\n",
    "    \n",
    "    # Drop numerical zeros:\n",
    "    array_p = output[p]\n",
    "    array_p[abs.(array_p) .< 1e-12] .= 0.0\n",
    "    \n",
    "    if p==1\n",
    "        array_p = reshape(array_p, (dtup[1], 4, 4, dtup[3]))\n",
    "    elseif p==N\n",
    "        array_p = reshape(array_p, (dtup[1], 4, 4, dtup[3]))\n",
    "    else\n",
    "        array_p = reshape(array_p, (dtup[1], 4, 4, dtup[3]))\n",
    "    end\n",
    "    \n",
    "    push!(mpo_vec, array_p)\n",
    "    \n",
    "end\n",
    "\n",
    "#display(output2[abs.(output2).>1.0e-8])"
   ]
  },
  {
   "cell_type": "raw",
   "id": "ec9d1e99-7afe-4e53-b73e-17aaa8178296",
   "metadata": {
    "jupyter": {
     "source_hidden": true
    },
    "tags": []
   },
   "source": [
    "using ITensors\n",
    "using Profile\n",
    "using ProfileVega\n",
    "Profile.clear()\n",
    "\n",
    "sites = siteinds(4,N, sitetype=\"Electron\")\n",
    "\n",
    "mpo_sites = [[sites[p], sites[p]'] for p=1:N]\n",
    "\n",
    "dense_itensor = ITensor(dense_tensor, mpo_sites, tol=1e-8)\n",
    "\n",
    "#ProfileVega.view()"
   ]
  },
  {
   "cell_type": "raw",
   "id": "f01dd1ee-acd6-4330-8305-bc95f62c515d",
   "metadata": {
    "jupyter": {
     "source_hidden": true
    },
    "tags": []
   },
   "source": [
    "mpo = MPO(dense_tensor, mpo_sites, cutoff=1e-12, alg=\"qr_iteration\")\n",
    "\n",
    "display(mpo)"
   ]
  },
  {
   "cell_type": "raw",
   "id": "86401d11-f851-4660-a70a-0d9d1d0fecde",
   "metadata": {
    "jupyter": {
     "source_hidden": true
    },
    "tags": []
   },
   "source": [
    "FastTT.testfunc()\n",
    "\n"
   ]
  },
  {
   "cell_type": "raw",
   "id": "3e99ad6c-48a5-4aae-8eff-2e3ca56705b1",
   "metadata": {
    "jupyter": {
     "source_hidden": true
    },
    "tags": []
   },
   "source": [
    "#pyimport(\"sys\").\"stdout\" = PyTextIO(stdout)\n",
    "#pyimport(\"sys\").\"stderr\" = PyTextIO(stderr)\n",
    "\n",
    "using NumPyArrays\n",
    "\n",
    "# Get the tensor-train decomposed tensor list:\n",
    "tensor_list = FastTT.FastTT(dense_tensor)\n",
    "\n",
    "jl_tensor_list = [tensor_list[p] for p=1:end]\n",
    "\n",
    "# Construct an ITensor MPO:"
   ]
  },
  {
   "cell_type": "raw",
   "id": "9ca5c833-1d00-4d64-9414-0f9563bbcc49",
   "metadata": {},
   "source": [
    "display(linkdims(mpo))"
   ]
  },
  {
   "cell_type": "code",
   "execution_count": 2,
   "id": "05212d15-3f08-47bf-b5ed-8145ce7c36fb",
   "metadata": {},
   "outputs": [
    {
     "data": {
      "text/plain": [
       "PSWAP! (generic function with 2 methods)"
      ]
     },
     "execution_count": 2,
     "metadata": {},
     "output_type": "execute_result"
    }
   ],
   "source": [
    "using LinearAlgebra\n",
    "\n",
    "using SparseArrays\n",
    "\n",
    "I_4 =  sparse(Matrix(1.0I, 4, 4))\n",
    "\n",
    "I_2 = sparse(Matrix(1.0I, 2, 2))\n",
    "\n",
    "FSWAP_4 = sparse([\n",
    "        1 0 0 0;\n",
    "        0 0 1 0;\n",
    "        0 1 0 0;\n",
    "        0 0 0 -1\n",
    "        ])\n",
    "\n",
    "FSWAP_16 = kron(I_2,kron(FSWAP_4,I_2))*kron(FSWAP_4,FSWAP_4)*kron(I_2,kron(FSWAP_4,I_2))\n",
    "\n",
    "dense_FSWAP = reshape(permutedims(reshape(Matrix(FSWAP_16), (4,4,4,4)), (1,3,2,4)), (16,16))\n",
    "\n",
    "F = svd(dense_FSWAP)\n",
    "\n",
    "lU = reshape(F.U, 4,4,16)\n",
    "rV = reshape(F.V, 16,4,4)\n",
    "\n",
    "qnvec = [\n",
    "    QN((\"Nf\",0,-1),(\"Sz\",0)) => 1,\n",
    "    QN((\"Nf\",1,-1),(\"Sz\",1)) => 1,\n",
    "    QN((\"Nf\",1,-1),(\"Sz\",-1)) => 1,\n",
    "    QN((\"Nf\",2,-1),(\"Sz\",0)) => 1,\n",
    "    #---------------------------#\n",
    "    QN((\"Nf\",-1,-1),(\"Sz\",-1)) => 1,\n",
    "    QN((\"Nf\",0,-1),(\"Sz\",0)) => 1,\n",
    "    QN((\"Nf\",0,-1),(\"Sz\",-2)) => 1,\n",
    "    QN((\"Nf\",1,-1),(\"Sz\",-1)) => 1,\n",
    "    #---------------------------#\n",
    "    QN((\"Nf\",-1,-1),(\"Sz\",1)) => 1,\n",
    "    QN((\"Nf\",0,-1),(\"Sz\",2)) => 1,\n",
    "    QN((\"Nf\",0,-1),(\"Sz\",0)) => 1,\n",
    "    QN((\"Nf\",1,-1),(\"Sz\",1)) => 1,\n",
    "    #---------------------------#\n",
    "    QN((\"Nf\",-2,-1),(\"Sz\",0)) => 1,\n",
    "    QN((\"Nf\",-1,-1),(\"Sz\",1)) => 1,\n",
    "    QN((\"Nf\",-1,-1),(\"Sz\",-1)) => 1,\n",
    "    QN((\"Nf\",0,-1),(\"Sz\",0)) => 1\n",
    "]\n",
    "\n",
    "function PSWAP!(mpo, p)\n",
    "    \n",
    "    psite = [siteinds(mpo, plev=0)[p][1], siteinds(mpo, plev=0)[p+1][1]]\n",
    "    \n",
    "    plink = commoninds(mpo[p], mpo[p+1])\n",
    "    \n",
    "    nlink = Index(qnvec, tags=\"nlink\")\n",
    "    \n",
    "    combo = combiner(plink, nlink, tags=\"link,l=$(p)\")\n",
    "    \n",
    "    lswap = ITensor(lU, dag(setprime(psite[1],2)), setprime(psite[1],1), nlink)\n",
    "    \n",
    "    rswap = ITensor(rV, dag(nlink), dag(setprime(psite[2],2)), setprime(psite[2],1))\n",
    "    \n",
    "    mpo[p] = mpo[p] * lswap * combo\n",
    "    \n",
    "    mpo[p+1] = mpo[p+1] * rswap * dag(combo)\n",
    "    \n",
    "    setprime!(mpo[p], 1, plev=2)\n",
    "    setprime!(mpo[p+1], 1, plev=2)\n",
    "    \n",
    "    #if maxlinkdim(mpo) > 1024\n",
    "    truncate!(mpo, tol=1.0e-12)\n",
    "    #end\n",
    "    \n",
    "end"
   ]
  },
  {
   "cell_type": "code",
   "execution_count": 3,
   "id": "cacacca5-52ff-4edd-be24-27503a53d199",
   "metadata": {},
   "outputs": [
    {
     "name": "stdout",
     "output_type": "stream",
     "text": [
      "1:  16\n",
      "2:  256\n",
      "3:  256\n",
      "4:  256\n",
      "5:  256\n",
      "6:  256\n",
      "7:  256\n",
      "8:  256\n",
      "9:  256\n",
      "10:  256\n",
      "11:  256\n",
      "12:  16\n",
      "13:  256\n",
      "14:  256\n",
      "15:  256\n"
     ]
    }
   ],
   "source": [
    "N = 7\n",
    "\n",
    "sites = siteinds(\"Electron\", N, conserve_qns=true)\n",
    "\n",
    "for pm=1:15\n",
    "    \n",
    "    ord1 = randperm(N)\n",
    "    ord2 = randperm(N)\n",
    "    ord3 = reverse(ord2)\n",
    "\n",
    "    swap_inds1 = BubbleSort(ord1, ord2)\n",
    "    swap_inds2 = BubbleSort(ord1, ord3)\n",
    "    \n",
    "    swap_inds = swap_inds1\n",
    "    \n",
    "    if length(swap_inds1) > length(swap_inds2)\n",
    "        swap_inds = swap_inds2\n",
    "    end\n",
    "\n",
    "    pmpo = MPO(sites, \"I\")\n",
    "\n",
    "    for p in swap_inds\n",
    "        PSWAP!(pmpo, p)\n",
    "    end\n",
    "\n",
    "    println(\"$(pm):  $(maxlinkdim(pmpo))\")#  $(maxlinkdim(pmpo2))\")\n",
    "end\n"
   ]
  },
  {
   "cell_type": "code",
   "execution_count": 4,
   "id": "2ca3ace0-bb3c-4c7f-8389-32d9e2d1470a",
   "metadata": {},
   "outputs": [
    {
     "data": {
      "text/plain": [
       "7-element Vector{Index{Vector{Pair{QN, Int64}}}}:\n",
       " (dim=4|id=91|\"Electron,Site,n=1\") <Out>\n",
       " 1: QN((\"Nf\",0,-1),(\"Sz\",0)) => 1\n",
       " 2: QN((\"Nf\",1,-1),(\"Sz\",1)) => 1\n",
       " 3: QN((\"Nf\",1,-1),(\"Sz\",-1)) => 1\n",
       " 4: QN((\"Nf\",2,-1),(\"Sz\",0)) => 1\n",
       " (dim=4|id=876|\"Electron,Site,n=2\") <Out>\n",
       " 1: QN((\"Nf\",0,-1),(\"Sz\",0)) => 1\n",
       " 2: QN((\"Nf\",1,-1),(\"Sz\",1)) => 1\n",
       " 3: QN((\"Nf\",1,-1),(\"Sz\",-1)) => 1\n",
       " 4: QN((\"Nf\",2,-1),(\"Sz\",0)) => 1\n",
       " (dim=4|id=155|\"Electron,Site,n=3\") <Out>\n",
       " 1: QN((\"Nf\",0,-1),(\"Sz\",0)) => 1\n",
       " 2: QN((\"Nf\",1,-1),(\"Sz\",1)) => 1\n",
       " 3: QN((\"Nf\",1,-1),(\"Sz\",-1)) => 1\n",
       " 4: QN((\"Nf\",2,-1),(\"Sz\",0)) => 1\n",
       " (dim=4|id=159|\"Electron,Site,n=4\") <Out>\n",
       " 1: QN((\"Nf\",0,-1),(\"Sz\",0)) => 1\n",
       " 2: QN((\"Nf\",1,-1),(\"Sz\",1)) => 1\n",
       " 3: QN((\"Nf\",1,-1),(\"Sz\",-1)) => 1\n",
       " 4: QN((\"Nf\",2,-1),(\"Sz\",0)) => 1\n",
       " (dim=4|id=71|\"Electron,Site,n=5\") <Out>\n",
       " 1: QN((\"Nf\",0,-1),(\"Sz\",0)) => 1\n",
       " 2: QN((\"Nf\",1,-1),(\"Sz\",1)) => 1\n",
       " 3: QN((\"Nf\",1,-1),(\"Sz\",-1)) => 1\n",
       " 4: QN((\"Nf\",2,-1),(\"Sz\",0)) => 1\n",
       " (dim=4|id=623|\"Electron,Site,n=6\") <Out>\n",
       " 1: QN((\"Nf\",0,-1),(\"Sz\",0)) => 1\n",
       " 2: QN((\"Nf\",1,-1),(\"Sz\",1)) => 1\n",
       " 3: QN((\"Nf\",1,-1),(\"Sz\",-1)) => 1\n",
       " 4: QN((\"Nf\",2,-1),(\"Sz\",0)) => 1\n",
       " (dim=4|id=334|\"Electron,Site,n=7\") <Out>\n",
       " 1: QN((\"Nf\",0,-1),(\"Sz\",0)) => 1\n",
       " 2: QN((\"Nf\",1,-1),(\"Sz\",1)) => 1\n",
       " 3: QN((\"Nf\",1,-1),(\"Sz\",-1)) => 1\n",
       " 4: QN((\"Nf\",2,-1),(\"Sz\",0)) => 1"
      ]
     },
     "metadata": {},
     "output_type": "display_data"
    },
    {
     "ename": "LoadError",
     "evalue": "UndefVarError: pmpo not defined",
     "output_type": "error",
     "traceback": [
      "UndefVarError: pmpo not defined",
      "",
      "Stacktrace:",
      " [1] top-level scope",
      "   @ In[4]:9"
     ]
    }
   ],
   "source": [
    "N_el = N\n",
    "\n",
    "hf_occ = [FillHF(i, N_el) for i=1:N]\n",
    "\n",
    "display(sites)\n",
    "\n",
    "mps = randomMPS(sites, hf_occ, linkdims=1)\n",
    "\n",
    "display(inner(pmpo, mps, pmpo, mps))"
   ]
  },
  {
   "cell_type": "code",
   "execution_count": 5,
   "id": "10b0ec70-ca4e-4619-884b-78a9de3d8f25",
   "metadata": {},
   "outputs": [
    {
     "data": {
      "text/plain": [
       "0.0"
      ]
     },
     "metadata": {},
     "output_type": "display_data"
    }
   ],
   "source": [
    "using ITensors\n",
    "\n",
    "qnvec = [QN((\"Nf\",0,-1),(\"Sz\",0)) => 2,\n",
    "    QN((\"Nf\",1,-1),(\"Sz\",1)) => 4,\n",
    "    QN((\"Nf\",1,-1),(\"Sz\",-1)) => 4,\n",
    "    QN((\"Nf\",2,-1),(\"Sz\",0)) => 2]\n",
    "\n",
    "ind = Index(qnvec)\n",
    "\n",
    "ids = (dag(ind)', ind)\n",
    "\n",
    "T = randomITensor(ids)\n",
    "\n",
    "display(T[1,3])\n",
    "\n",
    "#Q, R = qr(dense(T), (removeqns(ind), removeqns(ind)))\n",
    "\n",
    "#display(Q.tensor)"
   ]
  },
  {
   "cell_type": "code",
   "execution_count": 6,
   "id": "7b1844c2-d01a-4205-b2d2-d06ebb959945",
   "metadata": {},
   "outputs": [
    {
     "data": {
      "text/plain": [
       "((dim=12|id=210) <Out>\n",
       " 1: QN((\"Nf\",0,-1),(\"Sz\",0)) => 2\n",
       " 2: QN((\"Nf\",1,-1),(\"Sz\",1)) => 4\n",
       " 3: QN((\"Nf\",1,-1),(\"Sz\",-1)) => 4\n",
       " 4: QN((\"Nf\",2,-1),(\"Sz\",0)) => 2, (dim=12|id=55|\"Link,u\") <In>\n",
       " 1: QN((\"Nf\",0,-1),(\"Sz\",0)) => 2\n",
       " 2: QN((\"Nf\",1,-1),(\"Sz\",-1)) => 4\n",
       " 3: QN((\"Nf\",1,-1),(\"Sz\",1)) => 4\n",
       " 4: QN((\"Nf\",2,-1),(\"Sz\",0)) => 2)"
      ]
     },
     "metadata": {},
     "output_type": "display_data"
    }
   ],
   "source": [
    "Q,_,_ = svd(T, ind)\n",
    "\n",
    "display(inds(Q))"
   ]
  },
  {
   "cell_type": "code",
   "execution_count": 11,
   "id": "51727905-b0e1-4c28-b955-b43ece2f31b8",
   "metadata": {},
   "outputs": [
    {
     "data": {
      "text/plain": [
       "QN((\"Nf\",0,-1),(\"Sz\",0))"
      ]
     },
     "metadata": {},
     "output_type": "display_data"
    },
    {
     "data": {
      "text/plain": [
       "QN((\"Nf\",0,-1),(\"Sz\",0))"
      ]
     },
     "metadata": {},
     "output_type": "display_data"
    }
   ],
   "source": [
    "display(flux(T))\n",
    "\n",
    "T2 = onehot(ids[1]=>1, ids[2]=>2)\n",
    "\n",
    "display(flux(T2))"
   ]
  },
  {
   "cell_type": "code",
   "execution_count": 16,
   "id": "39784d2e-e93e-421d-9615-becc36a7c416",
   "metadata": {},
   "outputs": [
    {
     "data": {
      "text/plain": [
       "5×5 Matrix{Int64}:\n",
       " 0   5   8  4  3\n",
       " 5   0  10  9  3\n",
       " 8  10   0  7  6\n",
       " 4   9   7  0  5\n",
       " 3   3   6  5  0"
      ]
     },
     "metadata": {},
     "output_type": "display_data"
    }
   ],
   "source": [
    "using LinearAlgebra\n",
    "\n",
    "mat1 = [\n",
    "    0 2 4 3 1;\n",
    "    3 0 4 1 2;\n",
    "    4 6 0 3 2;\n",
    "    1 8 4 0 3;\n",
    "    2 1 4 2 0\n",
    "]\n",
    "\n",
    "mat1 += transpose(mat1)\n",
    "\n",
    "display(mat1)"
   ]
  },
  {
   "cell_type": "code",
   "execution_count": 17,
   "id": "5b7593b1-e369-4a37-b4a7-bfeb09eda2d5",
   "metadata": {},
   "outputs": [
    {
     "data": {
      "text/plain": [
       "5×5 Matrix{Int64}:\n",
       "  0   5   8   4   3\n",
       " -1  -1  -1  -1  -1\n",
       " -1  -1  -1  -1  -1\n",
       "  4   9   7   0   5\n",
       "  3   3   6   5   0"
      ]
     },
     "metadata": {},
     "output_type": "display_data"
    },
    {
     "name": "stdout",
     "output_type": "stream",
     "text": [
      "89\n",
      "14\n"
     ]
    },
    {
     "data": {
      "text/plain": [
       "5×5 Matrix{Int64}:\n",
       "  0   5   8   4   3\n",
       " -1  -1  -1  -1  -1\n",
       " -1  -1  -1  -1  -1\n",
       " -1  -1  -1  -1  -1\n",
       "  3   3   6   5   0"
      ]
     },
     "metadata": {},
     "output_type": "display_data"
    },
    {
     "name": "stdout",
     "output_type": "stream",
     "text": [
      "85\n",
      "15\n"
     ]
    },
    {
     "data": {
      "text/plain": [
       "5×5 Matrix{Int64}:\n",
       " -1  -1  -1  -1  -1\n",
       " -1  -1  -1  -1  -1\n",
       " -1  -1  -1  -1  -1\n",
       " -1  -1  -1  -1  -1\n",
       "  3   3   6   5   0"
      ]
     },
     "metadata": {},
     "output_type": "display_data"
    },
    {
     "name": "stdout",
     "output_type": "stream",
     "text": [
      "35\n",
      "55\n"
     ]
    },
    {
     "data": {
      "text/plain": [
       "5×5 Matrix{Int64}:\n",
       " -1  -1  -1  -1  -1\n",
       " -1  -1  -1  -1  -1\n",
       " -1  -1  -1  -1  -1\n",
       " -1  -1  -1  -1  -1\n",
       " -1  -1  -1  -1  -1"
      ]
     },
     "metadata": {},
     "output_type": "display_data"
    },
    {
     "data": {
      "text/plain": [
       "32"
      ]
     },
     "execution_count": 17,
     "metadata": {},
     "output_type": "execute_result"
    }
   ],
   "source": [
    "ChainMaxEls(mat1)"
   ]
  },
  {
   "cell_type": "code",
   "execution_count": 2,
   "id": "b7356e8f-d6c1-46de-beee-6da1e1f3b1c2",
   "metadata": {},
   "outputs": [
    {
     "data": {
      "text/plain": [
       "MPS\n",
       "[1] ((dim=4|id=635|\"Link,l=1\"), (dim=4|id=434|\"Electron,Site,n=1\"))\n",
       "[2] ((dim=4|id=387|\"Electron,Site,n=2\"), (dim=6|id=294|\"Link,l=2\"), (dim=4|id=635|\"Link,l=1\"))\n",
       "[3] ((dim=4|id=560|\"Electron,Site,n=3\"), (dim=6|id=91|\"Link,l=3\"), (dim=6|id=294|\"Link,l=2\"))\n",
       "[4] ((dim=4|id=107|\"Electron,Site,n=4\"), (dim=6|id=834|\"Link,l=4\"), (dim=6|id=91|\"Link,l=3\"))\n",
       "[5] ((dim=4|id=268|\"Electron,Site,n=5\"), (dim=6|id=601|\"Link,l=5\"), (dim=6|id=834|\"Link,l=4\"))\n",
       "[6] ((dim=4|id=86|\"Electron,Site,n=6\"), (dim=4|id=551|\"Link,l=6\"), (dim=6|id=601|\"Link,l=5\"))\n",
       "[7] ((dim=4|id=840|\"Electron,Site,n=7\"), (dim=4|id=551|\"Link,l=6\"))\n"
      ]
     },
     "execution_count": 2,
     "metadata": {},
     "output_type": "execute_result"
    }
   ],
   "source": [
    "sites = siteinds(\"Electron\", 7)\n",
    "\n",
    "psi = randomMPS(sites, [4,4,4,4,4,1,1], linkdims=6);"
   ]
  },
  {
   "cell_type": "code",
   "execution_count": 7,
   "id": "2d3b5e1d-25f9-42e5-a5cc-26c40d05c0ff",
   "metadata": {},
   "outputs": [
    {
     "data": {
      "text/plain": [
       "Dim 1: (dim=4|id=387|\"Electron,Site,n=2\")\n",
       "Dim 2: (dim=6|id=294|\"Link,l=2\")\n",
       "Dim 3: (dim=4|id=635|\"Link,l=1\")\n",
       "NDTensors.Dense{Float64, Vector{Float64}}\n",
       " 4×6×4\n",
       "[:, :, 1] =\n",
       "  0.5291874801546498   -0.22382193213582868    …   0.00752221383387474\n",
       " -0.14101888395510803  -0.5706616710530368         0.0907757222993717\n",
       "  0.03205053816743192  -0.15086007015194908       -0.12176969348653219\n",
       " -0.05437599528690669  -0.0020005808923655166      0.12591644936886665\n",
       "\n",
       "[:, :, 2] =\n",
       "  0.001627406747482893   0.12075401412459551   …   0.11919224220618471\n",
       " -0.14493195941743914   -0.004391303794599705     -0.059160823656155076\n",
       "  0.2103128597422932    -0.07942546760916798      -0.269205909612074\n",
       " -0.17297474138267027   -0.3230861618063352        0.12229003994521956\n",
       "\n",
       "[:, :, 3] =\n",
       "  0.15329237939883314  -0.3476215785594093   …  -0.04986712598915079\n",
       "  0.6426714886889915    0.11523676857696302      0.043239531161317374\n",
       "  0.25558451396279275  -0.131903488673563        0.09658352135924997\n",
       " -0.1543398470609497    0.2344291176610955       0.13888885392875028\n",
       "\n",
       "[:, :, 4] =\n",
       "  0.06598191818386563  -0.2566983911588422   …   0.08745324912908532\n",
       " -0.05327352655317275   0.07549652189822911      0.14769446142548728\n",
       " -0.17984152901021402   0.13594177397588958     -0.0718983326912693\n",
       "  0.5307381050687152    0.20645029300354528      0.1555659006785942"
      ]
     },
     "execution_count": 7,
     "metadata": {},
     "output_type": "execute_result"
    }
   ],
   "source": [
    "inner(psi, psi)\n",
    "\n",
    "psi[2].tensor"
   ]
  },
  {
   "cell_type": "code",
   "execution_count": 38,
   "id": "b39b3680-efbf-430a-910a-59871d183d5d",
   "metadata": {},
   "outputs": [
    {
     "data": {
      "text/plain": [
       "softmax (generic function with 1 method)"
      ]
     },
     "execution_count": 38,
     "metadata": {},
     "output_type": "execute_result"
    }
   ],
   "source": [
    "function softmax(alpha, x)\n",
    "    \n",
    "    xmax = maximum(x)\n",
    "    \n",
    "    if minimum(x) <= 0\n",
    "        println(\"Error: xmin <= 0\")\n",
    "        return nothing\n",
    "    end\n",
    "    \n",
    "    exptot = 0.0\n",
    "    \n",
    "    for j=1:length(x)\n",
    "        exptot += exp(alpha*x[j]/xmax)\n",
    "    end\n",
    "    \n",
    "    return xmax/alpha*log(exptot)\n",
    "    \n",
    "end"
   ]
  },
  {
   "cell_type": "code",
   "execution_count": 82,
   "id": "b945f7aa-4758-4881-a2fd-86428a3343e5",
   "metadata": {},
   "outputs": [
    {
     "name": "stdout",
     "output_type": "stream",
     "text": [
      "[200]\n"
     ]
    },
    {
     "data": {
      "text/plain": [
       "200.0"
      ]
     },
     "execution_count": 82,
     "metadata": {},
     "output_type": "execute_result"
    }
   ],
   "source": [
    "x = [200]\n",
    "println(x)\n",
    "\n",
    "softmax(3.0, x)"
   ]
  },
  {
   "cell_type": "code",
   "execution_count": 1,
   "id": "c5894ca8-3e79-45d6-9017-9dc7cb6ef1a4",
   "metadata": {},
   "outputs": [],
   "source": [
    "using ITensors"
   ]
  },
  {
   "cell_type": "code",
   "execution_count": 2,
   "id": "bdffd5f0-0f06-4811-acca-14a4ce094520",
   "metadata": {},
   "outputs": [
    {
     "data": {
      "text/plain": [
       "(dim=2|id=381)"
      ]
     },
     "execution_count": 2,
     "metadata": {},
     "output_type": "execute_result"
    }
   ],
   "source": [
    "i = Index(3)\n",
    "j = Index(4)\n",
    "k = Index(2)"
   ]
  },
  {
   "cell_type": "code",
   "execution_count": 5,
   "id": "0ef9e66e-b0d3-4655-a6d8-eb53c6cfad0e",
   "metadata": {},
   "outputs": [
    {
     "ename": "LoadError",
     "evalue": "MethodError: no method matching onehot(::Pair{Tuple{Index{Int64}, Index{Int64}, Index{Int64}}, Tuple{Int64, Int64, Int64}})\n\u001b[0mClosest candidates are:\n\u001b[0m  onehot(\u001b[91m::Type{<:Number}\u001b[39m, \u001b[91m::Pair{<:Index}...\u001b[39m) at ~/.julia/packages/ITensors/LXBUp/src/itensor.jl:567\n\u001b[0m  onehot(\u001b[91m::Type{<:Number}\u001b[39m, \u001b[91m::Vector{<:Pair{<:Index}}\u001b[39m) at ~/.julia/packages/ITensors/LXBUp/src/itensor.jl:572\n\u001b[0m  onehot(\u001b[91m::Vector{<:Pair{<:Index}}\u001b[39m) at ~/.julia/packages/ITensors/LXBUp/src/itensor.jl:576\n\u001b[0m  ...",
     "output_type": "error",
     "traceback": [
      "MethodError: no method matching onehot(::Pair{Tuple{Index{Int64}, Index{Int64}, Index{Int64}}, Tuple{Int64, Int64, Int64}})\n\u001b[0mClosest candidates are:\n\u001b[0m  onehot(\u001b[91m::Type{<:Number}\u001b[39m, \u001b[91m::Pair{<:Index}...\u001b[39m) at ~/.julia/packages/ITensors/LXBUp/src/itensor.jl:567\n\u001b[0m  onehot(\u001b[91m::Type{<:Number}\u001b[39m, \u001b[91m::Vector{<:Pair{<:Index}}\u001b[39m) at ~/.julia/packages/ITensors/LXBUp/src/itensor.jl:572\n\u001b[0m  onehot(\u001b[91m::Vector{<:Pair{<:Index}}\u001b[39m) at ~/.julia/packages/ITensors/LXBUp/src/itensor.jl:576\n\u001b[0m  ...",
      "",
      "Stacktrace:",
      " [1] top-level scope",
      "   @ In[5]:1"
     ]
    }
   ],
   "source": [
    "OH = onehot()"
   ]
  },
  {
   "cell_type": "code",
   "execution_count": 7,
   "id": "85ad3ca1-0fe2-4e93-bac6-ae1860b580f0",
   "metadata": {},
   "outputs": [
    {
     "data": {
      "text/plain": [
       "6×6 Matrix{Float64}:\n",
       "  0.600237   0.643613  -2.3172     0.999158  -0.645821  -1.29218\n",
       "  0.643613   4.34081   -1.28266    0.825289   1.30472   -0.344765\n",
       " -2.3172    -1.28266    0.158077  -0.460724   1.85856   -1.13678\n",
       "  0.999158   0.825289  -0.460724  -1.24188   -2.57736   -0.951398\n",
       " -0.645821   1.30472    1.85856   -2.57736   -1.8938    -1.07846\n",
       " -1.29218   -0.344765  -1.13678   -0.951398  -1.07846   -0.909567"
      ]
     },
     "execution_count": 7,
     "metadata": {},
     "output_type": "execute_result"
    }
   ],
   "source": [
    "A = randn((6,6))\n",
    "\n",
    "H0 = A + transpose(A)"
   ]
  },
  {
   "cell_type": "code",
   "execution_count": 10,
   "id": "202889ee-5c68-499a-95f7-153e0c82869e",
   "metadata": {},
   "outputs": [
    {
     "data": {
      "text/plain": [
       "6×6 Matrix{Float64}:\n",
       "  0.522764   0.267318   0.957764   -0.652565  -1.69027    2.76237\n",
       "  0.267318  -2.2654    -1.29042     0.207895   2.18287   -1.13492\n",
       "  0.957764  -1.29042    0.466027    0.299111  -1.05832    0.0421351\n",
       " -0.652565   0.207895   0.299111    1.58885   -0.838656  -0.630716\n",
       " -1.69027    2.18287   -1.05832    -0.838656  -2.72999   -2.14835\n",
       "  2.76237   -1.13492    0.0421351  -0.630716  -2.14835   -0.942323"
      ]
     },
     "metadata": {},
     "output_type": "display_data"
    },
    {
     "data": {
      "text/plain": [
       "3×3 Matrix{Float64}:\n",
       "  0.522764  -1.69027   2.76237\n",
       " -1.69027   -2.72999  -2.14835\n",
       "  2.76237   -2.14835  -0.942323"
      ]
     },
     "metadata": {},
     "output_type": "display_data"
    }
   ],
   "source": [
    "M = 6\n",
    "\n",
    "A = randn((M,M))\n",
    "\n",
    "H0 = A + transpose(A)\n",
    "\n",
    "display(H0)\n",
    "\n",
    "cols = [2,3,4]\n",
    "\n",
    "for (i,c) in enumerate(cols)\n",
    "    \n",
    "    col = c-i+1\n",
    "    \n",
    "    H1 = zeros((M-i,M-i))\n",
    "    H1[1:col-1,1:col-1] = H0[1:col-1,1:col-1]\n",
    "    H1[1:col-1,col:end] = H0[1:col-1,col+1:end]\n",
    "    H1[col:end,1:col-1] = H0[col+1:end,1:col-1]\n",
    "    H1[col:end,col:end] = H0[col+1:end,col+1:end]\n",
    "    \n",
    "    H0 = H1\n",
    "    \n",
    "end\n",
    "    \n",
    "display(H0)\n"
   ]
  },
  {
   "cell_type": "markdown",
   "id": "af9500df-9816-4a20-a651-0781f7a0f777",
   "metadata": {},
   "source": [
    "# "
   ]
  }
 ],
 "metadata": {
  "kernelspec": {
   "display_name": "Julia 1.7.3",
   "language": "julia",
   "name": "julia-1.7"
  },
  "language_info": {
   "file_extension": ".jl",
   "mimetype": "application/julia",
   "name": "julia",
   "version": "1.7.3"
  }
 },
 "nbformat": 4,
 "nbformat_minor": 5
}
